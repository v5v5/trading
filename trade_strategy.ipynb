{
  "nbformat": 4,
  "nbformat_minor": 0,
  "metadata": {
    "colab": {
      "name": "trade-strategy.ipynb",
      "provenance": [],
      "collapsed_sections": [],
      "authorship_tag": "ABX9TyOxEUOoD669PodXfVvJe/on",
      "include_colab_link": true
    },
    "kernelspec": {
      "name": "python3",
      "display_name": "Python 3"
    },
    "language_info": {
      "name": "python"
    }
  },
  "cells": [
    {
      "cell_type": "markdown",
      "metadata": {
        "id": "view-in-github",
        "colab_type": "text"
      },
      "source": [
        "<a href=\"https://colab.research.google.com/github/v5v5/trading/blob/main/trade_strategy.ipynb\" target=\"_parent\"><img src=\"https://colab.research.google.com/assets/colab-badge.svg\" alt=\"Open In Colab\"/></a>"
      ]
    },
    {
      "cell_type": "markdown",
      "metadata": {
        "id": "HowU-l69T-Yb"
      },
      "source": [
        "URL to download quotes EURUSD\n",
        "\n",
        "https://query1.finance.yahoo.com/v7/finance/download/EURUSD=X?period1=1262304000&period2=1619654400&interval=1d&events=history&includeAdjustedClose=true"
      ]
    },
    {
      "cell_type": "code",
      "metadata": {
        "id": "pkKl4XBGVNGL"
      },
      "source": [
        "import pandas as pd\n",
        "from urllib.request import Request, urlopen\n",
        "from io import StringIO\n",
        "import datetime\n",
        "from dateutil.relativedelta import relativedelta\n",
        "import time\n",
        "import random\n",
        "import math\n",
        "import matplotlib.pyplot as plt"
      ],
      "execution_count": 764,
      "outputs": []
    },
    {
      "cell_type": "code",
      "metadata": {
        "colab": {
          "base_uri": "https://localhost:8080/",
          "height": 35
        },
        "id": "oAMusJ7Vfxou",
        "outputId": "a358c32a-6c09-4079-948f-3fcbbe1c067f"
      },
      "source": [
        "# dt_from = datetime.date(2000,1,1)\n",
        "# dt_from = datetime.date(2019,1,1)\n",
        "dt_from = datetime.date.today() + relativedelta(years=-1)\n",
        "ut_from = str(int(time.mktime(dt_from.timetuple())))\n",
        "ut_from"
      ],
      "execution_count": 765,
      "outputs": [
        {
          "output_type": "execute_result",
          "data": {
            "application/vnd.google.colaboratory.intrinsic+json": {
              "type": "string"
            },
            "text/plain": [
              "'1588464000'"
            ]
          },
          "metadata": {
            "tags": []
          },
          "execution_count": 765
        }
      ]
    },
    {
      "cell_type": "code",
      "metadata": {
        "colab": {
          "base_uri": "https://localhost:8080/",
          "height": 35
        },
        "id": "3iBED0CihYSB",
        "outputId": "484b1fef-27a3-4bdc-a176-cea8c81c8b0e"
      },
      "source": [
        "dt_to = datetime.date.today()\n",
        "ut_to = str(int(time.mktime(dt_to.timetuple())))\n",
        "ut_to"
      ],
      "execution_count": 766,
      "outputs": [
        {
          "output_type": "execute_result",
          "data": {
            "application/vnd.google.colaboratory.intrinsic+json": {
              "type": "string"
            },
            "text/plain": [
              "'1620000000'"
            ]
          },
          "metadata": {
            "tags": []
          },
          "execution_count": 766
        }
      ]
    },
    {
      "cell_type": "code",
      "metadata": {
        "id": "ZWbh4rFCYsiA"
      },
      "source": [
        "# url='https://query1.finance.yahoo.com/v7/finance/download/EURUSD=X?period1=1262304000&period2=1619654400&interval=1d&events=history&includeAdjustedClose=true'\n",
        "url='https://query1.finance.yahoo.com/v7/finance/download/EURUSD=X?period1=' + ut_from + '&period2=' + ut_to + '&interval=1d&events=history&includeAdjustedClose=true'"
      ],
      "execution_count": 767,
      "outputs": []
    },
    {
      "cell_type": "code",
      "metadata": {
        "id": "ictpemgHTnaU"
      },
      "source": [
        "headers={'User-Agent': 'Mozilla/5.0'}"
      ],
      "execution_count": 768,
      "outputs": []
    },
    {
      "cell_type": "code",
      "metadata": {
        "id": "5KvntWHZg8CO"
      },
      "source": [
        "req = Request(url, headers=headers)"
      ],
      "execution_count": 769,
      "outputs": []
    },
    {
      "cell_type": "code",
      "metadata": {
        "id": "d2anZTnFSg6y"
      },
      "source": [
        "page = urlopen(req)\n",
        "# page = urlopen(url)"
      ],
      "execution_count": 770,
      "outputs": []
    },
    {
      "cell_type": "code",
      "metadata": {
        "id": "tOtCSrjqY2b6"
      },
      "source": [
        "page = urlopen(url)"
      ],
      "execution_count": 771,
      "outputs": []
    },
    {
      "cell_type": "code",
      "metadata": {
        "id": "W7BmUlFOSjXh"
      },
      "source": [
        "content = page.read()"
      ],
      "execution_count": 772,
      "outputs": []
    },
    {
      "cell_type": "code",
      "metadata": {
        "id": "MrUfRSxZp4Y9"
      },
      "source": [
        "text = content.decode('UTF-8')"
      ],
      "execution_count": 773,
      "outputs": []
    },
    {
      "cell_type": "code",
      "metadata": {
        "colab": {
          "base_uri": "https://localhost:8080/"
        },
        "id": "HIutb2KOhWlP",
        "outputId": "ea655c8f-45f6-4e08-dcfa-161735673bdb"
      },
      "source": [
        "print(text[:300])"
      ],
      "execution_count": 774,
      "outputs": [
        {
          "output_type": "stream",
          "text": [
            "Date,Open,High,Low,Close,Adj Close,Volume\n",
            "2020-05-04,1.095746,1.095782,1.090132,1.095963,1.095963,0\n",
            "2020-05-05,1.090453,1.092132,1.082696,1.090429,1.090429,0\n",
            "2020-05-06,1.084011,1.084481,1.078423,1.083858,1.083858,0\n",
            "2020-05-07,1.080054,1.081572,1.076751,1.079855,1.079855,0\n",
            "2020-05-08,1.083694,1.0873\n"
          ],
          "name": "stdout"
        }
      ]
    },
    {
      "cell_type": "code",
      "metadata": {
        "id": "nyxhqBhKpBel"
      },
      "source": [
        "data = StringIO(text)"
      ],
      "execution_count": 775,
      "outputs": []
    },
    {
      "cell_type": "code",
      "metadata": {
        "id": "tso_dYdOVny7"
      },
      "source": [
        "df1 = pd.read_csv(data, sep=',', header='infer')"
      ],
      "execution_count": 776,
      "outputs": []
    },
    {
      "cell_type": "code",
      "metadata": {
        "colab": {
          "base_uri": "https://localhost:8080/",
          "height": 266
        },
        "id": "CAWUH4jfl0-Y",
        "outputId": "bdb23d69-e547-4767-d103-e4902d63cb88"
      },
      "source": [
        "df1.tail(7)"
      ],
      "execution_count": 777,
      "outputs": [
        {
          "output_type": "execute_result",
          "data": {
            "text/html": [
              "<div>\n",
              "<style scoped>\n",
              "    .dataframe tbody tr th:only-of-type {\n",
              "        vertical-align: middle;\n",
              "    }\n",
              "\n",
              "    .dataframe tbody tr th {\n",
              "        vertical-align: top;\n",
              "    }\n",
              "\n",
              "    .dataframe thead th {\n",
              "        text-align: right;\n",
              "    }\n",
              "</style>\n",
              "<table border=\"1\" class=\"dataframe\">\n",
              "  <thead>\n",
              "    <tr style=\"text-align: right;\">\n",
              "      <th></th>\n",
              "      <th>Date</th>\n",
              "      <th>Open</th>\n",
              "      <th>High</th>\n",
              "      <th>Low</th>\n",
              "      <th>Close</th>\n",
              "      <th>Adj Close</th>\n",
              "      <th>Volume</th>\n",
              "    </tr>\n",
              "  </thead>\n",
              "  <tbody>\n",
              "    <tr>\n",
              "      <th>254</th>\n",
              "      <td>2021-04-23</td>\n",
              "      <td>1.201793</td>\n",
              "      <td>1.207799</td>\n",
              "      <td>1.201389</td>\n",
              "      <td>1.201475</td>\n",
              "      <td>1.201475</td>\n",
              "      <td>0</td>\n",
              "    </tr>\n",
              "    <tr>\n",
              "      <th>255</th>\n",
              "      <td>2021-04-26</td>\n",
              "      <td>1.208956</td>\n",
              "      <td>1.211827</td>\n",
              "      <td>1.206374</td>\n",
              "      <td>1.208985</td>\n",
              "      <td>1.208985</td>\n",
              "      <td>0</td>\n",
              "    </tr>\n",
              "    <tr>\n",
              "      <th>256</th>\n",
              "      <td>2021-04-27</td>\n",
              "      <td>1.207921</td>\n",
              "      <td>1.209190</td>\n",
              "      <td>1.205793</td>\n",
              "      <td>1.208167</td>\n",
              "      <td>1.208167</td>\n",
              "      <td>0</td>\n",
              "    </tr>\n",
              "    <tr>\n",
              "      <th>257</th>\n",
              "      <td>2021-04-28</td>\n",
              "      <td>1.208854</td>\n",
              "      <td>1.210214</td>\n",
              "      <td>1.205764</td>\n",
              "      <td>1.209031</td>\n",
              "      <td>1.209031</td>\n",
              "      <td>0</td>\n",
              "    </tr>\n",
              "    <tr>\n",
              "      <th>258</th>\n",
              "      <td>2021-04-29</td>\n",
              "      <td>1.213578</td>\n",
              "      <td>1.215214</td>\n",
              "      <td>1.210419</td>\n",
              "      <td>1.213592</td>\n",
              "      <td>1.213592</td>\n",
              "      <td>0</td>\n",
              "    </tr>\n",
              "    <tr>\n",
              "      <th>259</th>\n",
              "      <td>2021-04-30</td>\n",
              "      <td>1.212489</td>\n",
              "      <td>1.212856</td>\n",
              "      <td>1.202472</td>\n",
              "      <td>1.212709</td>\n",
              "      <td>1.212709</td>\n",
              "      <td>0</td>\n",
              "    </tr>\n",
              "    <tr>\n",
              "      <th>260</th>\n",
              "      <td>2021-05-03</td>\n",
              "      <td>1.202501</td>\n",
              "      <td>1.204094</td>\n",
              "      <td>1.202068</td>\n",
              "      <td>1.202357</td>\n",
              "      <td>1.202357</td>\n",
              "      <td>0</td>\n",
              "    </tr>\n",
              "  </tbody>\n",
              "</table>\n",
              "</div>"
            ],
            "text/plain": [
              "           Date      Open      High       Low     Close  Adj Close  Volume\n",
              "254  2021-04-23  1.201793  1.207799  1.201389  1.201475   1.201475       0\n",
              "255  2021-04-26  1.208956  1.211827  1.206374  1.208985   1.208985       0\n",
              "256  2021-04-27  1.207921  1.209190  1.205793  1.208167   1.208167       0\n",
              "257  2021-04-28  1.208854  1.210214  1.205764  1.209031   1.209031       0\n",
              "258  2021-04-29  1.213578  1.215214  1.210419  1.213592   1.213592       0\n",
              "259  2021-04-30  1.212489  1.212856  1.202472  1.212709   1.212709       0\n",
              "260  2021-05-03  1.202501  1.204094  1.202068  1.202357   1.202357       0"
            ]
          },
          "metadata": {
            "tags": []
          },
          "execution_count": 777
        }
      ]
    },
    {
      "cell_type": "code",
      "metadata": {
        "id": "iDDbrBeGci0d"
      },
      "source": [
        "df1['Date'] = pd.to_datetime(df1['Date'], errors='coerce')"
      ],
      "execution_count": 778,
      "outputs": []
    },
    {
      "cell_type": "code",
      "metadata": {
        "id": "eRwjQgzGmCBm"
      },
      "source": [
        "df1['DayOfWeek'] = df1['Date'].dt.dayofweek"
      ],
      "execution_count": 779,
      "outputs": []
    },
    {
      "cell_type": "code",
      "metadata": {
        "colab": {
          "base_uri": "https://localhost:8080/",
          "height": 266
        },
        "id": "NLF_R44LnKkY",
        "outputId": "a8f3c806-4d74-4d6d-ab45-5ed5413b9a2b"
      },
      "source": [
        "df1.tail(7)"
      ],
      "execution_count": 780,
      "outputs": [
        {
          "output_type": "execute_result",
          "data": {
            "text/html": [
              "<div>\n",
              "<style scoped>\n",
              "    .dataframe tbody tr th:only-of-type {\n",
              "        vertical-align: middle;\n",
              "    }\n",
              "\n",
              "    .dataframe tbody tr th {\n",
              "        vertical-align: top;\n",
              "    }\n",
              "\n",
              "    .dataframe thead th {\n",
              "        text-align: right;\n",
              "    }\n",
              "</style>\n",
              "<table border=\"1\" class=\"dataframe\">\n",
              "  <thead>\n",
              "    <tr style=\"text-align: right;\">\n",
              "      <th></th>\n",
              "      <th>Date</th>\n",
              "      <th>Open</th>\n",
              "      <th>High</th>\n",
              "      <th>Low</th>\n",
              "      <th>Close</th>\n",
              "      <th>Adj Close</th>\n",
              "      <th>Volume</th>\n",
              "      <th>DayOfWeek</th>\n",
              "    </tr>\n",
              "  </thead>\n",
              "  <tbody>\n",
              "    <tr>\n",
              "      <th>254</th>\n",
              "      <td>2021-04-23</td>\n",
              "      <td>1.201793</td>\n",
              "      <td>1.207799</td>\n",
              "      <td>1.201389</td>\n",
              "      <td>1.201475</td>\n",
              "      <td>1.201475</td>\n",
              "      <td>0</td>\n",
              "      <td>4</td>\n",
              "    </tr>\n",
              "    <tr>\n",
              "      <th>255</th>\n",
              "      <td>2021-04-26</td>\n",
              "      <td>1.208956</td>\n",
              "      <td>1.211827</td>\n",
              "      <td>1.206374</td>\n",
              "      <td>1.208985</td>\n",
              "      <td>1.208985</td>\n",
              "      <td>0</td>\n",
              "      <td>0</td>\n",
              "    </tr>\n",
              "    <tr>\n",
              "      <th>256</th>\n",
              "      <td>2021-04-27</td>\n",
              "      <td>1.207921</td>\n",
              "      <td>1.209190</td>\n",
              "      <td>1.205793</td>\n",
              "      <td>1.208167</td>\n",
              "      <td>1.208167</td>\n",
              "      <td>0</td>\n",
              "      <td>1</td>\n",
              "    </tr>\n",
              "    <tr>\n",
              "      <th>257</th>\n",
              "      <td>2021-04-28</td>\n",
              "      <td>1.208854</td>\n",
              "      <td>1.210214</td>\n",
              "      <td>1.205764</td>\n",
              "      <td>1.209031</td>\n",
              "      <td>1.209031</td>\n",
              "      <td>0</td>\n",
              "      <td>2</td>\n",
              "    </tr>\n",
              "    <tr>\n",
              "      <th>258</th>\n",
              "      <td>2021-04-29</td>\n",
              "      <td>1.213578</td>\n",
              "      <td>1.215214</td>\n",
              "      <td>1.210419</td>\n",
              "      <td>1.213592</td>\n",
              "      <td>1.213592</td>\n",
              "      <td>0</td>\n",
              "      <td>3</td>\n",
              "    </tr>\n",
              "    <tr>\n",
              "      <th>259</th>\n",
              "      <td>2021-04-30</td>\n",
              "      <td>1.212489</td>\n",
              "      <td>1.212856</td>\n",
              "      <td>1.202472</td>\n",
              "      <td>1.212709</td>\n",
              "      <td>1.212709</td>\n",
              "      <td>0</td>\n",
              "      <td>4</td>\n",
              "    </tr>\n",
              "    <tr>\n",
              "      <th>260</th>\n",
              "      <td>2021-05-03</td>\n",
              "      <td>1.202501</td>\n",
              "      <td>1.204094</td>\n",
              "      <td>1.202068</td>\n",
              "      <td>1.202357</td>\n",
              "      <td>1.202357</td>\n",
              "      <td>0</td>\n",
              "      <td>0</td>\n",
              "    </tr>\n",
              "  </tbody>\n",
              "</table>\n",
              "</div>"
            ],
            "text/plain": [
              "          Date      Open      High  ...  Adj Close  Volume  DayOfWeek\n",
              "254 2021-04-23  1.201793  1.207799  ...   1.201475       0          4\n",
              "255 2021-04-26  1.208956  1.211827  ...   1.208985       0          0\n",
              "256 2021-04-27  1.207921  1.209190  ...   1.208167       0          1\n",
              "257 2021-04-28  1.208854  1.210214  ...   1.209031       0          2\n",
              "258 2021-04-29  1.213578  1.215214  ...   1.213592       0          3\n",
              "259 2021-04-30  1.212489  1.212856  ...   1.212709       0          4\n",
              "260 2021-05-03  1.202501  1.204094  ...   1.202357       0          0\n",
              "\n",
              "[7 rows x 8 columns]"
            ]
          },
          "metadata": {
            "tags": []
          },
          "execution_count": 780
        }
      ]
    },
    {
      "cell_type": "code",
      "metadata": {
        "id": "isV-KVPm_mxb"
      },
      "source": [
        "df2 = df1.drop(['High','Low', 'Adj Close', 'Volume'], axis=1)"
      ],
      "execution_count": 781,
      "outputs": []
    },
    {
      "cell_type": "code",
      "metadata": {
        "colab": {
          "base_uri": "https://localhost:8080/",
          "height": 266
        },
        "id": "BoXK3TqGAW19",
        "outputId": "81d020a5-2ec6-4445-da33-73ca279feb06"
      },
      "source": [
        "df2.tail(7)"
      ],
      "execution_count": 782,
      "outputs": [
        {
          "output_type": "execute_result",
          "data": {
            "text/html": [
              "<div>\n",
              "<style scoped>\n",
              "    .dataframe tbody tr th:only-of-type {\n",
              "        vertical-align: middle;\n",
              "    }\n",
              "\n",
              "    .dataframe tbody tr th {\n",
              "        vertical-align: top;\n",
              "    }\n",
              "\n",
              "    .dataframe thead th {\n",
              "        text-align: right;\n",
              "    }\n",
              "</style>\n",
              "<table border=\"1\" class=\"dataframe\">\n",
              "  <thead>\n",
              "    <tr style=\"text-align: right;\">\n",
              "      <th></th>\n",
              "      <th>Date</th>\n",
              "      <th>Open</th>\n",
              "      <th>Close</th>\n",
              "      <th>DayOfWeek</th>\n",
              "    </tr>\n",
              "  </thead>\n",
              "  <tbody>\n",
              "    <tr>\n",
              "      <th>254</th>\n",
              "      <td>2021-04-23</td>\n",
              "      <td>1.201793</td>\n",
              "      <td>1.201475</td>\n",
              "      <td>4</td>\n",
              "    </tr>\n",
              "    <tr>\n",
              "      <th>255</th>\n",
              "      <td>2021-04-26</td>\n",
              "      <td>1.208956</td>\n",
              "      <td>1.208985</td>\n",
              "      <td>0</td>\n",
              "    </tr>\n",
              "    <tr>\n",
              "      <th>256</th>\n",
              "      <td>2021-04-27</td>\n",
              "      <td>1.207921</td>\n",
              "      <td>1.208167</td>\n",
              "      <td>1</td>\n",
              "    </tr>\n",
              "    <tr>\n",
              "      <th>257</th>\n",
              "      <td>2021-04-28</td>\n",
              "      <td>1.208854</td>\n",
              "      <td>1.209031</td>\n",
              "      <td>2</td>\n",
              "    </tr>\n",
              "    <tr>\n",
              "      <th>258</th>\n",
              "      <td>2021-04-29</td>\n",
              "      <td>1.213578</td>\n",
              "      <td>1.213592</td>\n",
              "      <td>3</td>\n",
              "    </tr>\n",
              "    <tr>\n",
              "      <th>259</th>\n",
              "      <td>2021-04-30</td>\n",
              "      <td>1.212489</td>\n",
              "      <td>1.212709</td>\n",
              "      <td>4</td>\n",
              "    </tr>\n",
              "    <tr>\n",
              "      <th>260</th>\n",
              "      <td>2021-05-03</td>\n",
              "      <td>1.202501</td>\n",
              "      <td>1.202357</td>\n",
              "      <td>0</td>\n",
              "    </tr>\n",
              "  </tbody>\n",
              "</table>\n",
              "</div>"
            ],
            "text/plain": [
              "          Date      Open     Close  DayOfWeek\n",
              "254 2021-04-23  1.201793  1.201475          4\n",
              "255 2021-04-26  1.208956  1.208985          0\n",
              "256 2021-04-27  1.207921  1.208167          1\n",
              "257 2021-04-28  1.208854  1.209031          2\n",
              "258 2021-04-29  1.213578  1.213592          3\n",
              "259 2021-04-30  1.212489  1.212709          4\n",
              "260 2021-05-03  1.202501  1.202357          0"
            ]
          },
          "metadata": {
            "tags": []
          },
          "execution_count": 782
        }
      ]
    },
    {
      "cell_type": "code",
      "metadata": {
        "id": "0mzQvzqDDFzP"
      },
      "source": [
        "df2['Close-1'] = df2['Close'].shift(1)\n",
        "df2['Open-1'] = df2['Open'].shift(1)"
      ],
      "execution_count": 783,
      "outputs": []
    },
    {
      "cell_type": "code",
      "metadata": {
        "colab": {
          "base_uri": "https://localhost:8080/",
          "height": 266
        },
        "id": "3xG50mLQDq3e",
        "outputId": "c0943559-ed6e-4338-c68e-71363d43ab90"
      },
      "source": [
        "df2.tail(7)"
      ],
      "execution_count": 784,
      "outputs": [
        {
          "output_type": "execute_result",
          "data": {
            "text/html": [
              "<div>\n",
              "<style scoped>\n",
              "    .dataframe tbody tr th:only-of-type {\n",
              "        vertical-align: middle;\n",
              "    }\n",
              "\n",
              "    .dataframe tbody tr th {\n",
              "        vertical-align: top;\n",
              "    }\n",
              "\n",
              "    .dataframe thead th {\n",
              "        text-align: right;\n",
              "    }\n",
              "</style>\n",
              "<table border=\"1\" class=\"dataframe\">\n",
              "  <thead>\n",
              "    <tr style=\"text-align: right;\">\n",
              "      <th></th>\n",
              "      <th>Date</th>\n",
              "      <th>Open</th>\n",
              "      <th>Close</th>\n",
              "      <th>DayOfWeek</th>\n",
              "      <th>Close-1</th>\n",
              "      <th>Open-1</th>\n",
              "    </tr>\n",
              "  </thead>\n",
              "  <tbody>\n",
              "    <tr>\n",
              "      <th>254</th>\n",
              "      <td>2021-04-23</td>\n",
              "      <td>1.201793</td>\n",
              "      <td>1.201475</td>\n",
              "      <td>4</td>\n",
              "      <td>1.203775</td>\n",
              "      <td>1.203818</td>\n",
              "    </tr>\n",
              "    <tr>\n",
              "      <th>255</th>\n",
              "      <td>2021-04-26</td>\n",
              "      <td>1.208956</td>\n",
              "      <td>1.208985</td>\n",
              "      <td>0</td>\n",
              "      <td>1.201475</td>\n",
              "      <td>1.201793</td>\n",
              "    </tr>\n",
              "    <tr>\n",
              "      <th>256</th>\n",
              "      <td>2021-04-27</td>\n",
              "      <td>1.207921</td>\n",
              "      <td>1.208167</td>\n",
              "      <td>1</td>\n",
              "      <td>1.208985</td>\n",
              "      <td>1.208956</td>\n",
              "    </tr>\n",
              "    <tr>\n",
              "      <th>257</th>\n",
              "      <td>2021-04-28</td>\n",
              "      <td>1.208854</td>\n",
              "      <td>1.209031</td>\n",
              "      <td>2</td>\n",
              "      <td>1.208167</td>\n",
              "      <td>1.207921</td>\n",
              "    </tr>\n",
              "    <tr>\n",
              "      <th>258</th>\n",
              "      <td>2021-04-29</td>\n",
              "      <td>1.213578</td>\n",
              "      <td>1.213592</td>\n",
              "      <td>3</td>\n",
              "      <td>1.209031</td>\n",
              "      <td>1.208854</td>\n",
              "    </tr>\n",
              "    <tr>\n",
              "      <th>259</th>\n",
              "      <td>2021-04-30</td>\n",
              "      <td>1.212489</td>\n",
              "      <td>1.212709</td>\n",
              "      <td>4</td>\n",
              "      <td>1.213592</td>\n",
              "      <td>1.213578</td>\n",
              "    </tr>\n",
              "    <tr>\n",
              "      <th>260</th>\n",
              "      <td>2021-05-03</td>\n",
              "      <td>1.202501</td>\n",
              "      <td>1.202357</td>\n",
              "      <td>0</td>\n",
              "      <td>1.212709</td>\n",
              "      <td>1.212489</td>\n",
              "    </tr>\n",
              "  </tbody>\n",
              "</table>\n",
              "</div>"
            ],
            "text/plain": [
              "          Date      Open     Close  DayOfWeek   Close-1    Open-1\n",
              "254 2021-04-23  1.201793  1.201475          4  1.203775  1.203818\n",
              "255 2021-04-26  1.208956  1.208985          0  1.201475  1.201793\n",
              "256 2021-04-27  1.207921  1.208167          1  1.208985  1.208956\n",
              "257 2021-04-28  1.208854  1.209031          2  1.208167  1.207921\n",
              "258 2021-04-29  1.213578  1.213592          3  1.209031  1.208854\n",
              "259 2021-04-30  1.212489  1.212709          4  1.213592  1.213578\n",
              "260 2021-05-03  1.202501  1.202357          0  1.212709  1.212489"
            ]
          },
          "metadata": {
            "tags": []
          },
          "execution_count": 784
        }
      ]
    },
    {
      "cell_type": "code",
      "metadata": {
        "id": "tigVCqC3EBM4"
      },
      "source": [
        "df2['%Close'] = (df2['Close'] - df2['Close-1']) / df2['Close-1'] * 100\n",
        "df2['%Open'] = (df2['Open'] - df2['Open-1']) / df2['Open-1'] * 100"
      ],
      "execution_count": 785,
      "outputs": []
    },
    {
      "cell_type": "code",
      "metadata": {
        "colab": {
          "base_uri": "https://localhost:8080/",
          "height": 266
        },
        "id": "dMsFfMIREP8Z",
        "outputId": "0c873df0-d076-4227-bbc9-afa75358c969"
      },
      "source": [
        "df2.head(7)"
      ],
      "execution_count": 786,
      "outputs": [
        {
          "output_type": "execute_result",
          "data": {
            "text/html": [
              "<div>\n",
              "<style scoped>\n",
              "    .dataframe tbody tr th:only-of-type {\n",
              "        vertical-align: middle;\n",
              "    }\n",
              "\n",
              "    .dataframe tbody tr th {\n",
              "        vertical-align: top;\n",
              "    }\n",
              "\n",
              "    .dataframe thead th {\n",
              "        text-align: right;\n",
              "    }\n",
              "</style>\n",
              "<table border=\"1\" class=\"dataframe\">\n",
              "  <thead>\n",
              "    <tr style=\"text-align: right;\">\n",
              "      <th></th>\n",
              "      <th>Date</th>\n",
              "      <th>Open</th>\n",
              "      <th>Close</th>\n",
              "      <th>DayOfWeek</th>\n",
              "      <th>Close-1</th>\n",
              "      <th>Open-1</th>\n",
              "      <th>%Close</th>\n",
              "      <th>%Open</th>\n",
              "    </tr>\n",
              "  </thead>\n",
              "  <tbody>\n",
              "    <tr>\n",
              "      <th>0</th>\n",
              "      <td>2020-05-04</td>\n",
              "      <td>1.095746</td>\n",
              "      <td>1.095963</td>\n",
              "      <td>0</td>\n",
              "      <td>NaN</td>\n",
              "      <td>NaN</td>\n",
              "      <td>NaN</td>\n",
              "      <td>NaN</td>\n",
              "    </tr>\n",
              "    <tr>\n",
              "      <th>1</th>\n",
              "      <td>2020-05-05</td>\n",
              "      <td>1.090453</td>\n",
              "      <td>1.090429</td>\n",
              "      <td>1</td>\n",
              "      <td>1.095963</td>\n",
              "      <td>1.095746</td>\n",
              "      <td>-0.504944</td>\n",
              "      <td>-0.483050</td>\n",
              "    </tr>\n",
              "    <tr>\n",
              "      <th>2</th>\n",
              "      <td>2020-05-06</td>\n",
              "      <td>1.084011</td>\n",
              "      <td>1.083858</td>\n",
              "      <td>2</td>\n",
              "      <td>1.090429</td>\n",
              "      <td>1.090453</td>\n",
              "      <td>-0.602607</td>\n",
              "      <td>-0.590764</td>\n",
              "    </tr>\n",
              "    <tr>\n",
              "      <th>3</th>\n",
              "      <td>2020-05-07</td>\n",
              "      <td>1.080054</td>\n",
              "      <td>1.079855</td>\n",
              "      <td>3</td>\n",
              "      <td>1.083858</td>\n",
              "      <td>1.084011</td>\n",
              "      <td>-0.369329</td>\n",
              "      <td>-0.365033</td>\n",
              "    </tr>\n",
              "    <tr>\n",
              "      <th>4</th>\n",
              "      <td>2020-05-08</td>\n",
              "      <td>1.083694</td>\n",
              "      <td>1.083717</td>\n",
              "      <td>4</td>\n",
              "      <td>1.079855</td>\n",
              "      <td>1.080054</td>\n",
              "      <td>0.357641</td>\n",
              "      <td>0.337020</td>\n",
              "    </tr>\n",
              "    <tr>\n",
              "      <th>5</th>\n",
              "      <td>2020-05-11</td>\n",
              "      <td>1.084011</td>\n",
              "      <td>1.083952</td>\n",
              "      <td>0</td>\n",
              "      <td>1.083717</td>\n",
              "      <td>1.083694</td>\n",
              "      <td>0.021685</td>\n",
              "      <td>0.029252</td>\n",
              "    </tr>\n",
              "    <tr>\n",
              "      <th>6</th>\n",
              "      <td>2020-05-12</td>\n",
              "      <td>1.080917</td>\n",
              "      <td>1.080941</td>\n",
              "      <td>1</td>\n",
              "      <td>1.083952</td>\n",
              "      <td>1.084011</td>\n",
              "      <td>-0.277780</td>\n",
              "      <td>-0.285421</td>\n",
              "    </tr>\n",
              "  </tbody>\n",
              "</table>\n",
              "</div>"
            ],
            "text/plain": [
              "        Date      Open     Close  ...    Open-1    %Close     %Open\n",
              "0 2020-05-04  1.095746  1.095963  ...       NaN       NaN       NaN\n",
              "1 2020-05-05  1.090453  1.090429  ...  1.095746 -0.504944 -0.483050\n",
              "2 2020-05-06  1.084011  1.083858  ...  1.090453 -0.602607 -0.590764\n",
              "3 2020-05-07  1.080054  1.079855  ...  1.084011 -0.369329 -0.365033\n",
              "4 2020-05-08  1.083694  1.083717  ...  1.080054  0.357641  0.337020\n",
              "5 2020-05-11  1.084011  1.083952  ...  1.083694  0.021685  0.029252\n",
              "6 2020-05-12  1.080917  1.080941  ...  1.084011 -0.277780 -0.285421\n",
              "\n",
              "[7 rows x 8 columns]"
            ]
          },
          "metadata": {
            "tags": []
          },
          "execution_count": 786
        }
      ]
    },
    {
      "cell_type": "code",
      "metadata": {
        "id": "5zeRvw_76_rE"
      },
      "source": [
        "# take decision to buy or sell if price = 1.167072 then buy = -1.167072 or sell = 1.167072\n",
        "def take_decision(index):\n",
        "  row = df2.loc[index]\n",
        "  return random.choice([-row['Open'], +row['Open']])"
      ],
      "execution_count": 787,
      "outputs": []
    },
    {
      "cell_type": "code",
      "metadata": {
        "id": "CfKkh7Ox_8hM"
      },
      "source": [
        "def is_guessed(index):\n",
        "  if (index < 1):\n",
        "    return True\n",
        "  return (math.copysign(1, df2.loc[index]['%Open']) != math.copysign(1, df2.loc[index - 1]['decision']))"
      ],
      "execution_count": 788,
      "outputs": []
    },
    {
      "cell_type": "code",
      "metadata": {
        "id": "XyB39IOuMNqs"
      },
      "source": [
        "def make_deal(index):\n",
        "  k = df2.loc[index, 'k'] \n",
        "  decision = df2.loc[index, 'decision'] \n",
        "  return decision * (2 ** k)"
      ],
      "execution_count": 789,
      "outputs": []
    },
    {
      "cell_type": "code",
      "metadata": {
        "id": "jsDYBIWCSCnk"
      },
      "source": [
        "def discover_trend(index):\n",
        "  if (index < 1):\n",
        "    df2.loc[index, 'trend'] = 0\n",
        "    return\n",
        "  open_curr = df2.loc[index, '%Open']\n",
        "  open_prev = df2.loc[index-1, '%Open']\n",
        "  if (math.copysign(1, open_prev) == math.copysign(1, open_curr)):\n",
        "    df2.loc[index, 'trend'] = df2.loc[index-1, 'trend'] + 1\n",
        "  else:\n",
        "    df2.loc[index, 'trend'] = 0"
      ],
      "execution_count": 790,
      "outputs": []
    },
    {
      "cell_type": "code",
      "metadata": {
        "id": "RGTHIeDi30lw"
      },
      "source": [
        "# this is a main algorithm for trading\n",
        "def trade():\n",
        "  for index, row in df2.iterrows():\n",
        "    # take decision\n",
        "    df2.loc[index, 'decision'] = take_decision(index)\n",
        "    if (is_guessed(index)):\n",
        "      k = 0\n",
        "    else:\n",
        "      k += 1\n",
        "    df2.loc[index, 'k'] = k\n",
        "    # make deal\n",
        "    deal = make_deal(index)\n",
        "    df2.loc[index, 'deal'] = deal\n",
        "    if (index == 0):\n",
        "      df2.loc[index, 'result'] = 0\n",
        "      df2.loc[index, 'result of close deal'] = 0\n",
        "    else:\n",
        "      # close prvious deal\n",
        "      df2.loc[index, 'result of close deal'] = df2.loc[index - 1, 'result'] + df2.loc[index - 1, 'deal'] - \\\n",
        "        (2 ** df2.loc[index - 1, 'k']) * df2.loc[index, '%Open']\n",
        "      # open new deal\n",
        "      df2.loc[index, 'result'] = df2.loc[index, 'result of close deal'] + deal\n",
        "    # исследуем тренд\n",
        "    discover_trend(index)"
      ],
      "execution_count": 791,
      "outputs": []
    },
    {
      "cell_type": "code",
      "metadata": {
        "colab": {
          "base_uri": "https://localhost:8080/",
          "height": 359
        },
        "id": "pkh0VmLw5ExM",
        "outputId": "a0521d51-0fb1-48b7-dc35-b7efe9946f83"
      },
      "source": [
        "trade()\n",
        "df2.head(10)"
      ],
      "execution_count": 795,
      "outputs": [
        {
          "output_type": "execute_result",
          "data": {
            "text/html": [
              "<div>\n",
              "<style scoped>\n",
              "    .dataframe tbody tr th:only-of-type {\n",
              "        vertical-align: middle;\n",
              "    }\n",
              "\n",
              "    .dataframe tbody tr th {\n",
              "        vertical-align: top;\n",
              "    }\n",
              "\n",
              "    .dataframe thead th {\n",
              "        text-align: right;\n",
              "    }\n",
              "</style>\n",
              "<table border=\"1\" class=\"dataframe\">\n",
              "  <thead>\n",
              "    <tr style=\"text-align: right;\">\n",
              "      <th></th>\n",
              "      <th>Date</th>\n",
              "      <th>Open</th>\n",
              "      <th>Close</th>\n",
              "      <th>DayOfWeek</th>\n",
              "      <th>Close-1</th>\n",
              "      <th>Open-1</th>\n",
              "      <th>%Close</th>\n",
              "      <th>%Open</th>\n",
              "      <th>decision</th>\n",
              "      <th>k</th>\n",
              "      <th>deal</th>\n",
              "      <th>result</th>\n",
              "      <th>result of close deal</th>\n",
              "      <th>trend</th>\n",
              "    </tr>\n",
              "  </thead>\n",
              "  <tbody>\n",
              "    <tr>\n",
              "      <th>0</th>\n",
              "      <td>2020-05-04</td>\n",
              "      <td>1.095746</td>\n",
              "      <td>1.095963</td>\n",
              "      <td>0</td>\n",
              "      <td>NaN</td>\n",
              "      <td>NaN</td>\n",
              "      <td>NaN</td>\n",
              "      <td>NaN</td>\n",
              "      <td>1.095746</td>\n",
              "      <td>0.0</td>\n",
              "      <td>1.095746</td>\n",
              "      <td>0.000000</td>\n",
              "      <td>0.000000</td>\n",
              "      <td>0.0</td>\n",
              "    </tr>\n",
              "    <tr>\n",
              "      <th>1</th>\n",
              "      <td>2020-05-05</td>\n",
              "      <td>1.090453</td>\n",
              "      <td>1.090429</td>\n",
              "      <td>1</td>\n",
              "      <td>1.095963</td>\n",
              "      <td>1.095746</td>\n",
              "      <td>-0.504944</td>\n",
              "      <td>-0.483050</td>\n",
              "      <td>-1.090453</td>\n",
              "      <td>0.0</td>\n",
              "      <td>-1.090453</td>\n",
              "      <td>0.488343</td>\n",
              "      <td>1.578796</td>\n",
              "      <td>0.0</td>\n",
              "    </tr>\n",
              "    <tr>\n",
              "      <th>2</th>\n",
              "      <td>2020-05-06</td>\n",
              "      <td>1.084011</td>\n",
              "      <td>1.083858</td>\n",
              "      <td>2</td>\n",
              "      <td>1.090429</td>\n",
              "      <td>1.090453</td>\n",
              "      <td>-0.602607</td>\n",
              "      <td>-0.590764</td>\n",
              "      <td>1.084011</td>\n",
              "      <td>1.0</td>\n",
              "      <td>2.168022</td>\n",
              "      <td>2.156676</td>\n",
              "      <td>-0.011346</td>\n",
              "      <td>1.0</td>\n",
              "    </tr>\n",
              "    <tr>\n",
              "      <th>3</th>\n",
              "      <td>2020-05-07</td>\n",
              "      <td>1.080054</td>\n",
              "      <td>1.079855</td>\n",
              "      <td>3</td>\n",
              "      <td>1.083858</td>\n",
              "      <td>1.084011</td>\n",
              "      <td>-0.369329</td>\n",
              "      <td>-0.365033</td>\n",
              "      <td>1.080054</td>\n",
              "      <td>0.0</td>\n",
              "      <td>1.080054</td>\n",
              "      <td>6.134818</td>\n",
              "      <td>5.054764</td>\n",
              "      <td>2.0</td>\n",
              "    </tr>\n",
              "    <tr>\n",
              "      <th>4</th>\n",
              "      <td>2020-05-08</td>\n",
              "      <td>1.083694</td>\n",
              "      <td>1.083717</td>\n",
              "      <td>4</td>\n",
              "      <td>1.079855</td>\n",
              "      <td>1.080054</td>\n",
              "      <td>0.357641</td>\n",
              "      <td>0.337020</td>\n",
              "      <td>-1.083694</td>\n",
              "      <td>1.0</td>\n",
              "      <td>-2.167388</td>\n",
              "      <td>4.710464</td>\n",
              "      <td>6.877852</td>\n",
              "      <td>0.0</td>\n",
              "    </tr>\n",
              "    <tr>\n",
              "      <th>5</th>\n",
              "      <td>2020-05-11</td>\n",
              "      <td>1.084011</td>\n",
              "      <td>1.083952</td>\n",
              "      <td>0</td>\n",
              "      <td>1.083717</td>\n",
              "      <td>1.083694</td>\n",
              "      <td>0.021685</td>\n",
              "      <td>0.029252</td>\n",
              "      <td>1.084011</td>\n",
              "      <td>0.0</td>\n",
              "      <td>1.084011</td>\n",
              "      <td>3.568583</td>\n",
              "      <td>2.484572</td>\n",
              "      <td>1.0</td>\n",
              "    </tr>\n",
              "    <tr>\n",
              "      <th>6</th>\n",
              "      <td>2020-05-12</td>\n",
              "      <td>1.080917</td>\n",
              "      <td>1.080941</td>\n",
              "      <td>1</td>\n",
              "      <td>1.083952</td>\n",
              "      <td>1.084011</td>\n",
              "      <td>-0.277780</td>\n",
              "      <td>-0.285421</td>\n",
              "      <td>1.080917</td>\n",
              "      <td>0.0</td>\n",
              "      <td>1.080917</td>\n",
              "      <td>6.018933</td>\n",
              "      <td>4.938016</td>\n",
              "      <td>0.0</td>\n",
              "    </tr>\n",
              "    <tr>\n",
              "      <th>7</th>\n",
              "      <td>2020-05-13</td>\n",
              "      <td>1.084634</td>\n",
              "      <td>1.084681</td>\n",
              "      <td>2</td>\n",
              "      <td>1.080941</td>\n",
              "      <td>1.080917</td>\n",
              "      <td>0.345995</td>\n",
              "      <td>0.343875</td>\n",
              "      <td>-1.084634</td>\n",
              "      <td>1.0</td>\n",
              "      <td>-2.169268</td>\n",
              "      <td>4.586707</td>\n",
              "      <td>6.755975</td>\n",
              "      <td>0.0</td>\n",
              "    </tr>\n",
              "    <tr>\n",
              "      <th>8</th>\n",
              "      <td>2020-05-14</td>\n",
              "      <td>1.082193</td>\n",
              "      <td>1.082368</td>\n",
              "      <td>3</td>\n",
              "      <td>1.084681</td>\n",
              "      <td>1.084634</td>\n",
              "      <td>-0.213242</td>\n",
              "      <td>-0.225053</td>\n",
              "      <td>1.082193</td>\n",
              "      <td>2.0</td>\n",
              "      <td>4.328772</td>\n",
              "      <td>7.196317</td>\n",
              "      <td>2.867545</td>\n",
              "      <td>0.0</td>\n",
              "    </tr>\n",
              "    <tr>\n",
              "      <th>9</th>\n",
              "      <td>2020-05-15</td>\n",
              "      <td>1.080625</td>\n",
              "      <td>1.080696</td>\n",
              "      <td>4</td>\n",
              "      <td>1.082368</td>\n",
              "      <td>1.082193</td>\n",
              "      <td>-0.154476</td>\n",
              "      <td>-0.144891</td>\n",
              "      <td>-1.080625</td>\n",
              "      <td>0.0</td>\n",
              "      <td>-1.080625</td>\n",
              "      <td>11.024028</td>\n",
              "      <td>12.104653</td>\n",
              "      <td>1.0</td>\n",
              "    </tr>\n",
              "  </tbody>\n",
              "</table>\n",
              "</div>"
            ],
            "text/plain": [
              "        Date      Open     Close  ...     result  result of close deal  trend\n",
              "0 2020-05-04  1.095746  1.095963  ...   0.000000              0.000000    0.0\n",
              "1 2020-05-05  1.090453  1.090429  ...   0.488343              1.578796    0.0\n",
              "2 2020-05-06  1.084011  1.083858  ...   2.156676             -0.011346    1.0\n",
              "3 2020-05-07  1.080054  1.079855  ...   6.134818              5.054764    2.0\n",
              "4 2020-05-08  1.083694  1.083717  ...   4.710464              6.877852    0.0\n",
              "5 2020-05-11  1.084011  1.083952  ...   3.568583              2.484572    1.0\n",
              "6 2020-05-12  1.080917  1.080941  ...   6.018933              4.938016    0.0\n",
              "7 2020-05-13  1.084634  1.084681  ...   4.586707              6.755975    0.0\n",
              "8 2020-05-14  1.082193  1.082368  ...   7.196317              2.867545    0.0\n",
              "9 2020-05-15  1.080625  1.080696  ...  11.024028             12.104653    1.0\n",
              "\n",
              "[10 rows x 14 columns]"
            ]
          },
          "metadata": {
            "tags": []
          },
          "execution_count": 795
        }
      ]
    },
    {
      "cell_type": "code",
      "metadata": {
        "colab": {
          "base_uri": "https://localhost:8080/",
          "height": 297
        },
        "id": "CbNlYfbMQL5H",
        "outputId": "ef5609c4-90d2-4199-fd6e-27c38d9861e3"
      },
      "source": [
        "df2.describe()"
      ],
      "execution_count": 793,
      "outputs": [
        {
          "output_type": "execute_result",
          "data": {
            "text/html": [
              "<div>\n",
              "<style scoped>\n",
              "    .dataframe tbody tr th:only-of-type {\n",
              "        vertical-align: middle;\n",
              "    }\n",
              "\n",
              "    .dataframe tbody tr th {\n",
              "        vertical-align: top;\n",
              "    }\n",
              "\n",
              "    .dataframe thead th {\n",
              "        text-align: right;\n",
              "    }\n",
              "</style>\n",
              "<table border=\"1\" class=\"dataframe\">\n",
              "  <thead>\n",
              "    <tr style=\"text-align: right;\">\n",
              "      <th></th>\n",
              "      <th>Open</th>\n",
              "      <th>Close</th>\n",
              "      <th>DayOfWeek</th>\n",
              "      <th>Close-1</th>\n",
              "      <th>Open-1</th>\n",
              "      <th>%Close</th>\n",
              "      <th>%Open</th>\n",
              "      <th>decision</th>\n",
              "      <th>k</th>\n",
              "      <th>deal</th>\n",
              "      <th>result</th>\n",
              "      <th>result of close deal</th>\n",
              "      <th>trend</th>\n",
              "    </tr>\n",
              "  </thead>\n",
              "  <tbody>\n",
              "    <tr>\n",
              "      <th>count</th>\n",
              "      <td>261.000000</td>\n",
              "      <td>261.000000</td>\n",
              "      <td>261.000000</td>\n",
              "      <td>260.000000</td>\n",
              "      <td>260.000000</td>\n",
              "      <td>260.000000</td>\n",
              "      <td>260.000000</td>\n",
              "      <td>261.000000</td>\n",
              "      <td>261.000000</td>\n",
              "      <td>261.000000</td>\n",
              "      <td>261.000000</td>\n",
              "      <td>261.000000</td>\n",
              "      <td>261.000000</td>\n",
              "    </tr>\n",
              "    <tr>\n",
              "      <th>mean</th>\n",
              "      <td>1.176550</td>\n",
              "      <td>1.176606</td>\n",
              "      <td>1.992337</td>\n",
              "      <td>1.176507</td>\n",
              "      <td>1.176450</td>\n",
              "      <td>0.036440</td>\n",
              "      <td>0.036557</td>\n",
              "      <td>0.077888</td>\n",
              "      <td>0.850575</td>\n",
              "      <td>-0.125773</td>\n",
              "      <td>-105.317438</td>\n",
              "      <td>-105.195863</td>\n",
              "      <td>0.934866</td>\n",
              "    </tr>\n",
              "    <tr>\n",
              "      <th>std</th>\n",
              "      <td>0.037332</td>\n",
              "      <td>0.037341</td>\n",
              "      <td>1.419622</td>\n",
              "      <td>0.037378</td>\n",
              "      <td>0.037369</td>\n",
              "      <td>0.400564</td>\n",
              "      <td>0.399199</td>\n",
              "      <td>1.176816</td>\n",
              "      <td>1.107965</td>\n",
              "      <td>6.802022</td>\n",
              "      <td>44.636871</td>\n",
              "      <td>45.281239</td>\n",
              "      <td>1.300729</td>\n",
              "    </tr>\n",
              "    <tr>\n",
              "      <th>min</th>\n",
              "      <td>1.080054</td>\n",
              "      <td>1.079855</td>\n",
              "      <td>0.000000</td>\n",
              "      <td>1.079855</td>\n",
              "      <td>1.080054</td>\n",
              "      <td>-0.972610</td>\n",
              "      <td>-1.026176</td>\n",
              "      <td>-1.229906</td>\n",
              "      <td>0.000000</td>\n",
              "      <td>-77.548480</td>\n",
              "      <td>-157.554528</td>\n",
              "      <td>-162.160689</td>\n",
              "      <td>0.000000</td>\n",
              "    </tr>\n",
              "    <tr>\n",
              "      <th>25%</th>\n",
              "      <td>1.167365</td>\n",
              "      <td>1.167324</td>\n",
              "      <td>1.000000</td>\n",
              "      <td>1.166957</td>\n",
              "      <td>1.167072</td>\n",
              "      <td>-0.252267</td>\n",
              "      <td>-0.246063</td>\n",
              "      <td>-1.181488</td>\n",
              "      <td>0.000000</td>\n",
              "      <td>-1.212106</td>\n",
              "      <td>-133.696656</td>\n",
              "      <td>-134.246223</td>\n",
              "      <td>0.000000</td>\n",
              "    </tr>\n",
              "    <tr>\n",
              "      <th>50%</th>\n",
              "      <td>1.184180</td>\n",
              "      <td>1.184273</td>\n",
              "      <td>2.000000</td>\n",
              "      <td>1.184273</td>\n",
              "      <td>1.184178</td>\n",
              "      <td>0.032601</td>\n",
              "      <td>0.029910</td>\n",
              "      <td>1.097936</td>\n",
              "      <td>0.000000</td>\n",
              "      <td>1.126494</td>\n",
              "      <td>-123.052932</td>\n",
              "      <td>-122.969945</td>\n",
              "      <td>0.000000</td>\n",
              "    </tr>\n",
              "    <tr>\n",
              "      <th>75%</th>\n",
              "      <td>1.204935</td>\n",
              "      <td>1.205110</td>\n",
              "      <td>3.000000</td>\n",
              "      <td>1.205172</td>\n",
              "      <td>1.205015</td>\n",
              "      <td>0.333199</td>\n",
              "      <td>0.329382</td>\n",
              "      <td>1.185255</td>\n",
              "      <td>1.000000</td>\n",
              "      <td>2.307018</td>\n",
              "      <td>-99.862453</td>\n",
              "      <td>-99.611231</td>\n",
              "      <td>1.000000</td>\n",
              "    </tr>\n",
              "    <tr>\n",
              "      <th>max</th>\n",
              "      <td>1.233776</td>\n",
              "      <td>1.234111</td>\n",
              "      <td>4.000000</td>\n",
              "      <td>1.234111</td>\n",
              "      <td>1.233776</td>\n",
              "      <td>1.141047</td>\n",
              "      <td>1.106827</td>\n",
              "      <td>1.233776</td>\n",
              "      <td>6.000000</td>\n",
              "      <td>38.568160</td>\n",
              "      <td>10.747782</td>\n",
              "      <td>12.309216</td>\n",
              "      <td>7.000000</td>\n",
              "    </tr>\n",
              "  </tbody>\n",
              "</table>\n",
              "</div>"
            ],
            "text/plain": [
              "             Open       Close  ...  result of close deal       trend\n",
              "count  261.000000  261.000000  ...            261.000000  261.000000\n",
              "mean     1.176550    1.176606  ...           -105.195863    0.934866\n",
              "std      0.037332    0.037341  ...             45.281239    1.300729\n",
              "min      1.080054    1.079855  ...           -162.160689    0.000000\n",
              "25%      1.167365    1.167324  ...           -134.246223    0.000000\n",
              "50%      1.184180    1.184273  ...           -122.969945    0.000000\n",
              "75%      1.204935    1.205110  ...            -99.611231    1.000000\n",
              "max      1.233776    1.234111  ...             12.309216    7.000000\n",
              "\n",
              "[8 rows x 13 columns]"
            ]
          },
          "metadata": {
            "tags": []
          },
          "execution_count": 793
        }
      ]
    },
    {
      "cell_type": "code",
      "metadata": {
        "colab": {
          "base_uri": "https://localhost:8080/",
          "height": 308
        },
        "id": "mSwauWOFqE1f",
        "outputId": "64959dec-f85b-47bc-f113-44e05ee666c9"
      },
      "source": [
        "df2.plot('Date', 'result')"
      ],
      "execution_count": 794,
      "outputs": [
        {
          "output_type": "execute_result",
          "data": {
            "text/plain": [
              "<matplotlib.axes._subplots.AxesSubplot at 0x7f434e082bd0>"
            ]
          },
          "metadata": {
            "tags": []
          },
          "execution_count": 794
        },
        {
          "output_type": "display_data",
          "data": {
            "image/png": "[encoded data removed]",
            "text/plain": [
              "<Figure size 432x288 with 1 Axes>"
            ]
          },
          "metadata": {
            "tags": [],
            "needs_background": "light"
          }
        }
      ]
    }
  ]
}