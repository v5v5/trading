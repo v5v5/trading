{
  "nbformat": 4,
  "nbformat_minor": 0,
  "metadata": {
    "colab": {
      "name": "trade-strategy.ipynb",
      "provenance": [],
      "collapsed_sections": [],
      "authorship_tag": "ABX9TyO0HwtEVpeTMXPxb9d1fi2/",
      "include_colab_link": true
    },
    "kernelspec": {
      "name": "python3",
      "display_name": "Python 3"
    },
    "language_info": {
      "name": "python"
    }
  },
  "cells": [
    {
      "cell_type": "markdown",
      "metadata": {
        "id": "view-in-github",
        "colab_type": "text"
      },
      "source": [
        "<a href=\"https://colab.research.google.com/github/v5v5/trading/blob/main/trade_strategy.ipynb\" target=\"_parent\"><img src=\"https://colab.research.google.com/assets/colab-badge.svg\" alt=\"Open In Colab\"/></a>"
      ]
    },
    {
      "cell_type": "markdown",
      "metadata": {
        "id": "HowU-l69T-Yb"
      },
      "source": [
        "URL to download quotes EURUSD\n",
        "\n",
        "https://query1.finance.yahoo.com/v7/finance/download/EURUSD=X?period1=1262304000&period2=1619654400&interval=1d&events=history&includeAdjustedClose=true"
      ]
    },
    {
      "cell_type": "code",
      "metadata": {
        "id": "pkKl4XBGVNGL"
      },
      "source": [
        "import pandas as pd\n",
        "from urllib.request import Request, urlopen\n",
        "from io import StringIO\n",
        "import datetime\n",
        "import time\n",
        "import random\n",
        "import math"
      ],
      "execution_count": 418,
      "outputs": []
    },
    {
      "cell_type": "code",
      "metadata": {
        "colab": {
          "base_uri": "https://localhost:8080/",
          "height": 35
        },
        "id": "oAMusJ7Vfxou",
        "outputId": "1361878e-6e0e-4ccc-e0e2-8dbd3f25cb27"
      },
      "source": [
        "dt_from = datetime.date(2000,1,1)\n",
        "# dt_from = datetime.date(2019,1,1)\n",
        "ut_from = str(int(time.mktime(dt_from.timetuple())))\n",
        "ut_from"
      ],
      "execution_count": 419,
      "outputs": [
        {
          "output_type": "execute_result",
          "data": {
            "application/vnd.google.colaboratory.intrinsic+json": {
              "type": "string"
            },
            "text/plain": [
              "'946684800'"
            ]
          },
          "metadata": {
            "tags": []
          },
          "execution_count": 419
        }
      ]
    },
    {
      "cell_type": "code",
      "metadata": {
        "colab": {
          "base_uri": "https://localhost:8080/",
          "height": 35
        },
        "id": "3iBED0CihYSB",
        "outputId": "786ae7ea-3607-4ece-e991-48976623ee81"
      },
      "source": [
        "dt_to = datetime.date.today()\n",
        "ut_to = str(int(time.mktime(dt_to.timetuple())))\n",
        "ut_to"
      ],
      "execution_count": 420,
      "outputs": [
        {
          "output_type": "execute_result",
          "data": {
            "application/vnd.google.colaboratory.intrinsic+json": {
              "type": "string"
            },
            "text/plain": [
              "'1619740800'"
            ]
          },
          "metadata": {
            "tags": []
          },
          "execution_count": 420
        }
      ]
    },
    {
      "cell_type": "code",
      "metadata": {
        "id": "ZWbh4rFCYsiA"
      },
      "source": [
        "# url='https://query1.finance.yahoo.com/v7/finance/download/EURUSD=X?period1=1262304000&period2=1619654400&interval=1d&events=history&includeAdjustedClose=true'\n",
        "url='https://query1.finance.yahoo.com/v7/finance/download/EURUSD=X?period1=' + ut_from + '&period2=' + ut_to + '&interval=1d&events=history&includeAdjustedClose=true'"
      ],
      "execution_count": 421,
      "outputs": []
    },
    {
      "cell_type": "code",
      "metadata": {
        "id": "ictpemgHTnaU"
      },
      "source": [
        "headers={'User-Agent': 'Mozilla/5.0'}"
      ],
      "execution_count": 422,
      "outputs": []
    },
    {
      "cell_type": "code",
      "metadata": {
        "id": "5KvntWHZg8CO"
      },
      "source": [
        "req = Request(url, headers=headers)"
      ],
      "execution_count": 423,
      "outputs": []
    },
    {
      "cell_type": "code",
      "metadata": {
        "id": "d2anZTnFSg6y"
      },
      "source": [
        "page = urlopen(req)\n",
        "# page = urlopen(url)"
      ],
      "execution_count": 424,
      "outputs": []
    },
    {
      "cell_type": "code",
      "metadata": {
        "id": "tOtCSrjqY2b6"
      },
      "source": [
        "page = urlopen(url)"
      ],
      "execution_count": 425,
      "outputs": []
    },
    {
      "cell_type": "code",
      "metadata": {
        "id": "W7BmUlFOSjXh"
      },
      "source": [
        "content = page.read()"
      ],
      "execution_count": 426,
      "outputs": []
    },
    {
      "cell_type": "code",
      "metadata": {
        "id": "MrUfRSxZp4Y9"
      },
      "source": [
        "text = content.decode('UTF-8')"
      ],
      "execution_count": 427,
      "outputs": []
    },
    {
      "cell_type": "code",
      "metadata": {
        "colab": {
          "base_uri": "https://localhost:8080/"
        },
        "id": "HIutb2KOhWlP",
        "outputId": "841a3fce-3e8e-45ae-fdc3-066dfa74dcce"
      },
      "source": [
        "print(text[:300])"
      ],
      "execution_count": 428,
      "outputs": [
        {
          "output_type": "stream",
          "text": [
            "Date,Open,High,Low,Close,Adj Close,Volume\n",
            "2003-12-01,1.203398,1.204007,1.194401,1.196501,1.196501,0\n",
            "2003-12-02,1.196101,1.210903,1.194600,1.208897,1.208897,0\n",
            "2003-12-03,1.209000,1.213003,1.207700,1.212298,1.212298,0\n",
            "2003-12-04,1.212004,1.214403,1.204398,1.208094,1.208094,0\n",
            "2003-12-05,1.207802,1.2190\n"
          ],
          "name": "stdout"
        }
      ]
    },
    {
      "cell_type": "code",
      "metadata": {
        "id": "nyxhqBhKpBel"
      },
      "source": [
        "data = StringIO(text)"
      ],
      "execution_count": 429,
      "outputs": []
    },
    {
      "cell_type": "code",
      "metadata": {
        "id": "tso_dYdOVny7"
      },
      "source": [
        "df1 = pd.read_csv(data, sep=',', header='infer')"
      ],
      "execution_count": 430,
      "outputs": []
    },
    {
      "cell_type": "code",
      "metadata": {
        "colab": {
          "base_uri": "https://localhost:8080/",
          "height": 266
        },
        "id": "CAWUH4jfl0-Y",
        "outputId": "c0e6517a-1c20-436e-85a4-0d60967cff9f"
      },
      "source": [
        "df1.tail(7)"
      ],
      "execution_count": 431,
      "outputs": [
        {
          "output_type": "execute_result",
          "data": {
            "text/html": [
              "<div>\n",
              "<style scoped>\n",
              "    .dataframe tbody tr th:only-of-type {\n",
              "        vertical-align: middle;\n",
              "    }\n",
              "\n",
              "    .dataframe tbody tr th {\n",
              "        vertical-align: top;\n",
              "    }\n",
              "\n",
              "    .dataframe thead th {\n",
              "        text-align: right;\n",
              "    }\n",
              "</style>\n",
              "<table border=\"1\" class=\"dataframe\">\n",
              "  <thead>\n",
              "    <tr style=\"text-align: right;\">\n",
              "      <th></th>\n",
              "      <th>Date</th>\n",
              "      <th>Open</th>\n",
              "      <th>High</th>\n",
              "      <th>Low</th>\n",
              "      <th>Close</th>\n",
              "      <th>Adj Close</th>\n",
              "      <th>Volume</th>\n",
              "    </tr>\n",
              "  </thead>\n",
              "  <tbody>\n",
              "    <tr>\n",
              "      <th>4538</th>\n",
              "      <td>2021-04-22</td>\n",
              "      <td>1.203818</td>\n",
              "      <td>1.207001</td>\n",
              "      <td>1.200394</td>\n",
              "      <td>1.203775</td>\n",
              "      <td>1.203775</td>\n",
              "      <td>0.0</td>\n",
              "    </tr>\n",
              "    <tr>\n",
              "      <th>4539</th>\n",
              "      <td>2021-04-23</td>\n",
              "      <td>1.201793</td>\n",
              "      <td>1.207799</td>\n",
              "      <td>1.201389</td>\n",
              "      <td>1.201475</td>\n",
              "      <td>1.201475</td>\n",
              "      <td>0.0</td>\n",
              "    </tr>\n",
              "    <tr>\n",
              "      <th>4540</th>\n",
              "      <td>2021-04-26</td>\n",
              "      <td>1.208956</td>\n",
              "      <td>1.211827</td>\n",
              "      <td>1.206374</td>\n",
              "      <td>1.208985</td>\n",
              "      <td>1.208985</td>\n",
              "      <td>0.0</td>\n",
              "    </tr>\n",
              "    <tr>\n",
              "      <th>4541</th>\n",
              "      <td>2021-04-27</td>\n",
              "      <td>1.207921</td>\n",
              "      <td>1.209190</td>\n",
              "      <td>1.205793</td>\n",
              "      <td>1.208167</td>\n",
              "      <td>1.208167</td>\n",
              "      <td>0.0</td>\n",
              "    </tr>\n",
              "    <tr>\n",
              "      <th>4542</th>\n",
              "      <td>2021-04-28</td>\n",
              "      <td>1.208854</td>\n",
              "      <td>1.210214</td>\n",
              "      <td>1.205764</td>\n",
              "      <td>1.209031</td>\n",
              "      <td>1.209031</td>\n",
              "      <td>0.0</td>\n",
              "    </tr>\n",
              "    <tr>\n",
              "      <th>4543</th>\n",
              "      <td>2021-04-29</td>\n",
              "      <td>1.213578</td>\n",
              "      <td>1.215214</td>\n",
              "      <td>1.210419</td>\n",
              "      <td>1.213592</td>\n",
              "      <td>1.213592</td>\n",
              "      <td>0.0</td>\n",
              "    </tr>\n",
              "    <tr>\n",
              "      <th>4544</th>\n",
              "      <td>2021-04-30</td>\n",
              "      <td>1.212562</td>\n",
              "      <td>1.213298</td>\n",
              "      <td>1.211974</td>\n",
              "      <td>1.212121</td>\n",
              "      <td>1.212121</td>\n",
              "      <td>0.0</td>\n",
              "    </tr>\n",
              "  </tbody>\n",
              "</table>\n",
              "</div>"
            ],
            "text/plain": [
              "            Date      Open      High       Low     Close  Adj Close  Volume\n",
              "4538  2021-04-22  1.203818  1.207001  1.200394  1.203775   1.203775     0.0\n",
              "4539  2021-04-23  1.201793  1.207799  1.201389  1.201475   1.201475     0.0\n",
              "4540  2021-04-26  1.208956  1.211827  1.206374  1.208985   1.208985     0.0\n",
              "4541  2021-04-27  1.207921  1.209190  1.205793  1.208167   1.208167     0.0\n",
              "4542  2021-04-28  1.208854  1.210214  1.205764  1.209031   1.209031     0.0\n",
              "4543  2021-04-29  1.213578  1.215214  1.210419  1.213592   1.213592     0.0\n",
              "4544  2021-04-30  1.212562  1.213298  1.211974  1.212121   1.212121     0.0"
            ]
          },
          "metadata": {
            "tags": []
          },
          "execution_count": 431
        }
      ]
    },
    {
      "cell_type": "code",
      "metadata": {
        "id": "iDDbrBeGci0d"
      },
      "source": [
        "df1['Date'] = pd.to_datetime(df1['Date'], errors='coerce')"
      ],
      "execution_count": 432,
      "outputs": []
    },
    {
      "cell_type": "code",
      "metadata": {
        "id": "eRwjQgzGmCBm"
      },
      "source": [
        "df1['DayOfWeek'] = df1['Date'].dt.dayofweek"
      ],
      "execution_count": 433,
      "outputs": []
    },
    {
      "cell_type": "code",
      "metadata": {
        "colab": {
          "base_uri": "https://localhost:8080/",
          "height": 266
        },
        "id": "NLF_R44LnKkY",
        "outputId": "c442b63e-f36f-4f91-a47f-c385b51e1541"
      },
      "source": [
        "df1.tail(7)"
      ],
      "execution_count": 434,
      "outputs": [
        {
          "output_type": "execute_result",
          "data": {
            "text/html": [
              "<div>\n",
              "<style scoped>\n",
              "    .dataframe tbody tr th:only-of-type {\n",
              "        vertical-align: middle;\n",
              "    }\n",
              "\n",
              "    .dataframe tbody tr th {\n",
              "        vertical-align: top;\n",
              "    }\n",
              "\n",
              "    .dataframe thead th {\n",
              "        text-align: right;\n",
              "    }\n",
              "</style>\n",
              "<table border=\"1\" class=\"dataframe\">\n",
              "  <thead>\n",
              "    <tr style=\"text-align: right;\">\n",
              "      <th></th>\n",
              "      <th>Date</th>\n",
              "      <th>Open</th>\n",
              "      <th>High</th>\n",
              "      <th>Low</th>\n",
              "      <th>Close</th>\n",
              "      <th>Adj Close</th>\n",
              "      <th>Volume</th>\n",
              "      <th>DayOfWeek</th>\n",
              "    </tr>\n",
              "  </thead>\n",
              "  <tbody>\n",
              "    <tr>\n",
              "      <th>4538</th>\n",
              "      <td>2021-04-22</td>\n",
              "      <td>1.203818</td>\n",
              "      <td>1.207001</td>\n",
              "      <td>1.200394</td>\n",
              "      <td>1.203775</td>\n",
              "      <td>1.203775</td>\n",
              "      <td>0.0</td>\n",
              "      <td>3</td>\n",
              "    </tr>\n",
              "    <tr>\n",
              "      <th>4539</th>\n",
              "      <td>2021-04-23</td>\n",
              "      <td>1.201793</td>\n",
              "      <td>1.207799</td>\n",
              "      <td>1.201389</td>\n",
              "      <td>1.201475</td>\n",
              "      <td>1.201475</td>\n",
              "      <td>0.0</td>\n",
              "      <td>4</td>\n",
              "    </tr>\n",
              "    <tr>\n",
              "      <th>4540</th>\n",
              "      <td>2021-04-26</td>\n",
              "      <td>1.208956</td>\n",
              "      <td>1.211827</td>\n",
              "      <td>1.206374</td>\n",
              "      <td>1.208985</td>\n",
              "      <td>1.208985</td>\n",
              "      <td>0.0</td>\n",
              "      <td>0</td>\n",
              "    </tr>\n",
              "    <tr>\n",
              "      <th>4541</th>\n",
              "      <td>2021-04-27</td>\n",
              "      <td>1.207921</td>\n",
              "      <td>1.209190</td>\n",
              "      <td>1.205793</td>\n",
              "      <td>1.208167</td>\n",
              "      <td>1.208167</td>\n",
              "      <td>0.0</td>\n",
              "      <td>1</td>\n",
              "    </tr>\n",
              "    <tr>\n",
              "      <th>4542</th>\n",
              "      <td>2021-04-28</td>\n",
              "      <td>1.208854</td>\n",
              "      <td>1.210214</td>\n",
              "      <td>1.205764</td>\n",
              "      <td>1.209031</td>\n",
              "      <td>1.209031</td>\n",
              "      <td>0.0</td>\n",
              "      <td>2</td>\n",
              "    </tr>\n",
              "    <tr>\n",
              "      <th>4543</th>\n",
              "      <td>2021-04-29</td>\n",
              "      <td>1.213578</td>\n",
              "      <td>1.215214</td>\n",
              "      <td>1.210419</td>\n",
              "      <td>1.213592</td>\n",
              "      <td>1.213592</td>\n",
              "      <td>0.0</td>\n",
              "      <td>3</td>\n",
              "    </tr>\n",
              "    <tr>\n",
              "      <th>4544</th>\n",
              "      <td>2021-04-30</td>\n",
              "      <td>1.212562</td>\n",
              "      <td>1.213298</td>\n",
              "      <td>1.211974</td>\n",
              "      <td>1.212121</td>\n",
              "      <td>1.212121</td>\n",
              "      <td>0.0</td>\n",
              "      <td>4</td>\n",
              "    </tr>\n",
              "  </tbody>\n",
              "</table>\n",
              "</div>"
            ],
            "text/plain": [
              "           Date      Open      High  ...  Adj Close  Volume  DayOfWeek\n",
              "4538 2021-04-22  1.203818  1.207001  ...   1.203775     0.0          3\n",
              "4539 2021-04-23  1.201793  1.207799  ...   1.201475     0.0          4\n",
              "4540 2021-04-26  1.208956  1.211827  ...   1.208985     0.0          0\n",
              "4541 2021-04-27  1.207921  1.209190  ...   1.208167     0.0          1\n",
              "4542 2021-04-28  1.208854  1.210214  ...   1.209031     0.0          2\n",
              "4543 2021-04-29  1.213578  1.215214  ...   1.213592     0.0          3\n",
              "4544 2021-04-30  1.212562  1.213298  ...   1.212121     0.0          4\n",
              "\n",
              "[7 rows x 8 columns]"
            ]
          },
          "metadata": {
            "tags": []
          },
          "execution_count": 434
        }
      ]
    },
    {
      "cell_type": "code",
      "metadata": {
        "id": "isV-KVPm_mxb"
      },
      "source": [
        "df2 = df1.drop(['High','Low', 'Adj Close', 'Volume'], axis=1)"
      ],
      "execution_count": 435,
      "outputs": []
    },
    {
      "cell_type": "code",
      "metadata": {
        "colab": {
          "base_uri": "https://localhost:8080/",
          "height": 266
        },
        "id": "BoXK3TqGAW19",
        "outputId": "12609912-5e68-4a58-eb98-fb6038d3bba9"
      },
      "source": [
        "df2.tail(7)"
      ],
      "execution_count": 436,
      "outputs": [
        {
          "output_type": "execute_result",
          "data": {
            "text/html": [
              "<div>\n",
              "<style scoped>\n",
              "    .dataframe tbody tr th:only-of-type {\n",
              "        vertical-align: middle;\n",
              "    }\n",
              "\n",
              "    .dataframe tbody tr th {\n",
              "        vertical-align: top;\n",
              "    }\n",
              "\n",
              "    .dataframe thead th {\n",
              "        text-align: right;\n",
              "    }\n",
              "</style>\n",
              "<table border=\"1\" class=\"dataframe\">\n",
              "  <thead>\n",
              "    <tr style=\"text-align: right;\">\n",
              "      <th></th>\n",
              "      <th>Date</th>\n",
              "      <th>Open</th>\n",
              "      <th>Close</th>\n",
              "      <th>DayOfWeek</th>\n",
              "    </tr>\n",
              "  </thead>\n",
              "  <tbody>\n",
              "    <tr>\n",
              "      <th>4538</th>\n",
              "      <td>2021-04-22</td>\n",
              "      <td>1.203818</td>\n",
              "      <td>1.203775</td>\n",
              "      <td>3</td>\n",
              "    </tr>\n",
              "    <tr>\n",
              "      <th>4539</th>\n",
              "      <td>2021-04-23</td>\n",
              "      <td>1.201793</td>\n",
              "      <td>1.201475</td>\n",
              "      <td>4</td>\n",
              "    </tr>\n",
              "    <tr>\n",
              "      <th>4540</th>\n",
              "      <td>2021-04-26</td>\n",
              "      <td>1.208956</td>\n",
              "      <td>1.208985</td>\n",
              "      <td>0</td>\n",
              "    </tr>\n",
              "    <tr>\n",
              "      <th>4541</th>\n",
              "      <td>2021-04-27</td>\n",
              "      <td>1.207921</td>\n",
              "      <td>1.208167</td>\n",
              "      <td>1</td>\n",
              "    </tr>\n",
              "    <tr>\n",
              "      <th>4542</th>\n",
              "      <td>2021-04-28</td>\n",
              "      <td>1.208854</td>\n",
              "      <td>1.209031</td>\n",
              "      <td>2</td>\n",
              "    </tr>\n",
              "    <tr>\n",
              "      <th>4543</th>\n",
              "      <td>2021-04-29</td>\n",
              "      <td>1.213578</td>\n",
              "      <td>1.213592</td>\n",
              "      <td>3</td>\n",
              "    </tr>\n",
              "    <tr>\n",
              "      <th>4544</th>\n",
              "      <td>2021-04-30</td>\n",
              "      <td>1.212562</td>\n",
              "      <td>1.212121</td>\n",
              "      <td>4</td>\n",
              "    </tr>\n",
              "  </tbody>\n",
              "</table>\n",
              "</div>"
            ],
            "text/plain": [
              "           Date      Open     Close  DayOfWeek\n",
              "4538 2021-04-22  1.203818  1.203775          3\n",
              "4539 2021-04-23  1.201793  1.201475          4\n",
              "4540 2021-04-26  1.208956  1.208985          0\n",
              "4541 2021-04-27  1.207921  1.208167          1\n",
              "4542 2021-04-28  1.208854  1.209031          2\n",
              "4543 2021-04-29  1.213578  1.213592          3\n",
              "4544 2021-04-30  1.212562  1.212121          4"
            ]
          },
          "metadata": {
            "tags": []
          },
          "execution_count": 436
        }
      ]
    },
    {
      "cell_type": "code",
      "metadata": {
        "id": "0mzQvzqDDFzP"
      },
      "source": [
        "df2['Close-1'] = df2['Close'].shift(1)\n",
        "df2['Open-1'] = df2['Open'].shift(1)"
      ],
      "execution_count": 437,
      "outputs": []
    },
    {
      "cell_type": "code",
      "metadata": {
        "colab": {
          "base_uri": "https://localhost:8080/",
          "height": 266
        },
        "id": "3xG50mLQDq3e",
        "outputId": "3a8c92be-7242-4db6-d503-5a1b7aaf8dde"
      },
      "source": [
        "df2.tail(7)"
      ],
      "execution_count": 438,
      "outputs": [
        {
          "output_type": "execute_result",
          "data": {
            "text/html": [
              "<div>\n",
              "<style scoped>\n",
              "    .dataframe tbody tr th:only-of-type {\n",
              "        vertical-align: middle;\n",
              "    }\n",
              "\n",
              "    .dataframe tbody tr th {\n",
              "        vertical-align: top;\n",
              "    }\n",
              "\n",
              "    .dataframe thead th {\n",
              "        text-align: right;\n",
              "    }\n",
              "</style>\n",
              "<table border=\"1\" class=\"dataframe\">\n",
              "  <thead>\n",
              "    <tr style=\"text-align: right;\">\n",
              "      <th></th>\n",
              "      <th>Date</th>\n",
              "      <th>Open</th>\n",
              "      <th>Close</th>\n",
              "      <th>DayOfWeek</th>\n",
              "      <th>Close-1</th>\n",
              "      <th>Open-1</th>\n",
              "    </tr>\n",
              "  </thead>\n",
              "  <tbody>\n",
              "    <tr>\n",
              "      <th>4538</th>\n",
              "      <td>2021-04-22</td>\n",
              "      <td>1.203818</td>\n",
              "      <td>1.203775</td>\n",
              "      <td>3</td>\n",
              "      <td>1.203239</td>\n",
              "      <td>1.203254</td>\n",
              "    </tr>\n",
              "    <tr>\n",
              "      <th>4539</th>\n",
              "      <td>2021-04-23</td>\n",
              "      <td>1.201793</td>\n",
              "      <td>1.201475</td>\n",
              "      <td>4</td>\n",
              "      <td>1.203775</td>\n",
              "      <td>1.203818</td>\n",
              "    </tr>\n",
              "    <tr>\n",
              "      <th>4540</th>\n",
              "      <td>2021-04-26</td>\n",
              "      <td>1.208956</td>\n",
              "      <td>1.208985</td>\n",
              "      <td>0</td>\n",
              "      <td>1.201475</td>\n",
              "      <td>1.201793</td>\n",
              "    </tr>\n",
              "    <tr>\n",
              "      <th>4541</th>\n",
              "      <td>2021-04-27</td>\n",
              "      <td>1.207921</td>\n",
              "      <td>1.208167</td>\n",
              "      <td>1</td>\n",
              "      <td>1.208985</td>\n",
              "      <td>1.208956</td>\n",
              "    </tr>\n",
              "    <tr>\n",
              "      <th>4542</th>\n",
              "      <td>2021-04-28</td>\n",
              "      <td>1.208854</td>\n",
              "      <td>1.209031</td>\n",
              "      <td>2</td>\n",
              "      <td>1.208167</td>\n",
              "      <td>1.207921</td>\n",
              "    </tr>\n",
              "    <tr>\n",
              "      <th>4543</th>\n",
              "      <td>2021-04-29</td>\n",
              "      <td>1.213578</td>\n",
              "      <td>1.213592</td>\n",
              "      <td>3</td>\n",
              "      <td>1.209031</td>\n",
              "      <td>1.208854</td>\n",
              "    </tr>\n",
              "    <tr>\n",
              "      <th>4544</th>\n",
              "      <td>2021-04-30</td>\n",
              "      <td>1.212562</td>\n",
              "      <td>1.212121</td>\n",
              "      <td>4</td>\n",
              "      <td>1.213592</td>\n",
              "      <td>1.213578</td>\n",
              "    </tr>\n",
              "  </tbody>\n",
              "</table>\n",
              "</div>"
            ],
            "text/plain": [
              "           Date      Open     Close  DayOfWeek   Close-1    Open-1\n",
              "4538 2021-04-22  1.203818  1.203775          3  1.203239  1.203254\n",
              "4539 2021-04-23  1.201793  1.201475          4  1.203775  1.203818\n",
              "4540 2021-04-26  1.208956  1.208985          0  1.201475  1.201793\n",
              "4541 2021-04-27  1.207921  1.208167          1  1.208985  1.208956\n",
              "4542 2021-04-28  1.208854  1.209031          2  1.208167  1.207921\n",
              "4543 2021-04-29  1.213578  1.213592          3  1.209031  1.208854\n",
              "4544 2021-04-30  1.212562  1.212121          4  1.213592  1.213578"
            ]
          },
          "metadata": {
            "tags": []
          },
          "execution_count": 438
        }
      ]
    },
    {
      "cell_type": "code",
      "metadata": {
        "id": "tigVCqC3EBM4"
      },
      "source": [
        "df2['%Close'] = (df2['Close'] - df2['Close-1']) / df2['Close-1'] * 100\n",
        "df2['%Open'] = (df2['Open'] - df2['Open-1']) / df2['Open-1'] * 100"
      ],
      "execution_count": 439,
      "outputs": []
    },
    {
      "cell_type": "code",
      "metadata": {
        "colab": {
          "base_uri": "https://localhost:8080/",
          "height": 266
        },
        "id": "dMsFfMIREP8Z",
        "outputId": "3098c8fb-9a88-47e4-f473-74f11e2aee69"
      },
      "source": [
        "df2.head(7)"
      ],
      "execution_count": 440,
      "outputs": [
        {
          "output_type": "execute_result",
          "data": {
            "text/html": [
              "<div>\n",
              "<style scoped>\n",
              "    .dataframe tbody tr th:only-of-type {\n",
              "        vertical-align: middle;\n",
              "    }\n",
              "\n",
              "    .dataframe tbody tr th {\n",
              "        vertical-align: top;\n",
              "    }\n",
              "\n",
              "    .dataframe thead th {\n",
              "        text-align: right;\n",
              "    }\n",
              "</style>\n",
              "<table border=\"1\" class=\"dataframe\">\n",
              "  <thead>\n",
              "    <tr style=\"text-align: right;\">\n",
              "      <th></th>\n",
              "      <th>Date</th>\n",
              "      <th>Open</th>\n",
              "      <th>Close</th>\n",
              "      <th>DayOfWeek</th>\n",
              "      <th>Close-1</th>\n",
              "      <th>Open-1</th>\n",
              "      <th>%Close</th>\n",
              "      <th>%Open</th>\n",
              "    </tr>\n",
              "  </thead>\n",
              "  <tbody>\n",
              "    <tr>\n",
              "      <th>0</th>\n",
              "      <td>2003-12-01</td>\n",
              "      <td>1.203398</td>\n",
              "      <td>1.196501</td>\n",
              "      <td>0</td>\n",
              "      <td>NaN</td>\n",
              "      <td>NaN</td>\n",
              "      <td>NaN</td>\n",
              "      <td>NaN</td>\n",
              "    </tr>\n",
              "    <tr>\n",
              "      <th>1</th>\n",
              "      <td>2003-12-02</td>\n",
              "      <td>1.196101</td>\n",
              "      <td>1.208897</td>\n",
              "      <td>1</td>\n",
              "      <td>1.196501</td>\n",
              "      <td>1.203398</td>\n",
              "      <td>1.036021</td>\n",
              "      <td>-0.606366</td>\n",
              "    </tr>\n",
              "    <tr>\n",
              "      <th>2</th>\n",
              "      <td>2003-12-03</td>\n",
              "      <td>1.209000</td>\n",
              "      <td>1.212298</td>\n",
              "      <td>2</td>\n",
              "      <td>1.208897</td>\n",
              "      <td>1.196101</td>\n",
              "      <td>0.281331</td>\n",
              "      <td>1.078421</td>\n",
              "    </tr>\n",
              "    <tr>\n",
              "      <th>3</th>\n",
              "      <td>2003-12-04</td>\n",
              "      <td>1.212004</td>\n",
              "      <td>1.208094</td>\n",
              "      <td>3</td>\n",
              "      <td>1.212298</td>\n",
              "      <td>1.209000</td>\n",
              "      <td>-0.346779</td>\n",
              "      <td>0.248470</td>\n",
              "    </tr>\n",
              "    <tr>\n",
              "      <th>4</th>\n",
              "      <td>2003-12-05</td>\n",
              "      <td>1.207802</td>\n",
              "      <td>1.218695</td>\n",
              "      <td>4</td>\n",
              "      <td>1.208094</td>\n",
              "      <td>1.212004</td>\n",
              "      <td>0.877498</td>\n",
              "      <td>-0.346699</td>\n",
              "    </tr>\n",
              "    <tr>\n",
              "      <th>5</th>\n",
              "      <td>2003-12-08</td>\n",
              "      <td>1.216797</td>\n",
              "      <td>1.222001</td>\n",
              "      <td>0</td>\n",
              "      <td>1.218695</td>\n",
              "      <td>1.207802</td>\n",
              "      <td>0.271274</td>\n",
              "      <td>0.744741</td>\n",
              "    </tr>\n",
              "    <tr>\n",
              "      <th>6</th>\n",
              "      <td>2003-12-09</td>\n",
              "      <td>1.222105</td>\n",
              "      <td>1.224995</td>\n",
              "      <td>1</td>\n",
              "      <td>1.222001</td>\n",
              "      <td>1.216797</td>\n",
              "      <td>0.245008</td>\n",
              "      <td>0.436227</td>\n",
              "    </tr>\n",
              "  </tbody>\n",
              "</table>\n",
              "</div>"
            ],
            "text/plain": [
              "        Date      Open     Close  ...    Open-1    %Close     %Open\n",
              "0 2003-12-01  1.203398  1.196501  ...       NaN       NaN       NaN\n",
              "1 2003-12-02  1.196101  1.208897  ...  1.203398  1.036021 -0.606366\n",
              "2 2003-12-03  1.209000  1.212298  ...  1.196101  0.281331  1.078421\n",
              "3 2003-12-04  1.212004  1.208094  ...  1.209000 -0.346779  0.248470\n",
              "4 2003-12-05  1.207802  1.218695  ...  1.212004  0.877498 -0.346699\n",
              "5 2003-12-08  1.216797  1.222001  ...  1.207802  0.271274  0.744741\n",
              "6 2003-12-09  1.222105  1.224995  ...  1.216797  0.245008  0.436227\n",
              "\n",
              "[7 rows x 8 columns]"
            ]
          },
          "metadata": {
            "tags": []
          },
          "execution_count": 440
        }
      ]
    },
    {
      "cell_type": "code",
      "metadata": {
        "id": "5zeRvw_76_rE"
      },
      "source": [
        "def take_decision(index):\n",
        "  row = df2.loc[index]\n",
        "  return random.choice([-row['Open'], +row['Open']])"
      ],
      "execution_count": 441,
      "outputs": []
    },
    {
      "cell_type": "code",
      "metadata": {
        "id": "CfKkh7Ox_8hM"
      },
      "source": [
        "def is_guessed(index):\n",
        "  row = df2.loc[index]\n",
        "  if (index < 1):\n",
        "    return True\n",
        "  return (math.copysign(1, row['%Open']) == math.copysign(1, row['decision']))"
      ],
      "execution_count": 442,
      "outputs": []
    },
    {
      "cell_type": "code",
      "metadata": {
        "id": "XyB39IOuMNqs"
      },
      "source": [
        "def make_deal(index):\n",
        "  k = df2.loc[index, 'k'] \n",
        "  decision = df2.loc[index, 'decision'] \n",
        "  return decision * (2 ** k)"
      ],
      "execution_count": 443,
      "outputs": []
    },
    {
      "cell_type": "code",
      "metadata": {
        "id": "jsDYBIWCSCnk"
      },
      "source": [
        "def discover_trend(index):\n",
        "  if (index < 1):\n",
        "    df2.loc[index, 'trend'] = 0\n",
        "    return\n",
        "  open_curr = df2.loc[index, '%Open']\n",
        "  open_prev = df2.loc[index-1, '%Open']\n",
        "  if (math.copysign(1, open_prev) == math.copysign(1, open_curr)):\n",
        "    df2.loc[index, 'trend'] = df2.loc[index-1, 'trend'] + 1\n",
        "  else:\n",
        "    df2.loc[index, 'trend'] = 0"
      ],
      "execution_count": 444,
      "outputs": []
    },
    {
      "cell_type": "code",
      "metadata": {
        "id": "RGTHIeDi30lw"
      },
      "source": [
        "def trade():\n",
        "  for index, row in df2.iterrows():\n",
        "    df2.loc[index, 'decision'] = take_decision(index)\n",
        "    if (is_guessed(index)):\n",
        "      k = 0\n",
        "    else:\n",
        "      k += 1\n",
        "    df2.loc[index, 'k'] = k\n",
        "    deal = make_deal(index)\n",
        "    df2.loc[index, 'deal'] = deal\n",
        "    discover_trend(index)"
      ],
      "execution_count": 445,
      "outputs": []
    },
    {
      "cell_type": "code",
      "metadata": {
        "colab": {
          "base_uri": "https://localhost:8080/",
          "height": 419
        },
        "id": "pkh0VmLw5ExM",
        "outputId": "34d66ecc-c549-4a24-e7c3-49cacd793632"
      },
      "source": [
        "trade()\n",
        "df2"
      ],
      "execution_count": 446,
      "outputs": [
        {
          "output_type": "execute_result",
          "data": {
            "text/html": [
              "<div>\n",
              "<style scoped>\n",
              "    .dataframe tbody tr th:only-of-type {\n",
              "        vertical-align: middle;\n",
              "    }\n",
              "\n",
              "    .dataframe tbody tr th {\n",
              "        vertical-align: top;\n",
              "    }\n",
              "\n",
              "    .dataframe thead th {\n",
              "        text-align: right;\n",
              "    }\n",
              "</style>\n",
              "<table border=\"1\" class=\"dataframe\">\n",
              "  <thead>\n",
              "    <tr style=\"text-align: right;\">\n",
              "      <th></th>\n",
              "      <th>Date</th>\n",
              "      <th>Open</th>\n",
              "      <th>Close</th>\n",
              "      <th>DayOfWeek</th>\n",
              "      <th>Close-1</th>\n",
              "      <th>Open-1</th>\n",
              "      <th>%Close</th>\n",
              "      <th>%Open</th>\n",
              "      <th>decision</th>\n",
              "      <th>k</th>\n",
              "      <th>deal</th>\n",
              "      <th>trend</th>\n",
              "    </tr>\n",
              "  </thead>\n",
              "  <tbody>\n",
              "    <tr>\n",
              "      <th>0</th>\n",
              "      <td>2003-12-01</td>\n",
              "      <td>1.203398</td>\n",
              "      <td>1.196501</td>\n",
              "      <td>0</td>\n",
              "      <td>NaN</td>\n",
              "      <td>NaN</td>\n",
              "      <td>NaN</td>\n",
              "      <td>NaN</td>\n",
              "      <td>-1.203398</td>\n",
              "      <td>0.0</td>\n",
              "      <td>-1.203398</td>\n",
              "      <td>0.0</td>\n",
              "    </tr>\n",
              "    <tr>\n",
              "      <th>1</th>\n",
              "      <td>2003-12-02</td>\n",
              "      <td>1.196101</td>\n",
              "      <td>1.208897</td>\n",
              "      <td>1</td>\n",
              "      <td>1.196501</td>\n",
              "      <td>1.203398</td>\n",
              "      <td>1.036021</td>\n",
              "      <td>-0.606366</td>\n",
              "      <td>-1.196101</td>\n",
              "      <td>0.0</td>\n",
              "      <td>-1.196101</td>\n",
              "      <td>0.0</td>\n",
              "    </tr>\n",
              "    <tr>\n",
              "      <th>2</th>\n",
              "      <td>2003-12-03</td>\n",
              "      <td>1.209000</td>\n",
              "      <td>1.212298</td>\n",
              "      <td>2</td>\n",
              "      <td>1.208897</td>\n",
              "      <td>1.196101</td>\n",
              "      <td>0.281331</td>\n",
              "      <td>1.078421</td>\n",
              "      <td>-1.209000</td>\n",
              "      <td>1.0</td>\n",
              "      <td>-2.418000</td>\n",
              "      <td>0.0</td>\n",
              "    </tr>\n",
              "    <tr>\n",
              "      <th>3</th>\n",
              "      <td>2003-12-04</td>\n",
              "      <td>1.212004</td>\n",
              "      <td>1.208094</td>\n",
              "      <td>3</td>\n",
              "      <td>1.212298</td>\n",
              "      <td>1.209000</td>\n",
              "      <td>-0.346779</td>\n",
              "      <td>0.248470</td>\n",
              "      <td>-1.212004</td>\n",
              "      <td>2.0</td>\n",
              "      <td>-4.848016</td>\n",
              "      <td>1.0</td>\n",
              "    </tr>\n",
              "    <tr>\n",
              "      <th>4</th>\n",
              "      <td>2003-12-05</td>\n",
              "      <td>1.207802</td>\n",
              "      <td>1.218695</td>\n",
              "      <td>4</td>\n",
              "      <td>1.208094</td>\n",
              "      <td>1.212004</td>\n",
              "      <td>0.877498</td>\n",
              "      <td>-0.346699</td>\n",
              "      <td>-1.207802</td>\n",
              "      <td>0.0</td>\n",
              "      <td>-1.207802</td>\n",
              "      <td>0.0</td>\n",
              "    </tr>\n",
              "    <tr>\n",
              "      <th>...</th>\n",
              "      <td>...</td>\n",
              "      <td>...</td>\n",
              "      <td>...</td>\n",
              "      <td>...</td>\n",
              "      <td>...</td>\n",
              "      <td>...</td>\n",
              "      <td>...</td>\n",
              "      <td>...</td>\n",
              "      <td>...</td>\n",
              "      <td>...</td>\n",
              "      <td>...</td>\n",
              "      <td>...</td>\n",
              "    </tr>\n",
              "    <tr>\n",
              "      <th>4540</th>\n",
              "      <td>2021-04-26</td>\n",
              "      <td>1.208956</td>\n",
              "      <td>1.208985</td>\n",
              "      <td>0</td>\n",
              "      <td>1.201475</td>\n",
              "      <td>1.201793</td>\n",
              "      <td>0.625065</td>\n",
              "      <td>0.596026</td>\n",
              "      <td>-1.208956</td>\n",
              "      <td>1.0</td>\n",
              "      <td>-2.417912</td>\n",
              "      <td>0.0</td>\n",
              "    </tr>\n",
              "    <tr>\n",
              "      <th>4541</th>\n",
              "      <td>2021-04-27</td>\n",
              "      <td>1.207921</td>\n",
              "      <td>1.208167</td>\n",
              "      <td>1</td>\n",
              "      <td>1.208985</td>\n",
              "      <td>1.208956</td>\n",
              "      <td>-0.067660</td>\n",
              "      <td>-0.085611</td>\n",
              "      <td>-1.207921</td>\n",
              "      <td>0.0</td>\n",
              "      <td>-1.207921</td>\n",
              "      <td>0.0</td>\n",
              "    </tr>\n",
              "    <tr>\n",
              "      <th>4542</th>\n",
              "      <td>2021-04-28</td>\n",
              "      <td>1.208854</td>\n",
              "      <td>1.209031</td>\n",
              "      <td>2</td>\n",
              "      <td>1.208167</td>\n",
              "      <td>1.207921</td>\n",
              "      <td>0.071513</td>\n",
              "      <td>0.077240</td>\n",
              "      <td>1.208854</td>\n",
              "      <td>0.0</td>\n",
              "      <td>1.208854</td>\n",
              "      <td>0.0</td>\n",
              "    </tr>\n",
              "    <tr>\n",
              "      <th>4543</th>\n",
              "      <td>2021-04-29</td>\n",
              "      <td>1.213578</td>\n",
              "      <td>1.213592</td>\n",
              "      <td>3</td>\n",
              "      <td>1.209031</td>\n",
              "      <td>1.208854</td>\n",
              "      <td>0.377244</td>\n",
              "      <td>0.390783</td>\n",
              "      <td>-1.213578</td>\n",
              "      <td>1.0</td>\n",
              "      <td>-2.427156</td>\n",
              "      <td>1.0</td>\n",
              "    </tr>\n",
              "    <tr>\n",
              "      <th>4544</th>\n",
              "      <td>2021-04-30</td>\n",
              "      <td>1.212562</td>\n",
              "      <td>1.212121</td>\n",
              "      <td>4</td>\n",
              "      <td>1.213592</td>\n",
              "      <td>1.213578</td>\n",
              "      <td>-0.121210</td>\n",
              "      <td>-0.083719</td>\n",
              "      <td>-1.212562</td>\n",
              "      <td>0.0</td>\n",
              "      <td>-1.212562</td>\n",
              "      <td>0.0</td>\n",
              "    </tr>\n",
              "  </tbody>\n",
              "</table>\n",
              "<p>4545 rows × 12 columns</p>\n",
              "</div>"
            ],
            "text/plain": [
              "           Date      Open     Close  DayOfWeek  ...  decision    k      deal  trend\n",
              "0    2003-12-01  1.203398  1.196501          0  ... -1.203398  0.0 -1.203398    0.0\n",
              "1    2003-12-02  1.196101  1.208897          1  ... -1.196101  0.0 -1.196101    0.0\n",
              "2    2003-12-03  1.209000  1.212298          2  ... -1.209000  1.0 -2.418000    0.0\n",
              "3    2003-12-04  1.212004  1.208094          3  ... -1.212004  2.0 -4.848016    1.0\n",
              "4    2003-12-05  1.207802  1.218695          4  ... -1.207802  0.0 -1.207802    0.0\n",
              "...         ...       ...       ...        ...  ...       ...  ...       ...    ...\n",
              "4540 2021-04-26  1.208956  1.208985          0  ... -1.208956  1.0 -2.417912    0.0\n",
              "4541 2021-04-27  1.207921  1.208167          1  ... -1.207921  0.0 -1.207921    0.0\n",
              "4542 2021-04-28  1.208854  1.209031          2  ...  1.208854  0.0  1.208854    0.0\n",
              "4543 2021-04-29  1.213578  1.213592          3  ... -1.213578  1.0 -2.427156    1.0\n",
              "4544 2021-04-30  1.212562  1.212121          4  ... -1.212562  0.0 -1.212562    0.0\n",
              "\n",
              "[4545 rows x 12 columns]"
            ]
          },
          "metadata": {
            "tags": []
          },
          "execution_count": 446
        }
      ]
    },
    {
      "cell_type": "code",
      "metadata": {
        "colab": {
          "base_uri": "https://localhost:8080/",
          "height": 297
        },
        "id": "CbNlYfbMQL5H",
        "outputId": "eb8a0831-202c-4017-a230-28e4bc657c5a"
      },
      "source": [
        "df2.describe()"
      ],
      "execution_count": 447,
      "outputs": [
        {
          "output_type": "execute_result",
          "data": {
            "text/html": [
              "<div>\n",
              "<style scoped>\n",
              "    .dataframe tbody tr th:only-of-type {\n",
              "        vertical-align: middle;\n",
              "    }\n",
              "\n",
              "    .dataframe tbody tr th {\n",
              "        vertical-align: top;\n",
              "    }\n",
              "\n",
              "    .dataframe thead th {\n",
              "        text-align: right;\n",
              "    }\n",
              "</style>\n",
              "<table border=\"1\" class=\"dataframe\">\n",
              "  <thead>\n",
              "    <tr style=\"text-align: right;\">\n",
              "      <th></th>\n",
              "      <th>Open</th>\n",
              "      <th>Close</th>\n",
              "      <th>DayOfWeek</th>\n",
              "      <th>Close-1</th>\n",
              "      <th>Open-1</th>\n",
              "      <th>%Close</th>\n",
              "      <th>%Open</th>\n",
              "      <th>decision</th>\n",
              "      <th>k</th>\n",
              "      <th>deal</th>\n",
              "      <th>trend</th>\n",
              "    </tr>\n",
              "  </thead>\n",
              "  <tbody>\n",
              "    <tr>\n",
              "      <th>count</th>\n",
              "      <td>4496.000000</td>\n",
              "      <td>4496.000000</td>\n",
              "      <td>4545.000000</td>\n",
              "      <td>4495.000000</td>\n",
              "      <td>4495.000000</td>\n",
              "      <td>4478.000000</td>\n",
              "      <td>4478.000000</td>\n",
              "      <td>4496.000000</td>\n",
              "      <td>4545.000000</td>\n",
              "      <td>4496.000000</td>\n",
              "      <td>4545.000000</td>\n",
              "    </tr>\n",
              "    <tr>\n",
              "      <th>mean</th>\n",
              "      <td>1.259347</td>\n",
              "      <td>1.259373</td>\n",
              "      <td>2.000000</td>\n",
              "      <td>1.259383</td>\n",
              "      <td>1.259357</td>\n",
              "      <td>0.004146</td>\n",
              "      <td>0.004358</td>\n",
              "      <td>-0.005863</td>\n",
              "      <td>0.962816</td>\n",
              "      <td>0.000224</td>\n",
              "      <td>0.989659</td>\n",
              "    </tr>\n",
              "    <tr>\n",
              "      <th>std</th>\n",
              "      <td>0.119864</td>\n",
              "      <td>0.119853</td>\n",
              "      <td>1.414369</td>\n",
              "      <td>0.119865</td>\n",
              "      <td>0.119875</td>\n",
              "      <td>0.746274</td>\n",
              "      <td>0.741814</td>\n",
              "      <td>1.265164</td>\n",
              "      <td>1.395945</td>\n",
              "      <td>67.394139</td>\n",
              "      <td>1.716769</td>\n",
              "    </tr>\n",
              "    <tr>\n",
              "      <th>min</th>\n",
              "      <td>1.039393</td>\n",
              "      <td>1.039047</td>\n",
              "      <td>0.000000</td>\n",
              "      <td>1.039047</td>\n",
              "      <td>1.039393</td>\n",
              "      <td>-13.352634</td>\n",
              "      <td>-13.322116</td>\n",
              "      <td>-1.598184</td>\n",
              "      <td>0.000000</td>\n",
              "      <td>-2386.446336</td>\n",
              "      <td>0.000000</td>\n",
              "    </tr>\n",
              "    <tr>\n",
              "      <th>25%</th>\n",
              "      <td>1.159017</td>\n",
              "      <td>1.158997</td>\n",
              "      <td>1.000000</td>\n",
              "      <td>1.158950</td>\n",
              "      <td>1.158991</td>\n",
              "      <td>-0.328796</td>\n",
              "      <td>-0.327189</td>\n",
              "      <td>-1.259930</td>\n",
              "      <td>0.000000</td>\n",
              "      <td>-2.119768</td>\n",
              "      <td>0.000000</td>\n",
              "    </tr>\n",
              "    <tr>\n",
              "      <th>50%</th>\n",
              "      <td>1.257561</td>\n",
              "      <td>1.258004</td>\n",
              "      <td>2.000000</td>\n",
              "      <td>1.258004</td>\n",
              "      <td>1.257561</td>\n",
              "      <td>0.006124</td>\n",
              "      <td>0.002507</td>\n",
              "      <td>-1.055058</td>\n",
              "      <td>0.000000</td>\n",
              "      <td>-1.057189</td>\n",
              "      <td>0.000000</td>\n",
              "    </tr>\n",
              "    <tr>\n",
              "      <th>75%</th>\n",
              "      <td>1.344203</td>\n",
              "      <td>1.344023</td>\n",
              "      <td>3.000000</td>\n",
              "      <td>1.344050</td>\n",
              "      <td>1.344213</td>\n",
              "      <td>0.337267</td>\n",
              "      <td>0.338316</td>\n",
              "      <td>1.254595</td>\n",
              "      <td>1.000000</td>\n",
              "      <td>1.494623</td>\n",
              "      <td>1.000000</td>\n",
              "    </tr>\n",
              "    <tr>\n",
              "      <th>max</th>\n",
              "      <td>1.598184</td>\n",
              "      <td>1.598798</td>\n",
              "      <td>4.000000</td>\n",
              "      <td>1.598798</td>\n",
              "      <td>1.598184</td>\n",
              "      <td>17.307961</td>\n",
              "      <td>16.607811</td>\n",
              "      <td>1.591495</td>\n",
              "      <td>11.000000</td>\n",
              "      <td>2270.584832</td>\n",
              "      <td>24.000000</td>\n",
              "    </tr>\n",
              "  </tbody>\n",
              "</table>\n",
              "</div>"
            ],
            "text/plain": [
              "              Open        Close  ...         deal        trend\n",
              "count  4496.000000  4496.000000  ...  4496.000000  4545.000000\n",
              "mean      1.259347     1.259373  ...     0.000224     0.989659\n",
              "std       0.119864     0.119853  ...    67.394139     1.716769\n",
              "min       1.039393     1.039047  ... -2386.446336     0.000000\n",
              "25%       1.159017     1.158997  ...    -2.119768     0.000000\n",
              "50%       1.257561     1.258004  ...    -1.057189     0.000000\n",
              "75%       1.344203     1.344023  ...     1.494623     1.000000\n",
              "max       1.598184     1.598798  ...  2270.584832    24.000000\n",
              "\n",
              "[8 rows x 11 columns]"
            ]
          },
          "metadata": {
            "tags": []
          },
          "execution_count": 447
        }
      ]
    }
  ]
}