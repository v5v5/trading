{
  "nbformat": 4,
  "nbformat_minor": 0,
  "metadata": {
    "colab": {
      "name": "trade-strategy.ipynb",
      "provenance": [],
      "collapsed_sections": [],
      "authorship_tag": "ABX9TyOZfjuoJKlVVE+Y9Tt2zUFL",
      "include_colab_link": true
    },
    "kernelspec": {
      "name": "python3",
      "display_name": "Python 3"
    },
    "language_info": {
      "name": "python"
    }
  },
  "cells": [
    {
      "cell_type": "markdown",
      "metadata": {
        "id": "view-in-github",
        "colab_type": "text"
      },
      "source": [
        "<a href=\"https://colab.research.google.com/github/v5v5/trading/blob/main/trade_strategy.ipynb\" target=\"_parent\"><img src=\"https://colab.research.google.com/assets/colab-badge.svg\" alt=\"Open In Colab\"/></a>"
      ]
    },
    {
      "cell_type": "markdown",
      "metadata": {
        "id": "HowU-l69T-Yb"
      },
      "source": [
        "URL to download quotes EURUSD\n",
        "\n",
        "https://query1.finance.yahoo.com/v7/finance/download/EURUSD=X?period1=1262304000&period2=1619654400&interval=1d&events=history&includeAdjustedClose=true"
      ]
    },
    {
      "cell_type": "code",
      "metadata": {
        "id": "pkKl4XBGVNGL"
      },
      "source": [
        "import pandas as pd\n",
        "from urllib.request import Request, urlopen\n",
        "from io import StringIO\n",
        "import datetime\n",
        "from dateutil.relativedelta import relativedelta\n",
        "import time\n",
        "import random\n",
        "import math\n",
        "import matplotlib.pyplot as plt"
      ],
      "execution_count": null,
      "outputs": []
    },
    {
      "cell_type": "code",
      "metadata": {
        "colab": {
          "base_uri": "https://localhost:8080/",
          "height": 35
        },
        "id": "oAMusJ7Vfxou",
        "outputId": "21fa7a3d-d26c-4f3f-e607-98e3d94dc7af"
      },
      "source": [
        "# dt_from = datetime.date(2000,1,1)\n",
        "# dt_from = datetime.date(2019,1,1)\n",
        "# dt_from = datetime.date.today() + relativedelta(years=-1)\n",
        "dt_from = datetime.date.today() + relativedelta(years=-2)\n",
        "ut_from = str(int(time.mktime(dt_from.timetuple())))\n",
        "ut_from"
      ],
      "execution_count": null,
      "outputs": [
        {
          "output_type": "execute_result",
          "data": {
            "application/vnd.google.colaboratory.intrinsic+json": {
              "type": "string"
            },
            "text/plain": [
              "'1557964800'"
            ]
          },
          "metadata": {
            "tags": []
          },
          "execution_count": 457
        }
      ]
    },
    {
      "cell_type": "code",
      "metadata": {
        "colab": {
          "base_uri": "https://localhost:8080/",
          "height": 35
        },
        "id": "3iBED0CihYSB",
        "outputId": "1663bca8-cc03-458c-9b7a-6b2112c8e17b"
      },
      "source": [
        "dt_to = datetime.date.today()\n",
        "ut_to = str(int(time.mktime(dt_to.timetuple())))\n",
        "ut_to"
      ],
      "execution_count": null,
      "outputs": [
        {
          "output_type": "execute_result",
          "data": {
            "application/vnd.google.colaboratory.intrinsic+json": {
              "type": "string"
            },
            "text/plain": [
              "'1621123200'"
            ]
          },
          "metadata": {
            "tags": []
          },
          "execution_count": 458
        }
      ]
    },
    {
      "cell_type": "code",
      "metadata": {
        "id": "ZWbh4rFCYsiA"
      },
      "source": [
        "# url='https://query1.finance.yahoo.com/v7/finance/download/EURUSD=X?period1=1262304000&period2=1619654400&interval=1d&events=history&includeAdjustedClose=true'\n",
        "url='https://query1.finance.yahoo.com/v7/finance/download/EURUSD=X?period1=' + ut_from + '&period2=' + ut_to + '&interval=1d&events=history&includeAdjustedClose=true'"
      ],
      "execution_count": null,
      "outputs": []
    },
    {
      "cell_type": "code",
      "metadata": {
        "id": "ictpemgHTnaU"
      },
      "source": [
        "headers={'User-Agent': 'Mozilla/5.0'}"
      ],
      "execution_count": null,
      "outputs": []
    },
    {
      "cell_type": "code",
      "metadata": {
        "id": "5KvntWHZg8CO"
      },
      "source": [
        "req = Request(url, headers=headers)"
      ],
      "execution_count": null,
      "outputs": []
    },
    {
      "cell_type": "code",
      "metadata": {
        "id": "d2anZTnFSg6y"
      },
      "source": [
        "page = urlopen(req)\n",
        "# page = urlopen(url)"
      ],
      "execution_count": null,
      "outputs": []
    },
    {
      "cell_type": "code",
      "metadata": {
        "id": "tOtCSrjqY2b6"
      },
      "source": [
        "page = urlopen(url)"
      ],
      "execution_count": null,
      "outputs": []
    },
    {
      "cell_type": "code",
      "metadata": {
        "id": "W7BmUlFOSjXh"
      },
      "source": [
        "content = page.read()"
      ],
      "execution_count": null,
      "outputs": []
    },
    {
      "cell_type": "code",
      "metadata": {
        "id": "MrUfRSxZp4Y9"
      },
      "source": [
        "text = content.decode('UTF-8')"
      ],
      "execution_count": null,
      "outputs": []
    },
    {
      "cell_type": "code",
      "metadata": {
        "colab": {
          "base_uri": "https://localhost:8080/"
        },
        "id": "HIutb2KOhWlP",
        "outputId": "60f93265-2520-4e77-c882-afe65ac09a7d"
      },
      "source": [
        "print(text[:300])"
      ],
      "execution_count": null,
      "outputs": [
        {
          "output_type": "stream",
          "text": [
            "Date,Open,High,Low,Close,Adj Close,Volume\n",
            "2019-05-16,1.120951,1.122435,1.117431,1.120724,1.120724,0\n",
            "2019-05-17,1.117481,1.118443,1.115735,1.117356,1.117356,0\n",
            "2019-05-20,1.116532,1.117701,1.115126,1.116532,1.116532,0\n",
            "2019-05-21,1.116944,1.118318,1.114243,1.116857,1.116857,0\n",
            "2019-05-22,null,null,null,\n"
          ],
          "name": "stdout"
        }
      ]
    },
    {
      "cell_type": "code",
      "metadata": {
        "id": "nyxhqBhKpBel"
      },
      "source": [
        "data = StringIO(text)"
      ],
      "execution_count": null,
      "outputs": []
    },
    {
      "cell_type": "code",
      "metadata": {
        "id": "tso_dYdOVny7"
      },
      "source": [
        "df1 = pd.read_csv(data, sep=',', header='infer')"
      ],
      "execution_count": null,
      "outputs": []
    },
    {
      "cell_type": "code",
      "metadata": {
        "colab": {
          "base_uri": "https://localhost:8080/",
          "height": 266
        },
        "id": "CAWUH4jfl0-Y",
        "outputId": "9d2f0172-1bbc-4fb5-924a-dae632f579cb"
      },
      "source": [
        "df1.tail(7)"
      ],
      "execution_count": null,
      "outputs": [
        {
          "output_type": "execute_result",
          "data": {
            "text/html": [
              "<div>\n",
              "<style scoped>\n",
              "    .dataframe tbody tr th:only-of-type {\n",
              "        vertical-align: middle;\n",
              "    }\n",
              "\n",
              "    .dataframe tbody tr th {\n",
              "        vertical-align: top;\n",
              "    }\n",
              "\n",
              "    .dataframe thead th {\n",
              "        text-align: right;\n",
              "    }\n",
              "</style>\n",
              "<table border=\"1\" class=\"dataframe\">\n",
              "  <thead>\n",
              "    <tr style=\"text-align: right;\">\n",
              "      <th></th>\n",
              "      <th>Date</th>\n",
              "      <th>Open</th>\n",
              "      <th>High</th>\n",
              "      <th>Low</th>\n",
              "      <th>Close</th>\n",
              "      <th>Adj Close</th>\n",
              "      <th>Volume</th>\n",
              "    </tr>\n",
              "  </thead>\n",
              "  <tbody>\n",
              "    <tr>\n",
              "      <th>515</th>\n",
              "      <td>2021-05-06</td>\n",
              "      <td>1.200913</td>\n",
              "      <td>1.207001</td>\n",
              "      <td>1.199400</td>\n",
              "      <td>1.200797</td>\n",
              "      <td>1.200797</td>\n",
              "      <td>0.0</td>\n",
              "    </tr>\n",
              "    <tr>\n",
              "      <th>516</th>\n",
              "      <td>2021-05-07</td>\n",
              "      <td>1.206593</td>\n",
              "      <td>1.216545</td>\n",
              "      <td>1.205342</td>\n",
              "      <td>1.206855</td>\n",
              "      <td>1.206855</td>\n",
              "      <td>0.0</td>\n",
              "    </tr>\n",
              "    <tr>\n",
              "      <th>517</th>\n",
              "      <td>2021-05-10</td>\n",
              "      <td>1.216752</td>\n",
              "      <td>1.217730</td>\n",
              "      <td>1.213740</td>\n",
              "      <td>1.217108</td>\n",
              "      <td>1.217108</td>\n",
              "      <td>0.0</td>\n",
              "    </tr>\n",
              "    <tr>\n",
              "      <th>518</th>\n",
              "      <td>2021-05-11</td>\n",
              "      <td>1.214211</td>\n",
              "      <td>1.217968</td>\n",
              "      <td>1.212547</td>\n",
              "      <td>1.214093</td>\n",
              "      <td>1.214093</td>\n",
              "      <td>0.0</td>\n",
              "    </tr>\n",
              "    <tr>\n",
              "      <th>519</th>\n",
              "      <td>2021-05-12</td>\n",
              "      <td>1.214550</td>\n",
              "      <td>1.215067</td>\n",
              "      <td>1.206811</td>\n",
              "      <td>1.214450</td>\n",
              "      <td>1.214450</td>\n",
              "      <td>0.0</td>\n",
              "    </tr>\n",
              "    <tr>\n",
              "      <th>520</th>\n",
              "      <td>2021-05-13</td>\n",
              "      <td>1.207686</td>\n",
              "      <td>1.210654</td>\n",
              "      <td>1.205313</td>\n",
              "      <td>1.207851</td>\n",
              "      <td>1.207851</td>\n",
              "      <td>0.0</td>\n",
              "    </tr>\n",
              "    <tr>\n",
              "      <th>521</th>\n",
              "      <td>2021-05-14</td>\n",
              "      <td>1.208021</td>\n",
              "      <td>1.214772</td>\n",
              "      <td>1.207146</td>\n",
              "      <td>1.207729</td>\n",
              "      <td>1.207729</td>\n",
              "      <td>0.0</td>\n",
              "    </tr>\n",
              "  </tbody>\n",
              "</table>\n",
              "</div>"
            ],
            "text/plain": [
              "           Date      Open      High       Low     Close  Adj Close  Volume\n",
              "515  2021-05-06  1.200913  1.207001  1.199400  1.200797   1.200797     0.0\n",
              "516  2021-05-07  1.206593  1.216545  1.205342  1.206855   1.206855     0.0\n",
              "517  2021-05-10  1.216752  1.217730  1.213740  1.217108   1.217108     0.0\n",
              "518  2021-05-11  1.214211  1.217968  1.212547  1.214093   1.214093     0.0\n",
              "519  2021-05-12  1.214550  1.215067  1.206811  1.214450   1.214450     0.0\n",
              "520  2021-05-13  1.207686  1.210654  1.205313  1.207851   1.207851     0.0\n",
              "521  2021-05-14  1.208021  1.214772  1.207146  1.207729   1.207729     0.0"
            ]
          },
          "metadata": {
            "tags": []
          },
          "execution_count": 469
        }
      ]
    },
    {
      "cell_type": "code",
      "metadata": {
        "colab": {
          "base_uri": "https://localhost:8080/"
        },
        "id": "ovkPk5aUZJ2e",
        "outputId": "95d10809-2992-4ea4-d182-2f759d3df36c"
      },
      "source": [
        "# df1[df1['Open'].isna()]\n",
        "len(df1[df1['Open'].isna()].index)"
      ],
      "execution_count": null,
      "outputs": [
        {
          "output_type": "execute_result",
          "data": {
            "text/plain": [
              "21"
            ]
          },
          "metadata": {
            "tags": []
          },
          "execution_count": 470
        }
      ]
    },
    {
      "cell_type": "code",
      "metadata": {
        "id": "s2DGue6mc5QH"
      },
      "source": [
        "df1.sort_values(by=['Date'], inplace=True)"
      ],
      "execution_count": null,
      "outputs": []
    },
    {
      "cell_type": "code",
      "metadata": {
        "colab": {
          "base_uri": "https://localhost:8080/",
          "height": 419
        },
        "id": "KYmLGPPzZPDG",
        "outputId": "6b771845-1eee-4245-fa80-dbb282302db7"
      },
      "source": [
        "df1.dropna(inplace=True)\n",
        "df1.reset_index(inplace=True)\n",
        "df1"
      ],
      "execution_count": null,
      "outputs": [
        {
          "output_type": "execute_result",
          "data": {
            "text/html": [
              "<div>\n",
              "<style scoped>\n",
              "    .dataframe tbody tr th:only-of-type {\n",
              "        vertical-align: middle;\n",
              "    }\n",
              "\n",
              "    .dataframe tbody tr th {\n",
              "        vertical-align: top;\n",
              "    }\n",
              "\n",
              "    .dataframe thead th {\n",
              "        text-align: right;\n",
              "    }\n",
              "</style>\n",
              "<table border=\"1\" class=\"dataframe\">\n",
              "  <thead>\n",
              "    <tr style=\"text-align: right;\">\n",
              "      <th></th>\n",
              "      <th>index</th>\n",
              "      <th>Date</th>\n",
              "      <th>Open</th>\n",
              "      <th>High</th>\n",
              "      <th>Low</th>\n",
              "      <th>Close</th>\n",
              "      <th>Adj Close</th>\n",
              "      <th>Volume</th>\n",
              "    </tr>\n",
              "  </thead>\n",
              "  <tbody>\n",
              "    <tr>\n",
              "      <th>0</th>\n",
              "      <td>0</td>\n",
              "      <td>2019-05-16</td>\n",
              "      <td>1.120951</td>\n",
              "      <td>1.122435</td>\n",
              "      <td>1.117431</td>\n",
              "      <td>1.120724</td>\n",
              "      <td>1.120724</td>\n",
              "      <td>0.0</td>\n",
              "    </tr>\n",
              "    <tr>\n",
              "      <th>1</th>\n",
              "      <td>1</td>\n",
              "      <td>2019-05-17</td>\n",
              "      <td>1.117481</td>\n",
              "      <td>1.118443</td>\n",
              "      <td>1.115735</td>\n",
              "      <td>1.117356</td>\n",
              "      <td>1.117356</td>\n",
              "      <td>0.0</td>\n",
              "    </tr>\n",
              "    <tr>\n",
              "      <th>2</th>\n",
              "      <td>2</td>\n",
              "      <td>2019-05-20</td>\n",
              "      <td>1.116532</td>\n",
              "      <td>1.117701</td>\n",
              "      <td>1.115126</td>\n",
              "      <td>1.116532</td>\n",
              "      <td>1.116532</td>\n",
              "      <td>0.0</td>\n",
              "    </tr>\n",
              "    <tr>\n",
              "      <th>3</th>\n",
              "      <td>3</td>\n",
              "      <td>2019-05-21</td>\n",
              "      <td>1.116944</td>\n",
              "      <td>1.118318</td>\n",
              "      <td>1.114243</td>\n",
              "      <td>1.116857</td>\n",
              "      <td>1.116857</td>\n",
              "      <td>0.0</td>\n",
              "    </tr>\n",
              "    <tr>\n",
              "      <th>4</th>\n",
              "      <td>5</td>\n",
              "      <td>2019-05-23</td>\n",
              "      <td>1.115511</td>\n",
              "      <td>1.117281</td>\n",
              "      <td>1.110951</td>\n",
              "      <td>1.115548</td>\n",
              "      <td>1.115548</td>\n",
              "      <td>0.0</td>\n",
              "    </tr>\n",
              "    <tr>\n",
              "      <th>...</th>\n",
              "      <td>...</td>\n",
              "      <td>...</td>\n",
              "      <td>...</td>\n",
              "      <td>...</td>\n",
              "      <td>...</td>\n",
              "      <td>...</td>\n",
              "      <td>...</td>\n",
              "      <td>...</td>\n",
              "    </tr>\n",
              "    <tr>\n",
              "      <th>496</th>\n",
              "      <td>517</td>\n",
              "      <td>2021-05-10</td>\n",
              "      <td>1.216752</td>\n",
              "      <td>1.217730</td>\n",
              "      <td>1.213740</td>\n",
              "      <td>1.217108</td>\n",
              "      <td>1.217108</td>\n",
              "      <td>0.0</td>\n",
              "    </tr>\n",
              "    <tr>\n",
              "      <th>497</th>\n",
              "      <td>518</td>\n",
              "      <td>2021-05-11</td>\n",
              "      <td>1.214211</td>\n",
              "      <td>1.217968</td>\n",
              "      <td>1.212547</td>\n",
              "      <td>1.214093</td>\n",
              "      <td>1.214093</td>\n",
              "      <td>0.0</td>\n",
              "    </tr>\n",
              "    <tr>\n",
              "      <th>498</th>\n",
              "      <td>519</td>\n",
              "      <td>2021-05-12</td>\n",
              "      <td>1.214550</td>\n",
              "      <td>1.215067</td>\n",
              "      <td>1.206811</td>\n",
              "      <td>1.214450</td>\n",
              "      <td>1.214450</td>\n",
              "      <td>0.0</td>\n",
              "    </tr>\n",
              "    <tr>\n",
              "      <th>499</th>\n",
              "      <td>520</td>\n",
              "      <td>2021-05-13</td>\n",
              "      <td>1.207686</td>\n",
              "      <td>1.210654</td>\n",
              "      <td>1.205313</td>\n",
              "      <td>1.207851</td>\n",
              "      <td>1.207851</td>\n",
              "      <td>0.0</td>\n",
              "    </tr>\n",
              "    <tr>\n",
              "      <th>500</th>\n",
              "      <td>521</td>\n",
              "      <td>2021-05-14</td>\n",
              "      <td>1.208021</td>\n",
              "      <td>1.214772</td>\n",
              "      <td>1.207146</td>\n",
              "      <td>1.207729</td>\n",
              "      <td>1.207729</td>\n",
              "      <td>0.0</td>\n",
              "    </tr>\n",
              "  </tbody>\n",
              "</table>\n",
              "<p>501 rows × 8 columns</p>\n",
              "</div>"
            ],
            "text/plain": [
              "     index        Date      Open  ...     Close  Adj Close  Volume\n",
              "0        0  2019-05-16  1.120951  ...  1.120724   1.120724     0.0\n",
              "1        1  2019-05-17  1.117481  ...  1.117356   1.117356     0.0\n",
              "2        2  2019-05-20  1.116532  ...  1.116532   1.116532     0.0\n",
              "3        3  2019-05-21  1.116944  ...  1.116857   1.116857     0.0\n",
              "4        5  2019-05-23  1.115511  ...  1.115548   1.115548     0.0\n",
              "..     ...         ...       ...  ...       ...        ...     ...\n",
              "496    517  2021-05-10  1.216752  ...  1.217108   1.217108     0.0\n",
              "497    518  2021-05-11  1.214211  ...  1.214093   1.214093     0.0\n",
              "498    519  2021-05-12  1.214550  ...  1.214450   1.214450     0.0\n",
              "499    520  2021-05-13  1.207686  ...  1.207851   1.207851     0.0\n",
              "500    521  2021-05-14  1.208021  ...  1.207729   1.207729     0.0\n",
              "\n",
              "[501 rows x 8 columns]"
            ]
          },
          "metadata": {
            "tags": []
          },
          "execution_count": 472
        }
      ]
    },
    {
      "cell_type": "code",
      "metadata": {
        "id": "iDDbrBeGci0d"
      },
      "source": [
        "df1['Date'] = pd.to_datetime(df1['Date'], errors='coerce')"
      ],
      "execution_count": null,
      "outputs": []
    },
    {
      "cell_type": "code",
      "metadata": {
        "id": "eRwjQgzGmCBm"
      },
      "source": [
        "df1['DayOfWeek'] = df1['Date'].dt.dayofweek"
      ],
      "execution_count": null,
      "outputs": []
    },
    {
      "cell_type": "code",
      "metadata": {
        "colab": {
          "base_uri": "https://localhost:8080/",
          "height": 266
        },
        "id": "NLF_R44LnKkY",
        "outputId": "f5ab483e-c04e-4f57-9aca-57ce591dfe42"
      },
      "source": [
        "df1.tail(7)"
      ],
      "execution_count": null,
      "outputs": [
        {
          "output_type": "execute_result",
          "data": {
            "text/html": [
              "<div>\n",
              "<style scoped>\n",
              "    .dataframe tbody tr th:only-of-type {\n",
              "        vertical-align: middle;\n",
              "    }\n",
              "\n",
              "    .dataframe tbody tr th {\n",
              "        vertical-align: top;\n",
              "    }\n",
              "\n",
              "    .dataframe thead th {\n",
              "        text-align: right;\n",
              "    }\n",
              "</style>\n",
              "<table border=\"1\" class=\"dataframe\">\n",
              "  <thead>\n",
              "    <tr style=\"text-align: right;\">\n",
              "      <th></th>\n",
              "      <th>index</th>\n",
              "      <th>Date</th>\n",
              "      <th>Open</th>\n",
              "      <th>High</th>\n",
              "      <th>Low</th>\n",
              "      <th>Close</th>\n",
              "      <th>Adj Close</th>\n",
              "      <th>Volume</th>\n",
              "      <th>DayOfWeek</th>\n",
              "    </tr>\n",
              "  </thead>\n",
              "  <tbody>\n",
              "    <tr>\n",
              "      <th>494</th>\n",
              "      <td>515</td>\n",
              "      <td>2021-05-06</td>\n",
              "      <td>1.200913</td>\n",
              "      <td>1.207001</td>\n",
              "      <td>1.199400</td>\n",
              "      <td>1.200797</td>\n",
              "      <td>1.200797</td>\n",
              "      <td>0.0</td>\n",
              "      <td>3</td>\n",
              "    </tr>\n",
              "    <tr>\n",
              "      <th>495</th>\n",
              "      <td>516</td>\n",
              "      <td>2021-05-07</td>\n",
              "      <td>1.206593</td>\n",
              "      <td>1.216545</td>\n",
              "      <td>1.205342</td>\n",
              "      <td>1.206855</td>\n",
              "      <td>1.206855</td>\n",
              "      <td>0.0</td>\n",
              "      <td>4</td>\n",
              "    </tr>\n",
              "    <tr>\n",
              "      <th>496</th>\n",
              "      <td>517</td>\n",
              "      <td>2021-05-10</td>\n",
              "      <td>1.216752</td>\n",
              "      <td>1.217730</td>\n",
              "      <td>1.213740</td>\n",
              "      <td>1.217108</td>\n",
              "      <td>1.217108</td>\n",
              "      <td>0.0</td>\n",
              "      <td>0</td>\n",
              "    </tr>\n",
              "    <tr>\n",
              "      <th>497</th>\n",
              "      <td>518</td>\n",
              "      <td>2021-05-11</td>\n",
              "      <td>1.214211</td>\n",
              "      <td>1.217968</td>\n",
              "      <td>1.212547</td>\n",
              "      <td>1.214093</td>\n",
              "      <td>1.214093</td>\n",
              "      <td>0.0</td>\n",
              "      <td>1</td>\n",
              "    </tr>\n",
              "    <tr>\n",
              "      <th>498</th>\n",
              "      <td>519</td>\n",
              "      <td>2021-05-12</td>\n",
              "      <td>1.214550</td>\n",
              "      <td>1.215067</td>\n",
              "      <td>1.206811</td>\n",
              "      <td>1.214450</td>\n",
              "      <td>1.214450</td>\n",
              "      <td>0.0</td>\n",
              "      <td>2</td>\n",
              "    </tr>\n",
              "    <tr>\n",
              "      <th>499</th>\n",
              "      <td>520</td>\n",
              "      <td>2021-05-13</td>\n",
              "      <td>1.207686</td>\n",
              "      <td>1.210654</td>\n",
              "      <td>1.205313</td>\n",
              "      <td>1.207851</td>\n",
              "      <td>1.207851</td>\n",
              "      <td>0.0</td>\n",
              "      <td>3</td>\n",
              "    </tr>\n",
              "    <tr>\n",
              "      <th>500</th>\n",
              "      <td>521</td>\n",
              "      <td>2021-05-14</td>\n",
              "      <td>1.208021</td>\n",
              "      <td>1.214772</td>\n",
              "      <td>1.207146</td>\n",
              "      <td>1.207729</td>\n",
              "      <td>1.207729</td>\n",
              "      <td>0.0</td>\n",
              "      <td>4</td>\n",
              "    </tr>\n",
              "  </tbody>\n",
              "</table>\n",
              "</div>"
            ],
            "text/plain": [
              "     index       Date      Open  ...  Adj Close  Volume  DayOfWeek\n",
              "494    515 2021-05-06  1.200913  ...   1.200797     0.0          3\n",
              "495    516 2021-05-07  1.206593  ...   1.206855     0.0          4\n",
              "496    517 2021-05-10  1.216752  ...   1.217108     0.0          0\n",
              "497    518 2021-05-11  1.214211  ...   1.214093     0.0          1\n",
              "498    519 2021-05-12  1.214550  ...   1.214450     0.0          2\n",
              "499    520 2021-05-13  1.207686  ...   1.207851     0.0          3\n",
              "500    521 2021-05-14  1.208021  ...   1.207729     0.0          4\n",
              "\n",
              "[7 rows x 9 columns]"
            ]
          },
          "metadata": {
            "tags": []
          },
          "execution_count": 475
        }
      ]
    },
    {
      "cell_type": "code",
      "metadata": {
        "id": "isV-KVPm_mxb"
      },
      "source": [
        "df2 = df1.drop(['High','Low', 'Adj Close', 'Volume'], axis=1)"
      ],
      "execution_count": null,
      "outputs": []
    },
    {
      "cell_type": "code",
      "metadata": {
        "colab": {
          "base_uri": "https://localhost:8080/",
          "height": 266
        },
        "id": "BoXK3TqGAW19",
        "outputId": "33186df8-4223-4c94-8b54-fdc2b5682f0b"
      },
      "source": [
        "df2.tail(7)"
      ],
      "execution_count": null,
      "outputs": [
        {
          "output_type": "execute_result",
          "data": {
            "text/html": [
              "<div>\n",
              "<style scoped>\n",
              "    .dataframe tbody tr th:only-of-type {\n",
              "        vertical-align: middle;\n",
              "    }\n",
              "\n",
              "    .dataframe tbody tr th {\n",
              "        vertical-align: top;\n",
              "    }\n",
              "\n",
              "    .dataframe thead th {\n",
              "        text-align: right;\n",
              "    }\n",
              "</style>\n",
              "<table border=\"1\" class=\"dataframe\">\n",
              "  <thead>\n",
              "    <tr style=\"text-align: right;\">\n",
              "      <th></th>\n",
              "      <th>index</th>\n",
              "      <th>Date</th>\n",
              "      <th>Open</th>\n",
              "      <th>Close</th>\n",
              "      <th>DayOfWeek</th>\n",
              "    </tr>\n",
              "  </thead>\n",
              "  <tbody>\n",
              "    <tr>\n",
              "      <th>494</th>\n",
              "      <td>515</td>\n",
              "      <td>2021-05-06</td>\n",
              "      <td>1.200913</td>\n",
              "      <td>1.200797</td>\n",
              "      <td>3</td>\n",
              "    </tr>\n",
              "    <tr>\n",
              "      <th>495</th>\n",
              "      <td>516</td>\n",
              "      <td>2021-05-07</td>\n",
              "      <td>1.206593</td>\n",
              "      <td>1.206855</td>\n",
              "      <td>4</td>\n",
              "    </tr>\n",
              "    <tr>\n",
              "      <th>496</th>\n",
              "      <td>517</td>\n",
              "      <td>2021-05-10</td>\n",
              "      <td>1.216752</td>\n",
              "      <td>1.217108</td>\n",
              "      <td>0</td>\n",
              "    </tr>\n",
              "    <tr>\n",
              "      <th>497</th>\n",
              "      <td>518</td>\n",
              "      <td>2021-05-11</td>\n",
              "      <td>1.214211</td>\n",
              "      <td>1.214093</td>\n",
              "      <td>1</td>\n",
              "    </tr>\n",
              "    <tr>\n",
              "      <th>498</th>\n",
              "      <td>519</td>\n",
              "      <td>2021-05-12</td>\n",
              "      <td>1.214550</td>\n",
              "      <td>1.214450</td>\n",
              "      <td>2</td>\n",
              "    </tr>\n",
              "    <tr>\n",
              "      <th>499</th>\n",
              "      <td>520</td>\n",
              "      <td>2021-05-13</td>\n",
              "      <td>1.207686</td>\n",
              "      <td>1.207851</td>\n",
              "      <td>3</td>\n",
              "    </tr>\n",
              "    <tr>\n",
              "      <th>500</th>\n",
              "      <td>521</td>\n",
              "      <td>2021-05-14</td>\n",
              "      <td>1.208021</td>\n",
              "      <td>1.207729</td>\n",
              "      <td>4</td>\n",
              "    </tr>\n",
              "  </tbody>\n",
              "</table>\n",
              "</div>"
            ],
            "text/plain": [
              "     index       Date      Open     Close  DayOfWeek\n",
              "494    515 2021-05-06  1.200913  1.200797          3\n",
              "495    516 2021-05-07  1.206593  1.206855          4\n",
              "496    517 2021-05-10  1.216752  1.217108          0\n",
              "497    518 2021-05-11  1.214211  1.214093          1\n",
              "498    519 2021-05-12  1.214550  1.214450          2\n",
              "499    520 2021-05-13  1.207686  1.207851          3\n",
              "500    521 2021-05-14  1.208021  1.207729          4"
            ]
          },
          "metadata": {
            "tags": []
          },
          "execution_count": 477
        }
      ]
    },
    {
      "cell_type": "code",
      "metadata": {
        "id": "0mzQvzqDDFzP"
      },
      "source": [
        "df2['Close-1'] = df2['Close'].shift(1)\n",
        "df2['Open-1'] = df2['Open'].shift(1)"
      ],
      "execution_count": null,
      "outputs": []
    },
    {
      "cell_type": "code",
      "metadata": {
        "colab": {
          "base_uri": "https://localhost:8080/",
          "height": 266
        },
        "id": "3xG50mLQDq3e",
        "outputId": "b04c687b-5371-4b1a-a2c1-7f29dfc1e2f2"
      },
      "source": [
        "df2.tail(7)"
      ],
      "execution_count": null,
      "outputs": [
        {
          "output_type": "execute_result",
          "data": {
            "text/html": [
              "<div>\n",
              "<style scoped>\n",
              "    .dataframe tbody tr th:only-of-type {\n",
              "        vertical-align: middle;\n",
              "    }\n",
              "\n",
              "    .dataframe tbody tr th {\n",
              "        vertical-align: top;\n",
              "    }\n",
              "\n",
              "    .dataframe thead th {\n",
              "        text-align: right;\n",
              "    }\n",
              "</style>\n",
              "<table border=\"1\" class=\"dataframe\">\n",
              "  <thead>\n",
              "    <tr style=\"text-align: right;\">\n",
              "      <th></th>\n",
              "      <th>index</th>\n",
              "      <th>Date</th>\n",
              "      <th>Open</th>\n",
              "      <th>Close</th>\n",
              "      <th>DayOfWeek</th>\n",
              "      <th>Close-1</th>\n",
              "      <th>Open-1</th>\n",
              "    </tr>\n",
              "  </thead>\n",
              "  <tbody>\n",
              "    <tr>\n",
              "      <th>494</th>\n",
              "      <td>515</td>\n",
              "      <td>2021-05-06</td>\n",
              "      <td>1.200913</td>\n",
              "      <td>1.200797</td>\n",
              "      <td>3</td>\n",
              "      <td>1.201504</td>\n",
              "      <td>1.201634</td>\n",
              "    </tr>\n",
              "    <tr>\n",
              "      <th>495</th>\n",
              "      <td>516</td>\n",
              "      <td>2021-05-07</td>\n",
              "      <td>1.206593</td>\n",
              "      <td>1.206855</td>\n",
              "      <td>4</td>\n",
              "      <td>1.200797</td>\n",
              "      <td>1.200913</td>\n",
              "    </tr>\n",
              "    <tr>\n",
              "      <th>496</th>\n",
              "      <td>517</td>\n",
              "      <td>2021-05-10</td>\n",
              "      <td>1.216752</td>\n",
              "      <td>1.217108</td>\n",
              "      <td>0</td>\n",
              "      <td>1.206855</td>\n",
              "      <td>1.206593</td>\n",
              "    </tr>\n",
              "    <tr>\n",
              "      <th>497</th>\n",
              "      <td>518</td>\n",
              "      <td>2021-05-11</td>\n",
              "      <td>1.214211</td>\n",
              "      <td>1.214093</td>\n",
              "      <td>1</td>\n",
              "      <td>1.217108</td>\n",
              "      <td>1.216752</td>\n",
              "    </tr>\n",
              "    <tr>\n",
              "      <th>498</th>\n",
              "      <td>519</td>\n",
              "      <td>2021-05-12</td>\n",
              "      <td>1.214550</td>\n",
              "      <td>1.214450</td>\n",
              "      <td>2</td>\n",
              "      <td>1.214093</td>\n",
              "      <td>1.214211</td>\n",
              "    </tr>\n",
              "    <tr>\n",
              "      <th>499</th>\n",
              "      <td>520</td>\n",
              "      <td>2021-05-13</td>\n",
              "      <td>1.207686</td>\n",
              "      <td>1.207851</td>\n",
              "      <td>3</td>\n",
              "      <td>1.214450</td>\n",
              "      <td>1.214550</td>\n",
              "    </tr>\n",
              "    <tr>\n",
              "      <th>500</th>\n",
              "      <td>521</td>\n",
              "      <td>2021-05-14</td>\n",
              "      <td>1.208021</td>\n",
              "      <td>1.207729</td>\n",
              "      <td>4</td>\n",
              "      <td>1.207851</td>\n",
              "      <td>1.207686</td>\n",
              "    </tr>\n",
              "  </tbody>\n",
              "</table>\n",
              "</div>"
            ],
            "text/plain": [
              "     index       Date      Open     Close  DayOfWeek   Close-1    Open-1\n",
              "494    515 2021-05-06  1.200913  1.200797          3  1.201504  1.201634\n",
              "495    516 2021-05-07  1.206593  1.206855          4  1.200797  1.200913\n",
              "496    517 2021-05-10  1.216752  1.217108          0  1.206855  1.206593\n",
              "497    518 2021-05-11  1.214211  1.214093          1  1.217108  1.216752\n",
              "498    519 2021-05-12  1.214550  1.214450          2  1.214093  1.214211\n",
              "499    520 2021-05-13  1.207686  1.207851          3  1.214450  1.214550\n",
              "500    521 2021-05-14  1.208021  1.207729          4  1.207851  1.207686"
            ]
          },
          "metadata": {
            "tags": []
          },
          "execution_count": 479
        }
      ]
    },
    {
      "cell_type": "code",
      "metadata": {
        "id": "tigVCqC3EBM4"
      },
      "source": [
        "df2['%Close'] = (df2['Close'] - df2['Close-1']) / df2['Close-1'] * 100\n",
        "df2['%Open'] = (df2['Open'] - df2['Open-1']) / df2['Open-1'] * 100"
      ],
      "execution_count": null,
      "outputs": []
    },
    {
      "cell_type": "code",
      "metadata": {
        "id": "fH6iq8Kh1jmv"
      },
      "source": [
        "df2 = df2.drop(['Close','Close-1', '%Close'], axis=1)"
      ],
      "execution_count": null,
      "outputs": []
    },
    {
      "cell_type": "code",
      "metadata": {
        "colab": {
          "base_uri": "https://localhost:8080/",
          "height": 266
        },
        "id": "dMsFfMIREP8Z",
        "outputId": "d92b2f94-59f4-49a3-9af0-3c8ef30b0562"
      },
      "source": [
        "df2.head(7)"
      ],
      "execution_count": null,
      "outputs": [
        {
          "output_type": "execute_result",
          "data": {
            "text/html": [
              "<div>\n",
              "<style scoped>\n",
              "    .dataframe tbody tr th:only-of-type {\n",
              "        vertical-align: middle;\n",
              "    }\n",
              "\n",
              "    .dataframe tbody tr th {\n",
              "        vertical-align: top;\n",
              "    }\n",
              "\n",
              "    .dataframe thead th {\n",
              "        text-align: right;\n",
              "    }\n",
              "</style>\n",
              "<table border=\"1\" class=\"dataframe\">\n",
              "  <thead>\n",
              "    <tr style=\"text-align: right;\">\n",
              "      <th></th>\n",
              "      <th>index</th>\n",
              "      <th>Date</th>\n",
              "      <th>Open</th>\n",
              "      <th>DayOfWeek</th>\n",
              "      <th>Open-1</th>\n",
              "      <th>%Open</th>\n",
              "    </tr>\n",
              "  </thead>\n",
              "  <tbody>\n",
              "    <tr>\n",
              "      <th>0</th>\n",
              "      <td>0</td>\n",
              "      <td>2019-05-16</td>\n",
              "      <td>1.120951</td>\n",
              "      <td>3</td>\n",
              "      <td>NaN</td>\n",
              "      <td>NaN</td>\n",
              "    </tr>\n",
              "    <tr>\n",
              "      <th>1</th>\n",
              "      <td>1</td>\n",
              "      <td>2019-05-17</td>\n",
              "      <td>1.117481</td>\n",
              "      <td>4</td>\n",
              "      <td>1.120951</td>\n",
              "      <td>-0.309559</td>\n",
              "    </tr>\n",
              "    <tr>\n",
              "      <th>2</th>\n",
              "      <td>2</td>\n",
              "      <td>2019-05-20</td>\n",
              "      <td>1.116532</td>\n",
              "      <td>0</td>\n",
              "      <td>1.117481</td>\n",
              "      <td>-0.084923</td>\n",
              "    </tr>\n",
              "    <tr>\n",
              "      <th>3</th>\n",
              "      <td>3</td>\n",
              "      <td>2019-05-21</td>\n",
              "      <td>1.116944</td>\n",
              "      <td>1</td>\n",
              "      <td>1.116532</td>\n",
              "      <td>0.036900</td>\n",
              "    </tr>\n",
              "    <tr>\n",
              "      <th>4</th>\n",
              "      <td>5</td>\n",
              "      <td>2019-05-23</td>\n",
              "      <td>1.115511</td>\n",
              "      <td>3</td>\n",
              "      <td>1.116944</td>\n",
              "      <td>-0.128296</td>\n",
              "    </tr>\n",
              "    <tr>\n",
              "      <th>5</th>\n",
              "      <td>6</td>\n",
              "      <td>2019-05-24</td>\n",
              "      <td>1.118381</td>\n",
              "      <td>4</td>\n",
              "      <td>1.115511</td>\n",
              "      <td>0.257281</td>\n",
              "    </tr>\n",
              "    <tr>\n",
              "      <th>6</th>\n",
              "      <td>7</td>\n",
              "      <td>2019-05-27</td>\n",
              "      <td>1.120636</td>\n",
              "      <td>0</td>\n",
              "      <td>1.118381</td>\n",
              "      <td>0.201631</td>\n",
              "    </tr>\n",
              "  </tbody>\n",
              "</table>\n",
              "</div>"
            ],
            "text/plain": [
              "   index       Date      Open  DayOfWeek    Open-1     %Open\n",
              "0      0 2019-05-16  1.120951          3       NaN       NaN\n",
              "1      1 2019-05-17  1.117481          4  1.120951 -0.309559\n",
              "2      2 2019-05-20  1.116532          0  1.117481 -0.084923\n",
              "3      3 2019-05-21  1.116944          1  1.116532  0.036900\n",
              "4      5 2019-05-23  1.115511          3  1.116944 -0.128296\n",
              "5      6 2019-05-24  1.118381          4  1.115511  0.257281\n",
              "6      7 2019-05-27  1.120636          0  1.118381  0.201631"
            ]
          },
          "metadata": {
            "tags": []
          },
          "execution_count": 482
        }
      ]
    },
    {
      "cell_type": "code",
      "metadata": {
        "id": "5zeRvw_76_rE"
      },
      "source": [
        "# take decision to buy or sell - if price = 1.167072 then buy = -1.167072 or sell = 1.167072\n",
        "def take_decision(index):\n",
        "  row = df2.loc[index]\n",
        "  return random.choice([-row['Open'], +row['Open']])"
      ],
      "execution_count": null,
      "outputs": []
    },
    {
      "cell_type": "code",
      "metadata": {
        "id": "CfKkh7Ox_8hM"
      },
      "source": [
        "def is_guessed(index):\n",
        "  if (index < 1):\n",
        "    return True\n",
        "  return (math.copysign(1, df2.loc[index]['%Open']) != math.copysign(1, df2.loc[index - 1]['decision']))"
      ],
      "execution_count": null,
      "outputs": []
    },
    {
      "cell_type": "code",
      "metadata": {
        "id": "XyB39IOuMNqs"
      },
      "source": [
        "def make_deal(index):\n",
        "  k = df2.loc[index, 'k'] \n",
        "  decision = df2.loc[index, 'decision'] \n",
        "  return decision * (2 ** k)"
      ],
      "execution_count": null,
      "outputs": []
    },
    {
      "cell_type": "code",
      "metadata": {
        "id": "jsDYBIWCSCnk"
      },
      "source": [
        "def discover_trend(index):\n",
        "  if (index < 1):\n",
        "    df2.loc[index, 'trend'] = 0\n",
        "    return\n",
        "  open_curr = df2.loc[index, '%Open']\n",
        "  open_prev = df2.loc[index-1, '%Open']\n",
        "  if (math.copysign(1, open_prev) == math.copysign(1, open_curr)):\n",
        "    df2.loc[index, 'trend'] = df2.loc[index-1, 'trend'] + 1\n",
        "  else:\n",
        "    df2.loc[index, 'trend'] = 0"
      ],
      "execution_count": null,
      "outputs": []
    },
    {
      "cell_type": "code",
      "metadata": {
        "id": "RGTHIeDi30lw"
      },
      "source": [
        "# this is a main algorithm for trading\n",
        "# !!! the algorithm is incorrect, needs to fix it\n",
        "def trade():\n",
        "  for index, row in df2.iterrows():\n",
        "    # close previous deal\n",
        "    if index < 1:\n",
        "      df2.loc[index, 'result after close'] = 0\n",
        "    else:\n",
        "      # TODO incorrect algorithm\n",
        "      df2.loc[index, 'result after close'] = df2.loc[index - 1, 'result after close'] + \\\n",
        "        df2.loc[index - 1, 'deal'] - \\\n",
        "        (2 ** df2.loc[index - 1, 'k']) * df2.loc[index, 'Open'] * math.copysign(1, df2.loc[index - 1]['deal'])\n",
        "\n",
        "    # coefficient of deal depends on result of previous deal\n",
        "    if (is_guessed(index)):\n",
        "      k = 0\n",
        "    else:\n",
        "      k += 1\n",
        "    df2.loc[index, 'k'] = k\n",
        "\n",
        "    # take decision\n",
        "    df2.loc[index, 'decision'] = take_decision(index)\n",
        "\n",
        "    # make deal\n",
        "    df2.loc[index, 'deal'] = make_deal(index)\n",
        "\n",
        "    # open new deal\n",
        "    if (index < 1):\n",
        "      df2.loc[index, 'result'] = 0\n",
        "    else:\n",
        "      df2.loc[index, 'result'] = df2.loc[index, 'result after close'] + df2.loc[index, 'deal']\n",
        "    \n",
        "    # определяем тренд\n",
        "    discover_trend(index)"
      ],
      "execution_count": null,
      "outputs": []
    },
    {
      "cell_type": "code",
      "metadata": {
        "id": "pkh0VmLw5ExM"
      },
      "source": [
        "trade()"
      ],
      "execution_count": null,
      "outputs": []
    },
    {
      "cell_type": "code",
      "metadata": {
        "colab": {
          "base_uri": "https://localhost:8080/",
          "height": 979
        },
        "id": "ZpGJwchDebU4",
        "outputId": "768f5fb8-7cf1-46f9-eea2-efddcc0d4cc8"
      },
      "source": [
        "df2.head(30)"
      ],
      "execution_count": null,
      "outputs": [
        {
          "output_type": "execute_result",
          "data": {
            "text/html": [
              "<div>\n",
              "<style scoped>\n",
              "    .dataframe tbody tr th:only-of-type {\n",
              "        vertical-align: middle;\n",
              "    }\n",
              "\n",
              "    .dataframe tbody tr th {\n",
              "        vertical-align: top;\n",
              "    }\n",
              "\n",
              "    .dataframe thead th {\n",
              "        text-align: right;\n",
              "    }\n",
              "</style>\n",
              "<table border=\"1\" class=\"dataframe\">\n",
              "  <thead>\n",
              "    <tr style=\"text-align: right;\">\n",
              "      <th></th>\n",
              "      <th>index</th>\n",
              "      <th>Date</th>\n",
              "      <th>Open</th>\n",
              "      <th>DayOfWeek</th>\n",
              "      <th>Open-1</th>\n",
              "      <th>%Open</th>\n",
              "      <th>result after close</th>\n",
              "      <th>k</th>\n",
              "      <th>decision</th>\n",
              "      <th>deal</th>\n",
              "      <th>result</th>\n",
              "      <th>trend</th>\n",
              "    </tr>\n",
              "  </thead>\n",
              "  <tbody>\n",
              "    <tr>\n",
              "      <th>0</th>\n",
              "      <td>0</td>\n",
              "      <td>2019-05-16</td>\n",
              "      <td>1.120951</td>\n",
              "      <td>3</td>\n",
              "      <td>NaN</td>\n",
              "      <td>NaN</td>\n",
              "      <td>0.000000</td>\n",
              "      <td>0.0</td>\n",
              "      <td>-1.120951</td>\n",
              "      <td>-1.120951</td>\n",
              "      <td>0.000000</td>\n",
              "      <td>0.0</td>\n",
              "    </tr>\n",
              "    <tr>\n",
              "      <th>1</th>\n",
              "      <td>1</td>\n",
              "      <td>2019-05-17</td>\n",
              "      <td>1.117481</td>\n",
              "      <td>4</td>\n",
              "      <td>1.120951</td>\n",
              "      <td>-0.309559</td>\n",
              "      <td>-0.003470</td>\n",
              "      <td>1.0</td>\n",
              "      <td>-1.117481</td>\n",
              "      <td>-2.234962</td>\n",
              "      <td>-2.238432</td>\n",
              "      <td>0.0</td>\n",
              "    </tr>\n",
              "    <tr>\n",
              "      <th>2</th>\n",
              "      <td>2</td>\n",
              "      <td>2019-05-20</td>\n",
              "      <td>1.116532</td>\n",
              "      <td>0</td>\n",
              "      <td>1.117481</td>\n",
              "      <td>-0.084923</td>\n",
              "      <td>-0.005368</td>\n",
              "      <td>2.0</td>\n",
              "      <td>-1.116532</td>\n",
              "      <td>-4.466128</td>\n",
              "      <td>-4.471496</td>\n",
              "      <td>1.0</td>\n",
              "    </tr>\n",
              "    <tr>\n",
              "      <th>3</th>\n",
              "      <td>3</td>\n",
              "      <td>2019-05-21</td>\n",
              "      <td>1.116944</td>\n",
              "      <td>1</td>\n",
              "      <td>1.116532</td>\n",
              "      <td>0.036900</td>\n",
              "      <td>-0.003720</td>\n",
              "      <td>0.0</td>\n",
              "      <td>1.116944</td>\n",
              "      <td>1.116944</td>\n",
              "      <td>1.113224</td>\n",
              "      <td>0.0</td>\n",
              "    </tr>\n",
              "    <tr>\n",
              "      <th>4</th>\n",
              "      <td>5</td>\n",
              "      <td>2019-05-23</td>\n",
              "      <td>1.115511</td>\n",
              "      <td>3</td>\n",
              "      <td>1.116944</td>\n",
              "      <td>-0.128296</td>\n",
              "      <td>-0.002287</td>\n",
              "      <td>0.0</td>\n",
              "      <td>1.115511</td>\n",
              "      <td>1.115511</td>\n",
              "      <td>1.113224</td>\n",
              "      <td>0.0</td>\n",
              "    </tr>\n",
              "    <tr>\n",
              "      <th>5</th>\n",
              "      <td>6</td>\n",
              "      <td>2019-05-24</td>\n",
              "      <td>1.118381</td>\n",
              "      <td>4</td>\n",
              "      <td>1.115511</td>\n",
              "      <td>0.257281</td>\n",
              "      <td>-0.005157</td>\n",
              "      <td>1.0</td>\n",
              "      <td>1.118381</td>\n",
              "      <td>2.236762</td>\n",
              "      <td>2.231605</td>\n",
              "      <td>0.0</td>\n",
              "    </tr>\n",
              "    <tr>\n",
              "      <th>6</th>\n",
              "      <td>7</td>\n",
              "      <td>2019-05-27</td>\n",
              "      <td>1.120636</td>\n",
              "      <td>0</td>\n",
              "      <td>1.118381</td>\n",
              "      <td>0.201631</td>\n",
              "      <td>-0.009667</td>\n",
              "      <td>2.0</td>\n",
              "      <td>1.120636</td>\n",
              "      <td>4.482544</td>\n",
              "      <td>4.472877</td>\n",
              "      <td>1.0</td>\n",
              "    </tr>\n",
              "    <tr>\n",
              "      <th>7</th>\n",
              "      <td>8</td>\n",
              "      <td>2019-05-28</td>\n",
              "      <td>1.119357</td>\n",
              "      <td>1</td>\n",
              "      <td>1.120636</td>\n",
              "      <td>-0.114132</td>\n",
              "      <td>-0.004551</td>\n",
              "      <td>0.0</td>\n",
              "      <td>1.119357</td>\n",
              "      <td>1.119357</td>\n",
              "      <td>1.114806</td>\n",
              "      <td>0.0</td>\n",
              "    </tr>\n",
              "    <tr>\n",
              "      <th>8</th>\n",
              "      <td>9</td>\n",
              "      <td>2019-05-29</td>\n",
              "      <td>1.117069</td>\n",
              "      <td>2</td>\n",
              "      <td>1.119357</td>\n",
              "      <td>-0.204403</td>\n",
              "      <td>-0.002263</td>\n",
              "      <td>0.0</td>\n",
              "      <td>1.117069</td>\n",
              "      <td>1.117069</td>\n",
              "      <td>1.114806</td>\n",
              "      <td>1.0</td>\n",
              "    </tr>\n",
              "    <tr>\n",
              "      <th>9</th>\n",
              "      <td>10</td>\n",
              "      <td>2019-05-30</td>\n",
              "      <td>1.113834</td>\n",
              "      <td>3</td>\n",
              "      <td>1.117069</td>\n",
              "      <td>-0.289597</td>\n",
              "      <td>0.000972</td>\n",
              "      <td>0.0</td>\n",
              "      <td>-1.113834</td>\n",
              "      <td>-1.113834</td>\n",
              "      <td>-1.112862</td>\n",
              "      <td>2.0</td>\n",
              "    </tr>\n",
              "    <tr>\n",
              "      <th>10</th>\n",
              "      <td>11</td>\n",
              "      <td>2019-05-31</td>\n",
              "      <td>1.112991</td>\n",
              "      <td>4</td>\n",
              "      <td>1.113834</td>\n",
              "      <td>-0.075685</td>\n",
              "      <td>0.000129</td>\n",
              "      <td>1.0</td>\n",
              "      <td>-1.112991</td>\n",
              "      <td>-2.225982</td>\n",
              "      <td>-2.225853</td>\n",
              "      <td>3.0</td>\n",
              "    </tr>\n",
              "    <tr>\n",
              "      <th>11</th>\n",
              "      <td>12</td>\n",
              "      <td>2019-06-03</td>\n",
              "      <td>1.117343</td>\n",
              "      <td>0</td>\n",
              "      <td>1.112991</td>\n",
              "      <td>0.391018</td>\n",
              "      <td>0.008833</td>\n",
              "      <td>0.0</td>\n",
              "      <td>1.117343</td>\n",
              "      <td>1.117343</td>\n",
              "      <td>1.126176</td>\n",
              "      <td>0.0</td>\n",
              "    </tr>\n",
              "    <tr>\n",
              "      <th>12</th>\n",
              "      <td>13</td>\n",
              "      <td>2019-06-04</td>\n",
              "      <td>1.124556</td>\n",
              "      <td>1</td>\n",
              "      <td>1.117343</td>\n",
              "      <td>0.645549</td>\n",
              "      <td>0.001620</td>\n",
              "      <td>1.0</td>\n",
              "      <td>-1.124556</td>\n",
              "      <td>-2.249112</td>\n",
              "      <td>-2.247492</td>\n",
              "      <td>1.0</td>\n",
              "    </tr>\n",
              "    <tr>\n",
              "      <th>13</th>\n",
              "      <td>14</td>\n",
              "      <td>2019-06-05</td>\n",
              "      <td>1.125505</td>\n",
              "      <td>2</td>\n",
              "      <td>1.124556</td>\n",
              "      <td>0.084389</td>\n",
              "      <td>0.003518</td>\n",
              "      <td>0.0</td>\n",
              "      <td>1.125505</td>\n",
              "      <td>1.125505</td>\n",
              "      <td>1.129023</td>\n",
              "      <td>2.0</td>\n",
              "    </tr>\n",
              "    <tr>\n",
              "      <th>14</th>\n",
              "      <td>15</td>\n",
              "      <td>2019-06-06</td>\n",
              "      <td>1.122725</td>\n",
              "      <td>3</td>\n",
              "      <td>1.125505</td>\n",
              "      <td>-0.247000</td>\n",
              "      <td>0.006298</td>\n",
              "      <td>0.0</td>\n",
              "      <td>1.122725</td>\n",
              "      <td>1.122725</td>\n",
              "      <td>1.129023</td>\n",
              "      <td>0.0</td>\n",
              "    </tr>\n",
              "    <tr>\n",
              "      <th>15</th>\n",
              "      <td>16</td>\n",
              "      <td>2019-06-07</td>\n",
              "      <td>1.127548</td>\n",
              "      <td>4</td>\n",
              "      <td>1.122725</td>\n",
              "      <td>0.429580</td>\n",
              "      <td>0.001475</td>\n",
              "      <td>1.0</td>\n",
              "      <td>1.127548</td>\n",
              "      <td>2.255096</td>\n",
              "      <td>2.256571</td>\n",
              "      <td>0.0</td>\n",
              "    </tr>\n",
              "    <tr>\n",
              "      <th>16</th>\n",
              "      <td>17</td>\n",
              "      <td>2019-06-10</td>\n",
              "      <td>1.131900</td>\n",
              "      <td>0</td>\n",
              "      <td>1.127548</td>\n",
              "      <td>0.385970</td>\n",
              "      <td>-0.007229</td>\n",
              "      <td>2.0</td>\n",
              "      <td>1.131900</td>\n",
              "      <td>4.527600</td>\n",
              "      <td>4.520371</td>\n",
              "      <td>1.0</td>\n",
              "    </tr>\n",
              "    <tr>\n",
              "      <th>17</th>\n",
              "      <td>18</td>\n",
              "      <td>2019-06-11</td>\n",
              "      <td>1.131836</td>\n",
              "      <td>1</td>\n",
              "      <td>1.131900</td>\n",
              "      <td>-0.005654</td>\n",
              "      <td>-0.006973</td>\n",
              "      <td>0.0</td>\n",
              "      <td>-1.131836</td>\n",
              "      <td>-1.131836</td>\n",
              "      <td>-1.138809</td>\n",
              "      <td>0.0</td>\n",
              "    </tr>\n",
              "    <tr>\n",
              "      <th>18</th>\n",
              "      <td>19</td>\n",
              "      <td>2019-06-12</td>\n",
              "      <td>1.132939</td>\n",
              "      <td>2</td>\n",
              "      <td>1.131836</td>\n",
              "      <td>0.097452</td>\n",
              "      <td>-0.005870</td>\n",
              "      <td>0.0</td>\n",
              "      <td>-1.132939</td>\n",
              "      <td>-1.132939</td>\n",
              "      <td>-1.138809</td>\n",
              "      <td>0.0</td>\n",
              "    </tr>\n",
              "    <tr>\n",
              "      <th>19</th>\n",
              "      <td>20</td>\n",
              "      <td>2019-06-13</td>\n",
              "      <td>1.129305</td>\n",
              "      <td>3</td>\n",
              "      <td>1.132939</td>\n",
              "      <td>-0.320759</td>\n",
              "      <td>-0.009504</td>\n",
              "      <td>1.0</td>\n",
              "      <td>1.129305</td>\n",
              "      <td>2.258610</td>\n",
              "      <td>2.249106</td>\n",
              "      <td>0.0</td>\n",
              "    </tr>\n",
              "    <tr>\n",
              "      <th>20</th>\n",
              "      <td>21</td>\n",
              "      <td>2019-06-14</td>\n",
              "      <td>1.127955</td>\n",
              "      <td>4</td>\n",
              "      <td>1.129305</td>\n",
              "      <td>-0.119543</td>\n",
              "      <td>-0.006804</td>\n",
              "      <td>0.0</td>\n",
              "      <td>-1.127955</td>\n",
              "      <td>-1.127955</td>\n",
              "      <td>-1.134759</td>\n",
              "      <td>1.0</td>\n",
              "    </tr>\n",
              "    <tr>\n",
              "      <th>21</th>\n",
              "      <td>22</td>\n",
              "      <td>2019-06-17</td>\n",
              "      <td>1.121604</td>\n",
              "      <td>0</td>\n",
              "      <td>1.127955</td>\n",
              "      <td>-0.563054</td>\n",
              "      <td>-0.013155</td>\n",
              "      <td>1.0</td>\n",
              "      <td>1.121604</td>\n",
              "      <td>2.243208</td>\n",
              "      <td>2.230053</td>\n",
              "      <td>2.0</td>\n",
              "    </tr>\n",
              "    <tr>\n",
              "      <th>22</th>\n",
              "      <td>23</td>\n",
              "      <td>2019-06-18</td>\n",
              "      <td>1.122712</td>\n",
              "      <td>1</td>\n",
              "      <td>1.121604</td>\n",
              "      <td>0.098787</td>\n",
              "      <td>-0.015371</td>\n",
              "      <td>2.0</td>\n",
              "      <td>1.122712</td>\n",
              "      <td>4.490848</td>\n",
              "      <td>4.475477</td>\n",
              "      <td>0.0</td>\n",
              "    </tr>\n",
              "    <tr>\n",
              "      <th>23</th>\n",
              "      <td>24</td>\n",
              "      <td>2019-06-19</td>\n",
              "      <td>1.119746</td>\n",
              "      <td>2</td>\n",
              "      <td>1.122712</td>\n",
              "      <td>-0.264182</td>\n",
              "      <td>-0.003507</td>\n",
              "      <td>0.0</td>\n",
              "      <td>1.119746</td>\n",
              "      <td>1.119746</td>\n",
              "      <td>1.116239</td>\n",
              "      <td>0.0</td>\n",
              "    </tr>\n",
              "    <tr>\n",
              "      <th>24</th>\n",
              "      <td>25</td>\n",
              "      <td>2019-06-20</td>\n",
              "      <td>1.123583</td>\n",
              "      <td>3</td>\n",
              "      <td>1.119746</td>\n",
              "      <td>0.342667</td>\n",
              "      <td>-0.007344</td>\n",
              "      <td>1.0</td>\n",
              "      <td>1.123583</td>\n",
              "      <td>2.247166</td>\n",
              "      <td>2.239822</td>\n",
              "      <td>0.0</td>\n",
              "    </tr>\n",
              "    <tr>\n",
              "      <th>25</th>\n",
              "      <td>26</td>\n",
              "      <td>2019-06-21</td>\n",
              "      <td>1.129318</td>\n",
              "      <td>4</td>\n",
              "      <td>1.123583</td>\n",
              "      <td>0.510421</td>\n",
              "      <td>-0.018814</td>\n",
              "      <td>2.0</td>\n",
              "      <td>1.129318</td>\n",
              "      <td>4.517272</td>\n",
              "      <td>4.498458</td>\n",
              "      <td>1.0</td>\n",
              "    </tr>\n",
              "    <tr>\n",
              "      <th>26</th>\n",
              "      <td>27</td>\n",
              "      <td>2019-06-24</td>\n",
              "      <td>1.138304</td>\n",
              "      <td>0</td>\n",
              "      <td>1.129318</td>\n",
              "      <td>0.795701</td>\n",
              "      <td>-0.054758</td>\n",
              "      <td>3.0</td>\n",
              "      <td>1.138304</td>\n",
              "      <td>9.106432</td>\n",
              "      <td>9.051674</td>\n",
              "      <td>2.0</td>\n",
              "    </tr>\n",
              "    <tr>\n",
              "      <th>27</th>\n",
              "      <td>28</td>\n",
              "      <td>2019-06-25</td>\n",
              "      <td>1.140017</td>\n",
              "      <td>1</td>\n",
              "      <td>1.138304</td>\n",
              "      <td>0.150487</td>\n",
              "      <td>-0.068462</td>\n",
              "      <td>4.0</td>\n",
              "      <td>1.140017</td>\n",
              "      <td>18.240272</td>\n",
              "      <td>18.171810</td>\n",
              "      <td>3.0</td>\n",
              "    </tr>\n",
              "    <tr>\n",
              "      <th>28</th>\n",
              "      <td>29</td>\n",
              "      <td>2019-06-26</td>\n",
              "      <td>1.136855</td>\n",
              "      <td>2</td>\n",
              "      <td>1.140017</td>\n",
              "      <td>-0.277364</td>\n",
              "      <td>-0.017870</td>\n",
              "      <td>0.0</td>\n",
              "      <td>1.136855</td>\n",
              "      <td>1.136855</td>\n",
              "      <td>1.118985</td>\n",
              "      <td>0.0</td>\n",
              "    </tr>\n",
              "    <tr>\n",
              "      <th>29</th>\n",
              "      <td>30</td>\n",
              "      <td>2019-06-27</td>\n",
              "      <td>1.137462</td>\n",
              "      <td>3</td>\n",
              "      <td>1.136855</td>\n",
              "      <td>0.053393</td>\n",
              "      <td>-0.018477</td>\n",
              "      <td>1.0</td>\n",
              "      <td>-1.137462</td>\n",
              "      <td>-2.274924</td>\n",
              "      <td>-2.293401</td>\n",
              "      <td>0.0</td>\n",
              "    </tr>\n",
              "  </tbody>\n",
              "</table>\n",
              "</div>"
            ],
            "text/plain": [
              "    index       Date      Open  ...       deal     result  trend\n",
              "0       0 2019-05-16  1.120951  ...  -1.120951   0.000000    0.0\n",
              "1       1 2019-05-17  1.117481  ...  -2.234962  -2.238432    0.0\n",
              "2       2 2019-05-20  1.116532  ...  -4.466128  -4.471496    1.0\n",
              "3       3 2019-05-21  1.116944  ...   1.116944   1.113224    0.0\n",
              "4       5 2019-05-23  1.115511  ...   1.115511   1.113224    0.0\n",
              "5       6 2019-05-24  1.118381  ...   2.236762   2.231605    0.0\n",
              "6       7 2019-05-27  1.120636  ...   4.482544   4.472877    1.0\n",
              "7       8 2019-05-28  1.119357  ...   1.119357   1.114806    0.0\n",
              "8       9 2019-05-29  1.117069  ...   1.117069   1.114806    1.0\n",
              "9      10 2019-05-30  1.113834  ...  -1.113834  -1.112862    2.0\n",
              "10     11 2019-05-31  1.112991  ...  -2.225982  -2.225853    3.0\n",
              "11     12 2019-06-03  1.117343  ...   1.117343   1.126176    0.0\n",
              "12     13 2019-06-04  1.124556  ...  -2.249112  -2.247492    1.0\n",
              "13     14 2019-06-05  1.125505  ...   1.125505   1.129023    2.0\n",
              "14     15 2019-06-06  1.122725  ...   1.122725   1.129023    0.0\n",
              "15     16 2019-06-07  1.127548  ...   2.255096   2.256571    0.0\n",
              "16     17 2019-06-10  1.131900  ...   4.527600   4.520371    1.0\n",
              "17     18 2019-06-11  1.131836  ...  -1.131836  -1.138809    0.0\n",
              "18     19 2019-06-12  1.132939  ...  -1.132939  -1.138809    0.0\n",
              "19     20 2019-06-13  1.129305  ...   2.258610   2.249106    0.0\n",
              "20     21 2019-06-14  1.127955  ...  -1.127955  -1.134759    1.0\n",
              "21     22 2019-06-17  1.121604  ...   2.243208   2.230053    2.0\n",
              "22     23 2019-06-18  1.122712  ...   4.490848   4.475477    0.0\n",
              "23     24 2019-06-19  1.119746  ...   1.119746   1.116239    0.0\n",
              "24     25 2019-06-20  1.123583  ...   2.247166   2.239822    0.0\n",
              "25     26 2019-06-21  1.129318  ...   4.517272   4.498458    1.0\n",
              "26     27 2019-06-24  1.138304  ...   9.106432   9.051674    2.0\n",
              "27     28 2019-06-25  1.140017  ...  18.240272  18.171810    3.0\n",
              "28     29 2019-06-26  1.136855  ...   1.136855   1.118985    0.0\n",
              "29     30 2019-06-27  1.137462  ...  -2.274924  -2.293401    0.0\n",
              "\n",
              "[30 rows x 12 columns]"
            ]
          },
          "metadata": {
            "tags": []
          },
          "execution_count": 489
        }
      ]
    },
    {
      "cell_type": "code",
      "metadata": {
        "colab": {
          "base_uri": "https://localhost:8080/",
          "height": 297
        },
        "id": "CbNlYfbMQL5H",
        "outputId": "596cc348-28e2-4a86-f560-f7a729a3da19"
      },
      "source": [
        "df2.describe()"
      ],
      "execution_count": null,
      "outputs": [
        {
          "output_type": "execute_result",
          "data": {
            "text/html": [
              "<div>\n",
              "<style scoped>\n",
              "    .dataframe tbody tr th:only-of-type {\n",
              "        vertical-align: middle;\n",
              "    }\n",
              "\n",
              "    .dataframe tbody tr th {\n",
              "        vertical-align: top;\n",
              "    }\n",
              "\n",
              "    .dataframe thead th {\n",
              "        text-align: right;\n",
              "    }\n",
              "</style>\n",
              "<table border=\"1\" class=\"dataframe\">\n",
              "  <thead>\n",
              "    <tr style=\"text-align: right;\">\n",
              "      <th></th>\n",
              "      <th>index</th>\n",
              "      <th>Open</th>\n",
              "      <th>DayOfWeek</th>\n",
              "      <th>Open-1</th>\n",
              "      <th>%Open</th>\n",
              "      <th>result after close</th>\n",
              "      <th>k</th>\n",
              "      <th>decision</th>\n",
              "      <th>deal</th>\n",
              "      <th>result</th>\n",
              "      <th>trend</th>\n",
              "    </tr>\n",
              "  </thead>\n",
              "  <tbody>\n",
              "    <tr>\n",
              "      <th>count</th>\n",
              "      <td>501.000000</td>\n",
              "      <td>501.000000</td>\n",
              "      <td>501.000000</td>\n",
              "      <td>500.000000</td>\n",
              "      <td>500.000000</td>\n",
              "      <td>501.000000</td>\n",
              "      <td>501.00000</td>\n",
              "      <td>501.000000</td>\n",
              "      <td>501.000000</td>\n",
              "      <td>501.000000</td>\n",
              "      <td>501.000000</td>\n",
              "    </tr>\n",
              "    <tr>\n",
              "      <th>mean</th>\n",
              "      <td>267.676647</td>\n",
              "      <td>1.145884</td>\n",
              "      <td>2.003992</td>\n",
              "      <td>1.145760</td>\n",
              "      <td>0.015799</td>\n",
              "      <td>-0.135501</td>\n",
              "      <td>1.01996</td>\n",
              "      <td>0.028217</td>\n",
              "      <td>-0.605623</td>\n",
              "      <td>-0.738887</td>\n",
              "      <td>1.057884</td>\n",
              "    </tr>\n",
              "    <tr>\n",
              "      <th>std</th>\n",
              "      <td>149.688233</td>\n",
              "      <td>0.044914</td>\n",
              "      <td>1.418444</td>\n",
              "      <td>0.044873</td>\n",
              "      <td>0.409308</td>\n",
              "      <td>1.284938</td>\n",
              "      <td>1.45863</td>\n",
              "      <td>1.147561</td>\n",
              "      <td>64.814831</td>\n",
              "      <td>64.964838</td>\n",
              "      <td>1.385151</td>\n",
              "    </tr>\n",
              "    <tr>\n",
              "      <th>min</th>\n",
              "      <td>0.000000</td>\n",
              "      <td>1.065848</td>\n",
              "      <td>0.000000</td>\n",
              "      <td>1.065848</td>\n",
              "      <td>-2.603845</td>\n",
              "      <td>-5.835545</td>\n",
              "      <td>0.00000</td>\n",
              "      <td>-1.229861</td>\n",
              "      <td>-1240.415232</td>\n",
              "      <td>-1246.250777</td>\n",
              "      <td>0.000000</td>\n",
              "    </tr>\n",
              "    <tr>\n",
              "      <th>25%</th>\n",
              "      <td>146.000000</td>\n",
              "      <td>1.108906</td>\n",
              "      <td>1.000000</td>\n",
              "      <td>1.108826</td>\n",
              "      <td>-0.239276</td>\n",
              "      <td>-0.022223</td>\n",
              "      <td>0.00000</td>\n",
              "      <td>-1.123368</td>\n",
              "      <td>-2.169268</td>\n",
              "      <td>-1.699563</td>\n",
              "      <td>0.000000</td>\n",
              "    </tr>\n",
              "    <tr>\n",
              "      <th>50%</th>\n",
              "      <td>271.000000</td>\n",
              "      <td>1.127714</td>\n",
              "      <td>2.000000</td>\n",
              "      <td>1.127631</td>\n",
              "      <td>0.017797</td>\n",
              "      <td>0.602269</td>\n",
              "      <td>1.00000</td>\n",
              "      <td>1.080824</td>\n",
              "      <td>1.084011</td>\n",
              "      <td>-0.476541</td>\n",
              "      <td>1.000000</td>\n",
              "    </tr>\n",
              "    <tr>\n",
              "      <th>75%</th>\n",
              "      <td>396.000000</td>\n",
              "      <td>1.186437</td>\n",
              "      <td>3.000000</td>\n",
              "      <td>1.186088</td>\n",
              "      <td>0.265484</td>\n",
              "      <td>0.637917</td>\n",
              "      <td>2.00000</td>\n",
              "      <td>1.133414</td>\n",
              "      <td>1.226873</td>\n",
              "      <td>1.813466</td>\n",
              "      <td>2.000000</td>\n",
              "    </tr>\n",
              "    <tr>\n",
              "      <th>max</th>\n",
              "      <td>521.000000</td>\n",
              "      <td>1.233776</td>\n",
              "      <td>4.000000</td>\n",
              "      <td>1.233776</td>\n",
              "      <td>1.456985</td>\n",
              "      <td>0.856353</td>\n",
              "      <td>10.00000</td>\n",
              "      <td>1.233776</td>\n",
              "      <td>617.976832</td>\n",
              "      <td>614.372071</td>\n",
              "      <td>7.000000</td>\n",
              "    </tr>\n",
              "  </tbody>\n",
              "</table>\n",
              "</div>"
            ],
            "text/plain": [
              "            index        Open   DayOfWeek  ...         deal       result       trend\n",
              "count  501.000000  501.000000  501.000000  ...   501.000000   501.000000  501.000000\n",
              "mean   267.676647    1.145884    2.003992  ...    -0.605623    -0.738887    1.057884\n",
              "std    149.688233    0.044914    1.418444  ...    64.814831    64.964838    1.385151\n",
              "min      0.000000    1.065848    0.000000  ... -1240.415232 -1246.250777    0.000000\n",
              "25%    146.000000    1.108906    1.000000  ...    -2.169268    -1.699563    0.000000\n",
              "50%    271.000000    1.127714    2.000000  ...     1.084011    -0.476541    1.000000\n",
              "75%    396.000000    1.186437    3.000000  ...     1.226873     1.813466    2.000000\n",
              "max    521.000000    1.233776    4.000000  ...   617.976832   614.372071    7.000000\n",
              "\n",
              "[8 rows x 11 columns]"
            ]
          },
          "metadata": {
            "tags": []
          },
          "execution_count": 490
        }
      ]
    },
    {
      "cell_type": "code",
      "metadata": {
        "colab": {
          "base_uri": "https://localhost:8080/",
          "height": 294
        },
        "id": "mSwauWOFqE1f",
        "outputId": "3217041b-83f5-4d6d-8f18-e6776911586b"
      },
      "source": [
        "df2.plot('Date', 'result')"
      ],
      "execution_count": null,
      "outputs": [
        {
          "output_type": "execute_result",
          "data": {
            "text/plain": [
              "<matplotlib.axes._subplots.AxesSubplot at 0x7f7cc8af0d50>"
            ]
          },
          "metadata": {
            "tags": []
          },
          "execution_count": 491
        },
        {
          "output_type": "display_data",
          "data": {
            "image/png": "[encoded data removed]",
            "text/plain": [
              "<Figure size 432x288 with 1 Axes>"
            ]
          },
          "metadata": {
            "tags": [],
            "needs_background": "light"
          }
        }
      ]
    },
    {
      "cell_type": "code",
      "metadata": {
        "colab": {
          "base_uri": "https://localhost:8080/",
          "height": 337
        },
        "id": "vg3bekGdfaCw",
        "outputId": "2eb21d60-e873-478c-8e18-f1eaf5acdd05"
      },
      "source": [
        "plt.figure(figsize=(20,5))\n",
        "plt.plot(df2['Date'], df2['result after close'])"
      ],
      "execution_count": null,
      "outputs": [
        {
          "output_type": "execute_result",
          "data": {
            "text/plain": [
              "[<matplotlib.lines.Line2D at 0x7f7cc8b28a90>]"
            ]
          },
          "metadata": {
            "tags": []
          },
          "execution_count": 492
        },
        {
          "output_type": "display_data",
          "data": {
            "image/png": "[encoded data removed]",
            "text/plain": [
              "<Figure size 1440x360 with 1 Axes>"
            ]
          },
          "metadata": {
            "tags": [],
            "needs_background": "light"
          }
        }
      ]
    },
    {
      "cell_type": "code",
      "metadata": {
        "colab": {
          "base_uri": "https://localhost:8080/",
          "height": 337
        },
        "id": "npHoHVlniPlh",
        "outputId": "d9b4cc00-afee-4f75-fa1d-20e2c43a176c"
      },
      "source": [
        "plt.figure(figsize=(20,5))\n",
        "plt.plot(df2['Date'], df2['k'])"
      ],
      "execution_count": null,
      "outputs": [
        {
          "output_type": "execute_result",
          "data": {
            "text/plain": [
              "[<matplotlib.lines.Line2D at 0x7f7cc834a7d0>]"
            ]
          },
          "metadata": {
            "tags": []
          },
          "execution_count": 493
        },
        {
          "output_type": "display_data",
          "data": {
            "image/png": "[encoded data removed]",
            "text/plain": [
              "<Figure size 1440x360 with 1 Axes>"
            ]
          },
          "metadata": {
            "tags": [],
            "needs_background": "light"
          }
        }
      ]
    }
  ]
}