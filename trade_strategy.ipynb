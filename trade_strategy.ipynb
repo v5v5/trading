{
  "nbformat": 4,
  "nbformat_minor": 0,
  "metadata": {
    "colab": {
      "name": "trade-strategy.ipynb",
      "provenance": [],
      "collapsed_sections": [],
      "authorship_tag": "ABX9TyPYeei1lKFjF/xya9HQMKEJ",
      "include_colab_link": true
    },
    "kernelspec": {
      "name": "python3",
      "display_name": "Python 3"
    },
    "language_info": {
      "name": "python"
    }
  },
  "cells": [
    {
      "cell_type": "markdown",
      "metadata": {
        "id": "view-in-github",
        "colab_type": "text"
      },
      "source": [
        "<a href=\"https://colab.research.google.com/github/v5v5/trading/blob/main/trade_strategy.ipynb\" target=\"_parent\"><img src=\"https://colab.research.google.com/assets/colab-badge.svg\" alt=\"Open In Colab\"/></a>"
      ]
    },
    {
      "cell_type": "markdown",
      "metadata": {
        "id": "HowU-l69T-Yb"
      },
      "source": [
        "URL to download quotes EURUSD\n",
        "\n",
        "https://query1.finance.yahoo.com/v7/finance/download/EURUSD=X?period1=1262304000&period2=1619654400&interval=1d&events=history&includeAdjustedClose=true"
      ]
    },
    {
      "cell_type": "code",
      "metadata": {
        "id": "pkKl4XBGVNGL"
      },
      "source": [
        "import pandas as pd\n",
        "from urllib.request import Request, urlopen\n",
        "from io import StringIO\n",
        "import datetime\n",
        "from dateutil.relativedelta import relativedelta\n",
        "import time\n",
        "import random\n",
        "import math\n",
        "import matplotlib.pyplot as plt"
      ],
      "execution_count": 1522,
      "outputs": []
    },
    {
      "cell_type": "code",
      "metadata": {
        "colab": {
          "base_uri": "https://localhost:8080/",
          "height": 35
        },
        "id": "oAMusJ7Vfxou",
        "outputId": "3e098417-75b1-4ebf-f07d-0b78d9c18f5d"
      },
      "source": [
        "# dt_from = datetime.date(2000,1,1)\n",
        "# dt_from = datetime.date(2019,1,1)\n",
        "# dt_from = datetime.date.today() + relativedelta(years=-1)\n",
        "dt_from = datetime.date.today() + relativedelta(years=-2)\n",
        "ut_from = str(int(time.mktime(dt_from.timetuple())))\n",
        "ut_from"
      ],
      "execution_count": 1523,
      "outputs": [
        {
          "output_type": "execute_result",
          "data": {
            "application/vnd.google.colaboratory.intrinsic+json": {
              "type": "string"
            },
            "text/plain": [
              "'1557792000'"
            ]
          },
          "metadata": {
            "tags": []
          },
          "execution_count": 1523
        }
      ]
    },
    {
      "cell_type": "code",
      "metadata": {
        "colab": {
          "base_uri": "https://localhost:8080/",
          "height": 35
        },
        "id": "3iBED0CihYSB",
        "outputId": "5f6b2aca-306e-4cfa-96f4-ed786a826061"
      },
      "source": [
        "dt_to = datetime.date.today()\n",
        "ut_to = str(int(time.mktime(dt_to.timetuple())))\n",
        "ut_to"
      ],
      "execution_count": 1524,
      "outputs": [
        {
          "output_type": "execute_result",
          "data": {
            "application/vnd.google.colaboratory.intrinsic+json": {
              "type": "string"
            },
            "text/plain": [
              "'1620950400'"
            ]
          },
          "metadata": {
            "tags": []
          },
          "execution_count": 1524
        }
      ]
    },
    {
      "cell_type": "code",
      "metadata": {
        "id": "ZWbh4rFCYsiA"
      },
      "source": [
        "# url='https://query1.finance.yahoo.com/v7/finance/download/EURUSD=X?period1=1262304000&period2=1619654400&interval=1d&events=history&includeAdjustedClose=true'\n",
        "url='https://query1.finance.yahoo.com/v7/finance/download/EURUSD=X?period1=' + ut_from + '&period2=' + ut_to + '&interval=1d&events=history&includeAdjustedClose=true'"
      ],
      "execution_count": 1525,
      "outputs": []
    },
    {
      "cell_type": "code",
      "metadata": {
        "id": "ictpemgHTnaU"
      },
      "source": [
        "headers={'User-Agent': 'Mozilla/5.0'}"
      ],
      "execution_count": 1526,
      "outputs": []
    },
    {
      "cell_type": "code",
      "metadata": {
        "id": "5KvntWHZg8CO"
      },
      "source": [
        "req = Request(url, headers=headers)"
      ],
      "execution_count": 1527,
      "outputs": []
    },
    {
      "cell_type": "code",
      "metadata": {
        "id": "d2anZTnFSg6y"
      },
      "source": [
        "page = urlopen(req)\n",
        "# page = urlopen(url)"
      ],
      "execution_count": 1528,
      "outputs": []
    },
    {
      "cell_type": "code",
      "metadata": {
        "id": "tOtCSrjqY2b6"
      },
      "source": [
        "page = urlopen(url)"
      ],
      "execution_count": 1529,
      "outputs": []
    },
    {
      "cell_type": "code",
      "metadata": {
        "id": "W7BmUlFOSjXh"
      },
      "source": [
        "content = page.read()"
      ],
      "execution_count": 1530,
      "outputs": []
    },
    {
      "cell_type": "code",
      "metadata": {
        "id": "MrUfRSxZp4Y9"
      },
      "source": [
        "text = content.decode('UTF-8')"
      ],
      "execution_count": 1531,
      "outputs": []
    },
    {
      "cell_type": "code",
      "metadata": {
        "colab": {
          "base_uri": "https://localhost:8080/"
        },
        "id": "HIutb2KOhWlP",
        "outputId": "e09883aa-609d-4a95-ba84-49bdccc4a283"
      },
      "source": [
        "print(text[:300])"
      ],
      "execution_count": 1532,
      "outputs": [
        {
          "output_type": "stream",
          "text": [
            "Date,Open,High,Low,Close,Adj Close,Volume\n",
            "2019-05-14,1.123242,1.124606,1.120486,1.123255,1.123255,0\n",
            "2019-05-15,1.120360,1.122272,1.118043,1.120448,1.120448,0\n",
            "2019-05-16,1.120951,1.122435,1.117431,1.120724,1.120724,0\n",
            "2019-05-17,1.117481,1.118443,1.115735,1.117356,1.117356,0\n",
            "2019-05-20,1.116532,1.1177\n"
          ],
          "name": "stdout"
        }
      ]
    },
    {
      "cell_type": "code",
      "metadata": {
        "id": "nyxhqBhKpBel"
      },
      "source": [
        "data = StringIO(text)"
      ],
      "execution_count": 1533,
      "outputs": []
    },
    {
      "cell_type": "code",
      "metadata": {
        "id": "tso_dYdOVny7"
      },
      "source": [
        "df1 = pd.read_csv(data, sep=',', header='infer')"
      ],
      "execution_count": 1534,
      "outputs": []
    },
    {
      "cell_type": "code",
      "metadata": {
        "colab": {
          "base_uri": "https://localhost:8080/",
          "height": 266
        },
        "id": "CAWUH4jfl0-Y",
        "outputId": "268b09d6-71f6-45f4-ac0e-2b300a4b6bb1"
      },
      "source": [
        "df1.tail(7)"
      ],
      "execution_count": 1535,
      "outputs": [
        {
          "output_type": "execute_result",
          "data": {
            "text/html": [
              "<div>\n",
              "<style scoped>\n",
              "    .dataframe tbody tr th:only-of-type {\n",
              "        vertical-align: middle;\n",
              "    }\n",
              "\n",
              "    .dataframe tbody tr th {\n",
              "        vertical-align: top;\n",
              "    }\n",
              "\n",
              "    .dataframe thead th {\n",
              "        text-align: right;\n",
              "    }\n",
              "</style>\n",
              "<table border=\"1\" class=\"dataframe\">\n",
              "  <thead>\n",
              "    <tr style=\"text-align: right;\">\n",
              "      <th></th>\n",
              "      <th>Date</th>\n",
              "      <th>Open</th>\n",
              "      <th>High</th>\n",
              "      <th>Low</th>\n",
              "      <th>Close</th>\n",
              "      <th>Adj Close</th>\n",
              "      <th>Volume</th>\n",
              "    </tr>\n",
              "  </thead>\n",
              "  <tbody>\n",
              "    <tr>\n",
              "      <th>517</th>\n",
              "      <td>2021-05-06</td>\n",
              "      <td>1.200913</td>\n",
              "      <td>1.207001</td>\n",
              "      <td>1.199400</td>\n",
              "      <td>1.200797</td>\n",
              "      <td>1.200797</td>\n",
              "      <td>0.0</td>\n",
              "    </tr>\n",
              "    <tr>\n",
              "      <th>518</th>\n",
              "      <td>2021-05-07</td>\n",
              "      <td>1.206593</td>\n",
              "      <td>1.216545</td>\n",
              "      <td>1.205342</td>\n",
              "      <td>1.206855</td>\n",
              "      <td>1.206855</td>\n",
              "      <td>0.0</td>\n",
              "    </tr>\n",
              "    <tr>\n",
              "      <th>519</th>\n",
              "      <td>2021-05-10</td>\n",
              "      <td>1.216752</td>\n",
              "      <td>1.217730</td>\n",
              "      <td>1.213740</td>\n",
              "      <td>1.217108</td>\n",
              "      <td>1.217108</td>\n",
              "      <td>0.0</td>\n",
              "    </tr>\n",
              "    <tr>\n",
              "      <th>520</th>\n",
              "      <td>2021-05-11</td>\n",
              "      <td>1.214211</td>\n",
              "      <td>1.217968</td>\n",
              "      <td>1.212547</td>\n",
              "      <td>1.214093</td>\n",
              "      <td>1.214093</td>\n",
              "      <td>0.0</td>\n",
              "    </tr>\n",
              "    <tr>\n",
              "      <th>521</th>\n",
              "      <td>2021-05-12</td>\n",
              "      <td>1.214550</td>\n",
              "      <td>1.215067</td>\n",
              "      <td>1.206811</td>\n",
              "      <td>1.214450</td>\n",
              "      <td>1.214450</td>\n",
              "      <td>0.0</td>\n",
              "    </tr>\n",
              "    <tr>\n",
              "      <th>522</th>\n",
              "      <td>2021-05-13</td>\n",
              "      <td>1.207686</td>\n",
              "      <td>1.210654</td>\n",
              "      <td>1.205313</td>\n",
              "      <td>1.207851</td>\n",
              "      <td>1.207851</td>\n",
              "      <td>0.0</td>\n",
              "    </tr>\n",
              "    <tr>\n",
              "      <th>523</th>\n",
              "      <td>2021-05-14</td>\n",
              "      <td>1.208459</td>\n",
              "      <td>1.210507</td>\n",
              "      <td>1.207584</td>\n",
              "      <td>1.210361</td>\n",
              "      <td>1.210361</td>\n",
              "      <td>0.0</td>\n",
              "    </tr>\n",
              "  </tbody>\n",
              "</table>\n",
              "</div>"
            ],
            "text/plain": [
              "           Date      Open      High       Low     Close  Adj Close  Volume\n",
              "517  2021-05-06  1.200913  1.207001  1.199400  1.200797   1.200797     0.0\n",
              "518  2021-05-07  1.206593  1.216545  1.205342  1.206855   1.206855     0.0\n",
              "519  2021-05-10  1.216752  1.217730  1.213740  1.217108   1.217108     0.0\n",
              "520  2021-05-11  1.214211  1.217968  1.212547  1.214093   1.214093     0.0\n",
              "521  2021-05-12  1.214550  1.215067  1.206811  1.214450   1.214450     0.0\n",
              "522  2021-05-13  1.207686  1.210654  1.205313  1.207851   1.207851     0.0\n",
              "523  2021-05-14  1.208459  1.210507  1.207584  1.210361   1.210361     0.0"
            ]
          },
          "metadata": {
            "tags": []
          },
          "execution_count": 1535
        }
      ]
    },
    {
      "cell_type": "code",
      "metadata": {
        "colab": {
          "base_uri": "https://localhost:8080/"
        },
        "id": "ovkPk5aUZJ2e",
        "outputId": "8854b463-0944-4e17-d099-5fe72e5cf589"
      },
      "source": [
        "# df1[df1['Open'].isna()]\n",
        "len(df1[df1['Open'].isna()].index)"
      ],
      "execution_count": 1536,
      "outputs": [
        {
          "output_type": "execute_result",
          "data": {
            "text/plain": [
              "21"
            ]
          },
          "metadata": {
            "tags": []
          },
          "execution_count": 1536
        }
      ]
    },
    {
      "cell_type": "code",
      "metadata": {
        "id": "s2DGue6mc5QH"
      },
      "source": [
        "df1.sort_values(by=['Date'], inplace=True)"
      ],
      "execution_count": 1537,
      "outputs": []
    },
    {
      "cell_type": "code",
      "metadata": {
        "colab": {
          "base_uri": "https://localhost:8080/",
          "height": 419
        },
        "id": "KYmLGPPzZPDG",
        "outputId": "ad478dd3-b2a7-4b0d-ad4f-bd64b39233a3"
      },
      "source": [
        "df1.dropna(inplace=True)\n",
        "df1.reset_index(inplace=True)\n",
        "df1"
      ],
      "execution_count": 1538,
      "outputs": [
        {
          "output_type": "execute_result",
          "data": {
            "text/html": [
              "<div>\n",
              "<style scoped>\n",
              "    .dataframe tbody tr th:only-of-type {\n",
              "        vertical-align: middle;\n",
              "    }\n",
              "\n",
              "    .dataframe tbody tr th {\n",
              "        vertical-align: top;\n",
              "    }\n",
              "\n",
              "    .dataframe thead th {\n",
              "        text-align: right;\n",
              "    }\n",
              "</style>\n",
              "<table border=\"1\" class=\"dataframe\">\n",
              "  <thead>\n",
              "    <tr style=\"text-align: right;\">\n",
              "      <th></th>\n",
              "      <th>index</th>\n",
              "      <th>Date</th>\n",
              "      <th>Open</th>\n",
              "      <th>High</th>\n",
              "      <th>Low</th>\n",
              "      <th>Close</th>\n",
              "      <th>Adj Close</th>\n",
              "      <th>Volume</th>\n",
              "    </tr>\n",
              "  </thead>\n",
              "  <tbody>\n",
              "    <tr>\n",
              "      <th>0</th>\n",
              "      <td>0</td>\n",
              "      <td>2019-05-14</td>\n",
              "      <td>1.123242</td>\n",
              "      <td>1.124606</td>\n",
              "      <td>1.120486</td>\n",
              "      <td>1.123255</td>\n",
              "      <td>1.123255</td>\n",
              "      <td>0.0</td>\n",
              "    </tr>\n",
              "    <tr>\n",
              "      <th>1</th>\n",
              "      <td>1</td>\n",
              "      <td>2019-05-15</td>\n",
              "      <td>1.120360</td>\n",
              "      <td>1.122272</td>\n",
              "      <td>1.118043</td>\n",
              "      <td>1.120448</td>\n",
              "      <td>1.120448</td>\n",
              "      <td>0.0</td>\n",
              "    </tr>\n",
              "    <tr>\n",
              "      <th>2</th>\n",
              "      <td>2</td>\n",
              "      <td>2019-05-16</td>\n",
              "      <td>1.120951</td>\n",
              "      <td>1.122435</td>\n",
              "      <td>1.117431</td>\n",
              "      <td>1.120724</td>\n",
              "      <td>1.120724</td>\n",
              "      <td>0.0</td>\n",
              "    </tr>\n",
              "    <tr>\n",
              "      <th>3</th>\n",
              "      <td>3</td>\n",
              "      <td>2019-05-17</td>\n",
              "      <td>1.117481</td>\n",
              "      <td>1.118443</td>\n",
              "      <td>1.115735</td>\n",
              "      <td>1.117356</td>\n",
              "      <td>1.117356</td>\n",
              "      <td>0.0</td>\n",
              "    </tr>\n",
              "    <tr>\n",
              "      <th>4</th>\n",
              "      <td>4</td>\n",
              "      <td>2019-05-20</td>\n",
              "      <td>1.116532</td>\n",
              "      <td>1.117701</td>\n",
              "      <td>1.115126</td>\n",
              "      <td>1.116532</td>\n",
              "      <td>1.116532</td>\n",
              "      <td>0.0</td>\n",
              "    </tr>\n",
              "    <tr>\n",
              "      <th>...</th>\n",
              "      <td>...</td>\n",
              "      <td>...</td>\n",
              "      <td>...</td>\n",
              "      <td>...</td>\n",
              "      <td>...</td>\n",
              "      <td>...</td>\n",
              "      <td>...</td>\n",
              "      <td>...</td>\n",
              "    </tr>\n",
              "    <tr>\n",
              "      <th>498</th>\n",
              "      <td>519</td>\n",
              "      <td>2021-05-10</td>\n",
              "      <td>1.216752</td>\n",
              "      <td>1.217730</td>\n",
              "      <td>1.213740</td>\n",
              "      <td>1.217108</td>\n",
              "      <td>1.217108</td>\n",
              "      <td>0.0</td>\n",
              "    </tr>\n",
              "    <tr>\n",
              "      <th>499</th>\n",
              "      <td>520</td>\n",
              "      <td>2021-05-11</td>\n",
              "      <td>1.214211</td>\n",
              "      <td>1.217968</td>\n",
              "      <td>1.212547</td>\n",
              "      <td>1.214093</td>\n",
              "      <td>1.214093</td>\n",
              "      <td>0.0</td>\n",
              "    </tr>\n",
              "    <tr>\n",
              "      <th>500</th>\n",
              "      <td>521</td>\n",
              "      <td>2021-05-12</td>\n",
              "      <td>1.214550</td>\n",
              "      <td>1.215067</td>\n",
              "      <td>1.206811</td>\n",
              "      <td>1.214450</td>\n",
              "      <td>1.214450</td>\n",
              "      <td>0.0</td>\n",
              "    </tr>\n",
              "    <tr>\n",
              "      <th>501</th>\n",
              "      <td>522</td>\n",
              "      <td>2021-05-13</td>\n",
              "      <td>1.207686</td>\n",
              "      <td>1.210654</td>\n",
              "      <td>1.205313</td>\n",
              "      <td>1.207851</td>\n",
              "      <td>1.207851</td>\n",
              "      <td>0.0</td>\n",
              "    </tr>\n",
              "    <tr>\n",
              "      <th>502</th>\n",
              "      <td>523</td>\n",
              "      <td>2021-05-14</td>\n",
              "      <td>1.208459</td>\n",
              "      <td>1.210507</td>\n",
              "      <td>1.207584</td>\n",
              "      <td>1.210361</td>\n",
              "      <td>1.210361</td>\n",
              "      <td>0.0</td>\n",
              "    </tr>\n",
              "  </tbody>\n",
              "</table>\n",
              "<p>503 rows × 8 columns</p>\n",
              "</div>"
            ],
            "text/plain": [
              "     index        Date      Open  ...     Close  Adj Close  Volume\n",
              "0        0  2019-05-14  1.123242  ...  1.123255   1.123255     0.0\n",
              "1        1  2019-05-15  1.120360  ...  1.120448   1.120448     0.0\n",
              "2        2  2019-05-16  1.120951  ...  1.120724   1.120724     0.0\n",
              "3        3  2019-05-17  1.117481  ...  1.117356   1.117356     0.0\n",
              "4        4  2019-05-20  1.116532  ...  1.116532   1.116532     0.0\n",
              "..     ...         ...       ...  ...       ...        ...     ...\n",
              "498    519  2021-05-10  1.216752  ...  1.217108   1.217108     0.0\n",
              "499    520  2021-05-11  1.214211  ...  1.214093   1.214093     0.0\n",
              "500    521  2021-05-12  1.214550  ...  1.214450   1.214450     0.0\n",
              "501    522  2021-05-13  1.207686  ...  1.207851   1.207851     0.0\n",
              "502    523  2021-05-14  1.208459  ...  1.210361   1.210361     0.0\n",
              "\n",
              "[503 rows x 8 columns]"
            ]
          },
          "metadata": {
            "tags": []
          },
          "execution_count": 1538
        }
      ]
    },
    {
      "cell_type": "code",
      "metadata": {
        "id": "iDDbrBeGci0d"
      },
      "source": [
        "df1['Date'] = pd.to_datetime(df1['Date'], errors='coerce')"
      ],
      "execution_count": 1539,
      "outputs": []
    },
    {
      "cell_type": "code",
      "metadata": {
        "id": "eRwjQgzGmCBm"
      },
      "source": [
        "df1['DayOfWeek'] = df1['Date'].dt.dayofweek"
      ],
      "execution_count": 1540,
      "outputs": []
    },
    {
      "cell_type": "code",
      "metadata": {
        "colab": {
          "base_uri": "https://localhost:8080/",
          "height": 266
        },
        "id": "NLF_R44LnKkY",
        "outputId": "6b7892ab-a7c8-429a-a6a0-d5dfe5091c19"
      },
      "source": [
        "df1.tail(7)"
      ],
      "execution_count": 1541,
      "outputs": [
        {
          "output_type": "execute_result",
          "data": {
            "text/html": [
              "<div>\n",
              "<style scoped>\n",
              "    .dataframe tbody tr th:only-of-type {\n",
              "        vertical-align: middle;\n",
              "    }\n",
              "\n",
              "    .dataframe tbody tr th {\n",
              "        vertical-align: top;\n",
              "    }\n",
              "\n",
              "    .dataframe thead th {\n",
              "        text-align: right;\n",
              "    }\n",
              "</style>\n",
              "<table border=\"1\" class=\"dataframe\">\n",
              "  <thead>\n",
              "    <tr style=\"text-align: right;\">\n",
              "      <th></th>\n",
              "      <th>index</th>\n",
              "      <th>Date</th>\n",
              "      <th>Open</th>\n",
              "      <th>High</th>\n",
              "      <th>Low</th>\n",
              "      <th>Close</th>\n",
              "      <th>Adj Close</th>\n",
              "      <th>Volume</th>\n",
              "      <th>DayOfWeek</th>\n",
              "    </tr>\n",
              "  </thead>\n",
              "  <tbody>\n",
              "    <tr>\n",
              "      <th>496</th>\n",
              "      <td>517</td>\n",
              "      <td>2021-05-06</td>\n",
              "      <td>1.200913</td>\n",
              "      <td>1.207001</td>\n",
              "      <td>1.199400</td>\n",
              "      <td>1.200797</td>\n",
              "      <td>1.200797</td>\n",
              "      <td>0.0</td>\n",
              "      <td>3</td>\n",
              "    </tr>\n",
              "    <tr>\n",
              "      <th>497</th>\n",
              "      <td>518</td>\n",
              "      <td>2021-05-07</td>\n",
              "      <td>1.206593</td>\n",
              "      <td>1.216545</td>\n",
              "      <td>1.205342</td>\n",
              "      <td>1.206855</td>\n",
              "      <td>1.206855</td>\n",
              "      <td>0.0</td>\n",
              "      <td>4</td>\n",
              "    </tr>\n",
              "    <tr>\n",
              "      <th>498</th>\n",
              "      <td>519</td>\n",
              "      <td>2021-05-10</td>\n",
              "      <td>1.216752</td>\n",
              "      <td>1.217730</td>\n",
              "      <td>1.213740</td>\n",
              "      <td>1.217108</td>\n",
              "      <td>1.217108</td>\n",
              "      <td>0.0</td>\n",
              "      <td>0</td>\n",
              "    </tr>\n",
              "    <tr>\n",
              "      <th>499</th>\n",
              "      <td>520</td>\n",
              "      <td>2021-05-11</td>\n",
              "      <td>1.214211</td>\n",
              "      <td>1.217968</td>\n",
              "      <td>1.212547</td>\n",
              "      <td>1.214093</td>\n",
              "      <td>1.214093</td>\n",
              "      <td>0.0</td>\n",
              "      <td>1</td>\n",
              "    </tr>\n",
              "    <tr>\n",
              "      <th>500</th>\n",
              "      <td>521</td>\n",
              "      <td>2021-05-12</td>\n",
              "      <td>1.214550</td>\n",
              "      <td>1.215067</td>\n",
              "      <td>1.206811</td>\n",
              "      <td>1.214450</td>\n",
              "      <td>1.214450</td>\n",
              "      <td>0.0</td>\n",
              "      <td>2</td>\n",
              "    </tr>\n",
              "    <tr>\n",
              "      <th>501</th>\n",
              "      <td>522</td>\n",
              "      <td>2021-05-13</td>\n",
              "      <td>1.207686</td>\n",
              "      <td>1.210654</td>\n",
              "      <td>1.205313</td>\n",
              "      <td>1.207851</td>\n",
              "      <td>1.207851</td>\n",
              "      <td>0.0</td>\n",
              "      <td>3</td>\n",
              "    </tr>\n",
              "    <tr>\n",
              "      <th>502</th>\n",
              "      <td>523</td>\n",
              "      <td>2021-05-14</td>\n",
              "      <td>1.208459</td>\n",
              "      <td>1.210507</td>\n",
              "      <td>1.207584</td>\n",
              "      <td>1.210361</td>\n",
              "      <td>1.210361</td>\n",
              "      <td>0.0</td>\n",
              "      <td>4</td>\n",
              "    </tr>\n",
              "  </tbody>\n",
              "</table>\n",
              "</div>"
            ],
            "text/plain": [
              "     index       Date      Open  ...  Adj Close  Volume  DayOfWeek\n",
              "496    517 2021-05-06  1.200913  ...   1.200797     0.0          3\n",
              "497    518 2021-05-07  1.206593  ...   1.206855     0.0          4\n",
              "498    519 2021-05-10  1.216752  ...   1.217108     0.0          0\n",
              "499    520 2021-05-11  1.214211  ...   1.214093     0.0          1\n",
              "500    521 2021-05-12  1.214550  ...   1.214450     0.0          2\n",
              "501    522 2021-05-13  1.207686  ...   1.207851     0.0          3\n",
              "502    523 2021-05-14  1.208459  ...   1.210361     0.0          4\n",
              "\n",
              "[7 rows x 9 columns]"
            ]
          },
          "metadata": {
            "tags": []
          },
          "execution_count": 1541
        }
      ]
    },
    {
      "cell_type": "code",
      "metadata": {
        "id": "isV-KVPm_mxb"
      },
      "source": [
        "df2 = df1.drop(['High','Low', 'Adj Close', 'Volume'], axis=1)"
      ],
      "execution_count": 1542,
      "outputs": []
    },
    {
      "cell_type": "code",
      "metadata": {
        "colab": {
          "base_uri": "https://localhost:8080/",
          "height": 266
        },
        "id": "BoXK3TqGAW19",
        "outputId": "8ad63b60-2169-4082-f1df-d5740c8133e5"
      },
      "source": [
        "df2.tail(7)"
      ],
      "execution_count": 1543,
      "outputs": [
        {
          "output_type": "execute_result",
          "data": {
            "text/html": [
              "<div>\n",
              "<style scoped>\n",
              "    .dataframe tbody tr th:only-of-type {\n",
              "        vertical-align: middle;\n",
              "    }\n",
              "\n",
              "    .dataframe tbody tr th {\n",
              "        vertical-align: top;\n",
              "    }\n",
              "\n",
              "    .dataframe thead th {\n",
              "        text-align: right;\n",
              "    }\n",
              "</style>\n",
              "<table border=\"1\" class=\"dataframe\">\n",
              "  <thead>\n",
              "    <tr style=\"text-align: right;\">\n",
              "      <th></th>\n",
              "      <th>index</th>\n",
              "      <th>Date</th>\n",
              "      <th>Open</th>\n",
              "      <th>Close</th>\n",
              "      <th>DayOfWeek</th>\n",
              "    </tr>\n",
              "  </thead>\n",
              "  <tbody>\n",
              "    <tr>\n",
              "      <th>496</th>\n",
              "      <td>517</td>\n",
              "      <td>2021-05-06</td>\n",
              "      <td>1.200913</td>\n",
              "      <td>1.200797</td>\n",
              "      <td>3</td>\n",
              "    </tr>\n",
              "    <tr>\n",
              "      <th>497</th>\n",
              "      <td>518</td>\n",
              "      <td>2021-05-07</td>\n",
              "      <td>1.206593</td>\n",
              "      <td>1.206855</td>\n",
              "      <td>4</td>\n",
              "    </tr>\n",
              "    <tr>\n",
              "      <th>498</th>\n",
              "      <td>519</td>\n",
              "      <td>2021-05-10</td>\n",
              "      <td>1.216752</td>\n",
              "      <td>1.217108</td>\n",
              "      <td>0</td>\n",
              "    </tr>\n",
              "    <tr>\n",
              "      <th>499</th>\n",
              "      <td>520</td>\n",
              "      <td>2021-05-11</td>\n",
              "      <td>1.214211</td>\n",
              "      <td>1.214093</td>\n",
              "      <td>1</td>\n",
              "    </tr>\n",
              "    <tr>\n",
              "      <th>500</th>\n",
              "      <td>521</td>\n",
              "      <td>2021-05-12</td>\n",
              "      <td>1.214550</td>\n",
              "      <td>1.214450</td>\n",
              "      <td>2</td>\n",
              "    </tr>\n",
              "    <tr>\n",
              "      <th>501</th>\n",
              "      <td>522</td>\n",
              "      <td>2021-05-13</td>\n",
              "      <td>1.207686</td>\n",
              "      <td>1.207851</td>\n",
              "      <td>3</td>\n",
              "    </tr>\n",
              "    <tr>\n",
              "      <th>502</th>\n",
              "      <td>523</td>\n",
              "      <td>2021-05-14</td>\n",
              "      <td>1.208459</td>\n",
              "      <td>1.210361</td>\n",
              "      <td>4</td>\n",
              "    </tr>\n",
              "  </tbody>\n",
              "</table>\n",
              "</div>"
            ],
            "text/plain": [
              "     index       Date      Open     Close  DayOfWeek\n",
              "496    517 2021-05-06  1.200913  1.200797          3\n",
              "497    518 2021-05-07  1.206593  1.206855          4\n",
              "498    519 2021-05-10  1.216752  1.217108          0\n",
              "499    520 2021-05-11  1.214211  1.214093          1\n",
              "500    521 2021-05-12  1.214550  1.214450          2\n",
              "501    522 2021-05-13  1.207686  1.207851          3\n",
              "502    523 2021-05-14  1.208459  1.210361          4"
            ]
          },
          "metadata": {
            "tags": []
          },
          "execution_count": 1543
        }
      ]
    },
    {
      "cell_type": "code",
      "metadata": {
        "id": "0mzQvzqDDFzP"
      },
      "source": [
        "df2['Close-1'] = df2['Close'].shift(1)\n",
        "df2['Open-1'] = df2['Open'].shift(1)"
      ],
      "execution_count": 1544,
      "outputs": []
    },
    {
      "cell_type": "code",
      "metadata": {
        "colab": {
          "base_uri": "https://localhost:8080/",
          "height": 266
        },
        "id": "3xG50mLQDq3e",
        "outputId": "4c1c96bb-90c9-42c9-9a9f-ca3b59d0148f"
      },
      "source": [
        "df2.tail(7)"
      ],
      "execution_count": 1545,
      "outputs": [
        {
          "output_type": "execute_result",
          "data": {
            "text/html": [
              "<div>\n",
              "<style scoped>\n",
              "    .dataframe tbody tr th:only-of-type {\n",
              "        vertical-align: middle;\n",
              "    }\n",
              "\n",
              "    .dataframe tbody tr th {\n",
              "        vertical-align: top;\n",
              "    }\n",
              "\n",
              "    .dataframe thead th {\n",
              "        text-align: right;\n",
              "    }\n",
              "</style>\n",
              "<table border=\"1\" class=\"dataframe\">\n",
              "  <thead>\n",
              "    <tr style=\"text-align: right;\">\n",
              "      <th></th>\n",
              "      <th>index</th>\n",
              "      <th>Date</th>\n",
              "      <th>Open</th>\n",
              "      <th>Close</th>\n",
              "      <th>DayOfWeek</th>\n",
              "      <th>Close-1</th>\n",
              "      <th>Open-1</th>\n",
              "    </tr>\n",
              "  </thead>\n",
              "  <tbody>\n",
              "    <tr>\n",
              "      <th>496</th>\n",
              "      <td>517</td>\n",
              "      <td>2021-05-06</td>\n",
              "      <td>1.200913</td>\n",
              "      <td>1.200797</td>\n",
              "      <td>3</td>\n",
              "      <td>1.201504</td>\n",
              "      <td>1.201634</td>\n",
              "    </tr>\n",
              "    <tr>\n",
              "      <th>497</th>\n",
              "      <td>518</td>\n",
              "      <td>2021-05-07</td>\n",
              "      <td>1.206593</td>\n",
              "      <td>1.206855</td>\n",
              "      <td>4</td>\n",
              "      <td>1.200797</td>\n",
              "      <td>1.200913</td>\n",
              "    </tr>\n",
              "    <tr>\n",
              "      <th>498</th>\n",
              "      <td>519</td>\n",
              "      <td>2021-05-10</td>\n",
              "      <td>1.216752</td>\n",
              "      <td>1.217108</td>\n",
              "      <td>0</td>\n",
              "      <td>1.206855</td>\n",
              "      <td>1.206593</td>\n",
              "    </tr>\n",
              "    <tr>\n",
              "      <th>499</th>\n",
              "      <td>520</td>\n",
              "      <td>2021-05-11</td>\n",
              "      <td>1.214211</td>\n",
              "      <td>1.214093</td>\n",
              "      <td>1</td>\n",
              "      <td>1.217108</td>\n",
              "      <td>1.216752</td>\n",
              "    </tr>\n",
              "    <tr>\n",
              "      <th>500</th>\n",
              "      <td>521</td>\n",
              "      <td>2021-05-12</td>\n",
              "      <td>1.214550</td>\n",
              "      <td>1.214450</td>\n",
              "      <td>2</td>\n",
              "      <td>1.214093</td>\n",
              "      <td>1.214211</td>\n",
              "    </tr>\n",
              "    <tr>\n",
              "      <th>501</th>\n",
              "      <td>522</td>\n",
              "      <td>2021-05-13</td>\n",
              "      <td>1.207686</td>\n",
              "      <td>1.207851</td>\n",
              "      <td>3</td>\n",
              "      <td>1.214450</td>\n",
              "      <td>1.214550</td>\n",
              "    </tr>\n",
              "    <tr>\n",
              "      <th>502</th>\n",
              "      <td>523</td>\n",
              "      <td>2021-05-14</td>\n",
              "      <td>1.208459</td>\n",
              "      <td>1.210361</td>\n",
              "      <td>4</td>\n",
              "      <td>1.207851</td>\n",
              "      <td>1.207686</td>\n",
              "    </tr>\n",
              "  </tbody>\n",
              "</table>\n",
              "</div>"
            ],
            "text/plain": [
              "     index       Date      Open     Close  DayOfWeek   Close-1    Open-1\n",
              "496    517 2021-05-06  1.200913  1.200797          3  1.201504  1.201634\n",
              "497    518 2021-05-07  1.206593  1.206855          4  1.200797  1.200913\n",
              "498    519 2021-05-10  1.216752  1.217108          0  1.206855  1.206593\n",
              "499    520 2021-05-11  1.214211  1.214093          1  1.217108  1.216752\n",
              "500    521 2021-05-12  1.214550  1.214450          2  1.214093  1.214211\n",
              "501    522 2021-05-13  1.207686  1.207851          3  1.214450  1.214550\n",
              "502    523 2021-05-14  1.208459  1.210361          4  1.207851  1.207686"
            ]
          },
          "metadata": {
            "tags": []
          },
          "execution_count": 1545
        }
      ]
    },
    {
      "cell_type": "code",
      "metadata": {
        "id": "tigVCqC3EBM4"
      },
      "source": [
        "df2['%Close'] = (df2['Close'] - df2['Close-1']) / df2['Close-1'] * 100\n",
        "df2['%Open'] = (df2['Open'] - df2['Open-1']) / df2['Open-1'] * 100"
      ],
      "execution_count": 1546,
      "outputs": []
    },
    {
      "cell_type": "code",
      "metadata": {
        "id": "fH6iq8Kh1jmv"
      },
      "source": [
        "df2 = df2.drop(['Close','Close-1', '%Close'], axis=1)"
      ],
      "execution_count": 1547,
      "outputs": []
    },
    {
      "cell_type": "code",
      "metadata": {
        "colab": {
          "base_uri": "https://localhost:8080/",
          "height": 266
        },
        "id": "dMsFfMIREP8Z",
        "outputId": "e2f1bcf7-5d86-49fd-aa74-8817eaf50320"
      },
      "source": [
        "df2.head(7)"
      ],
      "execution_count": 1548,
      "outputs": [
        {
          "output_type": "execute_result",
          "data": {
            "text/html": [
              "<div>\n",
              "<style scoped>\n",
              "    .dataframe tbody tr th:only-of-type {\n",
              "        vertical-align: middle;\n",
              "    }\n",
              "\n",
              "    .dataframe tbody tr th {\n",
              "        vertical-align: top;\n",
              "    }\n",
              "\n",
              "    .dataframe thead th {\n",
              "        text-align: right;\n",
              "    }\n",
              "</style>\n",
              "<table border=\"1\" class=\"dataframe\">\n",
              "  <thead>\n",
              "    <tr style=\"text-align: right;\">\n",
              "      <th></th>\n",
              "      <th>index</th>\n",
              "      <th>Date</th>\n",
              "      <th>Open</th>\n",
              "      <th>DayOfWeek</th>\n",
              "      <th>Open-1</th>\n",
              "      <th>%Open</th>\n",
              "    </tr>\n",
              "  </thead>\n",
              "  <tbody>\n",
              "    <tr>\n",
              "      <th>0</th>\n",
              "      <td>0</td>\n",
              "      <td>2019-05-14</td>\n",
              "      <td>1.123242</td>\n",
              "      <td>1</td>\n",
              "      <td>NaN</td>\n",
              "      <td>NaN</td>\n",
              "    </tr>\n",
              "    <tr>\n",
              "      <th>1</th>\n",
              "      <td>1</td>\n",
              "      <td>2019-05-15</td>\n",
              "      <td>1.120360</td>\n",
              "      <td>2</td>\n",
              "      <td>1.123242</td>\n",
              "      <td>-0.256579</td>\n",
              "    </tr>\n",
              "    <tr>\n",
              "      <th>2</th>\n",
              "      <td>2</td>\n",
              "      <td>2019-05-16</td>\n",
              "      <td>1.120951</td>\n",
              "      <td>3</td>\n",
              "      <td>1.120360</td>\n",
              "      <td>0.052751</td>\n",
              "    </tr>\n",
              "    <tr>\n",
              "      <th>3</th>\n",
              "      <td>3</td>\n",
              "      <td>2019-05-17</td>\n",
              "      <td>1.117481</td>\n",
              "      <td>4</td>\n",
              "      <td>1.120951</td>\n",
              "      <td>-0.309559</td>\n",
              "    </tr>\n",
              "    <tr>\n",
              "      <th>4</th>\n",
              "      <td>4</td>\n",
              "      <td>2019-05-20</td>\n",
              "      <td>1.116532</td>\n",
              "      <td>0</td>\n",
              "      <td>1.117481</td>\n",
              "      <td>-0.084923</td>\n",
              "    </tr>\n",
              "    <tr>\n",
              "      <th>5</th>\n",
              "      <td>5</td>\n",
              "      <td>2019-05-21</td>\n",
              "      <td>1.116944</td>\n",
              "      <td>1</td>\n",
              "      <td>1.116532</td>\n",
              "      <td>0.036900</td>\n",
              "    </tr>\n",
              "    <tr>\n",
              "      <th>6</th>\n",
              "      <td>7</td>\n",
              "      <td>2019-05-23</td>\n",
              "      <td>1.115511</td>\n",
              "      <td>3</td>\n",
              "      <td>1.116944</td>\n",
              "      <td>-0.128296</td>\n",
              "    </tr>\n",
              "  </tbody>\n",
              "</table>\n",
              "</div>"
            ],
            "text/plain": [
              "   index       Date      Open  DayOfWeek    Open-1     %Open\n",
              "0      0 2019-05-14  1.123242          1       NaN       NaN\n",
              "1      1 2019-05-15  1.120360          2  1.123242 -0.256579\n",
              "2      2 2019-05-16  1.120951          3  1.120360  0.052751\n",
              "3      3 2019-05-17  1.117481          4  1.120951 -0.309559\n",
              "4      4 2019-05-20  1.116532          0  1.117481 -0.084923\n",
              "5      5 2019-05-21  1.116944          1  1.116532  0.036900\n",
              "6      7 2019-05-23  1.115511          3  1.116944 -0.128296"
            ]
          },
          "metadata": {
            "tags": []
          },
          "execution_count": 1548
        }
      ]
    },
    {
      "cell_type": "code",
      "metadata": {
        "id": "5zeRvw_76_rE"
      },
      "source": [
        "# take decision to buy or sell - if price = 1.167072 then buy = -1.167072 or sell = 1.167072\n",
        "def take_decision(index):\n",
        "  row = df2.loc[index]\n",
        "  return random.choice([-row['Open'], +row['Open']])"
      ],
      "execution_count": 1549,
      "outputs": []
    },
    {
      "cell_type": "code",
      "metadata": {
        "id": "CfKkh7Ox_8hM"
      },
      "source": [
        "def is_guessed(index):\n",
        "  if (index < 1):\n",
        "    return True\n",
        "  return (math.copysign(1, df2.loc[index]['%Open']) != math.copysign(1, df2.loc[index - 1]['decision']))"
      ],
      "execution_count": 1550,
      "outputs": []
    },
    {
      "cell_type": "code",
      "metadata": {
        "id": "XyB39IOuMNqs"
      },
      "source": [
        "def make_deal(index):\n",
        "  k = df2.loc[index, 'k'] \n",
        "  decision = df2.loc[index, 'decision'] \n",
        "  return decision * (2 ** k)"
      ],
      "execution_count": 1551,
      "outputs": []
    },
    {
      "cell_type": "code",
      "metadata": {
        "id": "jsDYBIWCSCnk"
      },
      "source": [
        "def discover_trend(index):\n",
        "  if (index < 1):\n",
        "    df2.loc[index, 'trend'] = 0\n",
        "    return\n",
        "  open_curr = df2.loc[index, '%Open']\n",
        "  open_prev = df2.loc[index-1, '%Open']\n",
        "  if (math.copysign(1, open_prev) == math.copysign(1, open_curr)):\n",
        "    df2.loc[index, 'trend'] = df2.loc[index-1, 'trend'] + 1\n",
        "  else:\n",
        "    df2.loc[index, 'trend'] = 0"
      ],
      "execution_count": 1552,
      "outputs": []
    },
    {
      "cell_type": "code",
      "metadata": {
        "id": "RGTHIeDi30lw"
      },
      "source": [
        "# this is a main algorithm for trading\n",
        "def trade():\n",
        "  for index, row in df2.iterrows():\n",
        "    # close previous deal\n",
        "    if index < 1:\n",
        "      df2.loc[index, 'result after close'] = 0\n",
        "    else:\n",
        "      # TODO incorrect algorithm\n",
        "      df2.loc[index, 'result after close'] = df2.loc[index - 1, 'result after close'] + \\\n",
        "        df2.loc[index - 1, 'deal'] - \\\n",
        "        (2 ** df2.loc[index - 1, 'k']) * df2.loc[index, 'Open']\n",
        "\n",
        "    # coefficient of deal depends on result of previous deal\n",
        "    if (is_guessed(index)):\n",
        "      k = 0\n",
        "    else:\n",
        "      k += 1\n",
        "    df2.loc[index, 'k'] = k\n",
        "\n",
        "    # take decision\n",
        "    df2.loc[index, 'decision'] = take_decision(index)\n",
        "\n",
        "    # make deal\n",
        "    df2.loc[index, 'deal'] = make_deal(index)\n",
        "\n",
        "    # open new deal\n",
        "    if (index < 1):\n",
        "      df2.loc[index, 'result'] = 0\n",
        "    else:\n",
        "      df2.loc[index, 'result'] = df2.loc[index, 'result after close'] + df2.loc[index, 'deal']\n",
        "    \n",
        "    # определяем тренд\n",
        "    discover_trend(index)"
      ],
      "execution_count": 1553,
      "outputs": []
    },
    {
      "cell_type": "code",
      "metadata": {
        "id": "pkh0VmLw5ExM"
      },
      "source": [
        "trade()"
      ],
      "execution_count": 1554,
      "outputs": []
    },
    {
      "cell_type": "code",
      "metadata": {
        "colab": {
          "base_uri": "https://localhost:8080/",
          "height": 979
        },
        "id": "ZpGJwchDebU4",
        "outputId": "94e0efd6-c2f3-4e9d-96f6-5c28d44efe0f"
      },
      "source": [
        "df2.tail(30)"
      ],
      "execution_count": 1555,
      "outputs": [
        {
          "output_type": "execute_result",
          "data": {
            "text/html": [
              "<div>\n",
              "<style scoped>\n",
              "    .dataframe tbody tr th:only-of-type {\n",
              "        vertical-align: middle;\n",
              "    }\n",
              "\n",
              "    .dataframe tbody tr th {\n",
              "        vertical-align: top;\n",
              "    }\n",
              "\n",
              "    .dataframe thead th {\n",
              "        text-align: right;\n",
              "    }\n",
              "</style>\n",
              "<table border=\"1\" class=\"dataframe\">\n",
              "  <thead>\n",
              "    <tr style=\"text-align: right;\">\n",
              "      <th></th>\n",
              "      <th>index</th>\n",
              "      <th>Date</th>\n",
              "      <th>Open</th>\n",
              "      <th>DayOfWeek</th>\n",
              "      <th>Open-1</th>\n",
              "      <th>%Open</th>\n",
              "      <th>result after close</th>\n",
              "      <th>k</th>\n",
              "      <th>decision</th>\n",
              "      <th>deal</th>\n",
              "      <th>result</th>\n",
              "      <th>trend</th>\n",
              "    </tr>\n",
              "  </thead>\n",
              "  <tbody>\n",
              "    <tr>\n",
              "      <th>473</th>\n",
              "      <td>494</td>\n",
              "      <td>2021-04-05</td>\n",
              "      <td>1.176637</td>\n",
              "      <td>0</td>\n",
              "      <td>1.177773</td>\n",
              "      <td>-0.096453</td>\n",
              "      <td>-4004.733681</td>\n",
              "      <td>0.0</td>\n",
              "      <td>1.176637</td>\n",
              "      <td>1.176637</td>\n",
              "      <td>-4003.557044</td>\n",
              "      <td>0.0</td>\n",
              "    </tr>\n",
              "    <tr>\n",
              "      <th>474</th>\n",
              "      <td>495</td>\n",
              "      <td>2021-04-06</td>\n",
              "      <td>1.181907</td>\n",
              "      <td>1</td>\n",
              "      <td>1.176637</td>\n",
              "      <td>0.447887</td>\n",
              "      <td>-4004.738951</td>\n",
              "      <td>1.0</td>\n",
              "      <td>1.181907</td>\n",
              "      <td>2.363814</td>\n",
              "      <td>-4002.375137</td>\n",
              "      <td>0.0</td>\n",
              "    </tr>\n",
              "    <tr>\n",
              "      <th>475</th>\n",
              "      <td>496</td>\n",
              "      <td>2021-04-07</td>\n",
              "      <td>1.187550</td>\n",
              "      <td>2</td>\n",
              "      <td>1.181907</td>\n",
              "      <td>0.477449</td>\n",
              "      <td>-4004.750237</td>\n",
              "      <td>2.0</td>\n",
              "      <td>-1.187550</td>\n",
              "      <td>-4.750200</td>\n",
              "      <td>-4009.500437</td>\n",
              "      <td>1.0</td>\n",
              "    </tr>\n",
              "    <tr>\n",
              "      <th>476</th>\n",
              "      <td>497</td>\n",
              "      <td>2021-04-08</td>\n",
              "      <td>1.187197</td>\n",
              "      <td>3</td>\n",
              "      <td>1.187550</td>\n",
              "      <td>-0.029725</td>\n",
              "      <td>-4014.249225</td>\n",
              "      <td>3.0</td>\n",
              "      <td>1.187197</td>\n",
              "      <td>9.497576</td>\n",
              "      <td>-4004.751649</td>\n",
              "      <td>0.0</td>\n",
              "    </tr>\n",
              "    <tr>\n",
              "      <th>477</th>\n",
              "      <td>498</td>\n",
              "      <td>2021-04-09</td>\n",
              "      <td>1.191568</td>\n",
              "      <td>4</td>\n",
              "      <td>1.187197</td>\n",
              "      <td>0.368178</td>\n",
              "      <td>-4014.284193</td>\n",
              "      <td>4.0</td>\n",
              "      <td>-1.191568</td>\n",
              "      <td>-19.065088</td>\n",
              "      <td>-4033.349281</td>\n",
              "      <td>0.0</td>\n",
              "    </tr>\n",
              "    <tr>\n",
              "      <th>478</th>\n",
              "      <td>499</td>\n",
              "      <td>2021-04-12</td>\n",
              "      <td>1.189641</td>\n",
              "      <td>0</td>\n",
              "      <td>1.191568</td>\n",
              "      <td>-0.161720</td>\n",
              "      <td>-4052.383537</td>\n",
              "      <td>5.0</td>\n",
              "      <td>-1.189641</td>\n",
              "      <td>-38.068512</td>\n",
              "      <td>-4090.452049</td>\n",
              "      <td>0.0</td>\n",
              "    </tr>\n",
              "    <tr>\n",
              "      <th>479</th>\n",
              "      <td>500</td>\n",
              "      <td>2021-04-13</td>\n",
              "      <td>1.191214</td>\n",
              "      <td>1</td>\n",
              "      <td>1.189641</td>\n",
              "      <td>0.132225</td>\n",
              "      <td>-4128.570897</td>\n",
              "      <td>0.0</td>\n",
              "      <td>-1.191214</td>\n",
              "      <td>-1.191214</td>\n",
              "      <td>-4129.762111</td>\n",
              "      <td>0.0</td>\n",
              "    </tr>\n",
              "    <tr>\n",
              "      <th>480</th>\n",
              "      <td>501</td>\n",
              "      <td>2021-04-14</td>\n",
              "      <td>1.195743</td>\n",
              "      <td>2</td>\n",
              "      <td>1.191214</td>\n",
              "      <td>0.380200</td>\n",
              "      <td>-4130.957854</td>\n",
              "      <td>0.0</td>\n",
              "      <td>1.195743</td>\n",
              "      <td>1.195743</td>\n",
              "      <td>-4129.762111</td>\n",
              "      <td>1.0</td>\n",
              "    </tr>\n",
              "    <tr>\n",
              "      <th>481</th>\n",
              "      <td>502</td>\n",
              "      <td>2021-04-15</td>\n",
              "      <td>1.198236</td>\n",
              "      <td>3</td>\n",
              "      <td>1.195743</td>\n",
              "      <td>0.208490</td>\n",
              "      <td>-4130.960347</td>\n",
              "      <td>1.0</td>\n",
              "      <td>1.198236</td>\n",
              "      <td>2.396472</td>\n",
              "      <td>-4128.563875</td>\n",
              "      <td>2.0</td>\n",
              "    </tr>\n",
              "    <tr>\n",
              "      <th>482</th>\n",
              "      <td>503</td>\n",
              "      <td>2021-04-16</td>\n",
              "      <td>1.197074</td>\n",
              "      <td>4</td>\n",
              "      <td>1.198236</td>\n",
              "      <td>-0.096976</td>\n",
              "      <td>-4130.958023</td>\n",
              "      <td>0.0</td>\n",
              "      <td>1.197074</td>\n",
              "      <td>1.197074</td>\n",
              "      <td>-4129.760949</td>\n",
              "      <td>0.0</td>\n",
              "    </tr>\n",
              "    <tr>\n",
              "      <th>483</th>\n",
              "      <td>504</td>\n",
              "      <td>2021-04-19</td>\n",
              "      <td>1.196831</td>\n",
              "      <td>0</td>\n",
              "      <td>1.197074</td>\n",
              "      <td>-0.020299</td>\n",
              "      <td>-4130.957780</td>\n",
              "      <td>0.0</td>\n",
              "      <td>1.196831</td>\n",
              "      <td>1.196831</td>\n",
              "      <td>-4129.760949</td>\n",
              "      <td>1.0</td>\n",
              "    </tr>\n",
              "    <tr>\n",
              "      <th>484</th>\n",
              "      <td>505</td>\n",
              "      <td>2021-04-20</td>\n",
              "      <td>1.204384</td>\n",
              "      <td>1</td>\n",
              "      <td>1.196831</td>\n",
              "      <td>0.631083</td>\n",
              "      <td>-4130.965333</td>\n",
              "      <td>1.0</td>\n",
              "      <td>1.204384</td>\n",
              "      <td>2.408768</td>\n",
              "      <td>-4128.556565</td>\n",
              "      <td>0.0</td>\n",
              "    </tr>\n",
              "    <tr>\n",
              "      <th>485</th>\n",
              "      <td>506</td>\n",
              "      <td>2021-04-21</td>\n",
              "      <td>1.203254</td>\n",
              "      <td>2</td>\n",
              "      <td>1.204384</td>\n",
              "      <td>-0.093824</td>\n",
              "      <td>-4130.963073</td>\n",
              "      <td>0.0</td>\n",
              "      <td>1.203254</td>\n",
              "      <td>1.203254</td>\n",
              "      <td>-4129.759819</td>\n",
              "      <td>0.0</td>\n",
              "    </tr>\n",
              "    <tr>\n",
              "      <th>486</th>\n",
              "      <td>507</td>\n",
              "      <td>2021-04-22</td>\n",
              "      <td>1.203818</td>\n",
              "      <td>3</td>\n",
              "      <td>1.203254</td>\n",
              "      <td>0.046873</td>\n",
              "      <td>-4130.963637</td>\n",
              "      <td>1.0</td>\n",
              "      <td>1.203818</td>\n",
              "      <td>2.407636</td>\n",
              "      <td>-4128.556001</td>\n",
              "      <td>0.0</td>\n",
              "    </tr>\n",
              "    <tr>\n",
              "      <th>487</th>\n",
              "      <td>508</td>\n",
              "      <td>2021-04-23</td>\n",
              "      <td>1.201793</td>\n",
              "      <td>4</td>\n",
              "      <td>1.203818</td>\n",
              "      <td>-0.168215</td>\n",
              "      <td>-4130.959587</td>\n",
              "      <td>0.0</td>\n",
              "      <td>1.201793</td>\n",
              "      <td>1.201793</td>\n",
              "      <td>-4129.757794</td>\n",
              "      <td>0.0</td>\n",
              "    </tr>\n",
              "    <tr>\n",
              "      <th>488</th>\n",
              "      <td>509</td>\n",
              "      <td>2021-04-26</td>\n",
              "      <td>1.208956</td>\n",
              "      <td>0</td>\n",
              "      <td>1.201793</td>\n",
              "      <td>0.596026</td>\n",
              "      <td>-4130.966750</td>\n",
              "      <td>1.0</td>\n",
              "      <td>1.208956</td>\n",
              "      <td>2.417912</td>\n",
              "      <td>-4128.548838</td>\n",
              "      <td>0.0</td>\n",
              "    </tr>\n",
              "    <tr>\n",
              "      <th>489</th>\n",
              "      <td>510</td>\n",
              "      <td>2021-04-27</td>\n",
              "      <td>1.207921</td>\n",
              "      <td>1</td>\n",
              "      <td>1.208956</td>\n",
              "      <td>-0.085611</td>\n",
              "      <td>-4130.964680</td>\n",
              "      <td>0.0</td>\n",
              "      <td>1.207921</td>\n",
              "      <td>1.207921</td>\n",
              "      <td>-4129.756759</td>\n",
              "      <td>0.0</td>\n",
              "    </tr>\n",
              "    <tr>\n",
              "      <th>490</th>\n",
              "      <td>511</td>\n",
              "      <td>2021-04-28</td>\n",
              "      <td>1.208854</td>\n",
              "      <td>2</td>\n",
              "      <td>1.207921</td>\n",
              "      <td>0.077240</td>\n",
              "      <td>-4130.965613</td>\n",
              "      <td>1.0</td>\n",
              "      <td>1.208854</td>\n",
              "      <td>2.417708</td>\n",
              "      <td>-4128.547905</td>\n",
              "      <td>0.0</td>\n",
              "    </tr>\n",
              "    <tr>\n",
              "      <th>491</th>\n",
              "      <td>512</td>\n",
              "      <td>2021-04-29</td>\n",
              "      <td>1.213578</td>\n",
              "      <td>3</td>\n",
              "      <td>1.208854</td>\n",
              "      <td>0.390783</td>\n",
              "      <td>-4130.975061</td>\n",
              "      <td>2.0</td>\n",
              "      <td>-1.213578</td>\n",
              "      <td>-4.854312</td>\n",
              "      <td>-4135.829373</td>\n",
              "      <td>1.0</td>\n",
              "    </tr>\n",
              "    <tr>\n",
              "      <th>492</th>\n",
              "      <td>513</td>\n",
              "      <td>2021-04-30</td>\n",
              "      <td>1.212489</td>\n",
              "      <td>4</td>\n",
              "      <td>1.213578</td>\n",
              "      <td>-0.089735</td>\n",
              "      <td>-4140.679329</td>\n",
              "      <td>3.0</td>\n",
              "      <td>-1.212489</td>\n",
              "      <td>-9.699912</td>\n",
              "      <td>-4150.379241</td>\n",
              "      <td>0.0</td>\n",
              "    </tr>\n",
              "    <tr>\n",
              "      <th>493</th>\n",
              "      <td>514</td>\n",
              "      <td>2021-05-03</td>\n",
              "      <td>1.202646</td>\n",
              "      <td>0</td>\n",
              "      <td>1.212489</td>\n",
              "      <td>-0.811801</td>\n",
              "      <td>-4160.000409</td>\n",
              "      <td>4.0</td>\n",
              "      <td>1.202646</td>\n",
              "      <td>19.242336</td>\n",
              "      <td>-4140.758073</td>\n",
              "      <td>1.0</td>\n",
              "    </tr>\n",
              "    <tr>\n",
              "      <th>494</th>\n",
              "      <td>515</td>\n",
              "      <td>2021-05-04</td>\n",
              "      <td>1.205982</td>\n",
              "      <td>1</td>\n",
              "      <td>1.202646</td>\n",
              "      <td>0.277388</td>\n",
              "      <td>-4160.053785</td>\n",
              "      <td>5.0</td>\n",
              "      <td>-1.205982</td>\n",
              "      <td>-38.591424</td>\n",
              "      <td>-4198.645209</td>\n",
              "      <td>0.0</td>\n",
              "    </tr>\n",
              "    <tr>\n",
              "      <th>495</th>\n",
              "      <td>516</td>\n",
              "      <td>2021-05-05</td>\n",
              "      <td>1.201634</td>\n",
              "      <td>2</td>\n",
              "      <td>1.205982</td>\n",
              "      <td>-0.360536</td>\n",
              "      <td>-4237.097497</td>\n",
              "      <td>6.0</td>\n",
              "      <td>-1.201634</td>\n",
              "      <td>-76.904576</td>\n",
              "      <td>-4314.002073</td>\n",
              "      <td>0.0</td>\n",
              "    </tr>\n",
              "    <tr>\n",
              "      <th>496</th>\n",
              "      <td>517</td>\n",
              "      <td>2021-05-06</td>\n",
              "      <td>1.200913</td>\n",
              "      <td>3</td>\n",
              "      <td>1.201634</td>\n",
              "      <td>-0.060002</td>\n",
              "      <td>-4390.860505</td>\n",
              "      <td>7.0</td>\n",
              "      <td>1.200913</td>\n",
              "      <td>153.716864</td>\n",
              "      <td>-4237.143641</td>\n",
              "      <td>1.0</td>\n",
              "    </tr>\n",
              "    <tr>\n",
              "      <th>497</th>\n",
              "      <td>518</td>\n",
              "      <td>2021-05-07</td>\n",
              "      <td>1.206593</td>\n",
              "      <td>4</td>\n",
              "      <td>1.200913</td>\n",
              "      <td>0.472973</td>\n",
              "      <td>-4391.587545</td>\n",
              "      <td>8.0</td>\n",
              "      <td>-1.206593</td>\n",
              "      <td>-308.887808</td>\n",
              "      <td>-4700.475353</td>\n",
              "      <td>0.0</td>\n",
              "    </tr>\n",
              "    <tr>\n",
              "      <th>498</th>\n",
              "      <td>519</td>\n",
              "      <td>2021-05-10</td>\n",
              "      <td>1.216752</td>\n",
              "      <td>0</td>\n",
              "      <td>1.206593</td>\n",
              "      <td>0.841957</td>\n",
              "      <td>-5011.963865</td>\n",
              "      <td>0.0</td>\n",
              "      <td>1.216752</td>\n",
              "      <td>1.216752</td>\n",
              "      <td>-5010.747113</td>\n",
              "      <td>1.0</td>\n",
              "    </tr>\n",
              "    <tr>\n",
              "      <th>499</th>\n",
              "      <td>520</td>\n",
              "      <td>2021-05-11</td>\n",
              "      <td>1.214211</td>\n",
              "      <td>1</td>\n",
              "      <td>1.216752</td>\n",
              "      <td>-0.208835</td>\n",
              "      <td>-5011.961324</td>\n",
              "      <td>0.0</td>\n",
              "      <td>1.214211</td>\n",
              "      <td>1.214211</td>\n",
              "      <td>-5010.747113</td>\n",
              "      <td>0.0</td>\n",
              "    </tr>\n",
              "    <tr>\n",
              "      <th>500</th>\n",
              "      <td>521</td>\n",
              "      <td>2021-05-12</td>\n",
              "      <td>1.214550</td>\n",
              "      <td>2</td>\n",
              "      <td>1.214211</td>\n",
              "      <td>0.027919</td>\n",
              "      <td>-5011.961663</td>\n",
              "      <td>1.0</td>\n",
              "      <td>1.214550</td>\n",
              "      <td>2.429100</td>\n",
              "      <td>-5009.532563</td>\n",
              "      <td>0.0</td>\n",
              "    </tr>\n",
              "    <tr>\n",
              "      <th>501</th>\n",
              "      <td>522</td>\n",
              "      <td>2021-05-13</td>\n",
              "      <td>1.207686</td>\n",
              "      <td>3</td>\n",
              "      <td>1.214550</td>\n",
              "      <td>-0.565148</td>\n",
              "      <td>-5011.947935</td>\n",
              "      <td>0.0</td>\n",
              "      <td>1.207686</td>\n",
              "      <td>1.207686</td>\n",
              "      <td>-5010.740249</td>\n",
              "      <td>0.0</td>\n",
              "    </tr>\n",
              "    <tr>\n",
              "      <th>502</th>\n",
              "      <td>523</td>\n",
              "      <td>2021-05-14</td>\n",
              "      <td>1.208459</td>\n",
              "      <td>4</td>\n",
              "      <td>1.207686</td>\n",
              "      <td>0.064007</td>\n",
              "      <td>-5011.948708</td>\n",
              "      <td>1.0</td>\n",
              "      <td>-1.208459</td>\n",
              "      <td>-2.416918</td>\n",
              "      <td>-5014.365626</td>\n",
              "      <td>0.0</td>\n",
              "    </tr>\n",
              "  </tbody>\n",
              "</table>\n",
              "</div>"
            ],
            "text/plain": [
              "     index       Date      Open  ...        deal       result  trend\n",
              "473    494 2021-04-05  1.176637  ...    1.176637 -4003.557044    0.0\n",
              "474    495 2021-04-06  1.181907  ...    2.363814 -4002.375137    0.0\n",
              "475    496 2021-04-07  1.187550  ...   -4.750200 -4009.500437    1.0\n",
              "476    497 2021-04-08  1.187197  ...    9.497576 -4004.751649    0.0\n",
              "477    498 2021-04-09  1.191568  ...  -19.065088 -4033.349281    0.0\n",
              "478    499 2021-04-12  1.189641  ...  -38.068512 -4090.452049    0.0\n",
              "479    500 2021-04-13  1.191214  ...   -1.191214 -4129.762111    0.0\n",
              "480    501 2021-04-14  1.195743  ...    1.195743 -4129.762111    1.0\n",
              "481    502 2021-04-15  1.198236  ...    2.396472 -4128.563875    2.0\n",
              "482    503 2021-04-16  1.197074  ...    1.197074 -4129.760949    0.0\n",
              "483    504 2021-04-19  1.196831  ...    1.196831 -4129.760949    1.0\n",
              "484    505 2021-04-20  1.204384  ...    2.408768 -4128.556565    0.0\n",
              "485    506 2021-04-21  1.203254  ...    1.203254 -4129.759819    0.0\n",
              "486    507 2021-04-22  1.203818  ...    2.407636 -4128.556001    0.0\n",
              "487    508 2021-04-23  1.201793  ...    1.201793 -4129.757794    0.0\n",
              "488    509 2021-04-26  1.208956  ...    2.417912 -4128.548838    0.0\n",
              "489    510 2021-04-27  1.207921  ...    1.207921 -4129.756759    0.0\n",
              "490    511 2021-04-28  1.208854  ...    2.417708 -4128.547905    0.0\n",
              "491    512 2021-04-29  1.213578  ...   -4.854312 -4135.829373    1.0\n",
              "492    513 2021-04-30  1.212489  ...   -9.699912 -4150.379241    0.0\n",
              "493    514 2021-05-03  1.202646  ...   19.242336 -4140.758073    1.0\n",
              "494    515 2021-05-04  1.205982  ...  -38.591424 -4198.645209    0.0\n",
              "495    516 2021-05-05  1.201634  ...  -76.904576 -4314.002073    0.0\n",
              "496    517 2021-05-06  1.200913  ...  153.716864 -4237.143641    1.0\n",
              "497    518 2021-05-07  1.206593  ... -308.887808 -4700.475353    0.0\n",
              "498    519 2021-05-10  1.216752  ...    1.216752 -5010.747113    1.0\n",
              "499    520 2021-05-11  1.214211  ...    1.214211 -5010.747113    0.0\n",
              "500    521 2021-05-12  1.214550  ...    2.429100 -5009.532563    0.0\n",
              "501    522 2021-05-13  1.207686  ...    1.207686 -5010.740249    0.0\n",
              "502    523 2021-05-14  1.208459  ...   -2.416918 -5014.365626    0.0\n",
              "\n",
              "[30 rows x 12 columns]"
            ]
          },
          "metadata": {
            "tags": []
          },
          "execution_count": 1555
        }
      ]
    },
    {
      "cell_type": "code",
      "metadata": {
        "colab": {
          "base_uri": "https://localhost:8080/",
          "height": 297
        },
        "id": "CbNlYfbMQL5H",
        "outputId": "b29cd4ae-d187-4d1b-828b-cc46147bedfd"
      },
      "source": [
        "df2.describe()"
      ],
      "execution_count": 1556,
      "outputs": [
        {
          "output_type": "execute_result",
          "data": {
            "text/html": [
              "<div>\n",
              "<style scoped>\n",
              "    .dataframe tbody tr th:only-of-type {\n",
              "        vertical-align: middle;\n",
              "    }\n",
              "\n",
              "    .dataframe tbody tr th {\n",
              "        vertical-align: top;\n",
              "    }\n",
              "\n",
              "    .dataframe thead th {\n",
              "        text-align: right;\n",
              "    }\n",
              "</style>\n",
              "<table border=\"1\" class=\"dataframe\">\n",
              "  <thead>\n",
              "    <tr style=\"text-align: right;\">\n",
              "      <th></th>\n",
              "      <th>index</th>\n",
              "      <th>Open</th>\n",
              "      <th>DayOfWeek</th>\n",
              "      <th>Open-1</th>\n",
              "      <th>%Open</th>\n",
              "      <th>result after close</th>\n",
              "      <th>k</th>\n",
              "      <th>decision</th>\n",
              "      <th>deal</th>\n",
              "      <th>result</th>\n",
              "      <th>trend</th>\n",
              "    </tr>\n",
              "  </thead>\n",
              "  <tbody>\n",
              "    <tr>\n",
              "      <th>count</th>\n",
              "      <td>503.000000</td>\n",
              "      <td>503.000000</td>\n",
              "      <td>503.000000</td>\n",
              "      <td>502.000000</td>\n",
              "      <td>502.000000</td>\n",
              "      <td>503.000000</td>\n",
              "      <td>503.000000</td>\n",
              "      <td>503.000000</td>\n",
              "      <td>503.000000</td>\n",
              "      <td>503.000000</td>\n",
              "      <td>503.000000</td>\n",
              "    </tr>\n",
              "    <tr>\n",
              "      <th>mean</th>\n",
              "      <td>268.606362</td>\n",
              "      <td>1.145789</td>\n",
              "      <td>2.001988</td>\n",
              "      <td>1.145664</td>\n",
              "      <td>0.015402</td>\n",
              "      <td>-1413.586223</td>\n",
              "      <td>1.067594</td>\n",
              "      <td>0.107315</td>\n",
              "      <td>-1.179379</td>\n",
              "      <td>-1414.763369</td>\n",
              "      <td>1.053678</td>\n",
              "    </tr>\n",
              "    <tr>\n",
              "      <th>std</th>\n",
              "      <td>150.348997</td>\n",
              "      <td>0.044852</td>\n",
              "      <td>1.416323</td>\n",
              "      <td>0.044809</td>\n",
              "      <td>0.408680</td>\n",
              "      <td>1423.671815</td>\n",
              "      <td>1.575271</td>\n",
              "      <td>1.142768</td>\n",
              "      <td>39.367900</td>\n",
              "      <td>1426.887987</td>\n",
              "      <td>1.383994</td>\n",
              "    </tr>\n",
              "    <tr>\n",
              "      <th>min</th>\n",
              "      <td>0.000000</td>\n",
              "      <td>1.065848</td>\n",
              "      <td>0.000000</td>\n",
              "      <td>1.065848</td>\n",
              "      <td>-2.603845</td>\n",
              "      <td>-5011.963865</td>\n",
              "      <td>0.000000</td>\n",
              "      <td>-1.233776</td>\n",
              "      <td>-579.008512</td>\n",
              "      <td>-5014.365626</td>\n",
              "      <td>0.000000</td>\n",
              "    </tr>\n",
              "    <tr>\n",
              "      <th>25%</th>\n",
              "      <td>146.500000</td>\n",
              "      <td>1.108955</td>\n",
              "      <td>1.000000</td>\n",
              "      <td>1.108931</td>\n",
              "      <td>-0.243338</td>\n",
              "      <td>-2569.343874</td>\n",
              "      <td>0.000000</td>\n",
              "      <td>-1.122121</td>\n",
              "      <td>-1.201499</td>\n",
              "      <td>-2568.750867</td>\n",
              "      <td>0.000000</td>\n",
              "    </tr>\n",
              "    <tr>\n",
              "      <th>50%</th>\n",
              "      <td>272.000000</td>\n",
              "      <td>1.127548</td>\n",
              "      <td>2.000000</td>\n",
              "      <td>1.127414</td>\n",
              "      <td>0.017797</td>\n",
              "      <td>-473.362007</td>\n",
              "      <td>0.000000</td>\n",
              "      <td>1.091953</td>\n",
              "      <td>1.102293</td>\n",
              "      <td>-471.152667</td>\n",
              "      <td>1.000000</td>\n",
              "    </tr>\n",
              "    <tr>\n",
              "      <th>75%</th>\n",
              "      <td>397.500000</td>\n",
              "      <td>1.186205</td>\n",
              "      <td>3.000000</td>\n",
              "      <td>1.185793</td>\n",
              "      <td>0.264688</td>\n",
              "      <td>-220.581888</td>\n",
              "      <td>2.000000</td>\n",
              "      <td>1.137300</td>\n",
              "      <td>2.215416</td>\n",
              "      <td>-223.352384</td>\n",
              "      <td>2.000000</td>\n",
              "    </tr>\n",
              "    <tr>\n",
              "      <th>max</th>\n",
              "      <td>523.000000</td>\n",
              "      <td>1.233776</td>\n",
              "      <td>4.000000</td>\n",
              "      <td>1.233776</td>\n",
              "      <td>1.456985</td>\n",
              "      <td>0.000000</td>\n",
              "      <td>9.000000</td>\n",
              "      <td>1.226196</td>\n",
              "      <td>289.004288</td>\n",
              "      <td>0.000000</td>\n",
              "      <td>7.000000</td>\n",
              "    </tr>\n",
              "  </tbody>\n",
              "</table>\n",
              "</div>"
            ],
            "text/plain": [
              "            index        Open   DayOfWeek  ...        deal       result       trend\n",
              "count  503.000000  503.000000  503.000000  ...  503.000000   503.000000  503.000000\n",
              "mean   268.606362    1.145789    2.001988  ...   -1.179379 -1414.763369    1.053678\n",
              "std    150.348997    0.044852    1.416323  ...   39.367900  1426.887987    1.383994\n",
              "min      0.000000    1.065848    0.000000  ... -579.008512 -5014.365626    0.000000\n",
              "25%    146.500000    1.108955    1.000000  ...   -1.201499 -2568.750867    0.000000\n",
              "50%    272.000000    1.127548    2.000000  ...    1.102293  -471.152667    1.000000\n",
              "75%    397.500000    1.186205    3.000000  ...    2.215416  -223.352384    2.000000\n",
              "max    523.000000    1.233776    4.000000  ...  289.004288     0.000000    7.000000\n",
              "\n",
              "[8 rows x 11 columns]"
            ]
          },
          "metadata": {
            "tags": []
          },
          "execution_count": 1556
        }
      ]
    },
    {
      "cell_type": "code",
      "metadata": {
        "colab": {
          "base_uri": "https://localhost:8080/",
          "height": 294
        },
        "id": "mSwauWOFqE1f",
        "outputId": "724c6fb8-5d78-4f8f-b2e1-cf99f24a5cc6"
      },
      "source": [
        "df2.plot('Date', 'result')"
      ],
      "execution_count": 1557,
      "outputs": [
        {
          "output_type": "execute_result",
          "data": {
            "text/plain": [
              "<matplotlib.axes._subplots.AxesSubplot at 0x7f40e5e96590>"
            ]
          },
          "metadata": {
            "tags": []
          },
          "execution_count": 1557
        },
        {
          "output_type": "display_data",
          "data": {
            "image/png": "[encoded data removed]",
            "text/plain": [
              "<Figure size 432x288 with 1 Axes>"
            ]
          },
          "metadata": {
            "tags": [],
            "needs_background": "light"
          }
        }
      ]
    },
    {
      "cell_type": "code",
      "metadata": {
        "colab": {
          "base_uri": "https://localhost:8080/",
          "height": 337
        },
        "id": "vg3bekGdfaCw",
        "outputId": "97f74fca-622e-4031-b667-78b6f80499e5"
      },
      "source": [
        "plt.figure(figsize=(20,5))\n",
        "plt.plot(df2['Date'], df2['result'])"
      ],
      "execution_count": 1558,
      "outputs": [
        {
          "output_type": "execute_result",
          "data": {
            "text/plain": [
              "[<matplotlib.lines.Line2D at 0x7f40e7bce990>]"
            ]
          },
          "metadata": {
            "tags": []
          },
          "execution_count": 1558
        },
        {
          "output_type": "display_data",
          "data": {
            "image/png": "[encoded data removed]",
            "text/plain": [
              "<Figure size 1440x360 with 1 Axes>"
            ]
          },
          "metadata": {
            "tags": [],
            "needs_background": "light"
          }
        }
      ]
    },
    {
      "cell_type": "code",
      "metadata": {
        "colab": {
          "base_uri": "https://localhost:8080/",
          "height": 337
        },
        "id": "npHoHVlniPlh",
        "outputId": "035f7d7b-29ef-49c9-99d3-f14e731318c6"
      },
      "source": [
        "plt.figure(figsize=(20,5))\n",
        "plt.plot(df2['Date'], df2['k'])"
      ],
      "execution_count": 1559,
      "outputs": [
        {
          "output_type": "execute_result",
          "data": {
            "text/plain": [
              "[<matplotlib.lines.Line2D at 0x7f40e7bd8790>]"
            ]
          },
          "metadata": {
            "tags": []
          },
          "execution_count": 1559
        },
        {
          "output_type": "display_data",
          "data": {
            "image/png": "[encoded data removed]",
            "text/plain": [
              "<Figure size 1440x360 with 1 Axes>"
            ]
          },
          "metadata": {
            "tags": [],
            "needs_background": "light"
          }
        }
      ]
    }
  ]
}