{
  "nbformat": 4,
  "nbformat_minor": 0,
  "metadata": {
    "colab": {
      "name": "trade-strategy.ipynb",
      "provenance": [],
      "collapsed_sections": [],
      "authorship_tag": "ABX9TyNuN1wKEobEKE2h4uQpVWzF",
      "include_colab_link": true
    },
    "kernelspec": {
      "name": "python3",
      "display_name": "Python 3"
    },
    "language_info": {
      "name": "python"
    }
  },
  "cells": [
    {
      "cell_type": "markdown",
      "metadata": {
        "id": "view-in-github",
        "colab_type": "text"
      },
      "source": [
        "<a href=\"https://colab.research.google.com/github/v5v5/trading/blob/main/trade_strategy.ipynb\" target=\"_parent\"><img src=\"https://colab.research.google.com/assets/colab-badge.svg\" alt=\"Open In Colab\"/></a>"
      ]
    },
    {
      "cell_type": "markdown",
      "metadata": {
        "id": "HowU-l69T-Yb"
      },
      "source": [
        "URL to download quotes EURUSD\n",
        "\n",
        "http://export.finam.ru/EURUSD_210101_210425.csv?market=1&em=175924&code=EURUSD&apply=0&df=1&mf=1&yf=2021&from=01.01.2021&dt=25&mt=4&yt=2021&to=25.04.2021&p=8&f=EURUSD_210101_210425&e=.csv&cn=EURUSD&dtf=1&tmf=1&MSOR=0&mstime=on&mstimever=1&sep=3&sep2=1&datf=1&at=1"
      ]
    },
    {
      "cell_type": "code",
      "metadata": {
        "id": "pkKl4XBGVNGL"
      },
      "source": [
        "import pandas as pd\n",
        "from urllib.request import Request, urlopen\n",
        "from io import StringIO"
      ],
      "execution_count": 28,
      "outputs": []
    },
    {
      "cell_type": "code",
      "metadata": {
        "id": "5uSN1fAdT9pQ"
      },
      "source": [
        "# url = 'http://export.finam.ru/EURUSD_210101_210425.csv?market=1&em=175924&code=EURUSD&apply=0&df=1&mf=1&yf=2021&from=01.01.2021&dt=25&mt=4&yt=2021&to=25.04.2021&p=8&f=EURUSD_210101_210425&e=.csv&cn=EURUSD&dtf=1&tmf=1&MSOR=0&mstime=on&mstimever=1&sep=3&sep2=1&datf=1&at=1'\n",
        "# url = 'http://export.finam.ru/EURUSD_150101_210425.csv?market=1&em=175924&code=EURUSD&apply=0&df=1&mf=1&yf=2015&from=01.01.2015&dt=25&mt=4&yt=2021&to=25.04.2021&p=8&f=EURUSD_150101_210425&e=.csv&cn=EURUSD&dtf=1&tmf=1&MSOR=0&mstime=on&mstimever=1&sep=3&sep2=1&datf=1&at=1'\n",
        "url = 'http://export.finam.ru/EURUSD_000101_210425.csv' + \\\n",
        "'?market=1&em=175924&code=EURUSD&apply=0' + \\\n",
        "'&df=1&mf=1&yf=2000&from=01.01.2000&dt=25&mt=4&yt=2021&to=25.04.2021' + \\\n",
        "'&p=8&f=EURUSD_000101_210425&e=.csv&cn=EURUSD' + \\\n",
        "'&dtf=1&tmf=1' + \\\n",
        "'&MSOR=0&mstime=on&mstimever=1' + \\\n",
        "'&sep=3&sep2=1&datf=1&at=1'"
      ],
      "execution_count": 29,
      "outputs": []
    },
    {
      "cell_type": "code",
      "metadata": {
        "id": "5KvntWHZg8CO"
      },
      "source": [
        "req = Request(url, headers={'User-Agent': 'Mozilla/5.0'})\n",
        "page = urlopen(req)\n",
        "content = page.read()"
      ],
      "execution_count": 30,
      "outputs": []
    },
    {
      "cell_type": "code",
      "metadata": {
        "id": "MrUfRSxZp4Y9"
      },
      "source": [
        "text = content.decode('UTF-8')"
      ],
      "execution_count": 31,
      "outputs": []
    },
    {
      "cell_type": "code",
      "metadata": {
        "colab": {
          "base_uri": "https://localhost:8080/"
        },
        "id": "HIutb2KOhWlP",
        "outputId": "8ac470a8-efa9-4b8c-e2ab-d4cbbbc35d3d"
      },
      "source": [
        "print(text[:300])"
      ],
      "execution_count": 32,
      "outputs": [
        {
          "output_type": "stream",
          "text": [
            "<TICKER>;<PER>;<DATE>;<TIME>;<OPEN>;<HIGH>;<LOW>;<CLOSE>;<VOL>\r\n",
            "EURUSD;D;20130620;000000;292.6000000;300.0000000;244.5500000;278.2300000;4180\r\n",
            "EURUSD;D;20130621;000000;277.6000000;279.9000000;260.5000000;262.3800000;4930\r\n",
            "EURUSD;D;20130624;000000;265.8600000;265.8600000;254.0000000;254.5000000;6658\r\n"
          ],
          "name": "stdout"
        }
      ]
    },
    {
      "cell_type": "code",
      "metadata": {
        "id": "nyxhqBhKpBel"
      },
      "source": [
        "data = StringIO(text)"
      ],
      "execution_count": 33,
      "outputs": []
    },
    {
      "cell_type": "code",
      "metadata": {
        "id": "tso_dYdOVny7"
      },
      "source": [
        "df1 = pd.read_csv(data, sep=';', header='infer')"
      ],
      "execution_count": 34,
      "outputs": []
    },
    {
      "cell_type": "code",
      "metadata": {
        "colab": {
          "base_uri": "https://localhost:8080/",
          "height": 204
        },
        "id": "HSfrec0tWuMc",
        "outputId": "12d64829-734f-408f-a0c6-5781704919ed"
      },
      "source": [
        "df1.head()"
      ],
      "execution_count": 35,
      "outputs": [
        {
          "output_type": "execute_result",
          "data": {
            "text/html": [
              "<div>\n",
              "<style scoped>\n",
              "    .dataframe tbody tr th:only-of-type {\n",
              "        vertical-align: middle;\n",
              "    }\n",
              "\n",
              "    .dataframe tbody tr th {\n",
              "        vertical-align: top;\n",
              "    }\n",
              "\n",
              "    .dataframe thead th {\n",
              "        text-align: right;\n",
              "    }\n",
              "</style>\n",
              "<table border=\"1\" class=\"dataframe\">\n",
              "  <thead>\n",
              "    <tr style=\"text-align: right;\">\n",
              "      <th></th>\n",
              "      <th>&lt;TICKER&gt;</th>\n",
              "      <th>&lt;PER&gt;</th>\n",
              "      <th>&lt;DATE&gt;</th>\n",
              "      <th>&lt;TIME&gt;</th>\n",
              "      <th>&lt;OPEN&gt;</th>\n",
              "      <th>&lt;HIGH&gt;</th>\n",
              "      <th>&lt;LOW&gt;</th>\n",
              "      <th>&lt;CLOSE&gt;</th>\n",
              "      <th>&lt;VOL&gt;</th>\n",
              "    </tr>\n",
              "  </thead>\n",
              "  <tbody>\n",
              "    <tr>\n",
              "      <th>0</th>\n",
              "      <td>EURUSD</td>\n",
              "      <td>D</td>\n",
              "      <td>20130620</td>\n",
              "      <td>0</td>\n",
              "      <td>292.60</td>\n",
              "      <td>300.00</td>\n",
              "      <td>244.55</td>\n",
              "      <td>278.23</td>\n",
              "      <td>4180</td>\n",
              "    </tr>\n",
              "    <tr>\n",
              "      <th>1</th>\n",
              "      <td>EURUSD</td>\n",
              "      <td>D</td>\n",
              "      <td>20130621</td>\n",
              "      <td>0</td>\n",
              "      <td>277.60</td>\n",
              "      <td>279.90</td>\n",
              "      <td>260.50</td>\n",
              "      <td>262.38</td>\n",
              "      <td>4930</td>\n",
              "    </tr>\n",
              "    <tr>\n",
              "      <th>2</th>\n",
              "      <td>EURUSD</td>\n",
              "      <td>D</td>\n",
              "      <td>20130624</td>\n",
              "      <td>0</td>\n",
              "      <td>265.86</td>\n",
              "      <td>265.86</td>\n",
              "      <td>254.00</td>\n",
              "      <td>254.50</td>\n",
              "      <td>6658</td>\n",
              "    </tr>\n",
              "    <tr>\n",
              "      <th>3</th>\n",
              "      <td>EURUSD</td>\n",
              "      <td>D</td>\n",
              "      <td>20130625</td>\n",
              "      <td>0</td>\n",
              "      <td>251.19</td>\n",
              "      <td>255.94</td>\n",
              "      <td>244.95</td>\n",
              "      <td>252.17</td>\n",
              "      <td>5569</td>\n",
              "    </tr>\n",
              "    <tr>\n",
              "      <th>4</th>\n",
              "      <td>EURUSD</td>\n",
              "      <td>D</td>\n",
              "      <td>20130626</td>\n",
              "      <td>0</td>\n",
              "      <td>247.32</td>\n",
              "      <td>248.51</td>\n",
              "      <td>236.43</td>\n",
              "      <td>237.07</td>\n",
              "      <td>11800</td>\n",
              "    </tr>\n",
              "  </tbody>\n",
              "</table>\n",
              "</div>"
            ],
            "text/plain": [
              "  <TICKER> <PER>    <DATE>  <TIME>  <OPEN>  <HIGH>   <LOW>  <CLOSE>  <VOL>\n",
              "0   EURUSD     D  20130620       0  292.60  300.00  244.55   278.23   4180\n",
              "1   EURUSD     D  20130621       0  277.60  279.90  260.50   262.38   4930\n",
              "2   EURUSD     D  20130624       0  265.86  265.86  254.00   254.50   6658\n",
              "3   EURUSD     D  20130625       0  251.19  255.94  244.95   252.17   5569\n",
              "4   EURUSD     D  20130626       0  247.32  248.51  236.43   237.07  11800"
            ]
          },
          "metadata": {
            "tags": []
          },
          "execution_count": 35
        }
      ]
    },
    {
      "cell_type": "code",
      "metadata": {
        "id": "6un_q5_JkV79"
      },
      "source": [
        "df1['<DATE-FORMATED>'] = pd.to_datetime(df1['<DATE>'], format='%Y%m%d')"
      ],
      "execution_count": 36,
      "outputs": []
    },
    {
      "cell_type": "code",
      "metadata": {
        "colab": {
          "base_uri": "https://localhost:8080/",
          "height": 204
        },
        "id": "CAWUH4jfl0-Y",
        "outputId": "645dda9e-6cc5-465e-f9fd-021a39d71dc7"
      },
      "source": [
        "df1.head()"
      ],
      "execution_count": 37,
      "outputs": [
        {
          "output_type": "execute_result",
          "data": {
            "text/html": [
              "<div>\n",
              "<style scoped>\n",
              "    .dataframe tbody tr th:only-of-type {\n",
              "        vertical-align: middle;\n",
              "    }\n",
              "\n",
              "    .dataframe tbody tr th {\n",
              "        vertical-align: top;\n",
              "    }\n",
              "\n",
              "    .dataframe thead th {\n",
              "        text-align: right;\n",
              "    }\n",
              "</style>\n",
              "<table border=\"1\" class=\"dataframe\">\n",
              "  <thead>\n",
              "    <tr style=\"text-align: right;\">\n",
              "      <th></th>\n",
              "      <th>&lt;TICKER&gt;</th>\n",
              "      <th>&lt;PER&gt;</th>\n",
              "      <th>&lt;DATE&gt;</th>\n",
              "      <th>&lt;TIME&gt;</th>\n",
              "      <th>&lt;OPEN&gt;</th>\n",
              "      <th>&lt;HIGH&gt;</th>\n",
              "      <th>&lt;LOW&gt;</th>\n",
              "      <th>&lt;CLOSE&gt;</th>\n",
              "      <th>&lt;VOL&gt;</th>\n",
              "      <th>&lt;DATE-FORMATED&gt;</th>\n",
              "    </tr>\n",
              "  </thead>\n",
              "  <tbody>\n",
              "    <tr>\n",
              "      <th>0</th>\n",
              "      <td>EURUSD</td>\n",
              "      <td>D</td>\n",
              "      <td>20130620</td>\n",
              "      <td>0</td>\n",
              "      <td>292.60</td>\n",
              "      <td>300.00</td>\n",
              "      <td>244.55</td>\n",
              "      <td>278.23</td>\n",
              "      <td>4180</td>\n",
              "      <td>2013-06-20</td>\n",
              "    </tr>\n",
              "    <tr>\n",
              "      <th>1</th>\n",
              "      <td>EURUSD</td>\n",
              "      <td>D</td>\n",
              "      <td>20130621</td>\n",
              "      <td>0</td>\n",
              "      <td>277.60</td>\n",
              "      <td>279.90</td>\n",
              "      <td>260.50</td>\n",
              "      <td>262.38</td>\n",
              "      <td>4930</td>\n",
              "      <td>2013-06-21</td>\n",
              "    </tr>\n",
              "    <tr>\n",
              "      <th>2</th>\n",
              "      <td>EURUSD</td>\n",
              "      <td>D</td>\n",
              "      <td>20130624</td>\n",
              "      <td>0</td>\n",
              "      <td>265.86</td>\n",
              "      <td>265.86</td>\n",
              "      <td>254.00</td>\n",
              "      <td>254.50</td>\n",
              "      <td>6658</td>\n",
              "      <td>2013-06-24</td>\n",
              "    </tr>\n",
              "    <tr>\n",
              "      <th>3</th>\n",
              "      <td>EURUSD</td>\n",
              "      <td>D</td>\n",
              "      <td>20130625</td>\n",
              "      <td>0</td>\n",
              "      <td>251.19</td>\n",
              "      <td>255.94</td>\n",
              "      <td>244.95</td>\n",
              "      <td>252.17</td>\n",
              "      <td>5569</td>\n",
              "      <td>2013-06-25</td>\n",
              "    </tr>\n",
              "    <tr>\n",
              "      <th>4</th>\n",
              "      <td>EURUSD</td>\n",
              "      <td>D</td>\n",
              "      <td>20130626</td>\n",
              "      <td>0</td>\n",
              "      <td>247.32</td>\n",
              "      <td>248.51</td>\n",
              "      <td>236.43</td>\n",
              "      <td>237.07</td>\n",
              "      <td>11800</td>\n",
              "      <td>2013-06-26</td>\n",
              "    </tr>\n",
              "  </tbody>\n",
              "</table>\n",
              "</div>"
            ],
            "text/plain": [
              "  <TICKER> <PER>    <DATE>  <TIME>  ...   <LOW>  <CLOSE>  <VOL>  <DATE-FORMATED>\n",
              "0   EURUSD     D  20130620       0  ...  244.55   278.23   4180       2013-06-20\n",
              "1   EURUSD     D  20130621       0  ...  260.50   262.38   4930       2013-06-21\n",
              "2   EURUSD     D  20130624       0  ...  254.00   254.50   6658       2013-06-24\n",
              "3   EURUSD     D  20130625       0  ...  244.95   252.17   5569       2013-06-25\n",
              "4   EURUSD     D  20130626       0  ...  236.43   237.07  11800       2013-06-26\n",
              "\n",
              "[5 rows x 10 columns]"
            ]
          },
          "metadata": {
            "tags": []
          },
          "execution_count": 37
        }
      ]
    },
    {
      "cell_type": "code",
      "metadata": {
        "id": "eRwjQgzGmCBm"
      },
      "source": [
        "df1['<DAY-OF-WEEK>'] = df1['<DATE-FORMATED>'].dt.dayofweek"
      ],
      "execution_count": 38,
      "outputs": []
    },
    {
      "cell_type": "code",
      "metadata": {
        "colab": {
          "base_uri": "https://localhost:8080/",
          "height": 204
        },
        "id": "NLF_R44LnKkY",
        "outputId": "c66a3d82-d7a6-48bb-9904-156b598ccb2a"
      },
      "source": [
        "df1.head()"
      ],
      "execution_count": 39,
      "outputs": [
        {
          "output_type": "execute_result",
          "data": {
            "text/html": [
              "<div>\n",
              "<style scoped>\n",
              "    .dataframe tbody tr th:only-of-type {\n",
              "        vertical-align: middle;\n",
              "    }\n",
              "\n",
              "    .dataframe tbody tr th {\n",
              "        vertical-align: top;\n",
              "    }\n",
              "\n",
              "    .dataframe thead th {\n",
              "        text-align: right;\n",
              "    }\n",
              "</style>\n",
              "<table border=\"1\" class=\"dataframe\">\n",
              "  <thead>\n",
              "    <tr style=\"text-align: right;\">\n",
              "      <th></th>\n",
              "      <th>&lt;TICKER&gt;</th>\n",
              "      <th>&lt;PER&gt;</th>\n",
              "      <th>&lt;DATE&gt;</th>\n",
              "      <th>&lt;TIME&gt;</th>\n",
              "      <th>&lt;OPEN&gt;</th>\n",
              "      <th>&lt;HIGH&gt;</th>\n",
              "      <th>&lt;LOW&gt;</th>\n",
              "      <th>&lt;CLOSE&gt;</th>\n",
              "      <th>&lt;VOL&gt;</th>\n",
              "      <th>&lt;DATE-FORMATED&gt;</th>\n",
              "      <th>&lt;DAY-OF-WEEK&gt;</th>\n",
              "    </tr>\n",
              "  </thead>\n",
              "  <tbody>\n",
              "    <tr>\n",
              "      <th>0</th>\n",
              "      <td>EURUSD</td>\n",
              "      <td>D</td>\n",
              "      <td>20130620</td>\n",
              "      <td>0</td>\n",
              "      <td>292.60</td>\n",
              "      <td>300.00</td>\n",
              "      <td>244.55</td>\n",
              "      <td>278.23</td>\n",
              "      <td>4180</td>\n",
              "      <td>2013-06-20</td>\n",
              "      <td>3</td>\n",
              "    </tr>\n",
              "    <tr>\n",
              "      <th>1</th>\n",
              "      <td>EURUSD</td>\n",
              "      <td>D</td>\n",
              "      <td>20130621</td>\n",
              "      <td>0</td>\n",
              "      <td>277.60</td>\n",
              "      <td>279.90</td>\n",
              "      <td>260.50</td>\n",
              "      <td>262.38</td>\n",
              "      <td>4930</td>\n",
              "      <td>2013-06-21</td>\n",
              "      <td>4</td>\n",
              "    </tr>\n",
              "    <tr>\n",
              "      <th>2</th>\n",
              "      <td>EURUSD</td>\n",
              "      <td>D</td>\n",
              "      <td>20130624</td>\n",
              "      <td>0</td>\n",
              "      <td>265.86</td>\n",
              "      <td>265.86</td>\n",
              "      <td>254.00</td>\n",
              "      <td>254.50</td>\n",
              "      <td>6658</td>\n",
              "      <td>2013-06-24</td>\n",
              "      <td>0</td>\n",
              "    </tr>\n",
              "    <tr>\n",
              "      <th>3</th>\n",
              "      <td>EURUSD</td>\n",
              "      <td>D</td>\n",
              "      <td>20130625</td>\n",
              "      <td>0</td>\n",
              "      <td>251.19</td>\n",
              "      <td>255.94</td>\n",
              "      <td>244.95</td>\n",
              "      <td>252.17</td>\n",
              "      <td>5569</td>\n",
              "      <td>2013-06-25</td>\n",
              "      <td>1</td>\n",
              "    </tr>\n",
              "    <tr>\n",
              "      <th>4</th>\n",
              "      <td>EURUSD</td>\n",
              "      <td>D</td>\n",
              "      <td>20130626</td>\n",
              "      <td>0</td>\n",
              "      <td>247.32</td>\n",
              "      <td>248.51</td>\n",
              "      <td>236.43</td>\n",
              "      <td>237.07</td>\n",
              "      <td>11800</td>\n",
              "      <td>2013-06-26</td>\n",
              "      <td>2</td>\n",
              "    </tr>\n",
              "  </tbody>\n",
              "</table>\n",
              "</div>"
            ],
            "text/plain": [
              "  <TICKER> <PER>    <DATE>  ...  <VOL>  <DATE-FORMATED>  <DAY-OF-WEEK>\n",
              "0   EURUSD     D  20130620  ...   4180       2013-06-20              3\n",
              "1   EURUSD     D  20130621  ...   4930       2013-06-21              4\n",
              "2   EURUSD     D  20130624  ...   6658       2013-06-24              0\n",
              "3   EURUSD     D  20130625  ...   5569       2013-06-25              1\n",
              "4   EURUSD     D  20130626  ...  11800       2013-06-26              2\n",
              "\n",
              "[5 rows x 11 columns]"
            ]
          },
          "metadata": {
            "tags": []
          },
          "execution_count": 39
        }
      ]
    },
    {
      "cell_type": "code",
      "metadata": {
        "id": "isV-KVPm_mxb"
      },
      "source": [
        "df2 = df1.drop(['<TICKER>','<PER>','<DATE>','<TIME>','<HIGH>', '<LOW>', '<VOL>'], axis=1)"
      ],
      "execution_count": 47,
      "outputs": []
    },
    {
      "cell_type": "code",
      "metadata": {
        "colab": {
          "base_uri": "https://localhost:8080/",
          "height": 204
        },
        "id": "BoXK3TqGAW19",
        "outputId": "145cc851-68e1-4ce1-88f9-ffa304f97203"
      },
      "source": [
        "df2.head()"
      ],
      "execution_count": 48,
      "outputs": [
        {
          "output_type": "execute_result",
          "data": {
            "text/html": [
              "<div>\n",
              "<style scoped>\n",
              "    .dataframe tbody tr th:only-of-type {\n",
              "        vertical-align: middle;\n",
              "    }\n",
              "\n",
              "    .dataframe tbody tr th {\n",
              "        vertical-align: top;\n",
              "    }\n",
              "\n",
              "    .dataframe thead th {\n",
              "        text-align: right;\n",
              "    }\n",
              "</style>\n",
              "<table border=\"1\" class=\"dataframe\">\n",
              "  <thead>\n",
              "    <tr style=\"text-align: right;\">\n",
              "      <th></th>\n",
              "      <th>&lt;OPEN&gt;</th>\n",
              "      <th>&lt;CLOSE&gt;</th>\n",
              "      <th>&lt;DATE-FORMATED&gt;</th>\n",
              "      <th>&lt;DAY-OF-WEEK&gt;</th>\n",
              "    </tr>\n",
              "  </thead>\n",
              "  <tbody>\n",
              "    <tr>\n",
              "      <th>0</th>\n",
              "      <td>292.60</td>\n",
              "      <td>278.23</td>\n",
              "      <td>2013-06-20</td>\n",
              "      <td>3</td>\n",
              "    </tr>\n",
              "    <tr>\n",
              "      <th>1</th>\n",
              "      <td>277.60</td>\n",
              "      <td>262.38</td>\n",
              "      <td>2013-06-21</td>\n",
              "      <td>4</td>\n",
              "    </tr>\n",
              "    <tr>\n",
              "      <th>2</th>\n",
              "      <td>265.86</td>\n",
              "      <td>254.50</td>\n",
              "      <td>2013-06-24</td>\n",
              "      <td>0</td>\n",
              "    </tr>\n",
              "    <tr>\n",
              "      <th>3</th>\n",
              "      <td>251.19</td>\n",
              "      <td>252.17</td>\n",
              "      <td>2013-06-25</td>\n",
              "      <td>1</td>\n",
              "    </tr>\n",
              "    <tr>\n",
              "      <th>4</th>\n",
              "      <td>247.32</td>\n",
              "      <td>237.07</td>\n",
              "      <td>2013-06-26</td>\n",
              "      <td>2</td>\n",
              "    </tr>\n",
              "  </tbody>\n",
              "</table>\n",
              "</div>"
            ],
            "text/plain": [
              "   <OPEN>  <CLOSE> <DATE-FORMATED>  <DAY-OF-WEEK>\n",
              "0  292.60   278.23      2013-06-20              3\n",
              "1  277.60   262.38      2013-06-21              4\n",
              "2  265.86   254.50      2013-06-24              0\n",
              "3  251.19   252.17      2013-06-25              1\n",
              "4  247.32   237.07      2013-06-26              2"
            ]
          },
          "metadata": {
            "tags": []
          },
          "execution_count": 48
        }
      ]
    }
  ]
}