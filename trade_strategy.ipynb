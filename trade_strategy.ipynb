{
  "nbformat": 4,
  "nbformat_minor": 0,
  "metadata": {
    "colab": {
      "name": "trade-strategy.ipynb",
      "provenance": [],
      "collapsed_sections": [],
      "authorship_tag": "ABX9TyNbO6ORBM1to5nMXlJ4z/p/",
      "include_colab_link": true
    },
    "kernelspec": {
      "name": "python3",
      "display_name": "Python 3"
    },
    "language_info": {
      "name": "python"
    }
  },
  "cells": [
    {
      "cell_type": "markdown",
      "metadata": {
        "id": "view-in-github",
        "colab_type": "text"
      },
      "source": [
        "<a href=\"https://colab.research.google.com/github/v5v5/trading/blob/main/trade_strategy.ipynb\" target=\"_parent\"><img src=\"https://colab.research.google.com/assets/colab-badge.svg\" alt=\"Open In Colab\"/></a>"
      ]
    },
    {
      "cell_type": "markdown",
      "metadata": {
        "id": "HowU-l69T-Yb"
      },
      "source": [
        "URL to download quotes EURUSD\n",
        "\n",
        "https://query1.finance.yahoo.com/v7/finance/download/EURUSD=X?period1=1262304000&period2=1619654400&interval=1d&events=history&includeAdjustedClose=true"
      ]
    },
    {
      "cell_type": "code",
      "metadata": {
        "id": "pkKl4XBGVNGL"
      },
      "source": [
        "import pandas as pd\n",
        "from urllib.request import Request, urlopen\n",
        "from io import StringIO\n",
        "import datetime\n",
        "import time\n",
        "import random\n",
        "import math"
      ],
      "execution_count": 163,
      "outputs": []
    },
    {
      "cell_type": "code",
      "metadata": {
        "colab": {
          "base_uri": "https://localhost:8080/",
          "height": 35
        },
        "id": "oAMusJ7Vfxou",
        "outputId": "ad2ca91d-d1a7-4003-d9ee-1a05e09e88d6"
      },
      "source": [
        "# dt_from = datetime.date(2000,1,1)\n",
        "dt_from = datetime.date(2019,1,1)\n",
        "ut_from = str(int(time.mktime(dt_from.timetuple())))\n",
        "ut_from"
      ],
      "execution_count": 164,
      "outputs": [
        {
          "output_type": "execute_result",
          "data": {
            "application/vnd.google.colaboratory.intrinsic+json": {
              "type": "string"
            },
            "text/plain": [
              "'1546300800'"
            ]
          },
          "metadata": {
            "tags": []
          },
          "execution_count": 164
        }
      ]
    },
    {
      "cell_type": "code",
      "metadata": {
        "colab": {
          "base_uri": "https://localhost:8080/",
          "height": 35
        },
        "id": "3iBED0CihYSB",
        "outputId": "058158b4-a8d8-467a-be30-c729ed6bbc96"
      },
      "source": [
        "dt_to = datetime.date.today()\n",
        "ut_to = str(int(time.mktime(dt_to.timetuple())))\n",
        "ut_to"
      ],
      "execution_count": 165,
      "outputs": [
        {
          "output_type": "execute_result",
          "data": {
            "application/vnd.google.colaboratory.intrinsic+json": {
              "type": "string"
            },
            "text/plain": [
              "'1619740800'"
            ]
          },
          "metadata": {
            "tags": []
          },
          "execution_count": 165
        }
      ]
    },
    {
      "cell_type": "code",
      "metadata": {
        "id": "ZWbh4rFCYsiA"
      },
      "source": [
        "# url='https://query1.finance.yahoo.com/v7/finance/download/EURUSD=X?period1=1262304000&period2=1619654400&interval=1d&events=history&includeAdjustedClose=true'\n",
        "url='https://query1.finance.yahoo.com/v7/finance/download/EURUSD=X?period1=' + ut_from + '&period2=' + ut_to + '&interval=1d&events=history&includeAdjustedClose=true'"
      ],
      "execution_count": 166,
      "outputs": []
    },
    {
      "cell_type": "code",
      "metadata": {
        "id": "ictpemgHTnaU"
      },
      "source": [
        "headers={'User-Agent': 'Mozilla/5.0'}"
      ],
      "execution_count": 167,
      "outputs": []
    },
    {
      "cell_type": "code",
      "metadata": {
        "id": "5KvntWHZg8CO"
      },
      "source": [
        "req = Request(url, headers=headers)"
      ],
      "execution_count": 168,
      "outputs": []
    },
    {
      "cell_type": "code",
      "metadata": {
        "id": "d2anZTnFSg6y"
      },
      "source": [
        "page = urlopen(req)\n",
        "# page = urlopen(url)"
      ],
      "execution_count": 169,
      "outputs": []
    },
    {
      "cell_type": "code",
      "metadata": {
        "id": "tOtCSrjqY2b6"
      },
      "source": [
        "page = urlopen(url)"
      ],
      "execution_count": 170,
      "outputs": []
    },
    {
      "cell_type": "code",
      "metadata": {
        "id": "W7BmUlFOSjXh"
      },
      "source": [
        "content = page.read()"
      ],
      "execution_count": 171,
      "outputs": []
    },
    {
      "cell_type": "code",
      "metadata": {
        "id": "MrUfRSxZp4Y9"
      },
      "source": [
        "text = content.decode('UTF-8')"
      ],
      "execution_count": 172,
      "outputs": []
    },
    {
      "cell_type": "code",
      "metadata": {
        "colab": {
          "base_uri": "https://localhost:8080/"
        },
        "id": "HIutb2KOhWlP",
        "outputId": "b4626594-eaca-404b-fe78-e43b106b62ae"
      },
      "source": [
        "print(text[:300])"
      ],
      "execution_count": 173,
      "outputs": [
        {
          "output_type": "stream",
          "text": [
            "Date,Open,High,Low,Close,Adj Close,Volume\n",
            "2019-01-01,1.149425,1.155001,1.146500,1.149306,1.149306,0\n",
            "2019-01-02,1.146132,1.149700,1.134572,1.146171,1.146171,0\n",
            "2019-01-03,1.131734,1.140914,1.131734,1.131811,1.131811,0\n",
            "2019-01-04,1.139095,1.141774,1.134816,1.139108,1.139108,0\n",
            "2019-01-07,1.141292,1.1474\n"
          ],
          "name": "stdout"
        }
      ]
    },
    {
      "cell_type": "code",
      "metadata": {
        "id": "nyxhqBhKpBel"
      },
      "source": [
        "data = StringIO(text)"
      ],
      "execution_count": 174,
      "outputs": []
    },
    {
      "cell_type": "code",
      "metadata": {
        "id": "tso_dYdOVny7"
      },
      "source": [
        "df1 = pd.read_csv(data, sep=',', header='infer')"
      ],
      "execution_count": 175,
      "outputs": []
    },
    {
      "cell_type": "code",
      "metadata": {
        "colab": {
          "base_uri": "https://localhost:8080/",
          "height": 266
        },
        "id": "CAWUH4jfl0-Y",
        "outputId": "d5cdd206-6334-4a11-968e-c095dfae558f"
      },
      "source": [
        "df1.tail(7)"
      ],
      "execution_count": 176,
      "outputs": [
        {
          "output_type": "execute_result",
          "data": {
            "text/html": [
              "<div>\n",
              "<style scoped>\n",
              "    .dataframe tbody tr th:only-of-type {\n",
              "        vertical-align: middle;\n",
              "    }\n",
              "\n",
              "    .dataframe tbody tr th {\n",
              "        vertical-align: top;\n",
              "    }\n",
              "\n",
              "    .dataframe thead th {\n",
              "        text-align: right;\n",
              "    }\n",
              "</style>\n",
              "<table border=\"1\" class=\"dataframe\">\n",
              "  <thead>\n",
              "    <tr style=\"text-align: right;\">\n",
              "      <th></th>\n",
              "      <th>Date</th>\n",
              "      <th>Open</th>\n",
              "      <th>High</th>\n",
              "      <th>Low</th>\n",
              "      <th>Close</th>\n",
              "      <th>Adj Close</th>\n",
              "      <th>Volume</th>\n",
              "    </tr>\n",
              "  </thead>\n",
              "  <tbody>\n",
              "    <tr>\n",
              "      <th>602</th>\n",
              "      <td>2021-04-22</td>\n",
              "      <td>1.203818</td>\n",
              "      <td>1.207001</td>\n",
              "      <td>1.200394</td>\n",
              "      <td>1.203775</td>\n",
              "      <td>1.203775</td>\n",
              "      <td>0.0</td>\n",
              "    </tr>\n",
              "    <tr>\n",
              "      <th>603</th>\n",
              "      <td>2021-04-23</td>\n",
              "      <td>1.201793</td>\n",
              "      <td>1.207799</td>\n",
              "      <td>1.201389</td>\n",
              "      <td>1.201475</td>\n",
              "      <td>1.201475</td>\n",
              "      <td>0.0</td>\n",
              "    </tr>\n",
              "    <tr>\n",
              "      <th>604</th>\n",
              "      <td>2021-04-26</td>\n",
              "      <td>1.208956</td>\n",
              "      <td>1.211827</td>\n",
              "      <td>1.206374</td>\n",
              "      <td>1.208985</td>\n",
              "      <td>1.208985</td>\n",
              "      <td>0.0</td>\n",
              "    </tr>\n",
              "    <tr>\n",
              "      <th>605</th>\n",
              "      <td>2021-04-27</td>\n",
              "      <td>1.207921</td>\n",
              "      <td>1.209190</td>\n",
              "      <td>1.205793</td>\n",
              "      <td>1.208167</td>\n",
              "      <td>1.208167</td>\n",
              "      <td>0.0</td>\n",
              "    </tr>\n",
              "    <tr>\n",
              "      <th>606</th>\n",
              "      <td>2021-04-28</td>\n",
              "      <td>1.208854</td>\n",
              "      <td>1.210214</td>\n",
              "      <td>1.205764</td>\n",
              "      <td>1.209031</td>\n",
              "      <td>1.209031</td>\n",
              "      <td>0.0</td>\n",
              "    </tr>\n",
              "    <tr>\n",
              "      <th>607</th>\n",
              "      <td>2021-04-29</td>\n",
              "      <td>1.213578</td>\n",
              "      <td>1.215214</td>\n",
              "      <td>1.210419</td>\n",
              "      <td>1.213592</td>\n",
              "      <td>1.213592</td>\n",
              "      <td>0.0</td>\n",
              "    </tr>\n",
              "    <tr>\n",
              "      <th>608</th>\n",
              "      <td>2021-04-30</td>\n",
              "      <td>1.212562</td>\n",
              "      <td>1.213298</td>\n",
              "      <td>1.211974</td>\n",
              "      <td>1.211974</td>\n",
              "      <td>1.211974</td>\n",
              "      <td>0.0</td>\n",
              "    </tr>\n",
              "  </tbody>\n",
              "</table>\n",
              "</div>"
            ],
            "text/plain": [
              "           Date      Open      High       Low     Close  Adj Close  Volume\n",
              "602  2021-04-22  1.203818  1.207001  1.200394  1.203775   1.203775     0.0\n",
              "603  2021-04-23  1.201793  1.207799  1.201389  1.201475   1.201475     0.0\n",
              "604  2021-04-26  1.208956  1.211827  1.206374  1.208985   1.208985     0.0\n",
              "605  2021-04-27  1.207921  1.209190  1.205793  1.208167   1.208167     0.0\n",
              "606  2021-04-28  1.208854  1.210214  1.205764  1.209031   1.209031     0.0\n",
              "607  2021-04-29  1.213578  1.215214  1.210419  1.213592   1.213592     0.0\n",
              "608  2021-04-30  1.212562  1.213298  1.211974  1.211974   1.211974     0.0"
            ]
          },
          "metadata": {
            "tags": []
          },
          "execution_count": 176
        }
      ]
    },
    {
      "cell_type": "code",
      "metadata": {
        "id": "iDDbrBeGci0d"
      },
      "source": [
        "df1['Date'] = pd.to_datetime(df1['Date'], errors='coerce')"
      ],
      "execution_count": 177,
      "outputs": []
    },
    {
      "cell_type": "code",
      "metadata": {
        "id": "eRwjQgzGmCBm"
      },
      "source": [
        "df1['DayOfWeek'] = df1['Date'].dt.dayofweek"
      ],
      "execution_count": 178,
      "outputs": []
    },
    {
      "cell_type": "code",
      "metadata": {
        "colab": {
          "base_uri": "https://localhost:8080/",
          "height": 266
        },
        "id": "NLF_R44LnKkY",
        "outputId": "227fcb11-df65-4101-c090-93f33be620ee"
      },
      "source": [
        "df1.tail(7)"
      ],
      "execution_count": 179,
      "outputs": [
        {
          "output_type": "execute_result",
          "data": {
            "text/html": [
              "<div>\n",
              "<style scoped>\n",
              "    .dataframe tbody tr th:only-of-type {\n",
              "        vertical-align: middle;\n",
              "    }\n",
              "\n",
              "    .dataframe tbody tr th {\n",
              "        vertical-align: top;\n",
              "    }\n",
              "\n",
              "    .dataframe thead th {\n",
              "        text-align: right;\n",
              "    }\n",
              "</style>\n",
              "<table border=\"1\" class=\"dataframe\">\n",
              "  <thead>\n",
              "    <tr style=\"text-align: right;\">\n",
              "      <th></th>\n",
              "      <th>Date</th>\n",
              "      <th>Open</th>\n",
              "      <th>High</th>\n",
              "      <th>Low</th>\n",
              "      <th>Close</th>\n",
              "      <th>Adj Close</th>\n",
              "      <th>Volume</th>\n",
              "      <th>DayOfWeek</th>\n",
              "    </tr>\n",
              "  </thead>\n",
              "  <tbody>\n",
              "    <tr>\n",
              "      <th>602</th>\n",
              "      <td>2021-04-22</td>\n",
              "      <td>1.203818</td>\n",
              "      <td>1.207001</td>\n",
              "      <td>1.200394</td>\n",
              "      <td>1.203775</td>\n",
              "      <td>1.203775</td>\n",
              "      <td>0.0</td>\n",
              "      <td>3</td>\n",
              "    </tr>\n",
              "    <tr>\n",
              "      <th>603</th>\n",
              "      <td>2021-04-23</td>\n",
              "      <td>1.201793</td>\n",
              "      <td>1.207799</td>\n",
              "      <td>1.201389</td>\n",
              "      <td>1.201475</td>\n",
              "      <td>1.201475</td>\n",
              "      <td>0.0</td>\n",
              "      <td>4</td>\n",
              "    </tr>\n",
              "    <tr>\n",
              "      <th>604</th>\n",
              "      <td>2021-04-26</td>\n",
              "      <td>1.208956</td>\n",
              "      <td>1.211827</td>\n",
              "      <td>1.206374</td>\n",
              "      <td>1.208985</td>\n",
              "      <td>1.208985</td>\n",
              "      <td>0.0</td>\n",
              "      <td>0</td>\n",
              "    </tr>\n",
              "    <tr>\n",
              "      <th>605</th>\n",
              "      <td>2021-04-27</td>\n",
              "      <td>1.207921</td>\n",
              "      <td>1.209190</td>\n",
              "      <td>1.205793</td>\n",
              "      <td>1.208167</td>\n",
              "      <td>1.208167</td>\n",
              "      <td>0.0</td>\n",
              "      <td>1</td>\n",
              "    </tr>\n",
              "    <tr>\n",
              "      <th>606</th>\n",
              "      <td>2021-04-28</td>\n",
              "      <td>1.208854</td>\n",
              "      <td>1.210214</td>\n",
              "      <td>1.205764</td>\n",
              "      <td>1.209031</td>\n",
              "      <td>1.209031</td>\n",
              "      <td>0.0</td>\n",
              "      <td>2</td>\n",
              "    </tr>\n",
              "    <tr>\n",
              "      <th>607</th>\n",
              "      <td>2021-04-29</td>\n",
              "      <td>1.213578</td>\n",
              "      <td>1.215214</td>\n",
              "      <td>1.210419</td>\n",
              "      <td>1.213592</td>\n",
              "      <td>1.213592</td>\n",
              "      <td>0.0</td>\n",
              "      <td>3</td>\n",
              "    </tr>\n",
              "    <tr>\n",
              "      <th>608</th>\n",
              "      <td>2021-04-30</td>\n",
              "      <td>1.212562</td>\n",
              "      <td>1.213298</td>\n",
              "      <td>1.211974</td>\n",
              "      <td>1.211974</td>\n",
              "      <td>1.211974</td>\n",
              "      <td>0.0</td>\n",
              "      <td>4</td>\n",
              "    </tr>\n",
              "  </tbody>\n",
              "</table>\n",
              "</div>"
            ],
            "text/plain": [
              "          Date      Open      High  ...  Adj Close  Volume  DayOfWeek\n",
              "602 2021-04-22  1.203818  1.207001  ...   1.203775     0.0          3\n",
              "603 2021-04-23  1.201793  1.207799  ...   1.201475     0.0          4\n",
              "604 2021-04-26  1.208956  1.211827  ...   1.208985     0.0          0\n",
              "605 2021-04-27  1.207921  1.209190  ...   1.208167     0.0          1\n",
              "606 2021-04-28  1.208854  1.210214  ...   1.209031     0.0          2\n",
              "607 2021-04-29  1.213578  1.215214  ...   1.213592     0.0          3\n",
              "608 2021-04-30  1.212562  1.213298  ...   1.211974     0.0          4\n",
              "\n",
              "[7 rows x 8 columns]"
            ]
          },
          "metadata": {
            "tags": []
          },
          "execution_count": 179
        }
      ]
    },
    {
      "cell_type": "code",
      "metadata": {
        "id": "isV-KVPm_mxb"
      },
      "source": [
        "df2 = df1.drop(['High','Low', 'Adj Close', 'Volume'], axis=1)"
      ],
      "execution_count": 180,
      "outputs": []
    },
    {
      "cell_type": "code",
      "metadata": {
        "colab": {
          "base_uri": "https://localhost:8080/",
          "height": 266
        },
        "id": "BoXK3TqGAW19",
        "outputId": "933736b0-6646-4224-f303-e901553b9e57"
      },
      "source": [
        "df2.tail(7)"
      ],
      "execution_count": 181,
      "outputs": [
        {
          "output_type": "execute_result",
          "data": {
            "text/html": [
              "<div>\n",
              "<style scoped>\n",
              "    .dataframe tbody tr th:only-of-type {\n",
              "        vertical-align: middle;\n",
              "    }\n",
              "\n",
              "    .dataframe tbody tr th {\n",
              "        vertical-align: top;\n",
              "    }\n",
              "\n",
              "    .dataframe thead th {\n",
              "        text-align: right;\n",
              "    }\n",
              "</style>\n",
              "<table border=\"1\" class=\"dataframe\">\n",
              "  <thead>\n",
              "    <tr style=\"text-align: right;\">\n",
              "      <th></th>\n",
              "      <th>Date</th>\n",
              "      <th>Open</th>\n",
              "      <th>Close</th>\n",
              "      <th>DayOfWeek</th>\n",
              "    </tr>\n",
              "  </thead>\n",
              "  <tbody>\n",
              "    <tr>\n",
              "      <th>602</th>\n",
              "      <td>2021-04-22</td>\n",
              "      <td>1.203818</td>\n",
              "      <td>1.203775</td>\n",
              "      <td>3</td>\n",
              "    </tr>\n",
              "    <tr>\n",
              "      <th>603</th>\n",
              "      <td>2021-04-23</td>\n",
              "      <td>1.201793</td>\n",
              "      <td>1.201475</td>\n",
              "      <td>4</td>\n",
              "    </tr>\n",
              "    <tr>\n",
              "      <th>604</th>\n",
              "      <td>2021-04-26</td>\n",
              "      <td>1.208956</td>\n",
              "      <td>1.208985</td>\n",
              "      <td>0</td>\n",
              "    </tr>\n",
              "    <tr>\n",
              "      <th>605</th>\n",
              "      <td>2021-04-27</td>\n",
              "      <td>1.207921</td>\n",
              "      <td>1.208167</td>\n",
              "      <td>1</td>\n",
              "    </tr>\n",
              "    <tr>\n",
              "      <th>606</th>\n",
              "      <td>2021-04-28</td>\n",
              "      <td>1.208854</td>\n",
              "      <td>1.209031</td>\n",
              "      <td>2</td>\n",
              "    </tr>\n",
              "    <tr>\n",
              "      <th>607</th>\n",
              "      <td>2021-04-29</td>\n",
              "      <td>1.213578</td>\n",
              "      <td>1.213592</td>\n",
              "      <td>3</td>\n",
              "    </tr>\n",
              "    <tr>\n",
              "      <th>608</th>\n",
              "      <td>2021-04-30</td>\n",
              "      <td>1.212562</td>\n",
              "      <td>1.211974</td>\n",
              "      <td>4</td>\n",
              "    </tr>\n",
              "  </tbody>\n",
              "</table>\n",
              "</div>"
            ],
            "text/plain": [
              "          Date      Open     Close  DayOfWeek\n",
              "602 2021-04-22  1.203818  1.203775          3\n",
              "603 2021-04-23  1.201793  1.201475          4\n",
              "604 2021-04-26  1.208956  1.208985          0\n",
              "605 2021-04-27  1.207921  1.208167          1\n",
              "606 2021-04-28  1.208854  1.209031          2\n",
              "607 2021-04-29  1.213578  1.213592          3\n",
              "608 2021-04-30  1.212562  1.211974          4"
            ]
          },
          "metadata": {
            "tags": []
          },
          "execution_count": 181
        }
      ]
    },
    {
      "cell_type": "code",
      "metadata": {
        "id": "0mzQvzqDDFzP"
      },
      "source": [
        "df2['Close-1'] = df2['Close'].shift(1)\n",
        "df2['Open-1'] = df2['Open'].shift(1)"
      ],
      "execution_count": 182,
      "outputs": []
    },
    {
      "cell_type": "code",
      "metadata": {
        "colab": {
          "base_uri": "https://localhost:8080/",
          "height": 266
        },
        "id": "3xG50mLQDq3e",
        "outputId": "c20cada3-84f1-4fcd-a3e5-e16a5f61f2ae"
      },
      "source": [
        "df2.tail(7)"
      ],
      "execution_count": 183,
      "outputs": [
        {
          "output_type": "execute_result",
          "data": {
            "text/html": [
              "<div>\n",
              "<style scoped>\n",
              "    .dataframe tbody tr th:only-of-type {\n",
              "        vertical-align: middle;\n",
              "    }\n",
              "\n",
              "    .dataframe tbody tr th {\n",
              "        vertical-align: top;\n",
              "    }\n",
              "\n",
              "    .dataframe thead th {\n",
              "        text-align: right;\n",
              "    }\n",
              "</style>\n",
              "<table border=\"1\" class=\"dataframe\">\n",
              "  <thead>\n",
              "    <tr style=\"text-align: right;\">\n",
              "      <th></th>\n",
              "      <th>Date</th>\n",
              "      <th>Open</th>\n",
              "      <th>Close</th>\n",
              "      <th>DayOfWeek</th>\n",
              "      <th>Close-1</th>\n",
              "      <th>Open-1</th>\n",
              "    </tr>\n",
              "  </thead>\n",
              "  <tbody>\n",
              "    <tr>\n",
              "      <th>602</th>\n",
              "      <td>2021-04-22</td>\n",
              "      <td>1.203818</td>\n",
              "      <td>1.203775</td>\n",
              "      <td>3</td>\n",
              "      <td>1.203239</td>\n",
              "      <td>1.203254</td>\n",
              "    </tr>\n",
              "    <tr>\n",
              "      <th>603</th>\n",
              "      <td>2021-04-23</td>\n",
              "      <td>1.201793</td>\n",
              "      <td>1.201475</td>\n",
              "      <td>4</td>\n",
              "      <td>1.203775</td>\n",
              "      <td>1.203818</td>\n",
              "    </tr>\n",
              "    <tr>\n",
              "      <th>604</th>\n",
              "      <td>2021-04-26</td>\n",
              "      <td>1.208956</td>\n",
              "      <td>1.208985</td>\n",
              "      <td>0</td>\n",
              "      <td>1.201475</td>\n",
              "      <td>1.201793</td>\n",
              "    </tr>\n",
              "    <tr>\n",
              "      <th>605</th>\n",
              "      <td>2021-04-27</td>\n",
              "      <td>1.207921</td>\n",
              "      <td>1.208167</td>\n",
              "      <td>1</td>\n",
              "      <td>1.208985</td>\n",
              "      <td>1.208956</td>\n",
              "    </tr>\n",
              "    <tr>\n",
              "      <th>606</th>\n",
              "      <td>2021-04-28</td>\n",
              "      <td>1.208854</td>\n",
              "      <td>1.209031</td>\n",
              "      <td>2</td>\n",
              "      <td>1.208167</td>\n",
              "      <td>1.207921</td>\n",
              "    </tr>\n",
              "    <tr>\n",
              "      <th>607</th>\n",
              "      <td>2021-04-29</td>\n",
              "      <td>1.213578</td>\n",
              "      <td>1.213592</td>\n",
              "      <td>3</td>\n",
              "      <td>1.209031</td>\n",
              "      <td>1.208854</td>\n",
              "    </tr>\n",
              "    <tr>\n",
              "      <th>608</th>\n",
              "      <td>2021-04-30</td>\n",
              "      <td>1.212562</td>\n",
              "      <td>1.211974</td>\n",
              "      <td>4</td>\n",
              "      <td>1.213592</td>\n",
              "      <td>1.213578</td>\n",
              "    </tr>\n",
              "  </tbody>\n",
              "</table>\n",
              "</div>"
            ],
            "text/plain": [
              "          Date      Open     Close  DayOfWeek   Close-1    Open-1\n",
              "602 2021-04-22  1.203818  1.203775          3  1.203239  1.203254\n",
              "603 2021-04-23  1.201793  1.201475          4  1.203775  1.203818\n",
              "604 2021-04-26  1.208956  1.208985          0  1.201475  1.201793\n",
              "605 2021-04-27  1.207921  1.208167          1  1.208985  1.208956\n",
              "606 2021-04-28  1.208854  1.209031          2  1.208167  1.207921\n",
              "607 2021-04-29  1.213578  1.213592          3  1.209031  1.208854\n",
              "608 2021-04-30  1.212562  1.211974          4  1.213592  1.213578"
            ]
          },
          "metadata": {
            "tags": []
          },
          "execution_count": 183
        }
      ]
    },
    {
      "cell_type": "code",
      "metadata": {
        "id": "tigVCqC3EBM4"
      },
      "source": [
        "df2['%Close'] = (df2['Close'] - df2['Close-1']) / df2['Close-1'] * 100\n",
        "df2['%Open'] = (df2['Open'] - df2['Open-1']) / df2['Open-1'] * 100"
      ],
      "execution_count": 184,
      "outputs": []
    },
    {
      "cell_type": "code",
      "metadata": {
        "colab": {
          "base_uri": "https://localhost:8080/",
          "height": 266
        },
        "id": "dMsFfMIREP8Z",
        "outputId": "073fd175-ded7-4cdd-e990-e162a478e063"
      },
      "source": [
        "df2.head(7)"
      ],
      "execution_count": 185,
      "outputs": [
        {
          "output_type": "execute_result",
          "data": {
            "text/html": [
              "<div>\n",
              "<style scoped>\n",
              "    .dataframe tbody tr th:only-of-type {\n",
              "        vertical-align: middle;\n",
              "    }\n",
              "\n",
              "    .dataframe tbody tr th {\n",
              "        vertical-align: top;\n",
              "    }\n",
              "\n",
              "    .dataframe thead th {\n",
              "        text-align: right;\n",
              "    }\n",
              "</style>\n",
              "<table border=\"1\" class=\"dataframe\">\n",
              "  <thead>\n",
              "    <tr style=\"text-align: right;\">\n",
              "      <th></th>\n",
              "      <th>Date</th>\n",
              "      <th>Open</th>\n",
              "      <th>Close</th>\n",
              "      <th>DayOfWeek</th>\n",
              "      <th>Close-1</th>\n",
              "      <th>Open-1</th>\n",
              "      <th>%Close</th>\n",
              "      <th>%Open</th>\n",
              "    </tr>\n",
              "  </thead>\n",
              "  <tbody>\n",
              "    <tr>\n",
              "      <th>0</th>\n",
              "      <td>2019-01-01</td>\n",
              "      <td>1.149425</td>\n",
              "      <td>1.149306</td>\n",
              "      <td>1</td>\n",
              "      <td>NaN</td>\n",
              "      <td>NaN</td>\n",
              "      <td>NaN</td>\n",
              "      <td>NaN</td>\n",
              "    </tr>\n",
              "    <tr>\n",
              "      <th>1</th>\n",
              "      <td>2019-01-02</td>\n",
              "      <td>1.146132</td>\n",
              "      <td>1.146171</td>\n",
              "      <td>2</td>\n",
              "      <td>1.149306</td>\n",
              "      <td>1.149425</td>\n",
              "      <td>-0.272773</td>\n",
              "      <td>-0.286491</td>\n",
              "    </tr>\n",
              "    <tr>\n",
              "      <th>2</th>\n",
              "      <td>2019-01-03</td>\n",
              "      <td>1.131734</td>\n",
              "      <td>1.131811</td>\n",
              "      <td>3</td>\n",
              "      <td>1.146171</td>\n",
              "      <td>1.146132</td>\n",
              "      <td>-1.252867</td>\n",
              "      <td>-1.256225</td>\n",
              "    </tr>\n",
              "    <tr>\n",
              "      <th>3</th>\n",
              "      <td>2019-01-04</td>\n",
              "      <td>1.139095</td>\n",
              "      <td>1.139108</td>\n",
              "      <td>4</td>\n",
              "      <td>1.131811</td>\n",
              "      <td>1.131734</td>\n",
              "      <td>0.644719</td>\n",
              "      <td>0.650418</td>\n",
              "    </tr>\n",
              "    <tr>\n",
              "      <th>4</th>\n",
              "      <td>2019-01-07</td>\n",
              "      <td>1.141292</td>\n",
              "      <td>1.141044</td>\n",
              "      <td>0</td>\n",
              "      <td>1.139108</td>\n",
              "      <td>1.139095</td>\n",
              "      <td>0.169958</td>\n",
              "      <td>0.192872</td>\n",
              "    </tr>\n",
              "    <tr>\n",
              "      <th>5</th>\n",
              "      <td>2019-01-08</td>\n",
              "      <td>1.147934</td>\n",
              "      <td>1.147974</td>\n",
              "      <td>1</td>\n",
              "      <td>1.141044</td>\n",
              "      <td>1.141292</td>\n",
              "      <td>0.607339</td>\n",
              "      <td>0.581972</td>\n",
              "    </tr>\n",
              "    <tr>\n",
              "      <th>6</th>\n",
              "      <td>2019-01-09</td>\n",
              "      <td>1.145725</td>\n",
              "      <td>1.145607</td>\n",
              "      <td>2</td>\n",
              "      <td>1.147974</td>\n",
              "      <td>1.147934</td>\n",
              "      <td>-0.206189</td>\n",
              "      <td>-0.192433</td>\n",
              "    </tr>\n",
              "  </tbody>\n",
              "</table>\n",
              "</div>"
            ],
            "text/plain": [
              "        Date      Open     Close  ...    Open-1    %Close     %Open\n",
              "0 2019-01-01  1.149425  1.149306  ...       NaN       NaN       NaN\n",
              "1 2019-01-02  1.146132  1.146171  ...  1.149425 -0.272773 -0.286491\n",
              "2 2019-01-03  1.131734  1.131811  ...  1.146132 -1.252867 -1.256225\n",
              "3 2019-01-04  1.139095  1.139108  ...  1.131734  0.644719  0.650418\n",
              "4 2019-01-07  1.141292  1.141044  ...  1.139095  0.169958  0.192872\n",
              "5 2019-01-08  1.147934  1.147974  ...  1.141292  0.607339  0.581972\n",
              "6 2019-01-09  1.145725  1.145607  ...  1.147934 -0.206189 -0.192433\n",
              "\n",
              "[7 rows x 8 columns]"
            ]
          },
          "metadata": {
            "tags": []
          },
          "execution_count": 185
        }
      ]
    },
    {
      "cell_type": "code",
      "metadata": {
        "id": "5zeRvw_76_rE"
      },
      "source": [
        "def take_decision(index):\n",
        "  row = df2.loc[index]\n",
        "  return random.choice([-row['Open'], +row['Open']])"
      ],
      "execution_count": 186,
      "outputs": []
    },
    {
      "cell_type": "code",
      "metadata": {
        "id": "CfKkh7Ox_8hM"
      },
      "source": [
        "def is_guessed(index):\n",
        "  row = df2.loc[index]\n",
        "  if (index < 1):\n",
        "    return True\n",
        "  return (math.copysign(1, row['%Open']) == math.copysign(1, row['decision']))"
      ],
      "execution_count": 187,
      "outputs": []
    },
    {
      "cell_type": "code",
      "metadata": {
        "id": "XyB39IOuMNqs"
      },
      "source": [
        "def make_deal(index):\n",
        "  k = df2.loc[index, 'k'] \n",
        "  decision = df2.loc[index, 'decision'] \n",
        "  return decision * (2 ** k)"
      ],
      "execution_count": 188,
      "outputs": []
    },
    {
      "cell_type": "code",
      "metadata": {
        "id": "RGTHIeDi30lw"
      },
      "source": [
        "def trade():\n",
        "  for index, row in df2.iterrows():\n",
        "    df2.loc[index, 'decision'] = take_decision(index)\n",
        "    if (is_guessed(index)):\n",
        "      k = 0\n",
        "    else:\n",
        "      k += 1\n",
        "    df2.loc[index, 'k'] = k\n",
        "    deal = make_deal(index)\n",
        "    df2.loc[index, 'deal'] = deal"
      ],
      "execution_count": 189,
      "outputs": []
    },
    {
      "cell_type": "code",
      "metadata": {
        "colab": {
          "base_uri": "https://localhost:8080/",
          "height": 419
        },
        "id": "pkh0VmLw5ExM",
        "outputId": "48c5d200-c222-4a49-c100-5076d8f20fdb"
      },
      "source": [
        "trade()\n",
        "df2"
      ],
      "execution_count": 190,
      "outputs": [
        {
          "output_type": "execute_result",
          "data": {
            "text/html": [
              "<div>\n",
              "<style scoped>\n",
              "    .dataframe tbody tr th:only-of-type {\n",
              "        vertical-align: middle;\n",
              "    }\n",
              "\n",
              "    .dataframe tbody tr th {\n",
              "        vertical-align: top;\n",
              "    }\n",
              "\n",
              "    .dataframe thead th {\n",
              "        text-align: right;\n",
              "    }\n",
              "</style>\n",
              "<table border=\"1\" class=\"dataframe\">\n",
              "  <thead>\n",
              "    <tr style=\"text-align: right;\">\n",
              "      <th></th>\n",
              "      <th>Date</th>\n",
              "      <th>Open</th>\n",
              "      <th>Close</th>\n",
              "      <th>DayOfWeek</th>\n",
              "      <th>Close-1</th>\n",
              "      <th>Open-1</th>\n",
              "      <th>%Close</th>\n",
              "      <th>%Open</th>\n",
              "      <th>decision</th>\n",
              "      <th>k</th>\n",
              "      <th>deal</th>\n",
              "    </tr>\n",
              "  </thead>\n",
              "  <tbody>\n",
              "    <tr>\n",
              "      <th>0</th>\n",
              "      <td>2019-01-01</td>\n",
              "      <td>1.149425</td>\n",
              "      <td>1.149306</td>\n",
              "      <td>1</td>\n",
              "      <td>NaN</td>\n",
              "      <td>NaN</td>\n",
              "      <td>NaN</td>\n",
              "      <td>NaN</td>\n",
              "      <td>1.149425</td>\n",
              "      <td>0.0</td>\n",
              "      <td>1.149425</td>\n",
              "    </tr>\n",
              "    <tr>\n",
              "      <th>1</th>\n",
              "      <td>2019-01-02</td>\n",
              "      <td>1.146132</td>\n",
              "      <td>1.146171</td>\n",
              "      <td>2</td>\n",
              "      <td>1.149306</td>\n",
              "      <td>1.149425</td>\n",
              "      <td>-0.272773</td>\n",
              "      <td>-0.286491</td>\n",
              "      <td>1.146132</td>\n",
              "      <td>1.0</td>\n",
              "      <td>2.292264</td>\n",
              "    </tr>\n",
              "    <tr>\n",
              "      <th>2</th>\n",
              "      <td>2019-01-03</td>\n",
              "      <td>1.131734</td>\n",
              "      <td>1.131811</td>\n",
              "      <td>3</td>\n",
              "      <td>1.146171</td>\n",
              "      <td>1.146132</td>\n",
              "      <td>-1.252867</td>\n",
              "      <td>-1.256225</td>\n",
              "      <td>1.131734</td>\n",
              "      <td>2.0</td>\n",
              "      <td>4.526936</td>\n",
              "    </tr>\n",
              "    <tr>\n",
              "      <th>3</th>\n",
              "      <td>2019-01-04</td>\n",
              "      <td>1.139095</td>\n",
              "      <td>1.139108</td>\n",
              "      <td>4</td>\n",
              "      <td>1.131811</td>\n",
              "      <td>1.131734</td>\n",
              "      <td>0.644719</td>\n",
              "      <td>0.650418</td>\n",
              "      <td>-1.139095</td>\n",
              "      <td>3.0</td>\n",
              "      <td>-9.112760</td>\n",
              "    </tr>\n",
              "    <tr>\n",
              "      <th>4</th>\n",
              "      <td>2019-01-07</td>\n",
              "      <td>1.141292</td>\n",
              "      <td>1.141044</td>\n",
              "      <td>0</td>\n",
              "      <td>1.139108</td>\n",
              "      <td>1.139095</td>\n",
              "      <td>0.169958</td>\n",
              "      <td>0.192872</td>\n",
              "      <td>1.141292</td>\n",
              "      <td>0.0</td>\n",
              "      <td>1.141292</td>\n",
              "    </tr>\n",
              "    <tr>\n",
              "      <th>...</th>\n",
              "      <td>...</td>\n",
              "      <td>...</td>\n",
              "      <td>...</td>\n",
              "      <td>...</td>\n",
              "      <td>...</td>\n",
              "      <td>...</td>\n",
              "      <td>...</td>\n",
              "      <td>...</td>\n",
              "      <td>...</td>\n",
              "      <td>...</td>\n",
              "      <td>...</td>\n",
              "    </tr>\n",
              "    <tr>\n",
              "      <th>604</th>\n",
              "      <td>2021-04-26</td>\n",
              "      <td>1.208956</td>\n",
              "      <td>1.208985</td>\n",
              "      <td>0</td>\n",
              "      <td>1.201475</td>\n",
              "      <td>1.201793</td>\n",
              "      <td>0.625065</td>\n",
              "      <td>0.596026</td>\n",
              "      <td>-1.208956</td>\n",
              "      <td>3.0</td>\n",
              "      <td>-9.671648</td>\n",
              "    </tr>\n",
              "    <tr>\n",
              "      <th>605</th>\n",
              "      <td>2021-04-27</td>\n",
              "      <td>1.207921</td>\n",
              "      <td>1.208167</td>\n",
              "      <td>1</td>\n",
              "      <td>1.208985</td>\n",
              "      <td>1.208956</td>\n",
              "      <td>-0.067660</td>\n",
              "      <td>-0.085611</td>\n",
              "      <td>-1.207921</td>\n",
              "      <td>0.0</td>\n",
              "      <td>-1.207921</td>\n",
              "    </tr>\n",
              "    <tr>\n",
              "      <th>606</th>\n",
              "      <td>2021-04-28</td>\n",
              "      <td>1.208854</td>\n",
              "      <td>1.209031</td>\n",
              "      <td>2</td>\n",
              "      <td>1.208167</td>\n",
              "      <td>1.207921</td>\n",
              "      <td>0.071513</td>\n",
              "      <td>0.077240</td>\n",
              "      <td>1.208854</td>\n",
              "      <td>0.0</td>\n",
              "      <td>1.208854</td>\n",
              "    </tr>\n",
              "    <tr>\n",
              "      <th>607</th>\n",
              "      <td>2021-04-29</td>\n",
              "      <td>1.213578</td>\n",
              "      <td>1.213592</td>\n",
              "      <td>3</td>\n",
              "      <td>1.209031</td>\n",
              "      <td>1.208854</td>\n",
              "      <td>0.377244</td>\n",
              "      <td>0.390783</td>\n",
              "      <td>-1.213578</td>\n",
              "      <td>1.0</td>\n",
              "      <td>-2.427156</td>\n",
              "    </tr>\n",
              "    <tr>\n",
              "      <th>608</th>\n",
              "      <td>2021-04-30</td>\n",
              "      <td>1.212562</td>\n",
              "      <td>1.211974</td>\n",
              "      <td>4</td>\n",
              "      <td>1.213592</td>\n",
              "      <td>1.213578</td>\n",
              "      <td>-0.133323</td>\n",
              "      <td>-0.083719</td>\n",
              "      <td>-1.212562</td>\n",
              "      <td>0.0</td>\n",
              "      <td>-1.212562</td>\n",
              "    </tr>\n",
              "  </tbody>\n",
              "</table>\n",
              "<p>609 rows × 11 columns</p>\n",
              "</div>"
            ],
            "text/plain": [
              "          Date      Open     Close  ...  decision    k      deal\n",
              "0   2019-01-01  1.149425  1.149306  ...  1.149425  0.0  1.149425\n",
              "1   2019-01-02  1.146132  1.146171  ...  1.146132  1.0  2.292264\n",
              "2   2019-01-03  1.131734  1.131811  ...  1.131734  2.0  4.526936\n",
              "3   2019-01-04  1.139095  1.139108  ... -1.139095  3.0 -9.112760\n",
              "4   2019-01-07  1.141292  1.141044  ...  1.141292  0.0  1.141292\n",
              "..         ...       ...       ...  ...       ...  ...       ...\n",
              "604 2021-04-26  1.208956  1.208985  ... -1.208956  3.0 -9.671648\n",
              "605 2021-04-27  1.207921  1.208167  ... -1.207921  0.0 -1.207921\n",
              "606 2021-04-28  1.208854  1.209031  ...  1.208854  0.0  1.208854\n",
              "607 2021-04-29  1.213578  1.213592  ... -1.213578  1.0 -2.427156\n",
              "608 2021-04-30  1.212562  1.211974  ... -1.212562  0.0 -1.212562\n",
              "\n",
              "[609 rows x 11 columns]"
            ]
          },
          "metadata": {
            "tags": []
          },
          "execution_count": 190
        }
      ]
    },
    {
      "cell_type": "code",
      "metadata": {
        "colab": {
          "base_uri": "https://localhost:8080/",
          "height": 297
        },
        "id": "CbNlYfbMQL5H",
        "outputId": "194d823a-6c97-4f0e-803d-be19cbd846d5"
      },
      "source": [
        "df2.describe()"
      ],
      "execution_count": 191,
      "outputs": [
        {
          "output_type": "execute_result",
          "data": {
            "text/html": [
              "<div>\n",
              "<style scoped>\n",
              "    .dataframe tbody tr th:only-of-type {\n",
              "        vertical-align: middle;\n",
              "    }\n",
              "\n",
              "    .dataframe tbody tr th {\n",
              "        vertical-align: top;\n",
              "    }\n",
              "\n",
              "    .dataframe thead th {\n",
              "        text-align: right;\n",
              "    }\n",
              "</style>\n",
              "<table border=\"1\" class=\"dataframe\">\n",
              "  <thead>\n",
              "    <tr style=\"text-align: right;\">\n",
              "      <th></th>\n",
              "      <th>Open</th>\n",
              "      <th>Close</th>\n",
              "      <th>DayOfWeek</th>\n",
              "      <th>Close-1</th>\n",
              "      <th>Open-1</th>\n",
              "      <th>%Close</th>\n",
              "      <th>%Open</th>\n",
              "      <th>decision</th>\n",
              "      <th>k</th>\n",
              "      <th>deal</th>\n",
              "    </tr>\n",
              "  </thead>\n",
              "  <tbody>\n",
              "    <tr>\n",
              "      <th>count</th>\n",
              "      <td>588.000000</td>\n",
              "      <td>588.000000</td>\n",
              "      <td>609.000000</td>\n",
              "      <td>587.000000</td>\n",
              "      <td>587.000000</td>\n",
              "      <td>584.000000</td>\n",
              "      <td>584.000000</td>\n",
              "      <td>588.000000</td>\n",
              "      <td>609.00000</td>\n",
              "      <td>588.000000</td>\n",
              "    </tr>\n",
              "    <tr>\n",
              "      <th>mean</th>\n",
              "      <td>1.142495</td>\n",
              "      <td>1.142544</td>\n",
              "      <td>2.003284</td>\n",
              "      <td>1.142426</td>\n",
              "      <td>1.142376</td>\n",
              "      <td>0.011039</td>\n",
              "      <td>0.011126</td>\n",
              "      <td>0.016635</td>\n",
              "      <td>1.08046</td>\n",
              "      <td>0.153967</td>\n",
              "    </tr>\n",
              "    <tr>\n",
              "      <th>std</th>\n",
              "      <td>0.041087</td>\n",
              "      <td>0.041088</td>\n",
              "      <td>1.414210</td>\n",
              "      <td>0.041023</td>\n",
              "      <td>0.041020</td>\n",
              "      <td>0.401315</td>\n",
              "      <td>0.398889</td>\n",
              "      <td>1.144085</td>\n",
              "      <td>1.41599</td>\n",
              "      <td>14.799617</td>\n",
              "    </tr>\n",
              "    <tr>\n",
              "      <th>min</th>\n",
              "      <td>1.065848</td>\n",
              "      <td>1.065735</td>\n",
              "      <td>0.000000</td>\n",
              "      <td>1.065735</td>\n",
              "      <td>1.065848</td>\n",
              "      <td>-2.775155</td>\n",
              "      <td>-2.603845</td>\n",
              "      <td>-1.233776</td>\n",
              "      <td>0.00000</td>\n",
              "      <td>-157.923328</td>\n",
              "    </tr>\n",
              "    <tr>\n",
              "      <th>25%</th>\n",
              "      <td>1.111454</td>\n",
              "      <td>1.111565</td>\n",
              "      <td>1.000000</td>\n",
              "      <td>1.111538</td>\n",
              "      <td>1.111451</td>\n",
              "      <td>-0.231582</td>\n",
              "      <td>-0.233792</td>\n",
              "      <td>-1.129356</td>\n",
              "      <td>0.00000</td>\n",
              "      <td>-2.205676</td>\n",
              "    </tr>\n",
              "    <tr>\n",
              "      <th>50%</th>\n",
              "      <td>1.128859</td>\n",
              "      <td>1.128796</td>\n",
              "      <td>2.000000</td>\n",
              "      <td>1.128796</td>\n",
              "      <td>1.128796</td>\n",
              "      <td>0.018168</td>\n",
              "      <td>0.014842</td>\n",
              "      <td>1.080655</td>\n",
              "      <td>1.00000</td>\n",
              "      <td>1.084770</td>\n",
              "    </tr>\n",
              "    <tr>\n",
              "      <th>75%</th>\n",
              "      <td>1.181384</td>\n",
              "      <td>1.181513</td>\n",
              "      <td>3.000000</td>\n",
              "      <td>1.181404</td>\n",
              "      <td>1.181356</td>\n",
              "      <td>0.243664</td>\n",
              "      <td>0.246487</td>\n",
              "      <td>1.128537</td>\n",
              "      <td>2.00000</td>\n",
              "      <td>2.191916</td>\n",
              "    </tr>\n",
              "    <tr>\n",
              "      <th>max</th>\n",
              "      <td>1.233776</td>\n",
              "      <td>1.234111</td>\n",
              "      <td>4.000000</td>\n",
              "      <td>1.234111</td>\n",
              "      <td>1.233776</td>\n",
              "      <td>1.457266</td>\n",
              "      <td>1.456985</td>\n",
              "      <td>1.226196</td>\n",
              "      <td>7.00000</td>\n",
              "      <td>140.381696</td>\n",
              "    </tr>\n",
              "  </tbody>\n",
              "</table>\n",
              "</div>"
            ],
            "text/plain": [
              "             Open       Close   DayOfWeek  ...    decision          k        deal\n",
              "count  588.000000  588.000000  609.000000  ...  588.000000  609.00000  588.000000\n",
              "mean     1.142495    1.142544    2.003284  ...    0.016635    1.08046    0.153967\n",
              "std      0.041087    0.041088    1.414210  ...    1.144085    1.41599   14.799617\n",
              "min      1.065848    1.065735    0.000000  ...   -1.233776    0.00000 -157.923328\n",
              "25%      1.111454    1.111565    1.000000  ...   -1.129356    0.00000   -2.205676\n",
              "50%      1.128859    1.128796    2.000000  ...    1.080655    1.00000    1.084770\n",
              "75%      1.181384    1.181513    3.000000  ...    1.128537    2.00000    2.191916\n",
              "max      1.233776    1.234111    4.000000  ...    1.226196    7.00000  140.381696\n",
              "\n",
              "[8 rows x 10 columns]"
            ]
          },
          "metadata": {
            "tags": []
          },
          "execution_count": 191
        }
      ]
    }
  ]
}