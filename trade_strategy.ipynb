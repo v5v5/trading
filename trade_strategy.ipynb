{
  "nbformat": 4,
  "nbformat_minor": 0,
  "metadata": {
    "colab": {
      "name": "trade-strategy.ipynb",
      "provenance": [],
      "collapsed_sections": [],
      "authorship_tag": "ABX9TyP5IYlFKnCpxx2oqC2Nl7/W",
      "include_colab_link": true
    },
    "kernelspec": {
      "name": "python3",
      "display_name": "Python 3"
    },
    "language_info": {
      "name": "python"
    }
  },
  "cells": [
    {
      "cell_type": "markdown",
      "metadata": {
        "id": "view-in-github",
        "colab_type": "text"
      },
      "source": [
        "<a href=\"https://colab.research.google.com/github/v5v5/trading/blob/main/trade_strategy.ipynb\" target=\"_parent\"><img src=\"https://colab.research.google.com/assets/colab-badge.svg\" alt=\"Open In Colab\"/></a>"
      ]
    },
    {
      "cell_type": "markdown",
      "metadata": {
        "id": "HowU-l69T-Yb"
      },
      "source": [
        "URL to download quotes EURUSD\n",
        "\n",
        "https://query1.finance.yahoo.com/v7/finance/download/EURUSD=X?period1=1262304000&period2=1619654400&interval=1d&events=history&includeAdjustedClose=true"
      ]
    },
    {
      "cell_type": "code",
      "metadata": {
        "id": "pkKl4XBGVNGL"
      },
      "source": [
        "import pandas as pd\n",
        "from urllib.request import Request, urlopen\n",
        "from io import StringIO\n",
        "import datetime\n",
        "from dateutil.relativedelta import relativedelta\n",
        "import time\n",
        "import random\n",
        "import math\n",
        "import matplotlib.pyplot as plt"
      ],
      "execution_count": 129,
      "outputs": []
    },
    {
      "cell_type": "code",
      "metadata": {
        "colab": {
          "base_uri": "https://localhost:8080/",
          "height": 35
        },
        "id": "oAMusJ7Vfxou",
        "outputId": "60c29c71-3a0b-4313-f771-8c3d8632887a"
      },
      "source": [
        "# dt_from = datetime.date(2000,1,1)\n",
        "# dt_from = datetime.date(2019,1,1)\n",
        "# dt_from = datetime.date.today() + relativedelta(years=-1)\n",
        "dt_from = datetime.date.today() + relativedelta(years=-2)\n",
        "ut_from = str(int(time.mktime(dt_from.timetuple())))\n",
        "ut_from"
      ],
      "execution_count": 130,
      "outputs": [
        {
          "output_type": "execute_result",
          "data": {
            "application/vnd.google.colaboratory.intrinsic+json": {
              "type": "string"
            },
            "text/plain": [
              "'1557792000'"
            ]
          },
          "metadata": {
            "tags": []
          },
          "execution_count": 130
        }
      ]
    },
    {
      "cell_type": "code",
      "metadata": {
        "colab": {
          "base_uri": "https://localhost:8080/",
          "height": 35
        },
        "id": "3iBED0CihYSB",
        "outputId": "1d83aa68-d963-4569-faf6-0d754283812b"
      },
      "source": [
        "dt_to = datetime.date.today()\n",
        "ut_to = str(int(time.mktime(dt_to.timetuple())))\n",
        "ut_to"
      ],
      "execution_count": 131,
      "outputs": [
        {
          "output_type": "execute_result",
          "data": {
            "application/vnd.google.colaboratory.intrinsic+json": {
              "type": "string"
            },
            "text/plain": [
              "'1620950400'"
            ]
          },
          "metadata": {
            "tags": []
          },
          "execution_count": 131
        }
      ]
    },
    {
      "cell_type": "code",
      "metadata": {
        "id": "ZWbh4rFCYsiA"
      },
      "source": [
        "# url='https://query1.finance.yahoo.com/v7/finance/download/EURUSD=X?period1=1262304000&period2=1619654400&interval=1d&events=history&includeAdjustedClose=true'\n",
        "url='https://query1.finance.yahoo.com/v7/finance/download/EURUSD=X?period1=' + ut_from + '&period2=' + ut_to + '&interval=1d&events=history&includeAdjustedClose=true'"
      ],
      "execution_count": 132,
      "outputs": []
    },
    {
      "cell_type": "code",
      "metadata": {
        "id": "ictpemgHTnaU"
      },
      "source": [
        "headers={'User-Agent': 'Mozilla/5.0'}"
      ],
      "execution_count": 133,
      "outputs": []
    },
    {
      "cell_type": "code",
      "metadata": {
        "id": "5KvntWHZg8CO"
      },
      "source": [
        "req = Request(url, headers=headers)"
      ],
      "execution_count": 134,
      "outputs": []
    },
    {
      "cell_type": "code",
      "metadata": {
        "id": "d2anZTnFSg6y"
      },
      "source": [
        "page = urlopen(req)\n",
        "# page = urlopen(url)"
      ],
      "execution_count": 135,
      "outputs": []
    },
    {
      "cell_type": "code",
      "metadata": {
        "id": "tOtCSrjqY2b6"
      },
      "source": [
        "page = urlopen(url)"
      ],
      "execution_count": 136,
      "outputs": []
    },
    {
      "cell_type": "code",
      "metadata": {
        "id": "W7BmUlFOSjXh"
      },
      "source": [
        "content = page.read()"
      ],
      "execution_count": 137,
      "outputs": []
    },
    {
      "cell_type": "code",
      "metadata": {
        "id": "MrUfRSxZp4Y9"
      },
      "source": [
        "text = content.decode('UTF-8')"
      ],
      "execution_count": 138,
      "outputs": []
    },
    {
      "cell_type": "code",
      "metadata": {
        "colab": {
          "base_uri": "https://localhost:8080/"
        },
        "id": "HIutb2KOhWlP",
        "outputId": "c8532aba-a3aa-4a12-e06f-16f399328d71"
      },
      "source": [
        "print(text[:300])"
      ],
      "execution_count": 139,
      "outputs": [
        {
          "output_type": "stream",
          "text": [
            "Date,Open,High,Low,Close,Adj Close,Volume\n",
            "2019-05-14,1.123242,1.124606,1.120486,1.123255,1.123255,0\n",
            "2019-05-15,1.120360,1.122272,1.118043,1.120448,1.120448,0\n",
            "2019-05-16,1.120951,1.122435,1.117431,1.120724,1.120724,0\n",
            "2019-05-17,1.117481,1.118443,1.115735,1.117356,1.117356,0\n",
            "2019-05-20,1.116532,1.1177\n"
          ],
          "name": "stdout"
        }
      ]
    },
    {
      "cell_type": "code",
      "metadata": {
        "id": "nyxhqBhKpBel"
      },
      "source": [
        "data = StringIO(text)"
      ],
      "execution_count": 140,
      "outputs": []
    },
    {
      "cell_type": "code",
      "metadata": {
        "id": "tso_dYdOVny7"
      },
      "source": [
        "df1 = pd.read_csv(data, sep=',', header='infer')"
      ],
      "execution_count": 141,
      "outputs": []
    },
    {
      "cell_type": "code",
      "metadata": {
        "colab": {
          "base_uri": "https://localhost:8080/",
          "height": 266
        },
        "id": "CAWUH4jfl0-Y",
        "outputId": "29bb38dd-6daf-4201-82bb-bee06a039665"
      },
      "source": [
        "df1.tail(7)"
      ],
      "execution_count": 142,
      "outputs": [
        {
          "output_type": "execute_result",
          "data": {
            "text/html": [
              "<div>\n",
              "<style scoped>\n",
              "    .dataframe tbody tr th:only-of-type {\n",
              "        vertical-align: middle;\n",
              "    }\n",
              "\n",
              "    .dataframe tbody tr th {\n",
              "        vertical-align: top;\n",
              "    }\n",
              "\n",
              "    .dataframe thead th {\n",
              "        text-align: right;\n",
              "    }\n",
              "</style>\n",
              "<table border=\"1\" class=\"dataframe\">\n",
              "  <thead>\n",
              "    <tr style=\"text-align: right;\">\n",
              "      <th></th>\n",
              "      <th>Date</th>\n",
              "      <th>Open</th>\n",
              "      <th>High</th>\n",
              "      <th>Low</th>\n",
              "      <th>Close</th>\n",
              "      <th>Adj Close</th>\n",
              "      <th>Volume</th>\n",
              "    </tr>\n",
              "  </thead>\n",
              "  <tbody>\n",
              "    <tr>\n",
              "      <th>517</th>\n",
              "      <td>2021-05-06</td>\n",
              "      <td>1.200913</td>\n",
              "      <td>1.207001</td>\n",
              "      <td>1.199400</td>\n",
              "      <td>1.200797</td>\n",
              "      <td>1.200797</td>\n",
              "      <td>0.0</td>\n",
              "    </tr>\n",
              "    <tr>\n",
              "      <th>518</th>\n",
              "      <td>2021-05-07</td>\n",
              "      <td>1.206593</td>\n",
              "      <td>1.216545</td>\n",
              "      <td>1.205342</td>\n",
              "      <td>1.206855</td>\n",
              "      <td>1.206855</td>\n",
              "      <td>0.0</td>\n",
              "    </tr>\n",
              "    <tr>\n",
              "      <th>519</th>\n",
              "      <td>2021-05-10</td>\n",
              "      <td>1.216752</td>\n",
              "      <td>1.217730</td>\n",
              "      <td>1.213740</td>\n",
              "      <td>1.217108</td>\n",
              "      <td>1.217108</td>\n",
              "      <td>0.0</td>\n",
              "    </tr>\n",
              "    <tr>\n",
              "      <th>520</th>\n",
              "      <td>2021-05-11</td>\n",
              "      <td>1.214211</td>\n",
              "      <td>1.217968</td>\n",
              "      <td>1.212547</td>\n",
              "      <td>1.214093</td>\n",
              "      <td>1.214093</td>\n",
              "      <td>0.0</td>\n",
              "    </tr>\n",
              "    <tr>\n",
              "      <th>521</th>\n",
              "      <td>2021-05-12</td>\n",
              "      <td>1.214550</td>\n",
              "      <td>1.215067</td>\n",
              "      <td>1.206811</td>\n",
              "      <td>1.214450</td>\n",
              "      <td>1.214450</td>\n",
              "      <td>0.0</td>\n",
              "    </tr>\n",
              "    <tr>\n",
              "      <th>522</th>\n",
              "      <td>2021-05-13</td>\n",
              "      <td>1.207686</td>\n",
              "      <td>1.210654</td>\n",
              "      <td>1.205313</td>\n",
              "      <td>1.207851</td>\n",
              "      <td>1.207851</td>\n",
              "      <td>0.0</td>\n",
              "    </tr>\n",
              "    <tr>\n",
              "      <th>523</th>\n",
              "      <td>2021-05-14</td>\n",
              "      <td>1.208459</td>\n",
              "      <td>1.209482</td>\n",
              "      <td>1.207584</td>\n",
              "      <td>1.209044</td>\n",
              "      <td>1.209044</td>\n",
              "      <td>0.0</td>\n",
              "    </tr>\n",
              "  </tbody>\n",
              "</table>\n",
              "</div>"
            ],
            "text/plain": [
              "           Date      Open      High       Low     Close  Adj Close  Volume\n",
              "517  2021-05-06  1.200913  1.207001  1.199400  1.200797   1.200797     0.0\n",
              "518  2021-05-07  1.206593  1.216545  1.205342  1.206855   1.206855     0.0\n",
              "519  2021-05-10  1.216752  1.217730  1.213740  1.217108   1.217108     0.0\n",
              "520  2021-05-11  1.214211  1.217968  1.212547  1.214093   1.214093     0.0\n",
              "521  2021-05-12  1.214550  1.215067  1.206811  1.214450   1.214450     0.0\n",
              "522  2021-05-13  1.207686  1.210654  1.205313  1.207851   1.207851     0.0\n",
              "523  2021-05-14  1.208459  1.209482  1.207584  1.209044   1.209044     0.0"
            ]
          },
          "metadata": {
            "tags": []
          },
          "execution_count": 142
        }
      ]
    },
    {
      "cell_type": "code",
      "metadata": {
        "id": "iDDbrBeGci0d"
      },
      "source": [
        "df1['Date'] = pd.to_datetime(df1['Date'], errors='coerce')"
      ],
      "execution_count": 143,
      "outputs": []
    },
    {
      "cell_type": "code",
      "metadata": {
        "id": "eRwjQgzGmCBm"
      },
      "source": [
        "df1['DayOfWeek'] = df1['Date'].dt.dayofweek"
      ],
      "execution_count": 144,
      "outputs": []
    },
    {
      "cell_type": "code",
      "metadata": {
        "colab": {
          "base_uri": "https://localhost:8080/",
          "height": 266
        },
        "id": "NLF_R44LnKkY",
        "outputId": "90a3d996-98b6-4941-ddbc-cc8357ad2a6d"
      },
      "source": [
        "df1.tail(7)"
      ],
      "execution_count": 145,
      "outputs": [
        {
          "output_type": "execute_result",
          "data": {
            "text/html": [
              "<div>\n",
              "<style scoped>\n",
              "    .dataframe tbody tr th:only-of-type {\n",
              "        vertical-align: middle;\n",
              "    }\n",
              "\n",
              "    .dataframe tbody tr th {\n",
              "        vertical-align: top;\n",
              "    }\n",
              "\n",
              "    .dataframe thead th {\n",
              "        text-align: right;\n",
              "    }\n",
              "</style>\n",
              "<table border=\"1\" class=\"dataframe\">\n",
              "  <thead>\n",
              "    <tr style=\"text-align: right;\">\n",
              "      <th></th>\n",
              "      <th>Date</th>\n",
              "      <th>Open</th>\n",
              "      <th>High</th>\n",
              "      <th>Low</th>\n",
              "      <th>Close</th>\n",
              "      <th>Adj Close</th>\n",
              "      <th>Volume</th>\n",
              "      <th>DayOfWeek</th>\n",
              "    </tr>\n",
              "  </thead>\n",
              "  <tbody>\n",
              "    <tr>\n",
              "      <th>517</th>\n",
              "      <td>2021-05-06</td>\n",
              "      <td>1.200913</td>\n",
              "      <td>1.207001</td>\n",
              "      <td>1.199400</td>\n",
              "      <td>1.200797</td>\n",
              "      <td>1.200797</td>\n",
              "      <td>0.0</td>\n",
              "      <td>3</td>\n",
              "    </tr>\n",
              "    <tr>\n",
              "      <th>518</th>\n",
              "      <td>2021-05-07</td>\n",
              "      <td>1.206593</td>\n",
              "      <td>1.216545</td>\n",
              "      <td>1.205342</td>\n",
              "      <td>1.206855</td>\n",
              "      <td>1.206855</td>\n",
              "      <td>0.0</td>\n",
              "      <td>4</td>\n",
              "    </tr>\n",
              "    <tr>\n",
              "      <th>519</th>\n",
              "      <td>2021-05-10</td>\n",
              "      <td>1.216752</td>\n",
              "      <td>1.217730</td>\n",
              "      <td>1.213740</td>\n",
              "      <td>1.217108</td>\n",
              "      <td>1.217108</td>\n",
              "      <td>0.0</td>\n",
              "      <td>0</td>\n",
              "    </tr>\n",
              "    <tr>\n",
              "      <th>520</th>\n",
              "      <td>2021-05-11</td>\n",
              "      <td>1.214211</td>\n",
              "      <td>1.217968</td>\n",
              "      <td>1.212547</td>\n",
              "      <td>1.214093</td>\n",
              "      <td>1.214093</td>\n",
              "      <td>0.0</td>\n",
              "      <td>1</td>\n",
              "    </tr>\n",
              "    <tr>\n",
              "      <th>521</th>\n",
              "      <td>2021-05-12</td>\n",
              "      <td>1.214550</td>\n",
              "      <td>1.215067</td>\n",
              "      <td>1.206811</td>\n",
              "      <td>1.214450</td>\n",
              "      <td>1.214450</td>\n",
              "      <td>0.0</td>\n",
              "      <td>2</td>\n",
              "    </tr>\n",
              "    <tr>\n",
              "      <th>522</th>\n",
              "      <td>2021-05-13</td>\n",
              "      <td>1.207686</td>\n",
              "      <td>1.210654</td>\n",
              "      <td>1.205313</td>\n",
              "      <td>1.207851</td>\n",
              "      <td>1.207851</td>\n",
              "      <td>0.0</td>\n",
              "      <td>3</td>\n",
              "    </tr>\n",
              "    <tr>\n",
              "      <th>523</th>\n",
              "      <td>2021-05-14</td>\n",
              "      <td>1.208459</td>\n",
              "      <td>1.209482</td>\n",
              "      <td>1.207584</td>\n",
              "      <td>1.209044</td>\n",
              "      <td>1.209044</td>\n",
              "      <td>0.0</td>\n",
              "      <td>4</td>\n",
              "    </tr>\n",
              "  </tbody>\n",
              "</table>\n",
              "</div>"
            ],
            "text/plain": [
              "          Date      Open      High  ...  Adj Close  Volume  DayOfWeek\n",
              "517 2021-05-06  1.200913  1.207001  ...   1.200797     0.0          3\n",
              "518 2021-05-07  1.206593  1.216545  ...   1.206855     0.0          4\n",
              "519 2021-05-10  1.216752  1.217730  ...   1.217108     0.0          0\n",
              "520 2021-05-11  1.214211  1.217968  ...   1.214093     0.0          1\n",
              "521 2021-05-12  1.214550  1.215067  ...   1.214450     0.0          2\n",
              "522 2021-05-13  1.207686  1.210654  ...   1.207851     0.0          3\n",
              "523 2021-05-14  1.208459  1.209482  ...   1.209044     0.0          4\n",
              "\n",
              "[7 rows x 8 columns]"
            ]
          },
          "metadata": {
            "tags": []
          },
          "execution_count": 145
        }
      ]
    },
    {
      "cell_type": "code",
      "metadata": {
        "id": "isV-KVPm_mxb"
      },
      "source": [
        "df2 = df1.drop(['High','Low', 'Adj Close', 'Volume'], axis=1)"
      ],
      "execution_count": 146,
      "outputs": []
    },
    {
      "cell_type": "code",
      "metadata": {
        "colab": {
          "base_uri": "https://localhost:8080/",
          "height": 266
        },
        "id": "BoXK3TqGAW19",
        "outputId": "98304402-9042-4a04-b119-3e4a0097e001"
      },
      "source": [
        "df2.tail(7)"
      ],
      "execution_count": 147,
      "outputs": [
        {
          "output_type": "execute_result",
          "data": {
            "text/html": [
              "<div>\n",
              "<style scoped>\n",
              "    .dataframe tbody tr th:only-of-type {\n",
              "        vertical-align: middle;\n",
              "    }\n",
              "\n",
              "    .dataframe tbody tr th {\n",
              "        vertical-align: top;\n",
              "    }\n",
              "\n",
              "    .dataframe thead th {\n",
              "        text-align: right;\n",
              "    }\n",
              "</style>\n",
              "<table border=\"1\" class=\"dataframe\">\n",
              "  <thead>\n",
              "    <tr style=\"text-align: right;\">\n",
              "      <th></th>\n",
              "      <th>Date</th>\n",
              "      <th>Open</th>\n",
              "      <th>Close</th>\n",
              "      <th>DayOfWeek</th>\n",
              "    </tr>\n",
              "  </thead>\n",
              "  <tbody>\n",
              "    <tr>\n",
              "      <th>517</th>\n",
              "      <td>2021-05-06</td>\n",
              "      <td>1.200913</td>\n",
              "      <td>1.200797</td>\n",
              "      <td>3</td>\n",
              "    </tr>\n",
              "    <tr>\n",
              "      <th>518</th>\n",
              "      <td>2021-05-07</td>\n",
              "      <td>1.206593</td>\n",
              "      <td>1.206855</td>\n",
              "      <td>4</td>\n",
              "    </tr>\n",
              "    <tr>\n",
              "      <th>519</th>\n",
              "      <td>2021-05-10</td>\n",
              "      <td>1.216752</td>\n",
              "      <td>1.217108</td>\n",
              "      <td>0</td>\n",
              "    </tr>\n",
              "    <tr>\n",
              "      <th>520</th>\n",
              "      <td>2021-05-11</td>\n",
              "      <td>1.214211</td>\n",
              "      <td>1.214093</td>\n",
              "      <td>1</td>\n",
              "    </tr>\n",
              "    <tr>\n",
              "      <th>521</th>\n",
              "      <td>2021-05-12</td>\n",
              "      <td>1.214550</td>\n",
              "      <td>1.214450</td>\n",
              "      <td>2</td>\n",
              "    </tr>\n",
              "    <tr>\n",
              "      <th>522</th>\n",
              "      <td>2021-05-13</td>\n",
              "      <td>1.207686</td>\n",
              "      <td>1.207851</td>\n",
              "      <td>3</td>\n",
              "    </tr>\n",
              "    <tr>\n",
              "      <th>523</th>\n",
              "      <td>2021-05-14</td>\n",
              "      <td>1.208459</td>\n",
              "      <td>1.209044</td>\n",
              "      <td>4</td>\n",
              "    </tr>\n",
              "  </tbody>\n",
              "</table>\n",
              "</div>"
            ],
            "text/plain": [
              "          Date      Open     Close  DayOfWeek\n",
              "517 2021-05-06  1.200913  1.200797          3\n",
              "518 2021-05-07  1.206593  1.206855          4\n",
              "519 2021-05-10  1.216752  1.217108          0\n",
              "520 2021-05-11  1.214211  1.214093          1\n",
              "521 2021-05-12  1.214550  1.214450          2\n",
              "522 2021-05-13  1.207686  1.207851          3\n",
              "523 2021-05-14  1.208459  1.209044          4"
            ]
          },
          "metadata": {
            "tags": []
          },
          "execution_count": 147
        }
      ]
    },
    {
      "cell_type": "code",
      "metadata": {
        "id": "0mzQvzqDDFzP"
      },
      "source": [
        "df2['Close-1'] = df2['Close'].shift(1)\n",
        "df2['Open-1'] = df2['Open'].shift(1)"
      ],
      "execution_count": 148,
      "outputs": []
    },
    {
      "cell_type": "code",
      "metadata": {
        "colab": {
          "base_uri": "https://localhost:8080/",
          "height": 266
        },
        "id": "3xG50mLQDq3e",
        "outputId": "5a2b92c3-6b2a-4fc8-b718-0cd3bfb5399b"
      },
      "source": [
        "df2.tail(7)"
      ],
      "execution_count": 149,
      "outputs": [
        {
          "output_type": "execute_result",
          "data": {
            "text/html": [
              "<div>\n",
              "<style scoped>\n",
              "    .dataframe tbody tr th:only-of-type {\n",
              "        vertical-align: middle;\n",
              "    }\n",
              "\n",
              "    .dataframe tbody tr th {\n",
              "        vertical-align: top;\n",
              "    }\n",
              "\n",
              "    .dataframe thead th {\n",
              "        text-align: right;\n",
              "    }\n",
              "</style>\n",
              "<table border=\"1\" class=\"dataframe\">\n",
              "  <thead>\n",
              "    <tr style=\"text-align: right;\">\n",
              "      <th></th>\n",
              "      <th>Date</th>\n",
              "      <th>Open</th>\n",
              "      <th>Close</th>\n",
              "      <th>DayOfWeek</th>\n",
              "      <th>Close-1</th>\n",
              "      <th>Open-1</th>\n",
              "    </tr>\n",
              "  </thead>\n",
              "  <tbody>\n",
              "    <tr>\n",
              "      <th>517</th>\n",
              "      <td>2021-05-06</td>\n",
              "      <td>1.200913</td>\n",
              "      <td>1.200797</td>\n",
              "      <td>3</td>\n",
              "      <td>1.201504</td>\n",
              "      <td>1.201634</td>\n",
              "    </tr>\n",
              "    <tr>\n",
              "      <th>518</th>\n",
              "      <td>2021-05-07</td>\n",
              "      <td>1.206593</td>\n",
              "      <td>1.206855</td>\n",
              "      <td>4</td>\n",
              "      <td>1.200797</td>\n",
              "      <td>1.200913</td>\n",
              "    </tr>\n",
              "    <tr>\n",
              "      <th>519</th>\n",
              "      <td>2021-05-10</td>\n",
              "      <td>1.216752</td>\n",
              "      <td>1.217108</td>\n",
              "      <td>0</td>\n",
              "      <td>1.206855</td>\n",
              "      <td>1.206593</td>\n",
              "    </tr>\n",
              "    <tr>\n",
              "      <th>520</th>\n",
              "      <td>2021-05-11</td>\n",
              "      <td>1.214211</td>\n",
              "      <td>1.214093</td>\n",
              "      <td>1</td>\n",
              "      <td>1.217108</td>\n",
              "      <td>1.216752</td>\n",
              "    </tr>\n",
              "    <tr>\n",
              "      <th>521</th>\n",
              "      <td>2021-05-12</td>\n",
              "      <td>1.214550</td>\n",
              "      <td>1.214450</td>\n",
              "      <td>2</td>\n",
              "      <td>1.214093</td>\n",
              "      <td>1.214211</td>\n",
              "    </tr>\n",
              "    <tr>\n",
              "      <th>522</th>\n",
              "      <td>2021-05-13</td>\n",
              "      <td>1.207686</td>\n",
              "      <td>1.207851</td>\n",
              "      <td>3</td>\n",
              "      <td>1.214450</td>\n",
              "      <td>1.214550</td>\n",
              "    </tr>\n",
              "    <tr>\n",
              "      <th>523</th>\n",
              "      <td>2021-05-14</td>\n",
              "      <td>1.208459</td>\n",
              "      <td>1.209044</td>\n",
              "      <td>4</td>\n",
              "      <td>1.207851</td>\n",
              "      <td>1.207686</td>\n",
              "    </tr>\n",
              "  </tbody>\n",
              "</table>\n",
              "</div>"
            ],
            "text/plain": [
              "          Date      Open     Close  DayOfWeek   Close-1    Open-1\n",
              "517 2021-05-06  1.200913  1.200797          3  1.201504  1.201634\n",
              "518 2021-05-07  1.206593  1.206855          4  1.200797  1.200913\n",
              "519 2021-05-10  1.216752  1.217108          0  1.206855  1.206593\n",
              "520 2021-05-11  1.214211  1.214093          1  1.217108  1.216752\n",
              "521 2021-05-12  1.214550  1.214450          2  1.214093  1.214211\n",
              "522 2021-05-13  1.207686  1.207851          3  1.214450  1.214550\n",
              "523 2021-05-14  1.208459  1.209044          4  1.207851  1.207686"
            ]
          },
          "metadata": {
            "tags": []
          },
          "execution_count": 149
        }
      ]
    },
    {
      "cell_type": "code",
      "metadata": {
        "id": "tigVCqC3EBM4"
      },
      "source": [
        "df2['%Close'] = (df2['Close'] - df2['Close-1']) / df2['Close-1'] * 100\n",
        "df2['%Open'] = (df2['Open'] - df2['Open-1']) / df2['Open-1'] * 100"
      ],
      "execution_count": 150,
      "outputs": []
    },
    {
      "cell_type": "code",
      "metadata": {
        "id": "fH6iq8Kh1jmv"
      },
      "source": [
        "df2 = df2.drop(['Close','Close-1', '%Close'], axis=1)"
      ],
      "execution_count": 151,
      "outputs": []
    },
    {
      "cell_type": "code",
      "metadata": {
        "colab": {
          "base_uri": "https://localhost:8080/",
          "height": 266
        },
        "id": "dMsFfMIREP8Z",
        "outputId": "9dea992c-1ef9-47c2-dc5f-abfa8d3c873f"
      },
      "source": [
        "df2.head(7)"
      ],
      "execution_count": 152,
      "outputs": [
        {
          "output_type": "execute_result",
          "data": {
            "text/html": [
              "<div>\n",
              "<style scoped>\n",
              "    .dataframe tbody tr th:only-of-type {\n",
              "        vertical-align: middle;\n",
              "    }\n",
              "\n",
              "    .dataframe tbody tr th {\n",
              "        vertical-align: top;\n",
              "    }\n",
              "\n",
              "    .dataframe thead th {\n",
              "        text-align: right;\n",
              "    }\n",
              "</style>\n",
              "<table border=\"1\" class=\"dataframe\">\n",
              "  <thead>\n",
              "    <tr style=\"text-align: right;\">\n",
              "      <th></th>\n",
              "      <th>Date</th>\n",
              "      <th>Open</th>\n",
              "      <th>DayOfWeek</th>\n",
              "      <th>Open-1</th>\n",
              "      <th>%Open</th>\n",
              "    </tr>\n",
              "  </thead>\n",
              "  <tbody>\n",
              "    <tr>\n",
              "      <th>0</th>\n",
              "      <td>2019-05-14</td>\n",
              "      <td>1.123242</td>\n",
              "      <td>1</td>\n",
              "      <td>NaN</td>\n",
              "      <td>NaN</td>\n",
              "    </tr>\n",
              "    <tr>\n",
              "      <th>1</th>\n",
              "      <td>2019-05-15</td>\n",
              "      <td>1.120360</td>\n",
              "      <td>2</td>\n",
              "      <td>1.123242</td>\n",
              "      <td>-0.256579</td>\n",
              "    </tr>\n",
              "    <tr>\n",
              "      <th>2</th>\n",
              "      <td>2019-05-16</td>\n",
              "      <td>1.120951</td>\n",
              "      <td>3</td>\n",
              "      <td>1.120360</td>\n",
              "      <td>0.052751</td>\n",
              "    </tr>\n",
              "    <tr>\n",
              "      <th>3</th>\n",
              "      <td>2019-05-17</td>\n",
              "      <td>1.117481</td>\n",
              "      <td>4</td>\n",
              "      <td>1.120951</td>\n",
              "      <td>-0.309559</td>\n",
              "    </tr>\n",
              "    <tr>\n",
              "      <th>4</th>\n",
              "      <td>2019-05-20</td>\n",
              "      <td>1.116532</td>\n",
              "      <td>0</td>\n",
              "      <td>1.117481</td>\n",
              "      <td>-0.084923</td>\n",
              "    </tr>\n",
              "    <tr>\n",
              "      <th>5</th>\n",
              "      <td>2019-05-21</td>\n",
              "      <td>1.116944</td>\n",
              "      <td>1</td>\n",
              "      <td>1.116532</td>\n",
              "      <td>0.036900</td>\n",
              "    </tr>\n",
              "    <tr>\n",
              "      <th>6</th>\n",
              "      <td>2019-05-22</td>\n",
              "      <td>NaN</td>\n",
              "      <td>2</td>\n",
              "      <td>1.116944</td>\n",
              "      <td>NaN</td>\n",
              "    </tr>\n",
              "  </tbody>\n",
              "</table>\n",
              "</div>"
            ],
            "text/plain": [
              "        Date      Open  DayOfWeek    Open-1     %Open\n",
              "0 2019-05-14  1.123242          1       NaN       NaN\n",
              "1 2019-05-15  1.120360          2  1.123242 -0.256579\n",
              "2 2019-05-16  1.120951          3  1.120360  0.052751\n",
              "3 2019-05-17  1.117481          4  1.120951 -0.309559\n",
              "4 2019-05-20  1.116532          0  1.117481 -0.084923\n",
              "5 2019-05-21  1.116944          1  1.116532  0.036900\n",
              "6 2019-05-22       NaN          2  1.116944       NaN"
            ]
          },
          "metadata": {
            "tags": []
          },
          "execution_count": 152
        }
      ]
    },
    {
      "cell_type": "code",
      "metadata": {
        "id": "5zeRvw_76_rE"
      },
      "source": [
        "# take decision to buy or sell - if price = 1.167072 then buy = -1.167072 or sell = 1.167072\n",
        "def take_decision(index):\n",
        "  row = df2.loc[index]\n",
        "  return random.choice([-row['Open'], +row['Open']])"
      ],
      "execution_count": 153,
      "outputs": []
    },
    {
      "cell_type": "code",
      "metadata": {
        "id": "CfKkh7Ox_8hM"
      },
      "source": [
        "def is_guessed(index):\n",
        "  if (index < 1):\n",
        "    return True\n",
        "  return (math.copysign(1, df2.loc[index]['%Open']) != math.copysign(1, df2.loc[index - 1]['decision']))"
      ],
      "execution_count": 154,
      "outputs": []
    },
    {
      "cell_type": "code",
      "metadata": {
        "id": "XyB39IOuMNqs"
      },
      "source": [
        "def make_deal(index):\n",
        "  k = df2.loc[index, 'k'] \n",
        "  decision = df2.loc[index, 'decision'] \n",
        "  return decision * (2 ** k)"
      ],
      "execution_count": 155,
      "outputs": []
    },
    {
      "cell_type": "code",
      "metadata": {
        "id": "jsDYBIWCSCnk"
      },
      "source": [
        "def discover_trend(index):\n",
        "  if (index < 1):\n",
        "    df2.loc[index, 'trend'] = 0\n",
        "    return\n",
        "  open_curr = df2.loc[index, '%Open']\n",
        "  open_prev = df2.loc[index-1, '%Open']\n",
        "  if (math.copysign(1, open_prev) == math.copysign(1, open_curr)):\n",
        "    df2.loc[index, 'trend'] = df2.loc[index-1, 'trend'] + 1\n",
        "  else:\n",
        "    df2.loc[index, 'trend'] = 0"
      ],
      "execution_count": 156,
      "outputs": []
    },
    {
      "cell_type": "code",
      "metadata": {
        "id": "RGTHIeDi30lw"
      },
      "source": [
        "# this is a main algorithm for trading\n",
        "def trade():\n",
        "  for index, row in df2.iterrows():\n",
        "    # close previous deal\n",
        "    if index < 1:\n",
        "      df2.loc[index, 'result after close'] = 0\n",
        "    else:\n",
        "      df2.loc[index, 'result after close'] = df2.loc[index - 1, 'result after close'] + df2.loc[index - 1, 'deal'] + \\\n",
        "        (2 ** df2.loc[index - 1, 'k']) * df2.loc[index, 'Open']\n",
        "\n",
        "    # coefficient of deal depends on result of previous deal\n",
        "    if (is_guessed(index)):\n",
        "      k = 0\n",
        "    else:\n",
        "      k += 1\n",
        "    df2.loc[index, 'k'] = k\n",
        "\n",
        "    # take decision\n",
        "    df2.loc[index, 'decision'] = take_decision(index)\n",
        "\n",
        "    # make deal\n",
        "    deal = make_deal(index)\n",
        "    df2.loc[index, 'deal'] = deal\n",
        "\n",
        "    # open new deal\n",
        "    if (index < 1):\n",
        "      df2.loc[index, 'result'] = 0\n",
        "    else:\n",
        "      df2.loc[index, 'result'] = df2.loc[index, 'result after close'] + deal\n",
        "    \n",
        "    # определяем тренд\n",
        "    discover_trend(index)"
      ],
      "execution_count": 157,
      "outputs": []
    },
    {
      "cell_type": "code",
      "metadata": {
        "colab": {
          "base_uri": "https://localhost:8080/",
          "height": 514
        },
        "id": "pkh0VmLw5ExM",
        "outputId": "46820544-b952-456a-de01-cedbeeb2a820"
      },
      "source": [
        "trade()\n",
        "df2.head(15)"
      ],
      "execution_count": 158,
      "outputs": [
        {
          "output_type": "execute_result",
          "data": {
            "text/html": [
              "<div>\n",
              "<style scoped>\n",
              "    .dataframe tbody tr th:only-of-type {\n",
              "        vertical-align: middle;\n",
              "    }\n",
              "\n",
              "    .dataframe tbody tr th {\n",
              "        vertical-align: top;\n",
              "    }\n",
              "\n",
              "    .dataframe thead th {\n",
              "        text-align: right;\n",
              "    }\n",
              "</style>\n",
              "<table border=\"1\" class=\"dataframe\">\n",
              "  <thead>\n",
              "    <tr style=\"text-align: right;\">\n",
              "      <th></th>\n",
              "      <th>Date</th>\n",
              "      <th>Open</th>\n",
              "      <th>DayOfWeek</th>\n",
              "      <th>Open-1</th>\n",
              "      <th>%Open</th>\n",
              "      <th>result after close</th>\n",
              "      <th>k</th>\n",
              "      <th>decision</th>\n",
              "      <th>deal</th>\n",
              "      <th>result</th>\n",
              "      <th>trend</th>\n",
              "    </tr>\n",
              "  </thead>\n",
              "  <tbody>\n",
              "    <tr>\n",
              "      <th>0</th>\n",
              "      <td>2019-05-14</td>\n",
              "      <td>1.123242</td>\n",
              "      <td>1</td>\n",
              "      <td>NaN</td>\n",
              "      <td>NaN</td>\n",
              "      <td>0.000000</td>\n",
              "      <td>0.0</td>\n",
              "      <td>1.123242</td>\n",
              "      <td>1.123242</td>\n",
              "      <td>0.000000</td>\n",
              "      <td>0.0</td>\n",
              "    </tr>\n",
              "    <tr>\n",
              "      <th>1</th>\n",
              "      <td>2019-05-15</td>\n",
              "      <td>1.120360</td>\n",
              "      <td>2</td>\n",
              "      <td>1.123242</td>\n",
              "      <td>-0.256579</td>\n",
              "      <td>2.243602</td>\n",
              "      <td>0.0</td>\n",
              "      <td>-1.120360</td>\n",
              "      <td>-1.120360</td>\n",
              "      <td>1.123242</td>\n",
              "      <td>0.0</td>\n",
              "    </tr>\n",
              "    <tr>\n",
              "      <th>2</th>\n",
              "      <td>2019-05-16</td>\n",
              "      <td>1.120951</td>\n",
              "      <td>3</td>\n",
              "      <td>1.120360</td>\n",
              "      <td>0.052751</td>\n",
              "      <td>2.244193</td>\n",
              "      <td>0.0</td>\n",
              "      <td>1.120951</td>\n",
              "      <td>1.120951</td>\n",
              "      <td>3.365144</td>\n",
              "      <td>0.0</td>\n",
              "    </tr>\n",
              "    <tr>\n",
              "      <th>3</th>\n",
              "      <td>2019-05-17</td>\n",
              "      <td>1.117481</td>\n",
              "      <td>4</td>\n",
              "      <td>1.120951</td>\n",
              "      <td>-0.309559</td>\n",
              "      <td>4.482625</td>\n",
              "      <td>0.0</td>\n",
              "      <td>1.117481</td>\n",
              "      <td>1.117481</td>\n",
              "      <td>5.600106</td>\n",
              "      <td>0.0</td>\n",
              "    </tr>\n",
              "    <tr>\n",
              "      <th>4</th>\n",
              "      <td>2019-05-20</td>\n",
              "      <td>1.116532</td>\n",
              "      <td>0</td>\n",
              "      <td>1.117481</td>\n",
              "      <td>-0.084923</td>\n",
              "      <td>6.716638</td>\n",
              "      <td>0.0</td>\n",
              "      <td>1.116532</td>\n",
              "      <td>1.116532</td>\n",
              "      <td>7.833170</td>\n",
              "      <td>1.0</td>\n",
              "    </tr>\n",
              "    <tr>\n",
              "      <th>5</th>\n",
              "      <td>2019-05-21</td>\n",
              "      <td>1.116944</td>\n",
              "      <td>1</td>\n",
              "      <td>1.116532</td>\n",
              "      <td>0.036900</td>\n",
              "      <td>8.950114</td>\n",
              "      <td>1.0</td>\n",
              "      <td>-1.116944</td>\n",
              "      <td>-2.233888</td>\n",
              "      <td>6.716226</td>\n",
              "      <td>0.0</td>\n",
              "    </tr>\n",
              "    <tr>\n",
              "      <th>6</th>\n",
              "      <td>2019-05-22</td>\n",
              "      <td>NaN</td>\n",
              "      <td>2</td>\n",
              "      <td>1.116944</td>\n",
              "      <td>NaN</td>\n",
              "      <td>NaN</td>\n",
              "      <td>0.0</td>\n",
              "      <td>NaN</td>\n",
              "      <td>NaN</td>\n",
              "      <td>NaN</td>\n",
              "      <td>1.0</td>\n",
              "    </tr>\n",
              "    <tr>\n",
              "      <th>7</th>\n",
              "      <td>2019-05-23</td>\n",
              "      <td>1.115511</td>\n",
              "      <td>3</td>\n",
              "      <td>NaN</td>\n",
              "      <td>NaN</td>\n",
              "      <td>NaN</td>\n",
              "      <td>1.0</td>\n",
              "      <td>1.115511</td>\n",
              "      <td>2.231022</td>\n",
              "      <td>NaN</td>\n",
              "      <td>2.0</td>\n",
              "    </tr>\n",
              "    <tr>\n",
              "      <th>8</th>\n",
              "      <td>2019-05-24</td>\n",
              "      <td>1.118381</td>\n",
              "      <td>4</td>\n",
              "      <td>1.115511</td>\n",
              "      <td>0.257281</td>\n",
              "      <td>NaN</td>\n",
              "      <td>2.0</td>\n",
              "      <td>1.118381</td>\n",
              "      <td>4.473524</td>\n",
              "      <td>NaN</td>\n",
              "      <td>3.0</td>\n",
              "    </tr>\n",
              "    <tr>\n",
              "      <th>9</th>\n",
              "      <td>2019-05-27</td>\n",
              "      <td>1.120636</td>\n",
              "      <td>0</td>\n",
              "      <td>1.118381</td>\n",
              "      <td>0.201631</td>\n",
              "      <td>NaN</td>\n",
              "      <td>3.0</td>\n",
              "      <td>-1.120636</td>\n",
              "      <td>-8.965088</td>\n",
              "      <td>NaN</td>\n",
              "      <td>4.0</td>\n",
              "    </tr>\n",
              "    <tr>\n",
              "      <th>10</th>\n",
              "      <td>2019-05-28</td>\n",
              "      <td>1.119357</td>\n",
              "      <td>1</td>\n",
              "      <td>1.120636</td>\n",
              "      <td>-0.114132</td>\n",
              "      <td>NaN</td>\n",
              "      <td>4.0</td>\n",
              "      <td>-1.119357</td>\n",
              "      <td>-17.909712</td>\n",
              "      <td>NaN</td>\n",
              "      <td>0.0</td>\n",
              "    </tr>\n",
              "    <tr>\n",
              "      <th>11</th>\n",
              "      <td>2019-05-29</td>\n",
              "      <td>1.117069</td>\n",
              "      <td>2</td>\n",
              "      <td>1.119357</td>\n",
              "      <td>-0.204403</td>\n",
              "      <td>NaN</td>\n",
              "      <td>5.0</td>\n",
              "      <td>-1.117069</td>\n",
              "      <td>-35.746208</td>\n",
              "      <td>NaN</td>\n",
              "      <td>1.0</td>\n",
              "    </tr>\n",
              "    <tr>\n",
              "      <th>12</th>\n",
              "      <td>2019-05-30</td>\n",
              "      <td>1.113834</td>\n",
              "      <td>3</td>\n",
              "      <td>1.117069</td>\n",
              "      <td>-0.289597</td>\n",
              "      <td>NaN</td>\n",
              "      <td>6.0</td>\n",
              "      <td>1.113834</td>\n",
              "      <td>71.285376</td>\n",
              "      <td>NaN</td>\n",
              "      <td>2.0</td>\n",
              "    </tr>\n",
              "    <tr>\n",
              "      <th>13</th>\n",
              "      <td>2019-05-31</td>\n",
              "      <td>1.112991</td>\n",
              "      <td>4</td>\n",
              "      <td>1.113834</td>\n",
              "      <td>-0.075685</td>\n",
              "      <td>NaN</td>\n",
              "      <td>0.0</td>\n",
              "      <td>1.112991</td>\n",
              "      <td>1.112991</td>\n",
              "      <td>NaN</td>\n",
              "      <td>3.0</td>\n",
              "    </tr>\n",
              "    <tr>\n",
              "      <th>14</th>\n",
              "      <td>2019-06-03</td>\n",
              "      <td>1.117343</td>\n",
              "      <td>0</td>\n",
              "      <td>1.112991</td>\n",
              "      <td>0.391018</td>\n",
              "      <td>NaN</td>\n",
              "      <td>1.0</td>\n",
              "      <td>-1.117343</td>\n",
              "      <td>-2.234686</td>\n",
              "      <td>NaN</td>\n",
              "      <td>0.0</td>\n",
              "    </tr>\n",
              "  </tbody>\n",
              "</table>\n",
              "</div>"
            ],
            "text/plain": [
              "         Date      Open  DayOfWeek  ...       deal    result  trend\n",
              "0  2019-05-14  1.123242          1  ...   1.123242  0.000000    0.0\n",
              "1  2019-05-15  1.120360          2  ...  -1.120360  1.123242    0.0\n",
              "2  2019-05-16  1.120951          3  ...   1.120951  3.365144    0.0\n",
              "3  2019-05-17  1.117481          4  ...   1.117481  5.600106    0.0\n",
              "4  2019-05-20  1.116532          0  ...   1.116532  7.833170    1.0\n",
              "5  2019-05-21  1.116944          1  ...  -2.233888  6.716226    0.0\n",
              "6  2019-05-22       NaN          2  ...        NaN       NaN    1.0\n",
              "7  2019-05-23  1.115511          3  ...   2.231022       NaN    2.0\n",
              "8  2019-05-24  1.118381          4  ...   4.473524       NaN    3.0\n",
              "9  2019-05-27  1.120636          0  ...  -8.965088       NaN    4.0\n",
              "10 2019-05-28  1.119357          1  ... -17.909712       NaN    0.0\n",
              "11 2019-05-29  1.117069          2  ... -35.746208       NaN    1.0\n",
              "12 2019-05-30  1.113834          3  ...  71.285376       NaN    2.0\n",
              "13 2019-05-31  1.112991          4  ...   1.112991       NaN    3.0\n",
              "14 2019-06-03  1.117343          0  ...  -2.234686       NaN    0.0\n",
              "\n",
              "[15 rows x 11 columns]"
            ]
          },
          "metadata": {
            "tags": []
          },
          "execution_count": 158
        }
      ]
    },
    {
      "cell_type": "code",
      "metadata": {
        "colab": {
          "base_uri": "https://localhost:8080/",
          "height": 297
        },
        "id": "CbNlYfbMQL5H",
        "outputId": "b4cec1c6-93a4-4af8-d02c-7f6399373c8c"
      },
      "source": [
        "df2.describe()"
      ],
      "execution_count": 159,
      "outputs": [
        {
          "output_type": "execute_result",
          "data": {
            "text/html": [
              "<div>\n",
              "<style scoped>\n",
              "    .dataframe tbody tr th:only-of-type {\n",
              "        vertical-align: middle;\n",
              "    }\n",
              "\n",
              "    .dataframe tbody tr th {\n",
              "        vertical-align: top;\n",
              "    }\n",
              "\n",
              "    .dataframe thead th {\n",
              "        text-align: right;\n",
              "    }\n",
              "</style>\n",
              "<table border=\"1\" class=\"dataframe\">\n",
              "  <thead>\n",
              "    <tr style=\"text-align: right;\">\n",
              "      <th></th>\n",
              "      <th>Open</th>\n",
              "      <th>DayOfWeek</th>\n",
              "      <th>Open-1</th>\n",
              "      <th>%Open</th>\n",
              "      <th>result after close</th>\n",
              "      <th>k</th>\n",
              "      <th>decision</th>\n",
              "      <th>deal</th>\n",
              "      <th>result</th>\n",
              "      <th>trend</th>\n",
              "    </tr>\n",
              "  </thead>\n",
              "  <tbody>\n",
              "    <tr>\n",
              "      <th>count</th>\n",
              "      <td>503.000000</td>\n",
              "      <td>524.000000</td>\n",
              "      <td>502.000000</td>\n",
              "      <td>499.000000</td>\n",
              "      <td>6.000000</td>\n",
              "      <td>524.000000</td>\n",
              "      <td>503.000000</td>\n",
              "      <td>503.000000</td>\n",
              "      <td>6.000000</td>\n",
              "      <td>524.000000</td>\n",
              "    </tr>\n",
              "    <tr>\n",
              "      <th>mean</th>\n",
              "      <td>1.145789</td>\n",
              "      <td>2.003817</td>\n",
              "      <td>1.145664</td>\n",
              "      <td>0.016864</td>\n",
              "      <td>4.106195</td>\n",
              "      <td>1.158397</td>\n",
              "      <td>-0.010015</td>\n",
              "      <td>-8.322290</td>\n",
              "      <td>4.106315</td>\n",
              "      <td>1.595420</td>\n",
              "    </tr>\n",
              "    <tr>\n",
              "      <th>std</th>\n",
              "      <td>0.044852</td>\n",
              "      <td>1.414208</td>\n",
              "      <td>0.044809</td>\n",
              "      <td>0.408661</td>\n",
              "      <td>3.292926</td>\n",
              "      <td>1.754455</td>\n",
              "      <td>1.147762</td>\n",
              "      <td>469.267705</td>\n",
              "      <td>3.138228</td>\n",
              "      <td>3.125859</td>\n",
              "    </tr>\n",
              "    <tr>\n",
              "      <th>min</th>\n",
              "      <td>1.065848</td>\n",
              "      <td>0.000000</td>\n",
              "      <td>1.065848</td>\n",
              "      <td>-2.603845</td>\n",
              "      <td>0.000000</td>\n",
              "      <td>0.000000</td>\n",
              "      <td>-1.233776</td>\n",
              "      <td>-9103.130624</td>\n",
              "      <td>0.000000</td>\n",
              "      <td>0.000000</td>\n",
              "    </tr>\n",
              "    <tr>\n",
              "      <th>25%</th>\n",
              "      <td>1.108955</td>\n",
              "      <td>1.000000</td>\n",
              "      <td>1.108931</td>\n",
              "      <td>-0.241307</td>\n",
              "      <td>2.243750</td>\n",
              "      <td>0.000000</td>\n",
              "      <td>-1.127618</td>\n",
              "      <td>-1.226741</td>\n",
              "      <td>1.683717</td>\n",
              "      <td>0.000000</td>\n",
              "    </tr>\n",
              "    <tr>\n",
              "      <th>50%</th>\n",
              "      <td>1.127548</td>\n",
              "      <td>2.000000</td>\n",
              "      <td>1.127414</td>\n",
              "      <td>0.018828</td>\n",
              "      <td>3.363409</td>\n",
              "      <td>1.000000</td>\n",
              "      <td>-1.077633</td>\n",
              "      <td>-1.080625</td>\n",
              "      <td>4.482625</td>\n",
              "      <td>1.000000</td>\n",
              "    </tr>\n",
              "    <tr>\n",
              "      <th>75%</th>\n",
              "      <td>1.186205</td>\n",
              "      <td>3.000000</td>\n",
              "      <td>1.185793</td>\n",
              "      <td>0.265886</td>\n",
              "      <td>6.158135</td>\n",
              "      <td>2.000000</td>\n",
              "      <td>1.127364</td>\n",
              "      <td>2.177750</td>\n",
              "      <td>6.437196</td>\n",
              "      <td>2.000000</td>\n",
              "    </tr>\n",
              "    <tr>\n",
              "      <th>max</th>\n",
              "      <td>1.233776</td>\n",
              "      <td>4.000000</td>\n",
              "      <td>1.233776</td>\n",
              "      <td>1.456985</td>\n",
              "      <td>8.950114</td>\n",
              "      <td>13.000000</td>\n",
              "      <td>1.229906</td>\n",
              "      <td>4547.575808</td>\n",
              "      <td>7.833170</td>\n",
              "      <td>24.000000</td>\n",
              "    </tr>\n",
              "  </tbody>\n",
              "</table>\n",
              "</div>"
            ],
            "text/plain": [
              "             Open   DayOfWeek      Open-1  ...         deal    result       trend\n",
              "count  503.000000  524.000000  502.000000  ...   503.000000  6.000000  524.000000\n",
              "mean     1.145789    2.003817    1.145664  ...    -8.322290  4.106315    1.595420\n",
              "std      0.044852    1.414208    0.044809  ...   469.267705  3.138228    3.125859\n",
              "min      1.065848    0.000000    1.065848  ... -9103.130624  0.000000    0.000000\n",
              "25%      1.108955    1.000000    1.108931  ...    -1.226741  1.683717    0.000000\n",
              "50%      1.127548    2.000000    1.127414  ...    -1.080625  4.482625    1.000000\n",
              "75%      1.186205    3.000000    1.185793  ...     2.177750  6.437196    2.000000\n",
              "max      1.233776    4.000000    1.233776  ...  4547.575808  7.833170   24.000000\n",
              "\n",
              "[8 rows x 10 columns]"
            ]
          },
          "metadata": {
            "tags": []
          },
          "execution_count": 159
        }
      ]
    },
    {
      "cell_type": "code",
      "metadata": {
        "colab": {
          "base_uri": "https://localhost:8080/",
          "height": 308
        },
        "id": "mSwauWOFqE1f",
        "outputId": "b45dbbb6-ca8d-43f5-ef71-8688d6ef2eb0"
      },
      "source": [
        "df2.plot('Date', 'result')"
      ],
      "execution_count": 160,
      "outputs": [
        {
          "output_type": "execute_result",
          "data": {
            "text/plain": [
              "<matplotlib.axes._subplots.AxesSubplot at 0x7f40edd2c090>"
            ]
          },
          "metadata": {
            "tags": []
          },
          "execution_count": 160
        },
        {
          "output_type": "display_data",
          "data": {
            "image/png": "[encoded data removed]",
            "text/plain": [
              "<Figure size 432x288 with 1 Axes>"
            ]
          },
          "metadata": {
            "tags": [],
            "needs_background": "light"
          }
        }
      ]
    }
  ]
}