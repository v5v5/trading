{
  "nbformat": 4,
  "nbformat_minor": 0,
  "metadata": {
    "colab": {
      "name": "trade-strategy.ipynb",
      "provenance": [],
      "collapsed_sections": [],
      "authorship_tag": "ABX9TyNfBhW/t34ivX+oPRmvyAil",
      "include_colab_link": true
    },
    "kernelspec": {
      "name": "python3",
      "display_name": "Python 3"
    },
    "language_info": {
      "name": "python"
    }
  },
  "cells": [
    {
      "cell_type": "markdown",
      "metadata": {
        "id": "view-in-github",
        "colab_type": "text"
      },
      "source": [
        "<a href=\"https://colab.research.google.com/github/v5v5/trading/blob/main/trade_strategy.ipynb\" target=\"_parent\"><img src=\"https://colab.research.google.com/assets/colab-badge.svg\" alt=\"Open In Colab\"/></a>"
      ]
    },
    {
      "cell_type": "markdown",
      "metadata": {
        "id": "HowU-l69T-Yb"
      },
      "source": [
        "URL to download quotes EURUSD\n",
        "\n",
        "https://query1.finance.yahoo.com/v7/finance/download/EURUSD=X?period1=1262304000&period2=1619654400&interval=1d&events=history&includeAdjustedClose=true"
      ]
    },
    {
      "cell_type": "code",
      "metadata": {
        "id": "pkKl4XBGVNGL"
      },
      "source": [
        "import pandas as pd\n",
        "from urllib.request import Request, urlopen\n",
        "from io import StringIO\n",
        "import datetime\n",
        "from dateutil.relativedelta import relativedelta\n",
        "import time\n",
        "import random\n",
        "import math"
      ],
      "execution_count": 190,
      "outputs": []
    },
    {
      "cell_type": "code",
      "metadata": {
        "colab": {
          "base_uri": "https://localhost:8080/",
          "height": 35
        },
        "id": "oAMusJ7Vfxou",
        "outputId": "eabe1de1-e665-4561-83bb-2b365e7b2f35"
      },
      "source": [
        "# dt_from = datetime.date(2000,1,1)\n",
        "# dt_from = datetime.date(2019,1,1)\n",
        "dt_from = datetime.date.today() + relativedelta(years=-1)\n",
        "ut_from = str(int(time.mktime(dt_from.timetuple())))\n",
        "ut_from"
      ],
      "execution_count": 191,
      "outputs": [
        {
          "output_type": "execute_result",
          "data": {
            "application/vnd.google.colaboratory.intrinsic+json": {
              "type": "string"
            },
            "text/plain": [
              "'1588464000'"
            ]
          },
          "metadata": {
            "tags": []
          },
          "execution_count": 191
        }
      ]
    },
    {
      "cell_type": "code",
      "metadata": {
        "colab": {
          "base_uri": "https://localhost:8080/",
          "height": 35
        },
        "id": "3iBED0CihYSB",
        "outputId": "8d0c6388-8840-49b1-f5a2-409e8e0194c0"
      },
      "source": [
        "dt_to = datetime.date.today()\n",
        "ut_to = str(int(time.mktime(dt_to.timetuple())))\n",
        "ut_to"
      ],
      "execution_count": 192,
      "outputs": [
        {
          "output_type": "execute_result",
          "data": {
            "application/vnd.google.colaboratory.intrinsic+json": {
              "type": "string"
            },
            "text/plain": [
              "'1620000000'"
            ]
          },
          "metadata": {
            "tags": []
          },
          "execution_count": 192
        }
      ]
    },
    {
      "cell_type": "code",
      "metadata": {
        "id": "ZWbh4rFCYsiA"
      },
      "source": [
        "# url='https://query1.finance.yahoo.com/v7/finance/download/EURUSD=X?period1=1262304000&period2=1619654400&interval=1d&events=history&includeAdjustedClose=true'\n",
        "url='https://query1.finance.yahoo.com/v7/finance/download/EURUSD=X?period1=' + ut_from + '&period2=' + ut_to + '&interval=1d&events=history&includeAdjustedClose=true'"
      ],
      "execution_count": 193,
      "outputs": []
    },
    {
      "cell_type": "code",
      "metadata": {
        "id": "ictpemgHTnaU"
      },
      "source": [
        "headers={'User-Agent': 'Mozilla/5.0'}"
      ],
      "execution_count": 194,
      "outputs": []
    },
    {
      "cell_type": "code",
      "metadata": {
        "id": "5KvntWHZg8CO"
      },
      "source": [
        "req = Request(url, headers=headers)"
      ],
      "execution_count": 195,
      "outputs": []
    },
    {
      "cell_type": "code",
      "metadata": {
        "id": "d2anZTnFSg6y"
      },
      "source": [
        "page = urlopen(req)\n",
        "# page = urlopen(url)"
      ],
      "execution_count": 196,
      "outputs": []
    },
    {
      "cell_type": "code",
      "metadata": {
        "id": "tOtCSrjqY2b6"
      },
      "source": [
        "page = urlopen(url)"
      ],
      "execution_count": 197,
      "outputs": []
    },
    {
      "cell_type": "code",
      "metadata": {
        "id": "W7BmUlFOSjXh"
      },
      "source": [
        "content = page.read()"
      ],
      "execution_count": 198,
      "outputs": []
    },
    {
      "cell_type": "code",
      "metadata": {
        "id": "MrUfRSxZp4Y9"
      },
      "source": [
        "text = content.decode('UTF-8')"
      ],
      "execution_count": 199,
      "outputs": []
    },
    {
      "cell_type": "code",
      "metadata": {
        "colab": {
          "base_uri": "https://localhost:8080/"
        },
        "id": "HIutb2KOhWlP",
        "outputId": "e19d59ac-4fb2-4904-c74f-7437e0d3a3bb"
      },
      "source": [
        "print(text[:300])"
      ],
      "execution_count": 200,
      "outputs": [
        {
          "output_type": "stream",
          "text": [
            "Date,Open,High,Low,Close,Adj Close,Volume\n",
            "2020-05-04,1.095746,1.095782,1.090132,1.095963,1.095963,0\n",
            "2020-05-05,1.090453,1.092132,1.082696,1.090429,1.090429,0\n",
            "2020-05-06,1.084011,1.084481,1.078423,1.083858,1.083858,0\n",
            "2020-05-07,1.080054,1.081572,1.076751,1.079855,1.079855,0\n",
            "2020-05-08,1.083694,1.0873\n"
          ],
          "name": "stdout"
        }
      ]
    },
    {
      "cell_type": "code",
      "metadata": {
        "id": "nyxhqBhKpBel"
      },
      "source": [
        "data = StringIO(text)"
      ],
      "execution_count": 201,
      "outputs": []
    },
    {
      "cell_type": "code",
      "metadata": {
        "id": "tso_dYdOVny7"
      },
      "source": [
        "df1 = pd.read_csv(data, sep=',', header='infer')"
      ],
      "execution_count": 202,
      "outputs": []
    },
    {
      "cell_type": "code",
      "metadata": {
        "colab": {
          "base_uri": "https://localhost:8080/",
          "height": 266
        },
        "id": "CAWUH4jfl0-Y",
        "outputId": "7ea68f15-95c7-4cb2-b332-c11244814c35"
      },
      "source": [
        "df1.tail(7)"
      ],
      "execution_count": 203,
      "outputs": [
        {
          "output_type": "execute_result",
          "data": {
            "text/html": [
              "<div>\n",
              "<style scoped>\n",
              "    .dataframe tbody tr th:only-of-type {\n",
              "        vertical-align: middle;\n",
              "    }\n",
              "\n",
              "    .dataframe tbody tr th {\n",
              "        vertical-align: top;\n",
              "    }\n",
              "\n",
              "    .dataframe thead th {\n",
              "        text-align: right;\n",
              "    }\n",
              "</style>\n",
              "<table border=\"1\" class=\"dataframe\">\n",
              "  <thead>\n",
              "    <tr style=\"text-align: right;\">\n",
              "      <th></th>\n",
              "      <th>Date</th>\n",
              "      <th>Open</th>\n",
              "      <th>High</th>\n",
              "      <th>Low</th>\n",
              "      <th>Close</th>\n",
              "      <th>Adj Close</th>\n",
              "      <th>Volume</th>\n",
              "    </tr>\n",
              "  </thead>\n",
              "  <tbody>\n",
              "    <tr>\n",
              "      <th>254</th>\n",
              "      <td>2021-04-23</td>\n",
              "      <td>1.201793</td>\n",
              "      <td>1.207799</td>\n",
              "      <td>1.201389</td>\n",
              "      <td>1.201475</td>\n",
              "      <td>1.201475</td>\n",
              "      <td>0</td>\n",
              "    </tr>\n",
              "    <tr>\n",
              "      <th>255</th>\n",
              "      <td>2021-04-26</td>\n",
              "      <td>1.208956</td>\n",
              "      <td>1.211827</td>\n",
              "      <td>1.206374</td>\n",
              "      <td>1.208985</td>\n",
              "      <td>1.208985</td>\n",
              "      <td>0</td>\n",
              "    </tr>\n",
              "    <tr>\n",
              "      <th>256</th>\n",
              "      <td>2021-04-27</td>\n",
              "      <td>1.207921</td>\n",
              "      <td>1.209190</td>\n",
              "      <td>1.205793</td>\n",
              "      <td>1.208167</td>\n",
              "      <td>1.208167</td>\n",
              "      <td>0</td>\n",
              "    </tr>\n",
              "    <tr>\n",
              "      <th>257</th>\n",
              "      <td>2021-04-28</td>\n",
              "      <td>1.208854</td>\n",
              "      <td>1.210214</td>\n",
              "      <td>1.205764</td>\n",
              "      <td>1.209031</td>\n",
              "      <td>1.209031</td>\n",
              "      <td>0</td>\n",
              "    </tr>\n",
              "    <tr>\n",
              "      <th>258</th>\n",
              "      <td>2021-04-29</td>\n",
              "      <td>1.213578</td>\n",
              "      <td>1.215214</td>\n",
              "      <td>1.210419</td>\n",
              "      <td>1.213592</td>\n",
              "      <td>1.213592</td>\n",
              "      <td>0</td>\n",
              "    </tr>\n",
              "    <tr>\n",
              "      <th>259</th>\n",
              "      <td>2021-04-30</td>\n",
              "      <td>1.212489</td>\n",
              "      <td>1.212856</td>\n",
              "      <td>1.202472</td>\n",
              "      <td>1.212709</td>\n",
              "      <td>1.212709</td>\n",
              "      <td>0</td>\n",
              "    </tr>\n",
              "    <tr>\n",
              "      <th>260</th>\n",
              "      <td>2021-05-03</td>\n",
              "      <td>1.202501</td>\n",
              "      <td>1.204094</td>\n",
              "      <td>1.202212</td>\n",
              "      <td>1.202357</td>\n",
              "      <td>1.202357</td>\n",
              "      <td>0</td>\n",
              "    </tr>\n",
              "  </tbody>\n",
              "</table>\n",
              "</div>"
            ],
            "text/plain": [
              "           Date      Open      High       Low     Close  Adj Close  Volume\n",
              "254  2021-04-23  1.201793  1.207799  1.201389  1.201475   1.201475       0\n",
              "255  2021-04-26  1.208956  1.211827  1.206374  1.208985   1.208985       0\n",
              "256  2021-04-27  1.207921  1.209190  1.205793  1.208167   1.208167       0\n",
              "257  2021-04-28  1.208854  1.210214  1.205764  1.209031   1.209031       0\n",
              "258  2021-04-29  1.213578  1.215214  1.210419  1.213592   1.213592       0\n",
              "259  2021-04-30  1.212489  1.212856  1.202472  1.212709   1.212709       0\n",
              "260  2021-05-03  1.202501  1.204094  1.202212  1.202357   1.202357       0"
            ]
          },
          "metadata": {
            "tags": []
          },
          "execution_count": 203
        }
      ]
    },
    {
      "cell_type": "code",
      "metadata": {
        "id": "iDDbrBeGci0d"
      },
      "source": [
        "df1['Date'] = pd.to_datetime(df1['Date'], errors='coerce')"
      ],
      "execution_count": 204,
      "outputs": []
    },
    {
      "cell_type": "code",
      "metadata": {
        "id": "eRwjQgzGmCBm"
      },
      "source": [
        "df1['DayOfWeek'] = df1['Date'].dt.dayofweek"
      ],
      "execution_count": 205,
      "outputs": []
    },
    {
      "cell_type": "code",
      "metadata": {
        "colab": {
          "base_uri": "https://localhost:8080/",
          "height": 266
        },
        "id": "NLF_R44LnKkY",
        "outputId": "b67e6d93-353e-4d07-eb3b-6687aa708815"
      },
      "source": [
        "df1.tail(7)"
      ],
      "execution_count": 206,
      "outputs": [
        {
          "output_type": "execute_result",
          "data": {
            "text/html": [
              "<div>\n",
              "<style scoped>\n",
              "    .dataframe tbody tr th:only-of-type {\n",
              "        vertical-align: middle;\n",
              "    }\n",
              "\n",
              "    .dataframe tbody tr th {\n",
              "        vertical-align: top;\n",
              "    }\n",
              "\n",
              "    .dataframe thead th {\n",
              "        text-align: right;\n",
              "    }\n",
              "</style>\n",
              "<table border=\"1\" class=\"dataframe\">\n",
              "  <thead>\n",
              "    <tr style=\"text-align: right;\">\n",
              "      <th></th>\n",
              "      <th>Date</th>\n",
              "      <th>Open</th>\n",
              "      <th>High</th>\n",
              "      <th>Low</th>\n",
              "      <th>Close</th>\n",
              "      <th>Adj Close</th>\n",
              "      <th>Volume</th>\n",
              "      <th>DayOfWeek</th>\n",
              "    </tr>\n",
              "  </thead>\n",
              "  <tbody>\n",
              "    <tr>\n",
              "      <th>254</th>\n",
              "      <td>2021-04-23</td>\n",
              "      <td>1.201793</td>\n",
              "      <td>1.207799</td>\n",
              "      <td>1.201389</td>\n",
              "      <td>1.201475</td>\n",
              "      <td>1.201475</td>\n",
              "      <td>0</td>\n",
              "      <td>4</td>\n",
              "    </tr>\n",
              "    <tr>\n",
              "      <th>255</th>\n",
              "      <td>2021-04-26</td>\n",
              "      <td>1.208956</td>\n",
              "      <td>1.211827</td>\n",
              "      <td>1.206374</td>\n",
              "      <td>1.208985</td>\n",
              "      <td>1.208985</td>\n",
              "      <td>0</td>\n",
              "      <td>0</td>\n",
              "    </tr>\n",
              "    <tr>\n",
              "      <th>256</th>\n",
              "      <td>2021-04-27</td>\n",
              "      <td>1.207921</td>\n",
              "      <td>1.209190</td>\n",
              "      <td>1.205793</td>\n",
              "      <td>1.208167</td>\n",
              "      <td>1.208167</td>\n",
              "      <td>0</td>\n",
              "      <td>1</td>\n",
              "    </tr>\n",
              "    <tr>\n",
              "      <th>257</th>\n",
              "      <td>2021-04-28</td>\n",
              "      <td>1.208854</td>\n",
              "      <td>1.210214</td>\n",
              "      <td>1.205764</td>\n",
              "      <td>1.209031</td>\n",
              "      <td>1.209031</td>\n",
              "      <td>0</td>\n",
              "      <td>2</td>\n",
              "    </tr>\n",
              "    <tr>\n",
              "      <th>258</th>\n",
              "      <td>2021-04-29</td>\n",
              "      <td>1.213578</td>\n",
              "      <td>1.215214</td>\n",
              "      <td>1.210419</td>\n",
              "      <td>1.213592</td>\n",
              "      <td>1.213592</td>\n",
              "      <td>0</td>\n",
              "      <td>3</td>\n",
              "    </tr>\n",
              "    <tr>\n",
              "      <th>259</th>\n",
              "      <td>2021-04-30</td>\n",
              "      <td>1.212489</td>\n",
              "      <td>1.212856</td>\n",
              "      <td>1.202472</td>\n",
              "      <td>1.212709</td>\n",
              "      <td>1.212709</td>\n",
              "      <td>0</td>\n",
              "      <td>4</td>\n",
              "    </tr>\n",
              "    <tr>\n",
              "      <th>260</th>\n",
              "      <td>2021-05-03</td>\n",
              "      <td>1.202501</td>\n",
              "      <td>1.204094</td>\n",
              "      <td>1.202212</td>\n",
              "      <td>1.202357</td>\n",
              "      <td>1.202357</td>\n",
              "      <td>0</td>\n",
              "      <td>0</td>\n",
              "    </tr>\n",
              "  </tbody>\n",
              "</table>\n",
              "</div>"
            ],
            "text/plain": [
              "          Date      Open      High  ...  Adj Close  Volume  DayOfWeek\n",
              "254 2021-04-23  1.201793  1.207799  ...   1.201475       0          4\n",
              "255 2021-04-26  1.208956  1.211827  ...   1.208985       0          0\n",
              "256 2021-04-27  1.207921  1.209190  ...   1.208167       0          1\n",
              "257 2021-04-28  1.208854  1.210214  ...   1.209031       0          2\n",
              "258 2021-04-29  1.213578  1.215214  ...   1.213592       0          3\n",
              "259 2021-04-30  1.212489  1.212856  ...   1.212709       0          4\n",
              "260 2021-05-03  1.202501  1.204094  ...   1.202357       0          0\n",
              "\n",
              "[7 rows x 8 columns]"
            ]
          },
          "metadata": {
            "tags": []
          },
          "execution_count": 206
        }
      ]
    },
    {
      "cell_type": "code",
      "metadata": {
        "id": "isV-KVPm_mxb"
      },
      "source": [
        "df2 = df1.drop(['High','Low', 'Adj Close', 'Volume'], axis=1)"
      ],
      "execution_count": 207,
      "outputs": []
    },
    {
      "cell_type": "code",
      "metadata": {
        "colab": {
          "base_uri": "https://localhost:8080/",
          "height": 266
        },
        "id": "BoXK3TqGAW19",
        "outputId": "a928be15-de41-441b-a51e-96fad8137a3f"
      },
      "source": [
        "df2.tail(7)"
      ],
      "execution_count": 208,
      "outputs": [
        {
          "output_type": "execute_result",
          "data": {
            "text/html": [
              "<div>\n",
              "<style scoped>\n",
              "    .dataframe tbody tr th:only-of-type {\n",
              "        vertical-align: middle;\n",
              "    }\n",
              "\n",
              "    .dataframe tbody tr th {\n",
              "        vertical-align: top;\n",
              "    }\n",
              "\n",
              "    .dataframe thead th {\n",
              "        text-align: right;\n",
              "    }\n",
              "</style>\n",
              "<table border=\"1\" class=\"dataframe\">\n",
              "  <thead>\n",
              "    <tr style=\"text-align: right;\">\n",
              "      <th></th>\n",
              "      <th>Date</th>\n",
              "      <th>Open</th>\n",
              "      <th>Close</th>\n",
              "      <th>DayOfWeek</th>\n",
              "    </tr>\n",
              "  </thead>\n",
              "  <tbody>\n",
              "    <tr>\n",
              "      <th>254</th>\n",
              "      <td>2021-04-23</td>\n",
              "      <td>1.201793</td>\n",
              "      <td>1.201475</td>\n",
              "      <td>4</td>\n",
              "    </tr>\n",
              "    <tr>\n",
              "      <th>255</th>\n",
              "      <td>2021-04-26</td>\n",
              "      <td>1.208956</td>\n",
              "      <td>1.208985</td>\n",
              "      <td>0</td>\n",
              "    </tr>\n",
              "    <tr>\n",
              "      <th>256</th>\n",
              "      <td>2021-04-27</td>\n",
              "      <td>1.207921</td>\n",
              "      <td>1.208167</td>\n",
              "      <td>1</td>\n",
              "    </tr>\n",
              "    <tr>\n",
              "      <th>257</th>\n",
              "      <td>2021-04-28</td>\n",
              "      <td>1.208854</td>\n",
              "      <td>1.209031</td>\n",
              "      <td>2</td>\n",
              "    </tr>\n",
              "    <tr>\n",
              "      <th>258</th>\n",
              "      <td>2021-04-29</td>\n",
              "      <td>1.213578</td>\n",
              "      <td>1.213592</td>\n",
              "      <td>3</td>\n",
              "    </tr>\n",
              "    <tr>\n",
              "      <th>259</th>\n",
              "      <td>2021-04-30</td>\n",
              "      <td>1.212489</td>\n",
              "      <td>1.212709</td>\n",
              "      <td>4</td>\n",
              "    </tr>\n",
              "    <tr>\n",
              "      <th>260</th>\n",
              "      <td>2021-05-03</td>\n",
              "      <td>1.202501</td>\n",
              "      <td>1.202357</td>\n",
              "      <td>0</td>\n",
              "    </tr>\n",
              "  </tbody>\n",
              "</table>\n",
              "</div>"
            ],
            "text/plain": [
              "          Date      Open     Close  DayOfWeek\n",
              "254 2021-04-23  1.201793  1.201475          4\n",
              "255 2021-04-26  1.208956  1.208985          0\n",
              "256 2021-04-27  1.207921  1.208167          1\n",
              "257 2021-04-28  1.208854  1.209031          2\n",
              "258 2021-04-29  1.213578  1.213592          3\n",
              "259 2021-04-30  1.212489  1.212709          4\n",
              "260 2021-05-03  1.202501  1.202357          0"
            ]
          },
          "metadata": {
            "tags": []
          },
          "execution_count": 208
        }
      ]
    },
    {
      "cell_type": "code",
      "metadata": {
        "id": "0mzQvzqDDFzP"
      },
      "source": [
        "df2['Close-1'] = df2['Close'].shift(1)\n",
        "df2['Open-1'] = df2['Open'].shift(1)"
      ],
      "execution_count": 209,
      "outputs": []
    },
    {
      "cell_type": "code",
      "metadata": {
        "colab": {
          "base_uri": "https://localhost:8080/",
          "height": 266
        },
        "id": "3xG50mLQDq3e",
        "outputId": "8930604c-8356-4fc0-bb74-2f67bef4c49e"
      },
      "source": [
        "df2.tail(7)"
      ],
      "execution_count": 210,
      "outputs": [
        {
          "output_type": "execute_result",
          "data": {
            "text/html": [
              "<div>\n",
              "<style scoped>\n",
              "    .dataframe tbody tr th:only-of-type {\n",
              "        vertical-align: middle;\n",
              "    }\n",
              "\n",
              "    .dataframe tbody tr th {\n",
              "        vertical-align: top;\n",
              "    }\n",
              "\n",
              "    .dataframe thead th {\n",
              "        text-align: right;\n",
              "    }\n",
              "</style>\n",
              "<table border=\"1\" class=\"dataframe\">\n",
              "  <thead>\n",
              "    <tr style=\"text-align: right;\">\n",
              "      <th></th>\n",
              "      <th>Date</th>\n",
              "      <th>Open</th>\n",
              "      <th>Close</th>\n",
              "      <th>DayOfWeek</th>\n",
              "      <th>Close-1</th>\n",
              "      <th>Open-1</th>\n",
              "    </tr>\n",
              "  </thead>\n",
              "  <tbody>\n",
              "    <tr>\n",
              "      <th>254</th>\n",
              "      <td>2021-04-23</td>\n",
              "      <td>1.201793</td>\n",
              "      <td>1.201475</td>\n",
              "      <td>4</td>\n",
              "      <td>1.203775</td>\n",
              "      <td>1.203818</td>\n",
              "    </tr>\n",
              "    <tr>\n",
              "      <th>255</th>\n",
              "      <td>2021-04-26</td>\n",
              "      <td>1.208956</td>\n",
              "      <td>1.208985</td>\n",
              "      <td>0</td>\n",
              "      <td>1.201475</td>\n",
              "      <td>1.201793</td>\n",
              "    </tr>\n",
              "    <tr>\n",
              "      <th>256</th>\n",
              "      <td>2021-04-27</td>\n",
              "      <td>1.207921</td>\n",
              "      <td>1.208167</td>\n",
              "      <td>1</td>\n",
              "      <td>1.208985</td>\n",
              "      <td>1.208956</td>\n",
              "    </tr>\n",
              "    <tr>\n",
              "      <th>257</th>\n",
              "      <td>2021-04-28</td>\n",
              "      <td>1.208854</td>\n",
              "      <td>1.209031</td>\n",
              "      <td>2</td>\n",
              "      <td>1.208167</td>\n",
              "      <td>1.207921</td>\n",
              "    </tr>\n",
              "    <tr>\n",
              "      <th>258</th>\n",
              "      <td>2021-04-29</td>\n",
              "      <td>1.213578</td>\n",
              "      <td>1.213592</td>\n",
              "      <td>3</td>\n",
              "      <td>1.209031</td>\n",
              "      <td>1.208854</td>\n",
              "    </tr>\n",
              "    <tr>\n",
              "      <th>259</th>\n",
              "      <td>2021-04-30</td>\n",
              "      <td>1.212489</td>\n",
              "      <td>1.212709</td>\n",
              "      <td>4</td>\n",
              "      <td>1.213592</td>\n",
              "      <td>1.213578</td>\n",
              "    </tr>\n",
              "    <tr>\n",
              "      <th>260</th>\n",
              "      <td>2021-05-03</td>\n",
              "      <td>1.202501</td>\n",
              "      <td>1.202357</td>\n",
              "      <td>0</td>\n",
              "      <td>1.212709</td>\n",
              "      <td>1.212489</td>\n",
              "    </tr>\n",
              "  </tbody>\n",
              "</table>\n",
              "</div>"
            ],
            "text/plain": [
              "          Date      Open     Close  DayOfWeek   Close-1    Open-1\n",
              "254 2021-04-23  1.201793  1.201475          4  1.203775  1.203818\n",
              "255 2021-04-26  1.208956  1.208985          0  1.201475  1.201793\n",
              "256 2021-04-27  1.207921  1.208167          1  1.208985  1.208956\n",
              "257 2021-04-28  1.208854  1.209031          2  1.208167  1.207921\n",
              "258 2021-04-29  1.213578  1.213592          3  1.209031  1.208854\n",
              "259 2021-04-30  1.212489  1.212709          4  1.213592  1.213578\n",
              "260 2021-05-03  1.202501  1.202357          0  1.212709  1.212489"
            ]
          },
          "metadata": {
            "tags": []
          },
          "execution_count": 210
        }
      ]
    },
    {
      "cell_type": "code",
      "metadata": {
        "id": "tigVCqC3EBM4"
      },
      "source": [
        "df2['%Close'] = (df2['Close'] - df2['Close-1']) / df2['Close-1'] * 100\n",
        "df2['%Open'] = (df2['Open'] - df2['Open-1']) / df2['Open-1'] * 100"
      ],
      "execution_count": 211,
      "outputs": []
    },
    {
      "cell_type": "code",
      "metadata": {
        "colab": {
          "base_uri": "https://localhost:8080/",
          "height": 266
        },
        "id": "dMsFfMIREP8Z",
        "outputId": "44c4fb96-a2cb-40ae-fc78-1790980407f8"
      },
      "source": [
        "df2.head(7)"
      ],
      "execution_count": 212,
      "outputs": [
        {
          "output_type": "execute_result",
          "data": {
            "text/html": [
              "<div>\n",
              "<style scoped>\n",
              "    .dataframe tbody tr th:only-of-type {\n",
              "        vertical-align: middle;\n",
              "    }\n",
              "\n",
              "    .dataframe tbody tr th {\n",
              "        vertical-align: top;\n",
              "    }\n",
              "\n",
              "    .dataframe thead th {\n",
              "        text-align: right;\n",
              "    }\n",
              "</style>\n",
              "<table border=\"1\" class=\"dataframe\">\n",
              "  <thead>\n",
              "    <tr style=\"text-align: right;\">\n",
              "      <th></th>\n",
              "      <th>Date</th>\n",
              "      <th>Open</th>\n",
              "      <th>Close</th>\n",
              "      <th>DayOfWeek</th>\n",
              "      <th>Close-1</th>\n",
              "      <th>Open-1</th>\n",
              "      <th>%Close</th>\n",
              "      <th>%Open</th>\n",
              "    </tr>\n",
              "  </thead>\n",
              "  <tbody>\n",
              "    <tr>\n",
              "      <th>0</th>\n",
              "      <td>2020-05-04</td>\n",
              "      <td>1.095746</td>\n",
              "      <td>1.095963</td>\n",
              "      <td>0</td>\n",
              "      <td>NaN</td>\n",
              "      <td>NaN</td>\n",
              "      <td>NaN</td>\n",
              "      <td>NaN</td>\n",
              "    </tr>\n",
              "    <tr>\n",
              "      <th>1</th>\n",
              "      <td>2020-05-05</td>\n",
              "      <td>1.090453</td>\n",
              "      <td>1.090429</td>\n",
              "      <td>1</td>\n",
              "      <td>1.095963</td>\n",
              "      <td>1.095746</td>\n",
              "      <td>-0.504944</td>\n",
              "      <td>-0.483050</td>\n",
              "    </tr>\n",
              "    <tr>\n",
              "      <th>2</th>\n",
              "      <td>2020-05-06</td>\n",
              "      <td>1.084011</td>\n",
              "      <td>1.083858</td>\n",
              "      <td>2</td>\n",
              "      <td>1.090429</td>\n",
              "      <td>1.090453</td>\n",
              "      <td>-0.602607</td>\n",
              "      <td>-0.590764</td>\n",
              "    </tr>\n",
              "    <tr>\n",
              "      <th>3</th>\n",
              "      <td>2020-05-07</td>\n",
              "      <td>1.080054</td>\n",
              "      <td>1.079855</td>\n",
              "      <td>3</td>\n",
              "      <td>1.083858</td>\n",
              "      <td>1.084011</td>\n",
              "      <td>-0.369329</td>\n",
              "      <td>-0.365033</td>\n",
              "    </tr>\n",
              "    <tr>\n",
              "      <th>4</th>\n",
              "      <td>2020-05-08</td>\n",
              "      <td>1.083694</td>\n",
              "      <td>1.083717</td>\n",
              "      <td>4</td>\n",
              "      <td>1.079855</td>\n",
              "      <td>1.080054</td>\n",
              "      <td>0.357641</td>\n",
              "      <td>0.337020</td>\n",
              "    </tr>\n",
              "    <tr>\n",
              "      <th>5</th>\n",
              "      <td>2020-05-11</td>\n",
              "      <td>1.084011</td>\n",
              "      <td>1.083952</td>\n",
              "      <td>0</td>\n",
              "      <td>1.083717</td>\n",
              "      <td>1.083694</td>\n",
              "      <td>0.021685</td>\n",
              "      <td>0.029252</td>\n",
              "    </tr>\n",
              "    <tr>\n",
              "      <th>6</th>\n",
              "      <td>2020-05-12</td>\n",
              "      <td>1.080917</td>\n",
              "      <td>1.080941</td>\n",
              "      <td>1</td>\n",
              "      <td>1.083952</td>\n",
              "      <td>1.084011</td>\n",
              "      <td>-0.277780</td>\n",
              "      <td>-0.285421</td>\n",
              "    </tr>\n",
              "  </tbody>\n",
              "</table>\n",
              "</div>"
            ],
            "text/plain": [
              "        Date      Open     Close  ...    Open-1    %Close     %Open\n",
              "0 2020-05-04  1.095746  1.095963  ...       NaN       NaN       NaN\n",
              "1 2020-05-05  1.090453  1.090429  ...  1.095746 -0.504944 -0.483050\n",
              "2 2020-05-06  1.084011  1.083858  ...  1.090453 -0.602607 -0.590764\n",
              "3 2020-05-07  1.080054  1.079855  ...  1.084011 -0.369329 -0.365033\n",
              "4 2020-05-08  1.083694  1.083717  ...  1.080054  0.357641  0.337020\n",
              "5 2020-05-11  1.084011  1.083952  ...  1.083694  0.021685  0.029252\n",
              "6 2020-05-12  1.080917  1.080941  ...  1.084011 -0.277780 -0.285421\n",
              "\n",
              "[7 rows x 8 columns]"
            ]
          },
          "metadata": {
            "tags": []
          },
          "execution_count": 212
        }
      ]
    },
    {
      "cell_type": "code",
      "metadata": {
        "id": "5zeRvw_76_rE"
      },
      "source": [
        "# take decision to buy or sell if price = 1.167072 then buy = -1.167072 or sell = 1.167072\n",
        "def take_decision(index):\n",
        "  row = df2.loc[index]\n",
        "  return random.choice([-row['Open'], +row['Open']])"
      ],
      "execution_count": 220,
      "outputs": []
    },
    {
      "cell_type": "code",
      "metadata": {
        "id": "CfKkh7Ox_8hM"
      },
      "source": [
        "def is_guessed(index):\n",
        "  row = df2.loc[index]\n",
        "  if (index < 1):\n",
        "    return True\n",
        "  return (math.copysign(1, row['%Open']) == math.copysign(1, row['decision']))"
      ],
      "execution_count": 214,
      "outputs": []
    },
    {
      "cell_type": "code",
      "metadata": {
        "id": "XyB39IOuMNqs"
      },
      "source": [
        "def make_deal(index):\n",
        "  k = df2.loc[index, 'k'] \n",
        "  decision = df2.loc[index, 'decision'] \n",
        "  return decision * (2 ** k)"
      ],
      "execution_count": 215,
      "outputs": []
    },
    {
      "cell_type": "code",
      "metadata": {
        "id": "jsDYBIWCSCnk"
      },
      "source": [
        "def discover_trend(index):\n",
        "  if (index < 1):\n",
        "    df2.loc[index, 'trend'] = 0\n",
        "    return\n",
        "  open_curr = df2.loc[index, '%Open']\n",
        "  open_prev = df2.loc[index-1, '%Open']\n",
        "  if (math.copysign(1, open_prev) == math.copysign(1, open_curr)):\n",
        "    df2.loc[index, 'trend'] = df2.loc[index-1, 'trend'] + 1\n",
        "  else:\n",
        "    df2.loc[index, 'trend'] = 0"
      ],
      "execution_count": 216,
      "outputs": []
    },
    {
      "cell_type": "code",
      "metadata": {
        "id": "RGTHIeDi30lw"
      },
      "source": [
        "# this is a main algorithm for trading\n",
        "def trade():\n",
        "  for index, row in df2.iterrows():\n",
        "    df2.loc[index, 'decision'] = take_decision(index)\n",
        "    if (is_guessed(index)):\n",
        "      k = 0\n",
        "    else:\n",
        "      k += 1\n",
        "    df2.loc[index, 'k'] = k\n",
        "    deal = make_deal(index)\n",
        "    df2.loc[index, 'deal'] = deal\n",
        "    discover_trend(index)"
      ],
      "execution_count": 217,
      "outputs": []
    },
    {
      "cell_type": "code",
      "metadata": {
        "colab": {
          "base_uri": "https://localhost:8080/",
          "height": 419
        },
        "id": "pkh0VmLw5ExM",
        "outputId": "ac68b132-1137-4a86-f7a0-875b6fda8d34"
      },
      "source": [
        "trade()\n",
        "df2"
      ],
      "execution_count": 218,
      "outputs": [
        {
          "output_type": "execute_result",
          "data": {
            "text/html": [
              "<div>\n",
              "<style scoped>\n",
              "    .dataframe tbody tr th:only-of-type {\n",
              "        vertical-align: middle;\n",
              "    }\n",
              "\n",
              "    .dataframe tbody tr th {\n",
              "        vertical-align: top;\n",
              "    }\n",
              "\n",
              "    .dataframe thead th {\n",
              "        text-align: right;\n",
              "    }\n",
              "</style>\n",
              "<table border=\"1\" class=\"dataframe\">\n",
              "  <thead>\n",
              "    <tr style=\"text-align: right;\">\n",
              "      <th></th>\n",
              "      <th>Date</th>\n",
              "      <th>Open</th>\n",
              "      <th>Close</th>\n",
              "      <th>DayOfWeek</th>\n",
              "      <th>Close-1</th>\n",
              "      <th>Open-1</th>\n",
              "      <th>%Close</th>\n",
              "      <th>%Open</th>\n",
              "      <th>decision</th>\n",
              "      <th>k</th>\n",
              "      <th>deal</th>\n",
              "      <th>trend</th>\n",
              "    </tr>\n",
              "  </thead>\n",
              "  <tbody>\n",
              "    <tr>\n",
              "      <th>0</th>\n",
              "      <td>2020-05-04</td>\n",
              "      <td>1.095746</td>\n",
              "      <td>1.095963</td>\n",
              "      <td>0</td>\n",
              "      <td>NaN</td>\n",
              "      <td>NaN</td>\n",
              "      <td>NaN</td>\n",
              "      <td>NaN</td>\n",
              "      <td>-1.095746</td>\n",
              "      <td>0.0</td>\n",
              "      <td>-1.095746</td>\n",
              "      <td>0.0</td>\n",
              "    </tr>\n",
              "    <tr>\n",
              "      <th>1</th>\n",
              "      <td>2020-05-05</td>\n",
              "      <td>1.090453</td>\n",
              "      <td>1.090429</td>\n",
              "      <td>1</td>\n",
              "      <td>1.095963</td>\n",
              "      <td>1.095746</td>\n",
              "      <td>-0.504944</td>\n",
              "      <td>-0.483050</td>\n",
              "      <td>-1.090453</td>\n",
              "      <td>0.0</td>\n",
              "      <td>-1.090453</td>\n",
              "      <td>0.0</td>\n",
              "    </tr>\n",
              "    <tr>\n",
              "      <th>2</th>\n",
              "      <td>2020-05-06</td>\n",
              "      <td>1.084011</td>\n",
              "      <td>1.083858</td>\n",
              "      <td>2</td>\n",
              "      <td>1.090429</td>\n",
              "      <td>1.090453</td>\n",
              "      <td>-0.602607</td>\n",
              "      <td>-0.590764</td>\n",
              "      <td>1.084011</td>\n",
              "      <td>1.0</td>\n",
              "      <td>2.168022</td>\n",
              "      <td>1.0</td>\n",
              "    </tr>\n",
              "    <tr>\n",
              "      <th>3</th>\n",
              "      <td>2020-05-07</td>\n",
              "      <td>1.080054</td>\n",
              "      <td>1.079855</td>\n",
              "      <td>3</td>\n",
              "      <td>1.083858</td>\n",
              "      <td>1.084011</td>\n",
              "      <td>-0.369329</td>\n",
              "      <td>-0.365033</td>\n",
              "      <td>1.080054</td>\n",
              "      <td>2.0</td>\n",
              "      <td>4.320216</td>\n",
              "      <td>2.0</td>\n",
              "    </tr>\n",
              "    <tr>\n",
              "      <th>4</th>\n",
              "      <td>2020-05-08</td>\n",
              "      <td>1.083694</td>\n",
              "      <td>1.083717</td>\n",
              "      <td>4</td>\n",
              "      <td>1.079855</td>\n",
              "      <td>1.080054</td>\n",
              "      <td>0.357641</td>\n",
              "      <td>0.337020</td>\n",
              "      <td>-1.083694</td>\n",
              "      <td>3.0</td>\n",
              "      <td>-8.669552</td>\n",
              "      <td>0.0</td>\n",
              "    </tr>\n",
              "    <tr>\n",
              "      <th>...</th>\n",
              "      <td>...</td>\n",
              "      <td>...</td>\n",
              "      <td>...</td>\n",
              "      <td>...</td>\n",
              "      <td>...</td>\n",
              "      <td>...</td>\n",
              "      <td>...</td>\n",
              "      <td>...</td>\n",
              "      <td>...</td>\n",
              "      <td>...</td>\n",
              "      <td>...</td>\n",
              "      <td>...</td>\n",
              "    </tr>\n",
              "    <tr>\n",
              "      <th>256</th>\n",
              "      <td>2021-04-27</td>\n",
              "      <td>1.207921</td>\n",
              "      <td>1.208167</td>\n",
              "      <td>1</td>\n",
              "      <td>1.208985</td>\n",
              "      <td>1.208956</td>\n",
              "      <td>-0.067660</td>\n",
              "      <td>-0.085611</td>\n",
              "      <td>1.207921</td>\n",
              "      <td>1.0</td>\n",
              "      <td>2.415842</td>\n",
              "      <td>0.0</td>\n",
              "    </tr>\n",
              "    <tr>\n",
              "      <th>257</th>\n",
              "      <td>2021-04-28</td>\n",
              "      <td>1.208854</td>\n",
              "      <td>1.209031</td>\n",
              "      <td>2</td>\n",
              "      <td>1.208167</td>\n",
              "      <td>1.207921</td>\n",
              "      <td>0.071513</td>\n",
              "      <td>0.077240</td>\n",
              "      <td>-1.208854</td>\n",
              "      <td>2.0</td>\n",
              "      <td>-4.835416</td>\n",
              "      <td>0.0</td>\n",
              "    </tr>\n",
              "    <tr>\n",
              "      <th>258</th>\n",
              "      <td>2021-04-29</td>\n",
              "      <td>1.213578</td>\n",
              "      <td>1.213592</td>\n",
              "      <td>3</td>\n",
              "      <td>1.209031</td>\n",
              "      <td>1.208854</td>\n",
              "      <td>0.377244</td>\n",
              "      <td>0.390783</td>\n",
              "      <td>-1.213578</td>\n",
              "      <td>3.0</td>\n",
              "      <td>-9.708624</td>\n",
              "      <td>1.0</td>\n",
              "    </tr>\n",
              "    <tr>\n",
              "      <th>259</th>\n",
              "      <td>2021-04-30</td>\n",
              "      <td>1.212489</td>\n",
              "      <td>1.212709</td>\n",
              "      <td>4</td>\n",
              "      <td>1.213592</td>\n",
              "      <td>1.213578</td>\n",
              "      <td>-0.072759</td>\n",
              "      <td>-0.089735</td>\n",
              "      <td>1.212489</td>\n",
              "      <td>4.0</td>\n",
              "      <td>19.399824</td>\n",
              "      <td>0.0</td>\n",
              "    </tr>\n",
              "    <tr>\n",
              "      <th>260</th>\n",
              "      <td>2021-05-03</td>\n",
              "      <td>1.202501</td>\n",
              "      <td>1.202357</td>\n",
              "      <td>0</td>\n",
              "      <td>1.212709</td>\n",
              "      <td>1.212489</td>\n",
              "      <td>-0.853626</td>\n",
              "      <td>-0.823760</td>\n",
              "      <td>1.202501</td>\n",
              "      <td>5.0</td>\n",
              "      <td>38.480032</td>\n",
              "      <td>1.0</td>\n",
              "    </tr>\n",
              "  </tbody>\n",
              "</table>\n",
              "<p>261 rows × 12 columns</p>\n",
              "</div>"
            ],
            "text/plain": [
              "          Date      Open     Close  DayOfWeek  ...  decision    k       deal  trend\n",
              "0   2020-05-04  1.095746  1.095963          0  ... -1.095746  0.0  -1.095746    0.0\n",
              "1   2020-05-05  1.090453  1.090429          1  ... -1.090453  0.0  -1.090453    0.0\n",
              "2   2020-05-06  1.084011  1.083858          2  ...  1.084011  1.0   2.168022    1.0\n",
              "3   2020-05-07  1.080054  1.079855          3  ...  1.080054  2.0   4.320216    2.0\n",
              "4   2020-05-08  1.083694  1.083717          4  ... -1.083694  3.0  -8.669552    0.0\n",
              "..         ...       ...       ...        ...  ...       ...  ...        ...    ...\n",
              "256 2021-04-27  1.207921  1.208167          1  ...  1.207921  1.0   2.415842    0.0\n",
              "257 2021-04-28  1.208854  1.209031          2  ... -1.208854  2.0  -4.835416    0.0\n",
              "258 2021-04-29  1.213578  1.213592          3  ... -1.213578  3.0  -9.708624    1.0\n",
              "259 2021-04-30  1.212489  1.212709          4  ...  1.212489  4.0  19.399824    0.0\n",
              "260 2021-05-03  1.202501  1.202357          0  ...  1.202501  5.0  38.480032    1.0\n",
              "\n",
              "[261 rows x 12 columns]"
            ]
          },
          "metadata": {
            "tags": []
          },
          "execution_count": 218
        }
      ]
    },
    {
      "cell_type": "code",
      "metadata": {
        "colab": {
          "base_uri": "https://localhost:8080/",
          "height": 297
        },
        "id": "CbNlYfbMQL5H",
        "outputId": "1e976d4b-563c-4146-8d4d-71ede6097080"
      },
      "source": [
        "df2.describe()"
      ],
      "execution_count": 219,
      "outputs": [
        {
          "output_type": "execute_result",
          "data": {
            "text/html": [
              "<div>\n",
              "<style scoped>\n",
              "    .dataframe tbody tr th:only-of-type {\n",
              "        vertical-align: middle;\n",
              "    }\n",
              "\n",
              "    .dataframe tbody tr th {\n",
              "        vertical-align: top;\n",
              "    }\n",
              "\n",
              "    .dataframe thead th {\n",
              "        text-align: right;\n",
              "    }\n",
              "</style>\n",
              "<table border=\"1\" class=\"dataframe\">\n",
              "  <thead>\n",
              "    <tr style=\"text-align: right;\">\n",
              "      <th></th>\n",
              "      <th>Open</th>\n",
              "      <th>Close</th>\n",
              "      <th>DayOfWeek</th>\n",
              "      <th>Close-1</th>\n",
              "      <th>Open-1</th>\n",
              "      <th>%Close</th>\n",
              "      <th>%Open</th>\n",
              "      <th>decision</th>\n",
              "      <th>k</th>\n",
              "      <th>deal</th>\n",
              "      <th>trend</th>\n",
              "    </tr>\n",
              "  </thead>\n",
              "  <tbody>\n",
              "    <tr>\n",
              "      <th>count</th>\n",
              "      <td>261.000000</td>\n",
              "      <td>261.000000</td>\n",
              "      <td>261.000000</td>\n",
              "      <td>260.000000</td>\n",
              "      <td>260.000000</td>\n",
              "      <td>260.000000</td>\n",
              "      <td>260.000000</td>\n",
              "      <td>261.000000</td>\n",
              "      <td>261.000000</td>\n",
              "      <td>261.000000</td>\n",
              "      <td>261.000000</td>\n",
              "    </tr>\n",
              "    <tr>\n",
              "      <th>mean</th>\n",
              "      <td>1.176550</td>\n",
              "      <td>1.176606</td>\n",
              "      <td>1.992337</td>\n",
              "      <td>1.176507</td>\n",
              "      <td>1.176450</td>\n",
              "      <td>0.036440</td>\n",
              "      <td>0.036557</td>\n",
              "      <td>0.043765</td>\n",
              "      <td>1.164751</td>\n",
              "      <td>0.491680</td>\n",
              "      <td>0.934866</td>\n",
              "    </tr>\n",
              "    <tr>\n",
              "      <th>std</th>\n",
              "      <td>0.037332</td>\n",
              "      <td>0.037341</td>\n",
              "      <td>1.419622</td>\n",
              "      <td>0.037378</td>\n",
              "      <td>0.037369</td>\n",
              "      <td>0.400564</td>\n",
              "      <td>0.399199</td>\n",
              "      <td>1.178586</td>\n",
              "      <td>1.503733</td>\n",
              "      <td>18.518845</td>\n",
              "      <td>1.300729</td>\n",
              "    </tr>\n",
              "    <tr>\n",
              "      <th>min</th>\n",
              "      <td>1.080054</td>\n",
              "      <td>1.079855</td>\n",
              "      <td>0.000000</td>\n",
              "      <td>1.079855</td>\n",
              "      <td>1.080054</td>\n",
              "      <td>-0.972610</td>\n",
              "      <td>-1.026176</td>\n",
              "      <td>-1.229906</td>\n",
              "      <td>0.000000</td>\n",
              "      <td>-72.562368</td>\n",
              "      <td>0.000000</td>\n",
              "    </tr>\n",
              "    <tr>\n",
              "      <th>25%</th>\n",
              "      <td>1.167365</td>\n",
              "      <td>1.167324</td>\n",
              "      <td>1.000000</td>\n",
              "      <td>1.166957</td>\n",
              "      <td>1.167072</td>\n",
              "      <td>-0.252267</td>\n",
              "      <td>-0.246063</td>\n",
              "      <td>-1.181419</td>\n",
              "      <td>0.000000</td>\n",
              "      <td>-2.349514</td>\n",
              "      <td>0.000000</td>\n",
              "    </tr>\n",
              "    <tr>\n",
              "      <th>50%</th>\n",
              "      <td>1.184180</td>\n",
              "      <td>1.184273</td>\n",
              "      <td>2.000000</td>\n",
              "      <td>1.184273</td>\n",
              "      <td>1.184178</td>\n",
              "      <td>0.032601</td>\n",
              "      <td>0.029910</td>\n",
              "      <td>1.084011</td>\n",
              "      <td>1.000000</td>\n",
              "      <td>1.127714</td>\n",
              "      <td>0.000000</td>\n",
              "    </tr>\n",
              "    <tr>\n",
              "      <th>75%</th>\n",
              "      <td>1.204935</td>\n",
              "      <td>1.205110</td>\n",
              "      <td>3.000000</td>\n",
              "      <td>1.205172</td>\n",
              "      <td>1.205015</td>\n",
              "      <td>0.333199</td>\n",
              "      <td>0.329382</td>\n",
              "      <td>1.185045</td>\n",
              "      <td>2.000000</td>\n",
              "      <td>2.180216</td>\n",
              "      <td>1.000000</td>\n",
              "    </tr>\n",
              "    <tr>\n",
              "      <th>max</th>\n",
              "      <td>1.233776</td>\n",
              "      <td>1.234111</td>\n",
              "      <td>4.000000</td>\n",
              "      <td>1.234111</td>\n",
              "      <td>1.233776</td>\n",
              "      <td>1.141047</td>\n",
              "      <td>1.106827</td>\n",
              "      <td>1.233776</td>\n",
              "      <td>7.000000</td>\n",
              "      <td>144.845568</td>\n",
              "      <td>7.000000</td>\n",
              "    </tr>\n",
              "  </tbody>\n",
              "</table>\n",
              "</div>"
            ],
            "text/plain": [
              "             Open       Close   DayOfWeek  ...           k        deal       trend\n",
              "count  261.000000  261.000000  261.000000  ...  261.000000  261.000000  261.000000\n",
              "mean     1.176550    1.176606    1.992337  ...    1.164751    0.491680    0.934866\n",
              "std      0.037332    0.037341    1.419622  ...    1.503733   18.518845    1.300729\n",
              "min      1.080054    1.079855    0.000000  ...    0.000000  -72.562368    0.000000\n",
              "25%      1.167365    1.167324    1.000000  ...    0.000000   -2.349514    0.000000\n",
              "50%      1.184180    1.184273    2.000000  ...    1.000000    1.127714    0.000000\n",
              "75%      1.204935    1.205110    3.000000  ...    2.000000    2.180216    1.000000\n",
              "max      1.233776    1.234111    4.000000  ...    7.000000  144.845568    7.000000\n",
              "\n",
              "[8 rows x 11 columns]"
            ]
          },
          "metadata": {
            "tags": []
          },
          "execution_count": 219
        }
      ]
    }
  ]
}