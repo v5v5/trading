{
  "nbformat": 4,
  "nbformat_minor": 0,
  "metadata": {
    "colab": {
      "name": "trade-strategy.ipynb",
      "provenance": [],
      "collapsed_sections": [],
      "authorship_tag": "ABX9TyPSJ12S06sV5F30lRAkU+Td",
      "include_colab_link": true
    },
    "kernelspec": {
      "name": "python3",
      "display_name": "Python 3"
    },
    "language_info": {
      "name": "python"
    }
  },
  "cells": [
    {
      "cell_type": "markdown",
      "metadata": {
        "id": "view-in-github",
        "colab_type": "text"
      },
      "source": [
        "<a href=\"https://colab.research.google.com/github/v5v5/trading/blob/main/trade_strategy.ipynb\" target=\"_parent\"><img src=\"https://colab.research.google.com/assets/colab-badge.svg\" alt=\"Open In Colab\"/></a>"
      ]
    },
    {
      "cell_type": "markdown",
      "metadata": {
        "id": "HowU-l69T-Yb"
      },
      "source": [
        "URL to download quotes EURUSD\n",
        "\n",
        "https://query1.finance.yahoo.com/v7/finance/download/EURUSD=X?period1=1262304000&period2=1619654400&interval=1d&events=history&includeAdjustedClose=true"
      ]
    },
    {
      "cell_type": "code",
      "metadata": {
        "id": "pkKl4XBGVNGL"
      },
      "source": [
        "import pandas as pd\n",
        "from urllib.request import Request, urlopen\n",
        "from io import StringIO\n",
        "import datetime\n",
        "from dateutil.relativedelta import relativedelta\n",
        "import time\n",
        "import random\n",
        "import math\n",
        "import matplotlib.pyplot as plt"
      ],
      "execution_count": 1370,
      "outputs": []
    },
    {
      "cell_type": "code",
      "metadata": {
        "colab": {
          "base_uri": "https://localhost:8080/",
          "height": 35
        },
        "id": "oAMusJ7Vfxou",
        "outputId": "da2e8dfb-eded-48eb-af61-5dc4ffd34087"
      },
      "source": [
        "# dt_from = datetime.date(2000,1,1)\n",
        "# dt_from = datetime.date(2019,1,1)\n",
        "# dt_from = datetime.date.today() + relativedelta(years=-1)\n",
        "dt_from = datetime.date.today() + relativedelta(years=-2)\n",
        "ut_from = str(int(time.mktime(dt_from.timetuple())))\n",
        "ut_from"
      ],
      "execution_count": 1371,
      "outputs": [
        {
          "output_type": "execute_result",
          "data": {
            "application/vnd.google.colaboratory.intrinsic+json": {
              "type": "string"
            },
            "text/plain": [
              "'1557792000'"
            ]
          },
          "metadata": {
            "tags": []
          },
          "execution_count": 1371
        }
      ]
    },
    {
      "cell_type": "code",
      "metadata": {
        "colab": {
          "base_uri": "https://localhost:8080/",
          "height": 35
        },
        "id": "3iBED0CihYSB",
        "outputId": "d54294ef-db3f-4567-d047-f2e779040cca"
      },
      "source": [
        "dt_to = datetime.date.today()\n",
        "ut_to = str(int(time.mktime(dt_to.timetuple())))\n",
        "ut_to"
      ],
      "execution_count": 1372,
      "outputs": [
        {
          "output_type": "execute_result",
          "data": {
            "application/vnd.google.colaboratory.intrinsic+json": {
              "type": "string"
            },
            "text/plain": [
              "'1620950400'"
            ]
          },
          "metadata": {
            "tags": []
          },
          "execution_count": 1372
        }
      ]
    },
    {
      "cell_type": "code",
      "metadata": {
        "id": "ZWbh4rFCYsiA"
      },
      "source": [
        "# url='https://query1.finance.yahoo.com/v7/finance/download/EURUSD=X?period1=1262304000&period2=1619654400&interval=1d&events=history&includeAdjustedClose=true'\n",
        "url='https://query1.finance.yahoo.com/v7/finance/download/EURUSD=X?period1=' + ut_from + '&period2=' + ut_to + '&interval=1d&events=history&includeAdjustedClose=true'"
      ],
      "execution_count": 1373,
      "outputs": []
    },
    {
      "cell_type": "code",
      "metadata": {
        "id": "ictpemgHTnaU"
      },
      "source": [
        "headers={'User-Agent': 'Mozilla/5.0'}"
      ],
      "execution_count": 1374,
      "outputs": []
    },
    {
      "cell_type": "code",
      "metadata": {
        "id": "5KvntWHZg8CO"
      },
      "source": [
        "req = Request(url, headers=headers)"
      ],
      "execution_count": 1375,
      "outputs": []
    },
    {
      "cell_type": "code",
      "metadata": {
        "id": "d2anZTnFSg6y"
      },
      "source": [
        "page = urlopen(req)\n",
        "# page = urlopen(url)"
      ],
      "execution_count": 1376,
      "outputs": []
    },
    {
      "cell_type": "code",
      "metadata": {
        "id": "tOtCSrjqY2b6"
      },
      "source": [
        "page = urlopen(url)"
      ],
      "execution_count": 1377,
      "outputs": []
    },
    {
      "cell_type": "code",
      "metadata": {
        "id": "W7BmUlFOSjXh"
      },
      "source": [
        "content = page.read()"
      ],
      "execution_count": 1378,
      "outputs": []
    },
    {
      "cell_type": "code",
      "metadata": {
        "id": "MrUfRSxZp4Y9"
      },
      "source": [
        "text = content.decode('UTF-8')"
      ],
      "execution_count": 1379,
      "outputs": []
    },
    {
      "cell_type": "code",
      "metadata": {
        "colab": {
          "base_uri": "https://localhost:8080/"
        },
        "id": "HIutb2KOhWlP",
        "outputId": "e007264c-6000-4092-9a74-9487cb2989b2"
      },
      "source": [
        "print(text[:300])"
      ],
      "execution_count": 1380,
      "outputs": [
        {
          "output_type": "stream",
          "text": [
            "Date,Open,High,Low,Close,Adj Close,Volume\n",
            "2019-05-14,1.123242,1.124606,1.120486,1.123255,1.123255,0\n",
            "2019-05-15,1.120360,1.122272,1.118043,1.120448,1.120448,0\n",
            "2019-05-16,1.120951,1.122435,1.117431,1.120724,1.120724,0\n",
            "2019-05-17,1.117481,1.118443,1.115735,1.117356,1.117356,0\n",
            "2019-05-20,1.116532,1.1177\n"
          ],
          "name": "stdout"
        }
      ]
    },
    {
      "cell_type": "code",
      "metadata": {
        "id": "nyxhqBhKpBel"
      },
      "source": [
        "data = StringIO(text)"
      ],
      "execution_count": 1381,
      "outputs": []
    },
    {
      "cell_type": "code",
      "metadata": {
        "id": "tso_dYdOVny7"
      },
      "source": [
        "df1 = pd.read_csv(data, sep=',', header='infer')"
      ],
      "execution_count": 1382,
      "outputs": []
    },
    {
      "cell_type": "code",
      "metadata": {
        "colab": {
          "base_uri": "https://localhost:8080/",
          "height": 266
        },
        "id": "CAWUH4jfl0-Y",
        "outputId": "8aec76ed-bca0-43a3-ad0a-a3fba2586c24"
      },
      "source": [
        "df1.tail(7)"
      ],
      "execution_count": 1383,
      "outputs": [
        {
          "output_type": "execute_result",
          "data": {
            "text/html": [
              "<div>\n",
              "<style scoped>\n",
              "    .dataframe tbody tr th:only-of-type {\n",
              "        vertical-align: middle;\n",
              "    }\n",
              "\n",
              "    .dataframe tbody tr th {\n",
              "        vertical-align: top;\n",
              "    }\n",
              "\n",
              "    .dataframe thead th {\n",
              "        text-align: right;\n",
              "    }\n",
              "</style>\n",
              "<table border=\"1\" class=\"dataframe\">\n",
              "  <thead>\n",
              "    <tr style=\"text-align: right;\">\n",
              "      <th></th>\n",
              "      <th>Date</th>\n",
              "      <th>Open</th>\n",
              "      <th>High</th>\n",
              "      <th>Low</th>\n",
              "      <th>Close</th>\n",
              "      <th>Adj Close</th>\n",
              "      <th>Volume</th>\n",
              "    </tr>\n",
              "  </thead>\n",
              "  <tbody>\n",
              "    <tr>\n",
              "      <th>517</th>\n",
              "      <td>2021-05-06</td>\n",
              "      <td>1.200913</td>\n",
              "      <td>1.207001</td>\n",
              "      <td>1.199400</td>\n",
              "      <td>1.200797</td>\n",
              "      <td>1.200797</td>\n",
              "      <td>0.0</td>\n",
              "    </tr>\n",
              "    <tr>\n",
              "      <th>518</th>\n",
              "      <td>2021-05-07</td>\n",
              "      <td>1.206593</td>\n",
              "      <td>1.216545</td>\n",
              "      <td>1.205342</td>\n",
              "      <td>1.206855</td>\n",
              "      <td>1.206855</td>\n",
              "      <td>0.0</td>\n",
              "    </tr>\n",
              "    <tr>\n",
              "      <th>519</th>\n",
              "      <td>2021-05-10</td>\n",
              "      <td>1.216752</td>\n",
              "      <td>1.217730</td>\n",
              "      <td>1.213740</td>\n",
              "      <td>1.217108</td>\n",
              "      <td>1.217108</td>\n",
              "      <td>0.0</td>\n",
              "    </tr>\n",
              "    <tr>\n",
              "      <th>520</th>\n",
              "      <td>2021-05-11</td>\n",
              "      <td>1.214211</td>\n",
              "      <td>1.217968</td>\n",
              "      <td>1.212547</td>\n",
              "      <td>1.214093</td>\n",
              "      <td>1.214093</td>\n",
              "      <td>0.0</td>\n",
              "    </tr>\n",
              "    <tr>\n",
              "      <th>521</th>\n",
              "      <td>2021-05-12</td>\n",
              "      <td>1.214550</td>\n",
              "      <td>1.215067</td>\n",
              "      <td>1.206811</td>\n",
              "      <td>1.214450</td>\n",
              "      <td>1.214450</td>\n",
              "      <td>0.0</td>\n",
              "    </tr>\n",
              "    <tr>\n",
              "      <th>522</th>\n",
              "      <td>2021-05-13</td>\n",
              "      <td>1.207686</td>\n",
              "      <td>1.210654</td>\n",
              "      <td>1.205313</td>\n",
              "      <td>1.207851</td>\n",
              "      <td>1.207851</td>\n",
              "      <td>0.0</td>\n",
              "    </tr>\n",
              "    <tr>\n",
              "      <th>523</th>\n",
              "      <td>2021-05-14</td>\n",
              "      <td>1.208459</td>\n",
              "      <td>1.210361</td>\n",
              "      <td>1.207584</td>\n",
              "      <td>1.210214</td>\n",
              "      <td>1.210214</td>\n",
              "      <td>0.0</td>\n",
              "    </tr>\n",
              "  </tbody>\n",
              "</table>\n",
              "</div>"
            ],
            "text/plain": [
              "           Date      Open      High       Low     Close  Adj Close  Volume\n",
              "517  2021-05-06  1.200913  1.207001  1.199400  1.200797   1.200797     0.0\n",
              "518  2021-05-07  1.206593  1.216545  1.205342  1.206855   1.206855     0.0\n",
              "519  2021-05-10  1.216752  1.217730  1.213740  1.217108   1.217108     0.0\n",
              "520  2021-05-11  1.214211  1.217968  1.212547  1.214093   1.214093     0.0\n",
              "521  2021-05-12  1.214550  1.215067  1.206811  1.214450   1.214450     0.0\n",
              "522  2021-05-13  1.207686  1.210654  1.205313  1.207851   1.207851     0.0\n",
              "523  2021-05-14  1.208459  1.210361  1.207584  1.210214   1.210214     0.0"
            ]
          },
          "metadata": {
            "tags": []
          },
          "execution_count": 1383
        }
      ]
    },
    {
      "cell_type": "code",
      "metadata": {
        "colab": {
          "base_uri": "https://localhost:8080/"
        },
        "id": "ovkPk5aUZJ2e",
        "outputId": "3daed9b7-bd61-47f1-b2a3-0cff04a094ec"
      },
      "source": [
        "# df1[df1['Open'].isna()]\n",
        "len(df1[df1['Open'].isna()].index)"
      ],
      "execution_count": 1384,
      "outputs": [
        {
          "output_type": "execute_result",
          "data": {
            "text/plain": [
              "21"
            ]
          },
          "metadata": {
            "tags": []
          },
          "execution_count": 1384
        }
      ]
    },
    {
      "cell_type": "code",
      "metadata": {
        "id": "s2DGue6mc5QH"
      },
      "source": [
        "df1.sort_values(by=['Date'], inplace=True)"
      ],
      "execution_count": 1385,
      "outputs": []
    },
    {
      "cell_type": "code",
      "metadata": {
        "colab": {
          "base_uri": "https://localhost:8080/",
          "height": 419
        },
        "id": "KYmLGPPzZPDG",
        "outputId": "bae9a2d9-5e40-439b-afad-3f6c2d2951fd"
      },
      "source": [
        "df1.dropna(inplace=True)\n",
        "df1.reset_index(inplace=True)\n",
        "df1"
      ],
      "execution_count": 1386,
      "outputs": [
        {
          "output_type": "execute_result",
          "data": {
            "text/html": [
              "<div>\n",
              "<style scoped>\n",
              "    .dataframe tbody tr th:only-of-type {\n",
              "        vertical-align: middle;\n",
              "    }\n",
              "\n",
              "    .dataframe tbody tr th {\n",
              "        vertical-align: top;\n",
              "    }\n",
              "\n",
              "    .dataframe thead th {\n",
              "        text-align: right;\n",
              "    }\n",
              "</style>\n",
              "<table border=\"1\" class=\"dataframe\">\n",
              "  <thead>\n",
              "    <tr style=\"text-align: right;\">\n",
              "      <th></th>\n",
              "      <th>index</th>\n",
              "      <th>Date</th>\n",
              "      <th>Open</th>\n",
              "      <th>High</th>\n",
              "      <th>Low</th>\n",
              "      <th>Close</th>\n",
              "      <th>Adj Close</th>\n",
              "      <th>Volume</th>\n",
              "    </tr>\n",
              "  </thead>\n",
              "  <tbody>\n",
              "    <tr>\n",
              "      <th>0</th>\n",
              "      <td>0</td>\n",
              "      <td>2019-05-14</td>\n",
              "      <td>1.123242</td>\n",
              "      <td>1.124606</td>\n",
              "      <td>1.120486</td>\n",
              "      <td>1.123255</td>\n",
              "      <td>1.123255</td>\n",
              "      <td>0.0</td>\n",
              "    </tr>\n",
              "    <tr>\n",
              "      <th>1</th>\n",
              "      <td>1</td>\n",
              "      <td>2019-05-15</td>\n",
              "      <td>1.120360</td>\n",
              "      <td>1.122272</td>\n",
              "      <td>1.118043</td>\n",
              "      <td>1.120448</td>\n",
              "      <td>1.120448</td>\n",
              "      <td>0.0</td>\n",
              "    </tr>\n",
              "    <tr>\n",
              "      <th>2</th>\n",
              "      <td>2</td>\n",
              "      <td>2019-05-16</td>\n",
              "      <td>1.120951</td>\n",
              "      <td>1.122435</td>\n",
              "      <td>1.117431</td>\n",
              "      <td>1.120724</td>\n",
              "      <td>1.120724</td>\n",
              "      <td>0.0</td>\n",
              "    </tr>\n",
              "    <tr>\n",
              "      <th>3</th>\n",
              "      <td>3</td>\n",
              "      <td>2019-05-17</td>\n",
              "      <td>1.117481</td>\n",
              "      <td>1.118443</td>\n",
              "      <td>1.115735</td>\n",
              "      <td>1.117356</td>\n",
              "      <td>1.117356</td>\n",
              "      <td>0.0</td>\n",
              "    </tr>\n",
              "    <tr>\n",
              "      <th>4</th>\n",
              "      <td>4</td>\n",
              "      <td>2019-05-20</td>\n",
              "      <td>1.116532</td>\n",
              "      <td>1.117701</td>\n",
              "      <td>1.115126</td>\n",
              "      <td>1.116532</td>\n",
              "      <td>1.116532</td>\n",
              "      <td>0.0</td>\n",
              "    </tr>\n",
              "    <tr>\n",
              "      <th>...</th>\n",
              "      <td>...</td>\n",
              "      <td>...</td>\n",
              "      <td>...</td>\n",
              "      <td>...</td>\n",
              "      <td>...</td>\n",
              "      <td>...</td>\n",
              "      <td>...</td>\n",
              "      <td>...</td>\n",
              "    </tr>\n",
              "    <tr>\n",
              "      <th>498</th>\n",
              "      <td>519</td>\n",
              "      <td>2021-05-10</td>\n",
              "      <td>1.216752</td>\n",
              "      <td>1.217730</td>\n",
              "      <td>1.213740</td>\n",
              "      <td>1.217108</td>\n",
              "      <td>1.217108</td>\n",
              "      <td>0.0</td>\n",
              "    </tr>\n",
              "    <tr>\n",
              "      <th>499</th>\n",
              "      <td>520</td>\n",
              "      <td>2021-05-11</td>\n",
              "      <td>1.214211</td>\n",
              "      <td>1.217968</td>\n",
              "      <td>1.212547</td>\n",
              "      <td>1.214093</td>\n",
              "      <td>1.214093</td>\n",
              "      <td>0.0</td>\n",
              "    </tr>\n",
              "    <tr>\n",
              "      <th>500</th>\n",
              "      <td>521</td>\n",
              "      <td>2021-05-12</td>\n",
              "      <td>1.214550</td>\n",
              "      <td>1.215067</td>\n",
              "      <td>1.206811</td>\n",
              "      <td>1.214450</td>\n",
              "      <td>1.214450</td>\n",
              "      <td>0.0</td>\n",
              "    </tr>\n",
              "    <tr>\n",
              "      <th>501</th>\n",
              "      <td>522</td>\n",
              "      <td>2021-05-13</td>\n",
              "      <td>1.207686</td>\n",
              "      <td>1.210654</td>\n",
              "      <td>1.205313</td>\n",
              "      <td>1.207851</td>\n",
              "      <td>1.207851</td>\n",
              "      <td>0.0</td>\n",
              "    </tr>\n",
              "    <tr>\n",
              "      <th>502</th>\n",
              "      <td>523</td>\n",
              "      <td>2021-05-14</td>\n",
              "      <td>1.208459</td>\n",
              "      <td>1.210361</td>\n",
              "      <td>1.207584</td>\n",
              "      <td>1.210214</td>\n",
              "      <td>1.210214</td>\n",
              "      <td>0.0</td>\n",
              "    </tr>\n",
              "  </tbody>\n",
              "</table>\n",
              "<p>503 rows × 8 columns</p>\n",
              "</div>"
            ],
            "text/plain": [
              "     index        Date      Open  ...     Close  Adj Close  Volume\n",
              "0        0  2019-05-14  1.123242  ...  1.123255   1.123255     0.0\n",
              "1        1  2019-05-15  1.120360  ...  1.120448   1.120448     0.0\n",
              "2        2  2019-05-16  1.120951  ...  1.120724   1.120724     0.0\n",
              "3        3  2019-05-17  1.117481  ...  1.117356   1.117356     0.0\n",
              "4        4  2019-05-20  1.116532  ...  1.116532   1.116532     0.0\n",
              "..     ...         ...       ...  ...       ...        ...     ...\n",
              "498    519  2021-05-10  1.216752  ...  1.217108   1.217108     0.0\n",
              "499    520  2021-05-11  1.214211  ...  1.214093   1.214093     0.0\n",
              "500    521  2021-05-12  1.214550  ...  1.214450   1.214450     0.0\n",
              "501    522  2021-05-13  1.207686  ...  1.207851   1.207851     0.0\n",
              "502    523  2021-05-14  1.208459  ...  1.210214   1.210214     0.0\n",
              "\n",
              "[503 rows x 8 columns]"
            ]
          },
          "metadata": {
            "tags": []
          },
          "execution_count": 1386
        }
      ]
    },
    {
      "cell_type": "code",
      "metadata": {
        "id": "iDDbrBeGci0d"
      },
      "source": [
        "df1['Date'] = pd.to_datetime(df1['Date'], errors='coerce')"
      ],
      "execution_count": 1387,
      "outputs": []
    },
    {
      "cell_type": "code",
      "metadata": {
        "id": "eRwjQgzGmCBm"
      },
      "source": [
        "df1['DayOfWeek'] = df1['Date'].dt.dayofweek"
      ],
      "execution_count": 1388,
      "outputs": []
    },
    {
      "cell_type": "code",
      "metadata": {
        "colab": {
          "base_uri": "https://localhost:8080/",
          "height": 266
        },
        "id": "NLF_R44LnKkY",
        "outputId": "d1cd8f7f-2f95-4820-da6f-b539251c605a"
      },
      "source": [
        "df1.tail(7)"
      ],
      "execution_count": 1389,
      "outputs": [
        {
          "output_type": "execute_result",
          "data": {
            "text/html": [
              "<div>\n",
              "<style scoped>\n",
              "    .dataframe tbody tr th:only-of-type {\n",
              "        vertical-align: middle;\n",
              "    }\n",
              "\n",
              "    .dataframe tbody tr th {\n",
              "        vertical-align: top;\n",
              "    }\n",
              "\n",
              "    .dataframe thead th {\n",
              "        text-align: right;\n",
              "    }\n",
              "</style>\n",
              "<table border=\"1\" class=\"dataframe\">\n",
              "  <thead>\n",
              "    <tr style=\"text-align: right;\">\n",
              "      <th></th>\n",
              "      <th>index</th>\n",
              "      <th>Date</th>\n",
              "      <th>Open</th>\n",
              "      <th>High</th>\n",
              "      <th>Low</th>\n",
              "      <th>Close</th>\n",
              "      <th>Adj Close</th>\n",
              "      <th>Volume</th>\n",
              "      <th>DayOfWeek</th>\n",
              "    </tr>\n",
              "  </thead>\n",
              "  <tbody>\n",
              "    <tr>\n",
              "      <th>496</th>\n",
              "      <td>517</td>\n",
              "      <td>2021-05-06</td>\n",
              "      <td>1.200913</td>\n",
              "      <td>1.207001</td>\n",
              "      <td>1.199400</td>\n",
              "      <td>1.200797</td>\n",
              "      <td>1.200797</td>\n",
              "      <td>0.0</td>\n",
              "      <td>3</td>\n",
              "    </tr>\n",
              "    <tr>\n",
              "      <th>497</th>\n",
              "      <td>518</td>\n",
              "      <td>2021-05-07</td>\n",
              "      <td>1.206593</td>\n",
              "      <td>1.216545</td>\n",
              "      <td>1.205342</td>\n",
              "      <td>1.206855</td>\n",
              "      <td>1.206855</td>\n",
              "      <td>0.0</td>\n",
              "      <td>4</td>\n",
              "    </tr>\n",
              "    <tr>\n",
              "      <th>498</th>\n",
              "      <td>519</td>\n",
              "      <td>2021-05-10</td>\n",
              "      <td>1.216752</td>\n",
              "      <td>1.217730</td>\n",
              "      <td>1.213740</td>\n",
              "      <td>1.217108</td>\n",
              "      <td>1.217108</td>\n",
              "      <td>0.0</td>\n",
              "      <td>0</td>\n",
              "    </tr>\n",
              "    <tr>\n",
              "      <th>499</th>\n",
              "      <td>520</td>\n",
              "      <td>2021-05-11</td>\n",
              "      <td>1.214211</td>\n",
              "      <td>1.217968</td>\n",
              "      <td>1.212547</td>\n",
              "      <td>1.214093</td>\n",
              "      <td>1.214093</td>\n",
              "      <td>0.0</td>\n",
              "      <td>1</td>\n",
              "    </tr>\n",
              "    <tr>\n",
              "      <th>500</th>\n",
              "      <td>521</td>\n",
              "      <td>2021-05-12</td>\n",
              "      <td>1.214550</td>\n",
              "      <td>1.215067</td>\n",
              "      <td>1.206811</td>\n",
              "      <td>1.214450</td>\n",
              "      <td>1.214450</td>\n",
              "      <td>0.0</td>\n",
              "      <td>2</td>\n",
              "    </tr>\n",
              "    <tr>\n",
              "      <th>501</th>\n",
              "      <td>522</td>\n",
              "      <td>2021-05-13</td>\n",
              "      <td>1.207686</td>\n",
              "      <td>1.210654</td>\n",
              "      <td>1.205313</td>\n",
              "      <td>1.207851</td>\n",
              "      <td>1.207851</td>\n",
              "      <td>0.0</td>\n",
              "      <td>3</td>\n",
              "    </tr>\n",
              "    <tr>\n",
              "      <th>502</th>\n",
              "      <td>523</td>\n",
              "      <td>2021-05-14</td>\n",
              "      <td>1.208459</td>\n",
              "      <td>1.210361</td>\n",
              "      <td>1.207584</td>\n",
              "      <td>1.210214</td>\n",
              "      <td>1.210214</td>\n",
              "      <td>0.0</td>\n",
              "      <td>4</td>\n",
              "    </tr>\n",
              "  </tbody>\n",
              "</table>\n",
              "</div>"
            ],
            "text/plain": [
              "     index       Date      Open  ...  Adj Close  Volume  DayOfWeek\n",
              "496    517 2021-05-06  1.200913  ...   1.200797     0.0          3\n",
              "497    518 2021-05-07  1.206593  ...   1.206855     0.0          4\n",
              "498    519 2021-05-10  1.216752  ...   1.217108     0.0          0\n",
              "499    520 2021-05-11  1.214211  ...   1.214093     0.0          1\n",
              "500    521 2021-05-12  1.214550  ...   1.214450     0.0          2\n",
              "501    522 2021-05-13  1.207686  ...   1.207851     0.0          3\n",
              "502    523 2021-05-14  1.208459  ...   1.210214     0.0          4\n",
              "\n",
              "[7 rows x 9 columns]"
            ]
          },
          "metadata": {
            "tags": []
          },
          "execution_count": 1389
        }
      ]
    },
    {
      "cell_type": "code",
      "metadata": {
        "id": "isV-KVPm_mxb"
      },
      "source": [
        "df2 = df1.drop(['High','Low', 'Adj Close', 'Volume'], axis=1)"
      ],
      "execution_count": 1390,
      "outputs": []
    },
    {
      "cell_type": "code",
      "metadata": {
        "colab": {
          "base_uri": "https://localhost:8080/",
          "height": 266
        },
        "id": "BoXK3TqGAW19",
        "outputId": "7222722d-3042-4046-8861-5f7b42f2476e"
      },
      "source": [
        "df2.tail(7)"
      ],
      "execution_count": 1391,
      "outputs": [
        {
          "output_type": "execute_result",
          "data": {
            "text/html": [
              "<div>\n",
              "<style scoped>\n",
              "    .dataframe tbody tr th:only-of-type {\n",
              "        vertical-align: middle;\n",
              "    }\n",
              "\n",
              "    .dataframe tbody tr th {\n",
              "        vertical-align: top;\n",
              "    }\n",
              "\n",
              "    .dataframe thead th {\n",
              "        text-align: right;\n",
              "    }\n",
              "</style>\n",
              "<table border=\"1\" class=\"dataframe\">\n",
              "  <thead>\n",
              "    <tr style=\"text-align: right;\">\n",
              "      <th></th>\n",
              "      <th>index</th>\n",
              "      <th>Date</th>\n",
              "      <th>Open</th>\n",
              "      <th>Close</th>\n",
              "      <th>DayOfWeek</th>\n",
              "    </tr>\n",
              "  </thead>\n",
              "  <tbody>\n",
              "    <tr>\n",
              "      <th>496</th>\n",
              "      <td>517</td>\n",
              "      <td>2021-05-06</td>\n",
              "      <td>1.200913</td>\n",
              "      <td>1.200797</td>\n",
              "      <td>3</td>\n",
              "    </tr>\n",
              "    <tr>\n",
              "      <th>497</th>\n",
              "      <td>518</td>\n",
              "      <td>2021-05-07</td>\n",
              "      <td>1.206593</td>\n",
              "      <td>1.206855</td>\n",
              "      <td>4</td>\n",
              "    </tr>\n",
              "    <tr>\n",
              "      <th>498</th>\n",
              "      <td>519</td>\n",
              "      <td>2021-05-10</td>\n",
              "      <td>1.216752</td>\n",
              "      <td>1.217108</td>\n",
              "      <td>0</td>\n",
              "    </tr>\n",
              "    <tr>\n",
              "      <th>499</th>\n",
              "      <td>520</td>\n",
              "      <td>2021-05-11</td>\n",
              "      <td>1.214211</td>\n",
              "      <td>1.214093</td>\n",
              "      <td>1</td>\n",
              "    </tr>\n",
              "    <tr>\n",
              "      <th>500</th>\n",
              "      <td>521</td>\n",
              "      <td>2021-05-12</td>\n",
              "      <td>1.214550</td>\n",
              "      <td>1.214450</td>\n",
              "      <td>2</td>\n",
              "    </tr>\n",
              "    <tr>\n",
              "      <th>501</th>\n",
              "      <td>522</td>\n",
              "      <td>2021-05-13</td>\n",
              "      <td>1.207686</td>\n",
              "      <td>1.207851</td>\n",
              "      <td>3</td>\n",
              "    </tr>\n",
              "    <tr>\n",
              "      <th>502</th>\n",
              "      <td>523</td>\n",
              "      <td>2021-05-14</td>\n",
              "      <td>1.208459</td>\n",
              "      <td>1.210214</td>\n",
              "      <td>4</td>\n",
              "    </tr>\n",
              "  </tbody>\n",
              "</table>\n",
              "</div>"
            ],
            "text/plain": [
              "     index       Date      Open     Close  DayOfWeek\n",
              "496    517 2021-05-06  1.200913  1.200797          3\n",
              "497    518 2021-05-07  1.206593  1.206855          4\n",
              "498    519 2021-05-10  1.216752  1.217108          0\n",
              "499    520 2021-05-11  1.214211  1.214093          1\n",
              "500    521 2021-05-12  1.214550  1.214450          2\n",
              "501    522 2021-05-13  1.207686  1.207851          3\n",
              "502    523 2021-05-14  1.208459  1.210214          4"
            ]
          },
          "metadata": {
            "tags": []
          },
          "execution_count": 1391
        }
      ]
    },
    {
      "cell_type": "code",
      "metadata": {
        "id": "0mzQvzqDDFzP"
      },
      "source": [
        "df2['Close-1'] = df2['Close'].shift(1)\n",
        "df2['Open-1'] = df2['Open'].shift(1)"
      ],
      "execution_count": 1392,
      "outputs": []
    },
    {
      "cell_type": "code",
      "metadata": {
        "colab": {
          "base_uri": "https://localhost:8080/",
          "height": 266
        },
        "id": "3xG50mLQDq3e",
        "outputId": "83bde3ee-7e75-4f4d-eae8-1cadeb029cf9"
      },
      "source": [
        "df2.tail(7)"
      ],
      "execution_count": 1393,
      "outputs": [
        {
          "output_type": "execute_result",
          "data": {
            "text/html": [
              "<div>\n",
              "<style scoped>\n",
              "    .dataframe tbody tr th:only-of-type {\n",
              "        vertical-align: middle;\n",
              "    }\n",
              "\n",
              "    .dataframe tbody tr th {\n",
              "        vertical-align: top;\n",
              "    }\n",
              "\n",
              "    .dataframe thead th {\n",
              "        text-align: right;\n",
              "    }\n",
              "</style>\n",
              "<table border=\"1\" class=\"dataframe\">\n",
              "  <thead>\n",
              "    <tr style=\"text-align: right;\">\n",
              "      <th></th>\n",
              "      <th>index</th>\n",
              "      <th>Date</th>\n",
              "      <th>Open</th>\n",
              "      <th>Close</th>\n",
              "      <th>DayOfWeek</th>\n",
              "      <th>Close-1</th>\n",
              "      <th>Open-1</th>\n",
              "    </tr>\n",
              "  </thead>\n",
              "  <tbody>\n",
              "    <tr>\n",
              "      <th>496</th>\n",
              "      <td>517</td>\n",
              "      <td>2021-05-06</td>\n",
              "      <td>1.200913</td>\n",
              "      <td>1.200797</td>\n",
              "      <td>3</td>\n",
              "      <td>1.201504</td>\n",
              "      <td>1.201634</td>\n",
              "    </tr>\n",
              "    <tr>\n",
              "      <th>497</th>\n",
              "      <td>518</td>\n",
              "      <td>2021-05-07</td>\n",
              "      <td>1.206593</td>\n",
              "      <td>1.206855</td>\n",
              "      <td>4</td>\n",
              "      <td>1.200797</td>\n",
              "      <td>1.200913</td>\n",
              "    </tr>\n",
              "    <tr>\n",
              "      <th>498</th>\n",
              "      <td>519</td>\n",
              "      <td>2021-05-10</td>\n",
              "      <td>1.216752</td>\n",
              "      <td>1.217108</td>\n",
              "      <td>0</td>\n",
              "      <td>1.206855</td>\n",
              "      <td>1.206593</td>\n",
              "    </tr>\n",
              "    <tr>\n",
              "      <th>499</th>\n",
              "      <td>520</td>\n",
              "      <td>2021-05-11</td>\n",
              "      <td>1.214211</td>\n",
              "      <td>1.214093</td>\n",
              "      <td>1</td>\n",
              "      <td>1.217108</td>\n",
              "      <td>1.216752</td>\n",
              "    </tr>\n",
              "    <tr>\n",
              "      <th>500</th>\n",
              "      <td>521</td>\n",
              "      <td>2021-05-12</td>\n",
              "      <td>1.214550</td>\n",
              "      <td>1.214450</td>\n",
              "      <td>2</td>\n",
              "      <td>1.214093</td>\n",
              "      <td>1.214211</td>\n",
              "    </tr>\n",
              "    <tr>\n",
              "      <th>501</th>\n",
              "      <td>522</td>\n",
              "      <td>2021-05-13</td>\n",
              "      <td>1.207686</td>\n",
              "      <td>1.207851</td>\n",
              "      <td>3</td>\n",
              "      <td>1.214450</td>\n",
              "      <td>1.214550</td>\n",
              "    </tr>\n",
              "    <tr>\n",
              "      <th>502</th>\n",
              "      <td>523</td>\n",
              "      <td>2021-05-14</td>\n",
              "      <td>1.208459</td>\n",
              "      <td>1.210214</td>\n",
              "      <td>4</td>\n",
              "      <td>1.207851</td>\n",
              "      <td>1.207686</td>\n",
              "    </tr>\n",
              "  </tbody>\n",
              "</table>\n",
              "</div>"
            ],
            "text/plain": [
              "     index       Date      Open     Close  DayOfWeek   Close-1    Open-1\n",
              "496    517 2021-05-06  1.200913  1.200797          3  1.201504  1.201634\n",
              "497    518 2021-05-07  1.206593  1.206855          4  1.200797  1.200913\n",
              "498    519 2021-05-10  1.216752  1.217108          0  1.206855  1.206593\n",
              "499    520 2021-05-11  1.214211  1.214093          1  1.217108  1.216752\n",
              "500    521 2021-05-12  1.214550  1.214450          2  1.214093  1.214211\n",
              "501    522 2021-05-13  1.207686  1.207851          3  1.214450  1.214550\n",
              "502    523 2021-05-14  1.208459  1.210214          4  1.207851  1.207686"
            ]
          },
          "metadata": {
            "tags": []
          },
          "execution_count": 1393
        }
      ]
    },
    {
      "cell_type": "code",
      "metadata": {
        "id": "tigVCqC3EBM4"
      },
      "source": [
        "df2['%Close'] = (df2['Close'] - df2['Close-1']) / df2['Close-1'] * 100\n",
        "df2['%Open'] = (df2['Open'] - df2['Open-1']) / df2['Open-1'] * 100"
      ],
      "execution_count": 1394,
      "outputs": []
    },
    {
      "cell_type": "code",
      "metadata": {
        "id": "fH6iq8Kh1jmv"
      },
      "source": [
        "df2 = df2.drop(['Close','Close-1', '%Close'], axis=1)"
      ],
      "execution_count": 1395,
      "outputs": []
    },
    {
      "cell_type": "code",
      "metadata": {
        "colab": {
          "base_uri": "https://localhost:8080/",
          "height": 266
        },
        "id": "dMsFfMIREP8Z",
        "outputId": "459c7c7d-a04c-46a4-a996-2f66e2f4cd36"
      },
      "source": [
        "df2.head(7)"
      ],
      "execution_count": 1396,
      "outputs": [
        {
          "output_type": "execute_result",
          "data": {
            "text/html": [
              "<div>\n",
              "<style scoped>\n",
              "    .dataframe tbody tr th:only-of-type {\n",
              "        vertical-align: middle;\n",
              "    }\n",
              "\n",
              "    .dataframe tbody tr th {\n",
              "        vertical-align: top;\n",
              "    }\n",
              "\n",
              "    .dataframe thead th {\n",
              "        text-align: right;\n",
              "    }\n",
              "</style>\n",
              "<table border=\"1\" class=\"dataframe\">\n",
              "  <thead>\n",
              "    <tr style=\"text-align: right;\">\n",
              "      <th></th>\n",
              "      <th>index</th>\n",
              "      <th>Date</th>\n",
              "      <th>Open</th>\n",
              "      <th>DayOfWeek</th>\n",
              "      <th>Open-1</th>\n",
              "      <th>%Open</th>\n",
              "    </tr>\n",
              "  </thead>\n",
              "  <tbody>\n",
              "    <tr>\n",
              "      <th>0</th>\n",
              "      <td>0</td>\n",
              "      <td>2019-05-14</td>\n",
              "      <td>1.123242</td>\n",
              "      <td>1</td>\n",
              "      <td>NaN</td>\n",
              "      <td>NaN</td>\n",
              "    </tr>\n",
              "    <tr>\n",
              "      <th>1</th>\n",
              "      <td>1</td>\n",
              "      <td>2019-05-15</td>\n",
              "      <td>1.120360</td>\n",
              "      <td>2</td>\n",
              "      <td>1.123242</td>\n",
              "      <td>-0.256579</td>\n",
              "    </tr>\n",
              "    <tr>\n",
              "      <th>2</th>\n",
              "      <td>2</td>\n",
              "      <td>2019-05-16</td>\n",
              "      <td>1.120951</td>\n",
              "      <td>3</td>\n",
              "      <td>1.120360</td>\n",
              "      <td>0.052751</td>\n",
              "    </tr>\n",
              "    <tr>\n",
              "      <th>3</th>\n",
              "      <td>3</td>\n",
              "      <td>2019-05-17</td>\n",
              "      <td>1.117481</td>\n",
              "      <td>4</td>\n",
              "      <td>1.120951</td>\n",
              "      <td>-0.309559</td>\n",
              "    </tr>\n",
              "    <tr>\n",
              "      <th>4</th>\n",
              "      <td>4</td>\n",
              "      <td>2019-05-20</td>\n",
              "      <td>1.116532</td>\n",
              "      <td>0</td>\n",
              "      <td>1.117481</td>\n",
              "      <td>-0.084923</td>\n",
              "    </tr>\n",
              "    <tr>\n",
              "      <th>5</th>\n",
              "      <td>5</td>\n",
              "      <td>2019-05-21</td>\n",
              "      <td>1.116944</td>\n",
              "      <td>1</td>\n",
              "      <td>1.116532</td>\n",
              "      <td>0.036900</td>\n",
              "    </tr>\n",
              "    <tr>\n",
              "      <th>6</th>\n",
              "      <td>7</td>\n",
              "      <td>2019-05-23</td>\n",
              "      <td>1.115511</td>\n",
              "      <td>3</td>\n",
              "      <td>1.116944</td>\n",
              "      <td>-0.128296</td>\n",
              "    </tr>\n",
              "  </tbody>\n",
              "</table>\n",
              "</div>"
            ],
            "text/plain": [
              "   index       Date      Open  DayOfWeek    Open-1     %Open\n",
              "0      0 2019-05-14  1.123242          1       NaN       NaN\n",
              "1      1 2019-05-15  1.120360          2  1.123242 -0.256579\n",
              "2      2 2019-05-16  1.120951          3  1.120360  0.052751\n",
              "3      3 2019-05-17  1.117481          4  1.120951 -0.309559\n",
              "4      4 2019-05-20  1.116532          0  1.117481 -0.084923\n",
              "5      5 2019-05-21  1.116944          1  1.116532  0.036900\n",
              "6      7 2019-05-23  1.115511          3  1.116944 -0.128296"
            ]
          },
          "metadata": {
            "tags": []
          },
          "execution_count": 1396
        }
      ]
    },
    {
      "cell_type": "code",
      "metadata": {
        "id": "5zeRvw_76_rE"
      },
      "source": [
        "# take decision to buy or sell - if price = 1.167072 then buy = -1.167072 or sell = 1.167072\n",
        "def take_decision(index):\n",
        "  row = df2.loc[index]\n",
        "  return random.choice([-row['Open'], +row['Open']])"
      ],
      "execution_count": 1397,
      "outputs": []
    },
    {
      "cell_type": "code",
      "metadata": {
        "id": "CfKkh7Ox_8hM"
      },
      "source": [
        "def is_guessed(index):\n",
        "  if (index < 1):\n",
        "    return True\n",
        "  return (math.copysign(1, df2.loc[index]['%Open']) != math.copysign(1, df2.loc[index - 1]['decision']))"
      ],
      "execution_count": 1398,
      "outputs": []
    },
    {
      "cell_type": "code",
      "metadata": {
        "id": "XyB39IOuMNqs"
      },
      "source": [
        "def make_deal(index):\n",
        "  k = df2.loc[index, 'k'] \n",
        "  decision = df2.loc[index, 'decision'] \n",
        "  return decision * (2 ** k)"
      ],
      "execution_count": 1399,
      "outputs": []
    },
    {
      "cell_type": "code",
      "metadata": {
        "id": "jsDYBIWCSCnk"
      },
      "source": [
        "def discover_trend(index):\n",
        "  if (index < 1):\n",
        "    df2.loc[index, 'trend'] = 0\n",
        "    return\n",
        "  open_curr = df2.loc[index, '%Open']\n",
        "  open_prev = df2.loc[index-1, '%Open']\n",
        "  if (math.copysign(1, open_prev) == math.copysign(1, open_curr)):\n",
        "    df2.loc[index, 'trend'] = df2.loc[index-1, 'trend'] + 1\n",
        "  else:\n",
        "    df2.loc[index, 'trend'] = 0"
      ],
      "execution_count": 1400,
      "outputs": []
    },
    {
      "cell_type": "code",
      "metadata": {
        "id": "RGTHIeDi30lw"
      },
      "source": [
        "# this is a main algorithm for trading\n",
        "def trade():\n",
        "  for index, row in df2.iterrows():\n",
        "    # close previous deal\n",
        "    if index < 1:\n",
        "      df2.loc[index, 'result after close'] = 0\n",
        "    else:\n",
        "      df2.loc[index, 'result after close'] = df2.loc[index - 1, 'result after close'] + df2.loc[index - 1, 'deal'] + \\\n",
        "        (2 ** df2.loc[index - 1, 'k']) * df2.loc[index, 'Open']\n",
        "\n",
        "    # coefficient of deal depends on result of previous deal\n",
        "    if (is_guessed(index)):\n",
        "      k = 0\n",
        "    else:\n",
        "      k += 1\n",
        "    df2.loc[index, 'k'] = k\n",
        "\n",
        "    # take decision\n",
        "    df2.loc[index, 'decision'] = take_decision(index)\n",
        "\n",
        "    # make deal\n",
        "    df2.loc[index, 'deal'] = make_deal(index)\n",
        "\n",
        "    # open new deal\n",
        "    if (index < 1):\n",
        "      df2.loc[index, 'result'] = 0\n",
        "    else:\n",
        "      df2.loc[index, 'result'] = df2.loc[index, 'result after close'] + df2.loc[index, 'deal']\n",
        "    \n",
        "    # определяем тренд\n",
        "    discover_trend(index)"
      ],
      "execution_count": 1401,
      "outputs": []
    },
    {
      "cell_type": "code",
      "metadata": {
        "id": "pkh0VmLw5ExM"
      },
      "source": [
        "trade()"
      ],
      "execution_count": 1402,
      "outputs": []
    },
    {
      "cell_type": "code",
      "metadata": {
        "colab": {
          "base_uri": "https://localhost:8080/",
          "height": 514
        },
        "id": "ZpGJwchDebU4",
        "outputId": "454f51e5-3f53-41da-b5c1-cda3683bab85"
      },
      "source": [
        "df2.tail(15)"
      ],
      "execution_count": 1403,
      "outputs": [
        {
          "output_type": "execute_result",
          "data": {
            "text/html": [
              "<div>\n",
              "<style scoped>\n",
              "    .dataframe tbody tr th:only-of-type {\n",
              "        vertical-align: middle;\n",
              "    }\n",
              "\n",
              "    .dataframe tbody tr th {\n",
              "        vertical-align: top;\n",
              "    }\n",
              "\n",
              "    .dataframe thead th {\n",
              "        text-align: right;\n",
              "    }\n",
              "</style>\n",
              "<table border=\"1\" class=\"dataframe\">\n",
              "  <thead>\n",
              "    <tr style=\"text-align: right;\">\n",
              "      <th></th>\n",
              "      <th>index</th>\n",
              "      <th>Date</th>\n",
              "      <th>Open</th>\n",
              "      <th>DayOfWeek</th>\n",
              "      <th>Open-1</th>\n",
              "      <th>%Open</th>\n",
              "      <th>result after close</th>\n",
              "      <th>k</th>\n",
              "      <th>decision</th>\n",
              "      <th>deal</th>\n",
              "      <th>result</th>\n",
              "      <th>trend</th>\n",
              "    </tr>\n",
              "  </thead>\n",
              "  <tbody>\n",
              "    <tr>\n",
              "      <th>488</th>\n",
              "      <td>509</td>\n",
              "      <td>2021-04-26</td>\n",
              "      <td>1.208956</td>\n",
              "      <td>0</td>\n",
              "      <td>1.201793</td>\n",
              "      <td>0.596026</td>\n",
              "      <td>4796.792347</td>\n",
              "      <td>0.0</td>\n",
              "      <td>1.208956</td>\n",
              "      <td>1.208956</td>\n",
              "      <td>4798.001303</td>\n",
              "      <td>0.0</td>\n",
              "    </tr>\n",
              "    <tr>\n",
              "      <th>489</th>\n",
              "      <td>510</td>\n",
              "      <td>2021-04-27</td>\n",
              "      <td>1.207921</td>\n",
              "      <td>1</td>\n",
              "      <td>1.208956</td>\n",
              "      <td>-0.085611</td>\n",
              "      <td>4799.209224</td>\n",
              "      <td>0.0</td>\n",
              "      <td>-1.207921</td>\n",
              "      <td>-1.207921</td>\n",
              "      <td>4798.001303</td>\n",
              "      <td>0.0</td>\n",
              "    </tr>\n",
              "    <tr>\n",
              "      <th>490</th>\n",
              "      <td>511</td>\n",
              "      <td>2021-04-28</td>\n",
              "      <td>1.208854</td>\n",
              "      <td>2</td>\n",
              "      <td>1.207921</td>\n",
              "      <td>0.077240</td>\n",
              "      <td>4799.210157</td>\n",
              "      <td>0.0</td>\n",
              "      <td>-1.208854</td>\n",
              "      <td>-1.208854</td>\n",
              "      <td>4798.001303</td>\n",
              "      <td>0.0</td>\n",
              "    </tr>\n",
              "    <tr>\n",
              "      <th>491</th>\n",
              "      <td>512</td>\n",
              "      <td>2021-04-29</td>\n",
              "      <td>1.213578</td>\n",
              "      <td>3</td>\n",
              "      <td>1.208854</td>\n",
              "      <td>0.390783</td>\n",
              "      <td>4799.214881</td>\n",
              "      <td>0.0</td>\n",
              "      <td>-1.213578</td>\n",
              "      <td>-1.213578</td>\n",
              "      <td>4798.001303</td>\n",
              "      <td>1.0</td>\n",
              "    </tr>\n",
              "    <tr>\n",
              "      <th>492</th>\n",
              "      <td>513</td>\n",
              "      <td>2021-04-30</td>\n",
              "      <td>1.212489</td>\n",
              "      <td>4</td>\n",
              "      <td>1.213578</td>\n",
              "      <td>-0.089735</td>\n",
              "      <td>4799.213792</td>\n",
              "      <td>1.0</td>\n",
              "      <td>1.212489</td>\n",
              "      <td>2.424978</td>\n",
              "      <td>4801.638770</td>\n",
              "      <td>0.0</td>\n",
              "    </tr>\n",
              "    <tr>\n",
              "      <th>493</th>\n",
              "      <td>514</td>\n",
              "      <td>2021-05-03</td>\n",
              "      <td>1.202646</td>\n",
              "      <td>0</td>\n",
              "      <td>1.212489</td>\n",
              "      <td>-0.811801</td>\n",
              "      <td>4804.044062</td>\n",
              "      <td>0.0</td>\n",
              "      <td>1.202646</td>\n",
              "      <td>1.202646</td>\n",
              "      <td>4805.246708</td>\n",
              "      <td>1.0</td>\n",
              "    </tr>\n",
              "    <tr>\n",
              "      <th>494</th>\n",
              "      <td>515</td>\n",
              "      <td>2021-05-04</td>\n",
              "      <td>1.205982</td>\n",
              "      <td>1</td>\n",
              "      <td>1.202646</td>\n",
              "      <td>0.277388</td>\n",
              "      <td>4806.452690</td>\n",
              "      <td>1.0</td>\n",
              "      <td>1.205982</td>\n",
              "      <td>2.411964</td>\n",
              "      <td>4808.864654</td>\n",
              "      <td>0.0</td>\n",
              "    </tr>\n",
              "    <tr>\n",
              "      <th>495</th>\n",
              "      <td>516</td>\n",
              "      <td>2021-05-05</td>\n",
              "      <td>1.201634</td>\n",
              "      <td>2</td>\n",
              "      <td>1.205982</td>\n",
              "      <td>-0.360536</td>\n",
              "      <td>4811.267922</td>\n",
              "      <td>0.0</td>\n",
              "      <td>1.201634</td>\n",
              "      <td>1.201634</td>\n",
              "      <td>4812.469556</td>\n",
              "      <td>0.0</td>\n",
              "    </tr>\n",
              "    <tr>\n",
              "      <th>496</th>\n",
              "      <td>517</td>\n",
              "      <td>2021-05-06</td>\n",
              "      <td>1.200913</td>\n",
              "      <td>3</td>\n",
              "      <td>1.201634</td>\n",
              "      <td>-0.060002</td>\n",
              "      <td>4813.670469</td>\n",
              "      <td>0.0</td>\n",
              "      <td>-1.200913</td>\n",
              "      <td>-1.200913</td>\n",
              "      <td>4812.469556</td>\n",
              "      <td>1.0</td>\n",
              "    </tr>\n",
              "    <tr>\n",
              "      <th>497</th>\n",
              "      <td>518</td>\n",
              "      <td>2021-05-07</td>\n",
              "      <td>1.206593</td>\n",
              "      <td>4</td>\n",
              "      <td>1.200913</td>\n",
              "      <td>0.472973</td>\n",
              "      <td>4813.676149</td>\n",
              "      <td>0.0</td>\n",
              "      <td>-1.206593</td>\n",
              "      <td>-1.206593</td>\n",
              "      <td>4812.469556</td>\n",
              "      <td>0.0</td>\n",
              "    </tr>\n",
              "    <tr>\n",
              "      <th>498</th>\n",
              "      <td>519</td>\n",
              "      <td>2021-05-10</td>\n",
              "      <td>1.216752</td>\n",
              "      <td>0</td>\n",
              "      <td>1.206593</td>\n",
              "      <td>0.841957</td>\n",
              "      <td>4813.686308</td>\n",
              "      <td>0.0</td>\n",
              "      <td>1.216752</td>\n",
              "      <td>1.216752</td>\n",
              "      <td>4814.903060</td>\n",
              "      <td>1.0</td>\n",
              "    </tr>\n",
              "    <tr>\n",
              "      <th>499</th>\n",
              "      <td>520</td>\n",
              "      <td>2021-05-11</td>\n",
              "      <td>1.214211</td>\n",
              "      <td>1</td>\n",
              "      <td>1.216752</td>\n",
              "      <td>-0.208835</td>\n",
              "      <td>4816.117271</td>\n",
              "      <td>0.0</td>\n",
              "      <td>1.214211</td>\n",
              "      <td>1.214211</td>\n",
              "      <td>4817.331482</td>\n",
              "      <td>0.0</td>\n",
              "    </tr>\n",
              "    <tr>\n",
              "      <th>500</th>\n",
              "      <td>521</td>\n",
              "      <td>2021-05-12</td>\n",
              "      <td>1.214550</td>\n",
              "      <td>2</td>\n",
              "      <td>1.214211</td>\n",
              "      <td>0.027919</td>\n",
              "      <td>4818.546032</td>\n",
              "      <td>1.0</td>\n",
              "      <td>1.214550</td>\n",
              "      <td>2.429100</td>\n",
              "      <td>4820.975132</td>\n",
              "      <td>0.0</td>\n",
              "    </tr>\n",
              "    <tr>\n",
              "      <th>501</th>\n",
              "      <td>522</td>\n",
              "      <td>2021-05-13</td>\n",
              "      <td>1.207686</td>\n",
              "      <td>3</td>\n",
              "      <td>1.214550</td>\n",
              "      <td>-0.565148</td>\n",
              "      <td>4823.390504</td>\n",
              "      <td>0.0</td>\n",
              "      <td>1.207686</td>\n",
              "      <td>1.207686</td>\n",
              "      <td>4824.598190</td>\n",
              "      <td>0.0</td>\n",
              "    </tr>\n",
              "    <tr>\n",
              "      <th>502</th>\n",
              "      <td>523</td>\n",
              "      <td>2021-05-14</td>\n",
              "      <td>1.208459</td>\n",
              "      <td>4</td>\n",
              "      <td>1.207686</td>\n",
              "      <td>0.064007</td>\n",
              "      <td>4825.806649</td>\n",
              "      <td>1.0</td>\n",
              "      <td>1.208459</td>\n",
              "      <td>2.416918</td>\n",
              "      <td>4828.223567</td>\n",
              "      <td>0.0</td>\n",
              "    </tr>\n",
              "  </tbody>\n",
              "</table>\n",
              "</div>"
            ],
            "text/plain": [
              "     index       Date      Open  ...      deal       result  trend\n",
              "488    509 2021-04-26  1.208956  ...  1.208956  4798.001303    0.0\n",
              "489    510 2021-04-27  1.207921  ... -1.207921  4798.001303    0.0\n",
              "490    511 2021-04-28  1.208854  ... -1.208854  4798.001303    0.0\n",
              "491    512 2021-04-29  1.213578  ... -1.213578  4798.001303    1.0\n",
              "492    513 2021-04-30  1.212489  ...  2.424978  4801.638770    0.0\n",
              "493    514 2021-05-03  1.202646  ...  1.202646  4805.246708    1.0\n",
              "494    515 2021-05-04  1.205982  ...  2.411964  4808.864654    0.0\n",
              "495    516 2021-05-05  1.201634  ...  1.201634  4812.469556    0.0\n",
              "496    517 2021-05-06  1.200913  ... -1.200913  4812.469556    1.0\n",
              "497    518 2021-05-07  1.206593  ... -1.206593  4812.469556    0.0\n",
              "498    519 2021-05-10  1.216752  ...  1.216752  4814.903060    1.0\n",
              "499    520 2021-05-11  1.214211  ...  1.214211  4817.331482    0.0\n",
              "500    521 2021-05-12  1.214550  ...  2.429100  4820.975132    0.0\n",
              "501    522 2021-05-13  1.207686  ...  1.207686  4824.598190    0.0\n",
              "502    523 2021-05-14  1.208459  ...  2.416918  4828.223567    0.0\n",
              "\n",
              "[15 rows x 12 columns]"
            ]
          },
          "metadata": {
            "tags": []
          },
          "execution_count": 1403
        }
      ]
    },
    {
      "cell_type": "code",
      "metadata": {
        "colab": {
          "base_uri": "https://localhost:8080/",
          "height": 297
        },
        "id": "CbNlYfbMQL5H",
        "outputId": "91cbb3d3-abb3-44c7-8c0b-5467980ab8d1"
      },
      "source": [
        "df2.describe()"
      ],
      "execution_count": 1404,
      "outputs": [
        {
          "output_type": "execute_result",
          "data": {
            "text/html": [
              "<div>\n",
              "<style scoped>\n",
              "    .dataframe tbody tr th:only-of-type {\n",
              "        vertical-align: middle;\n",
              "    }\n",
              "\n",
              "    .dataframe tbody tr th {\n",
              "        vertical-align: top;\n",
              "    }\n",
              "\n",
              "    .dataframe thead th {\n",
              "        text-align: right;\n",
              "    }\n",
              "</style>\n",
              "<table border=\"1\" class=\"dataframe\">\n",
              "  <thead>\n",
              "    <tr style=\"text-align: right;\">\n",
              "      <th></th>\n",
              "      <th>index</th>\n",
              "      <th>Open</th>\n",
              "      <th>DayOfWeek</th>\n",
              "      <th>Open-1</th>\n",
              "      <th>%Open</th>\n",
              "      <th>result after close</th>\n",
              "      <th>k</th>\n",
              "      <th>decision</th>\n",
              "      <th>deal</th>\n",
              "      <th>result</th>\n",
              "      <th>trend</th>\n",
              "    </tr>\n",
              "  </thead>\n",
              "  <tbody>\n",
              "    <tr>\n",
              "      <th>count</th>\n",
              "      <td>503.000000</td>\n",
              "      <td>503.000000</td>\n",
              "      <td>503.000000</td>\n",
              "      <td>502.000000</td>\n",
              "      <td>502.000000</td>\n",
              "      <td>503.000000</td>\n",
              "      <td>503.000000</td>\n",
              "      <td>503.000000</td>\n",
              "      <td>503.000000</td>\n",
              "      <td>503.000000</td>\n",
              "      <td>503.000000</td>\n",
              "    </tr>\n",
              "    <tr>\n",
              "      <th>mean</th>\n",
              "      <td>268.606362</td>\n",
              "      <td>1.145789</td>\n",
              "      <td>2.001988</td>\n",
              "      <td>1.145664</td>\n",
              "      <td>0.015402</td>\n",
              "      <td>2662.762274</td>\n",
              "      <td>1.105368</td>\n",
              "      <td>-0.002643</td>\n",
              "      <td>-2.617813</td>\n",
              "      <td>2660.146694</td>\n",
              "      <td>1.053678</td>\n",
              "    </tr>\n",
              "    <tr>\n",
              "      <th>std</th>\n",
              "      <td>150.348997</td>\n",
              "      <td>0.044852</td>\n",
              "      <td>1.416323</td>\n",
              "      <td>0.044809</td>\n",
              "      <td>0.408680</td>\n",
              "      <td>1444.090228</td>\n",
              "      <td>1.681523</td>\n",
              "      <td>1.147803</td>\n",
              "      <td>69.052641</td>\n",
              "      <td>1447.275847</td>\n",
              "      <td>1.383994</td>\n",
              "    </tr>\n",
              "    <tr>\n",
              "      <th>min</th>\n",
              "      <td>0.000000</td>\n",
              "      <td>1.065848</td>\n",
              "      <td>0.000000</td>\n",
              "      <td>1.065848</td>\n",
              "      <td>-2.603845</td>\n",
              "      <td>-0.002882</td>\n",
              "      <td>0.000000</td>\n",
              "      <td>-1.233776</td>\n",
              "      <td>-1136.893952</td>\n",
              "      <td>-2.243602</td>\n",
              "      <td>0.000000</td>\n",
              "    </tr>\n",
              "    <tr>\n",
              "      <th>25%</th>\n",
              "      <td>146.500000</td>\n",
              "      <td>1.108955</td>\n",
              "      <td>1.000000</td>\n",
              "      <td>1.108931</td>\n",
              "      <td>-0.243338</td>\n",
              "      <td>2065.864985</td>\n",
              "      <td>0.000000</td>\n",
              "      <td>-1.127231</td>\n",
              "      <td>-1.221312</td>\n",
              "      <td>2064.202757</td>\n",
              "      <td>0.000000</td>\n",
              "    </tr>\n",
              "    <tr>\n",
              "      <th>50%</th>\n",
              "      <td>272.000000</td>\n",
              "      <td>1.127548</td>\n",
              "      <td>2.000000</td>\n",
              "      <td>1.127414</td>\n",
              "      <td>0.017797</td>\n",
              "      <td>3360.077323</td>\n",
              "      <td>0.000000</td>\n",
              "      <td>-1.065848</td>\n",
              "      <td>-1.077633</td>\n",
              "      <td>3360.064755</td>\n",
              "      <td>1.000000</td>\n",
              "    </tr>\n",
              "    <tr>\n",
              "      <th>75%</th>\n",
              "      <td>397.500000</td>\n",
              "      <td>1.186205</td>\n",
              "      <td>3.000000</td>\n",
              "      <td>1.185793</td>\n",
              "      <td>0.264688</td>\n",
              "      <td>3768.310732</td>\n",
              "      <td>2.000000</td>\n",
              "      <td>1.127631</td>\n",
              "      <td>2.173784</td>\n",
              "      <td>3767.124246</td>\n",
              "      <td>2.000000</td>\n",
              "    </tr>\n",
              "    <tr>\n",
              "      <th>max</th>\n",
              "      <td>523.000000</td>\n",
              "      <td>1.233776</td>\n",
              "      <td>4.000000</td>\n",
              "      <td>1.233776</td>\n",
              "      <td>1.456985</td>\n",
              "      <td>4825.806649</td>\n",
              "      <td>10.000000</td>\n",
              "      <td>1.226873</td>\n",
              "      <td>567.539200</td>\n",
              "      <td>4828.223567</td>\n",
              "      <td>7.000000</td>\n",
              "    </tr>\n",
              "  </tbody>\n",
              "</table>\n",
              "</div>"
            ],
            "text/plain": [
              "            index        Open   DayOfWeek  ...         deal       result       trend\n",
              "count  503.000000  503.000000  503.000000  ...   503.000000   503.000000  503.000000\n",
              "mean   268.606362    1.145789    2.001988  ...    -2.617813  2660.146694    1.053678\n",
              "std    150.348997    0.044852    1.416323  ...    69.052641  1447.275847    1.383994\n",
              "min      0.000000    1.065848    0.000000  ... -1136.893952    -2.243602    0.000000\n",
              "25%    146.500000    1.108955    1.000000  ...    -1.221312  2064.202757    0.000000\n",
              "50%    272.000000    1.127548    2.000000  ...    -1.077633  3360.064755    1.000000\n",
              "75%    397.500000    1.186205    3.000000  ...     2.173784  3767.124246    2.000000\n",
              "max    523.000000    1.233776    4.000000  ...   567.539200  4828.223567    7.000000\n",
              "\n",
              "[8 rows x 11 columns]"
            ]
          },
          "metadata": {
            "tags": []
          },
          "execution_count": 1404
        }
      ]
    },
    {
      "cell_type": "code",
      "metadata": {
        "colab": {
          "base_uri": "https://localhost:8080/",
          "height": 296
        },
        "id": "mSwauWOFqE1f",
        "outputId": "7ceda1f2-6f36-4ba5-9b97-84ad699a785b"
      },
      "source": [
        "df2.plot('Date', 'result')"
      ],
      "execution_count": 1405,
      "outputs": [
        {
          "output_type": "execute_result",
          "data": {
            "text/plain": [
              "<matplotlib.axes._subplots.AxesSubplot at 0x7f40e789fa50>"
            ]
          },
          "metadata": {
            "tags": []
          },
          "execution_count": 1405
        },
        {
          "output_type": "display_data",
          "data": {
            "image/png": "[encoded data removed]",
            "text/plain": [
              "<Figure size 432x288 with 1 Axes>"
            ]
          },
          "metadata": {
            "tags": [],
            "needs_background": "light"
          }
        }
      ]
    },
    {
      "cell_type": "code",
      "metadata": {
        "colab": {
          "base_uri": "https://localhost:8080/",
          "height": 337
        },
        "id": "vg3bekGdfaCw",
        "outputId": "ba4b5af4-6c66-4f97-926f-f1b171aeee98"
      },
      "source": [
        "plt.figure(figsize=(20,5))\n",
        "plt.plot(df2['Date'], df2['result'])"
      ],
      "execution_count": 1406,
      "outputs": [
        {
          "output_type": "execute_result",
          "data": {
            "text/plain": [
              "[<matplotlib.lines.Line2D at 0x7f40e781e950>]"
            ]
          },
          "metadata": {
            "tags": []
          },
          "execution_count": 1406
        },
        {
          "output_type": "display_data",
          "data": {
            "image/png": "[encoded data removed]",
            "text/plain": [
              "<Figure size 1440x360 with 1 Axes>"
            ]
          },
          "metadata": {
            "tags": [],
            "needs_background": "light"
          }
        }
      ]
    },
    {
      "cell_type": "code",
      "metadata": {
        "colab": {
          "base_uri": "https://localhost:8080/",
          "height": 337
        },
        "id": "npHoHVlniPlh",
        "outputId": "68e10620-24bb-4e03-9c56-c96e5f1f2625"
      },
      "source": [
        "plt.figure(figsize=(20,5))\n",
        "plt.plot(df2['Date'], df2['k'])"
      ],
      "execution_count": 1407,
      "outputs": [
        {
          "output_type": "execute_result",
          "data": {
            "text/plain": [
              "[<matplotlib.lines.Line2D at 0x7f40e77f6690>]"
            ]
          },
          "metadata": {
            "tags": []
          },
          "execution_count": 1407
        },
        {
          "output_type": "display_data",
          "data": {
            "image/png": "[encoded data removed]",
            "text/plain": [
              "<Figure size 1440x360 with 1 Axes>"
            ]
          },
          "metadata": {
            "tags": [],
            "needs_background": "light"
          }
        }
      ]
    }
  ]
}