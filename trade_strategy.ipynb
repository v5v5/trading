{
  "nbformat": 4,
  "nbformat_minor": 0,
  "metadata": {
    "colab": {
      "name": "trade-strategy.ipynb",
      "provenance": [],
      "collapsed_sections": [],
      "authorship_tag": "ABX9TyOmht2vQ6UOUlm++PMXGlAU",
      "include_colab_link": true
    },
    "kernelspec": {
      "name": "python3",
      "display_name": "Python 3"
    },
    "language_info": {
      "name": "python"
    }
  },
  "cells": [
    {
      "cell_type": "markdown",
      "metadata": {
        "id": "view-in-github",
        "colab_type": "text"
      },
      "source": [
        "<a href=\"https://colab.research.google.com/github/v5v5/trading/blob/main/trade_strategy.ipynb\" target=\"_parent\"><img src=\"https://colab.research.google.com/assets/colab-badge.svg\" alt=\"Open In Colab\"/></a>"
      ]
    },
    {
      "cell_type": "markdown",
      "metadata": {
        "id": "HowU-l69T-Yb"
      },
      "source": [
        "URL to download quotes EURUSD\n",
        "\n",
        "https://query1.finance.yahoo.com/v7/finance/download/EURUSD=X?period1=1262304000&period2=1619654400&interval=1d&events=history&includeAdjustedClose=true"
      ]
    },
    {
      "cell_type": "code",
      "metadata": {
        "id": "pkKl4XBGVNGL"
      },
      "source": [
        "import pandas as pd\n",
        "from urllib.request import Request, urlopen\n",
        "from io import StringIO\n",
        "import datetime\n",
        "from dateutil.relativedelta import relativedelta\n",
        "import time\n",
        "import random\n",
        "import math\n",
        "import matplotlib.pyplot as plt"
      ],
      "execution_count": 267,
      "outputs": []
    },
    {
      "cell_type": "code",
      "metadata": {
        "colab": {
          "base_uri": "https://localhost:8080/",
          "height": 35
        },
        "id": "oAMusJ7Vfxou",
        "outputId": "639b6df2-2641-4a61-9a72-6769dd415c2d"
      },
      "source": [
        "# dt_from = datetime.date(2000,1,1)\n",
        "# dt_from = datetime.date(2019,1,1)\n",
        "# dt_from = datetime.date.today() + relativedelta(years=-1)\n",
        "dt_from = datetime.date.today() + relativedelta(years=-2)\n",
        "ut_from = str(int(time.mktime(dt_from.timetuple())))\n",
        "ut_from"
      ],
      "execution_count": 268,
      "outputs": [
        {
          "output_type": "execute_result",
          "data": {
            "application/vnd.google.colaboratory.intrinsic+json": {
              "type": "string"
            },
            "text/plain": [
              "'1557964800'"
            ]
          },
          "metadata": {
            "tags": []
          },
          "execution_count": 268
        }
      ]
    },
    {
      "cell_type": "code",
      "metadata": {
        "colab": {
          "base_uri": "https://localhost:8080/",
          "height": 35
        },
        "id": "3iBED0CihYSB",
        "outputId": "b554b860-1f75-4621-fcb2-af1666a700c2"
      },
      "source": [
        "dt_to = datetime.date.today()\n",
        "ut_to = str(int(time.mktime(dt_to.timetuple())))\n",
        "ut_to"
      ],
      "execution_count": 269,
      "outputs": [
        {
          "output_type": "execute_result",
          "data": {
            "application/vnd.google.colaboratory.intrinsic+json": {
              "type": "string"
            },
            "text/plain": [
              "'1621123200'"
            ]
          },
          "metadata": {
            "tags": []
          },
          "execution_count": 269
        }
      ]
    },
    {
      "cell_type": "code",
      "metadata": {
        "id": "ZWbh4rFCYsiA"
      },
      "source": [
        "# url='https://query1.finance.yahoo.com/v7/finance/download/EURUSD=X?period1=1262304000&period2=1619654400&interval=1d&events=history&includeAdjustedClose=true'\n",
        "url='https://query1.finance.yahoo.com/v7/finance/download/EURUSD=X?period1=' + ut_from + '&period2=' + ut_to + '&interval=1d&events=history&includeAdjustedClose=true'"
      ],
      "execution_count": 270,
      "outputs": []
    },
    {
      "cell_type": "code",
      "metadata": {
        "id": "ictpemgHTnaU"
      },
      "source": [
        "headers={'User-Agent': 'Mozilla/5.0'}"
      ],
      "execution_count": 271,
      "outputs": []
    },
    {
      "cell_type": "code",
      "metadata": {
        "id": "5KvntWHZg8CO"
      },
      "source": [
        "req = Request(url, headers=headers)"
      ],
      "execution_count": 272,
      "outputs": []
    },
    {
      "cell_type": "code",
      "metadata": {
        "id": "d2anZTnFSg6y"
      },
      "source": [
        "page = urlopen(req)\n",
        "# page = urlopen(url)"
      ],
      "execution_count": 273,
      "outputs": []
    },
    {
      "cell_type": "code",
      "metadata": {
        "id": "tOtCSrjqY2b6"
      },
      "source": [
        "page = urlopen(url)"
      ],
      "execution_count": 274,
      "outputs": []
    },
    {
      "cell_type": "code",
      "metadata": {
        "id": "W7BmUlFOSjXh"
      },
      "source": [
        "content = page.read()"
      ],
      "execution_count": 275,
      "outputs": []
    },
    {
      "cell_type": "code",
      "metadata": {
        "id": "MrUfRSxZp4Y9"
      },
      "source": [
        "text = content.decode('UTF-8')"
      ],
      "execution_count": 276,
      "outputs": []
    },
    {
      "cell_type": "code",
      "metadata": {
        "colab": {
          "base_uri": "https://localhost:8080/"
        },
        "id": "HIutb2KOhWlP",
        "outputId": "01afb80c-71c3-4e22-ff5d-17738b22cbcc"
      },
      "source": [
        "print(text[:300])"
      ],
      "execution_count": 277,
      "outputs": [
        {
          "output_type": "stream",
          "text": [
            "Date,Open,High,Low,Close,Adj Close,Volume\n",
            "2019-05-16,1.120951,1.122435,1.117431,1.120724,1.120724,0\n",
            "2019-05-17,1.117481,1.118443,1.115735,1.117356,1.117356,0\n",
            "2019-05-20,1.116532,1.117701,1.115126,1.116532,1.116532,0\n",
            "2019-05-21,1.116944,1.118318,1.114243,1.116857,1.116857,0\n",
            "2019-05-22,null,null,null,\n"
          ],
          "name": "stdout"
        }
      ]
    },
    {
      "cell_type": "code",
      "metadata": {
        "id": "nyxhqBhKpBel"
      },
      "source": [
        "data = StringIO(text)"
      ],
      "execution_count": 278,
      "outputs": []
    },
    {
      "cell_type": "code",
      "metadata": {
        "id": "tso_dYdOVny7"
      },
      "source": [
        "df1 = pd.read_csv(data, sep=',', header='infer')"
      ],
      "execution_count": 279,
      "outputs": []
    },
    {
      "cell_type": "code",
      "metadata": {
        "colab": {
          "base_uri": "https://localhost:8080/",
          "height": 266
        },
        "id": "CAWUH4jfl0-Y",
        "outputId": "9f8e07d9-c932-4957-f835-cd7b0dea9787"
      },
      "source": [
        "df1.tail(7)"
      ],
      "execution_count": 280,
      "outputs": [
        {
          "output_type": "execute_result",
          "data": {
            "text/html": [
              "<div>\n",
              "<style scoped>\n",
              "    .dataframe tbody tr th:only-of-type {\n",
              "        vertical-align: middle;\n",
              "    }\n",
              "\n",
              "    .dataframe tbody tr th {\n",
              "        vertical-align: top;\n",
              "    }\n",
              "\n",
              "    .dataframe thead th {\n",
              "        text-align: right;\n",
              "    }\n",
              "</style>\n",
              "<table border=\"1\" class=\"dataframe\">\n",
              "  <thead>\n",
              "    <tr style=\"text-align: right;\">\n",
              "      <th></th>\n",
              "      <th>Date</th>\n",
              "      <th>Open</th>\n",
              "      <th>High</th>\n",
              "      <th>Low</th>\n",
              "      <th>Close</th>\n",
              "      <th>Adj Close</th>\n",
              "      <th>Volume</th>\n",
              "    </tr>\n",
              "  </thead>\n",
              "  <tbody>\n",
              "    <tr>\n",
              "      <th>515</th>\n",
              "      <td>2021-05-06</td>\n",
              "      <td>1.200913</td>\n",
              "      <td>1.207001</td>\n",
              "      <td>1.199400</td>\n",
              "      <td>1.200797</td>\n",
              "      <td>1.200797</td>\n",
              "      <td>0.0</td>\n",
              "    </tr>\n",
              "    <tr>\n",
              "      <th>516</th>\n",
              "      <td>2021-05-07</td>\n",
              "      <td>1.206593</td>\n",
              "      <td>1.216545</td>\n",
              "      <td>1.205342</td>\n",
              "      <td>1.206855</td>\n",
              "      <td>1.206855</td>\n",
              "      <td>0.0</td>\n",
              "    </tr>\n",
              "    <tr>\n",
              "      <th>517</th>\n",
              "      <td>2021-05-10</td>\n",
              "      <td>1.216752</td>\n",
              "      <td>1.217730</td>\n",
              "      <td>1.213740</td>\n",
              "      <td>1.217108</td>\n",
              "      <td>1.217108</td>\n",
              "      <td>0.0</td>\n",
              "    </tr>\n",
              "    <tr>\n",
              "      <th>518</th>\n",
              "      <td>2021-05-11</td>\n",
              "      <td>1.214211</td>\n",
              "      <td>1.217968</td>\n",
              "      <td>1.212547</td>\n",
              "      <td>1.214093</td>\n",
              "      <td>1.214093</td>\n",
              "      <td>0.0</td>\n",
              "    </tr>\n",
              "    <tr>\n",
              "      <th>519</th>\n",
              "      <td>2021-05-12</td>\n",
              "      <td>1.214550</td>\n",
              "      <td>1.215067</td>\n",
              "      <td>1.206811</td>\n",
              "      <td>1.214450</td>\n",
              "      <td>1.214450</td>\n",
              "      <td>0.0</td>\n",
              "    </tr>\n",
              "    <tr>\n",
              "      <th>520</th>\n",
              "      <td>2021-05-13</td>\n",
              "      <td>1.207686</td>\n",
              "      <td>1.210654</td>\n",
              "      <td>1.205313</td>\n",
              "      <td>1.207851</td>\n",
              "      <td>1.207851</td>\n",
              "      <td>0.0</td>\n",
              "    </tr>\n",
              "    <tr>\n",
              "      <th>521</th>\n",
              "      <td>2021-05-14</td>\n",
              "      <td>1.208021</td>\n",
              "      <td>1.214772</td>\n",
              "      <td>1.207146</td>\n",
              "      <td>1.207729</td>\n",
              "      <td>1.207729</td>\n",
              "      <td>0.0</td>\n",
              "    </tr>\n",
              "  </tbody>\n",
              "</table>\n",
              "</div>"
            ],
            "text/plain": [
              "           Date      Open      High       Low     Close  Adj Close  Volume\n",
              "515  2021-05-06  1.200913  1.207001  1.199400  1.200797   1.200797     0.0\n",
              "516  2021-05-07  1.206593  1.216545  1.205342  1.206855   1.206855     0.0\n",
              "517  2021-05-10  1.216752  1.217730  1.213740  1.217108   1.217108     0.0\n",
              "518  2021-05-11  1.214211  1.217968  1.212547  1.214093   1.214093     0.0\n",
              "519  2021-05-12  1.214550  1.215067  1.206811  1.214450   1.214450     0.0\n",
              "520  2021-05-13  1.207686  1.210654  1.205313  1.207851   1.207851     0.0\n",
              "521  2021-05-14  1.208021  1.214772  1.207146  1.207729   1.207729     0.0"
            ]
          },
          "metadata": {
            "tags": []
          },
          "execution_count": 280
        }
      ]
    },
    {
      "cell_type": "code",
      "metadata": {
        "colab": {
          "base_uri": "https://localhost:8080/"
        },
        "id": "ovkPk5aUZJ2e",
        "outputId": "37025267-d265-40bd-9e0e-ab3b2e87f350"
      },
      "source": [
        "# df1[df1['Open'].isna()]\n",
        "len(df1[df1['Open'].isna()].index)"
      ],
      "execution_count": 281,
      "outputs": [
        {
          "output_type": "execute_result",
          "data": {
            "text/plain": [
              "21"
            ]
          },
          "metadata": {
            "tags": []
          },
          "execution_count": 281
        }
      ]
    },
    {
      "cell_type": "code",
      "metadata": {
        "id": "s2DGue6mc5QH"
      },
      "source": [
        "df1.sort_values(by=['Date'], inplace=True)"
      ],
      "execution_count": 282,
      "outputs": []
    },
    {
      "cell_type": "code",
      "metadata": {
        "colab": {
          "base_uri": "https://localhost:8080/",
          "height": 419
        },
        "id": "KYmLGPPzZPDG",
        "outputId": "5fa745cc-a3ee-464d-9774-1726c33bb336"
      },
      "source": [
        "df1.dropna(inplace=True)\n",
        "df1.reset_index(inplace=True)\n",
        "df1"
      ],
      "execution_count": 283,
      "outputs": [
        {
          "output_type": "execute_result",
          "data": {
            "text/html": [
              "<div>\n",
              "<style scoped>\n",
              "    .dataframe tbody tr th:only-of-type {\n",
              "        vertical-align: middle;\n",
              "    }\n",
              "\n",
              "    .dataframe tbody tr th {\n",
              "        vertical-align: top;\n",
              "    }\n",
              "\n",
              "    .dataframe thead th {\n",
              "        text-align: right;\n",
              "    }\n",
              "</style>\n",
              "<table border=\"1\" class=\"dataframe\">\n",
              "  <thead>\n",
              "    <tr style=\"text-align: right;\">\n",
              "      <th></th>\n",
              "      <th>index</th>\n",
              "      <th>Date</th>\n",
              "      <th>Open</th>\n",
              "      <th>High</th>\n",
              "      <th>Low</th>\n",
              "      <th>Close</th>\n",
              "      <th>Adj Close</th>\n",
              "      <th>Volume</th>\n",
              "    </tr>\n",
              "  </thead>\n",
              "  <tbody>\n",
              "    <tr>\n",
              "      <th>0</th>\n",
              "      <td>0</td>\n",
              "      <td>2019-05-16</td>\n",
              "      <td>1.120951</td>\n",
              "      <td>1.122435</td>\n",
              "      <td>1.117431</td>\n",
              "      <td>1.120724</td>\n",
              "      <td>1.120724</td>\n",
              "      <td>0.0</td>\n",
              "    </tr>\n",
              "    <tr>\n",
              "      <th>1</th>\n",
              "      <td>1</td>\n",
              "      <td>2019-05-17</td>\n",
              "      <td>1.117481</td>\n",
              "      <td>1.118443</td>\n",
              "      <td>1.115735</td>\n",
              "      <td>1.117356</td>\n",
              "      <td>1.117356</td>\n",
              "      <td>0.0</td>\n",
              "    </tr>\n",
              "    <tr>\n",
              "      <th>2</th>\n",
              "      <td>2</td>\n",
              "      <td>2019-05-20</td>\n",
              "      <td>1.116532</td>\n",
              "      <td>1.117701</td>\n",
              "      <td>1.115126</td>\n",
              "      <td>1.116532</td>\n",
              "      <td>1.116532</td>\n",
              "      <td>0.0</td>\n",
              "    </tr>\n",
              "    <tr>\n",
              "      <th>3</th>\n",
              "      <td>3</td>\n",
              "      <td>2019-05-21</td>\n",
              "      <td>1.116944</td>\n",
              "      <td>1.118318</td>\n",
              "      <td>1.114243</td>\n",
              "      <td>1.116857</td>\n",
              "      <td>1.116857</td>\n",
              "      <td>0.0</td>\n",
              "    </tr>\n",
              "    <tr>\n",
              "      <th>4</th>\n",
              "      <td>5</td>\n",
              "      <td>2019-05-23</td>\n",
              "      <td>1.115511</td>\n",
              "      <td>1.117281</td>\n",
              "      <td>1.110951</td>\n",
              "      <td>1.115548</td>\n",
              "      <td>1.115548</td>\n",
              "      <td>0.0</td>\n",
              "    </tr>\n",
              "    <tr>\n",
              "      <th>...</th>\n",
              "      <td>...</td>\n",
              "      <td>...</td>\n",
              "      <td>...</td>\n",
              "      <td>...</td>\n",
              "      <td>...</td>\n",
              "      <td>...</td>\n",
              "      <td>...</td>\n",
              "      <td>...</td>\n",
              "    </tr>\n",
              "    <tr>\n",
              "      <th>496</th>\n",
              "      <td>517</td>\n",
              "      <td>2021-05-10</td>\n",
              "      <td>1.216752</td>\n",
              "      <td>1.217730</td>\n",
              "      <td>1.213740</td>\n",
              "      <td>1.217108</td>\n",
              "      <td>1.217108</td>\n",
              "      <td>0.0</td>\n",
              "    </tr>\n",
              "    <tr>\n",
              "      <th>497</th>\n",
              "      <td>518</td>\n",
              "      <td>2021-05-11</td>\n",
              "      <td>1.214211</td>\n",
              "      <td>1.217968</td>\n",
              "      <td>1.212547</td>\n",
              "      <td>1.214093</td>\n",
              "      <td>1.214093</td>\n",
              "      <td>0.0</td>\n",
              "    </tr>\n",
              "    <tr>\n",
              "      <th>498</th>\n",
              "      <td>519</td>\n",
              "      <td>2021-05-12</td>\n",
              "      <td>1.214550</td>\n",
              "      <td>1.215067</td>\n",
              "      <td>1.206811</td>\n",
              "      <td>1.214450</td>\n",
              "      <td>1.214450</td>\n",
              "      <td>0.0</td>\n",
              "    </tr>\n",
              "    <tr>\n",
              "      <th>499</th>\n",
              "      <td>520</td>\n",
              "      <td>2021-05-13</td>\n",
              "      <td>1.207686</td>\n",
              "      <td>1.210654</td>\n",
              "      <td>1.205313</td>\n",
              "      <td>1.207851</td>\n",
              "      <td>1.207851</td>\n",
              "      <td>0.0</td>\n",
              "    </tr>\n",
              "    <tr>\n",
              "      <th>500</th>\n",
              "      <td>521</td>\n",
              "      <td>2021-05-14</td>\n",
              "      <td>1.208021</td>\n",
              "      <td>1.214772</td>\n",
              "      <td>1.207146</td>\n",
              "      <td>1.207729</td>\n",
              "      <td>1.207729</td>\n",
              "      <td>0.0</td>\n",
              "    </tr>\n",
              "  </tbody>\n",
              "</table>\n",
              "<p>501 rows × 8 columns</p>\n",
              "</div>"
            ],
            "text/plain": [
              "     index        Date      Open  ...     Close  Adj Close  Volume\n",
              "0        0  2019-05-16  1.120951  ...  1.120724   1.120724     0.0\n",
              "1        1  2019-05-17  1.117481  ...  1.117356   1.117356     0.0\n",
              "2        2  2019-05-20  1.116532  ...  1.116532   1.116532     0.0\n",
              "3        3  2019-05-21  1.116944  ...  1.116857   1.116857     0.0\n",
              "4        5  2019-05-23  1.115511  ...  1.115548   1.115548     0.0\n",
              "..     ...         ...       ...  ...       ...        ...     ...\n",
              "496    517  2021-05-10  1.216752  ...  1.217108   1.217108     0.0\n",
              "497    518  2021-05-11  1.214211  ...  1.214093   1.214093     0.0\n",
              "498    519  2021-05-12  1.214550  ...  1.214450   1.214450     0.0\n",
              "499    520  2021-05-13  1.207686  ...  1.207851   1.207851     0.0\n",
              "500    521  2021-05-14  1.208021  ...  1.207729   1.207729     0.0\n",
              "\n",
              "[501 rows x 8 columns]"
            ]
          },
          "metadata": {
            "tags": []
          },
          "execution_count": 283
        }
      ]
    },
    {
      "cell_type": "code",
      "metadata": {
        "id": "iDDbrBeGci0d"
      },
      "source": [
        "df1['Date'] = pd.to_datetime(df1['Date'], errors='coerce')"
      ],
      "execution_count": 284,
      "outputs": []
    },
    {
      "cell_type": "code",
      "metadata": {
        "id": "eRwjQgzGmCBm"
      },
      "source": [
        "df1['DayOfWeek'] = df1['Date'].dt.dayofweek"
      ],
      "execution_count": 285,
      "outputs": []
    },
    {
      "cell_type": "code",
      "metadata": {
        "colab": {
          "base_uri": "https://localhost:8080/",
          "height": 266
        },
        "id": "NLF_R44LnKkY",
        "outputId": "539f2d04-f0ec-48a9-c7d1-d8d3732b49db"
      },
      "source": [
        "df1.tail(7)"
      ],
      "execution_count": 286,
      "outputs": [
        {
          "output_type": "execute_result",
          "data": {
            "text/html": [
              "<div>\n",
              "<style scoped>\n",
              "    .dataframe tbody tr th:only-of-type {\n",
              "        vertical-align: middle;\n",
              "    }\n",
              "\n",
              "    .dataframe tbody tr th {\n",
              "        vertical-align: top;\n",
              "    }\n",
              "\n",
              "    .dataframe thead th {\n",
              "        text-align: right;\n",
              "    }\n",
              "</style>\n",
              "<table border=\"1\" class=\"dataframe\">\n",
              "  <thead>\n",
              "    <tr style=\"text-align: right;\">\n",
              "      <th></th>\n",
              "      <th>index</th>\n",
              "      <th>Date</th>\n",
              "      <th>Open</th>\n",
              "      <th>High</th>\n",
              "      <th>Low</th>\n",
              "      <th>Close</th>\n",
              "      <th>Adj Close</th>\n",
              "      <th>Volume</th>\n",
              "      <th>DayOfWeek</th>\n",
              "    </tr>\n",
              "  </thead>\n",
              "  <tbody>\n",
              "    <tr>\n",
              "      <th>494</th>\n",
              "      <td>515</td>\n",
              "      <td>2021-05-06</td>\n",
              "      <td>1.200913</td>\n",
              "      <td>1.207001</td>\n",
              "      <td>1.199400</td>\n",
              "      <td>1.200797</td>\n",
              "      <td>1.200797</td>\n",
              "      <td>0.0</td>\n",
              "      <td>3</td>\n",
              "    </tr>\n",
              "    <tr>\n",
              "      <th>495</th>\n",
              "      <td>516</td>\n",
              "      <td>2021-05-07</td>\n",
              "      <td>1.206593</td>\n",
              "      <td>1.216545</td>\n",
              "      <td>1.205342</td>\n",
              "      <td>1.206855</td>\n",
              "      <td>1.206855</td>\n",
              "      <td>0.0</td>\n",
              "      <td>4</td>\n",
              "    </tr>\n",
              "    <tr>\n",
              "      <th>496</th>\n",
              "      <td>517</td>\n",
              "      <td>2021-05-10</td>\n",
              "      <td>1.216752</td>\n",
              "      <td>1.217730</td>\n",
              "      <td>1.213740</td>\n",
              "      <td>1.217108</td>\n",
              "      <td>1.217108</td>\n",
              "      <td>0.0</td>\n",
              "      <td>0</td>\n",
              "    </tr>\n",
              "    <tr>\n",
              "      <th>497</th>\n",
              "      <td>518</td>\n",
              "      <td>2021-05-11</td>\n",
              "      <td>1.214211</td>\n",
              "      <td>1.217968</td>\n",
              "      <td>1.212547</td>\n",
              "      <td>1.214093</td>\n",
              "      <td>1.214093</td>\n",
              "      <td>0.0</td>\n",
              "      <td>1</td>\n",
              "    </tr>\n",
              "    <tr>\n",
              "      <th>498</th>\n",
              "      <td>519</td>\n",
              "      <td>2021-05-12</td>\n",
              "      <td>1.214550</td>\n",
              "      <td>1.215067</td>\n",
              "      <td>1.206811</td>\n",
              "      <td>1.214450</td>\n",
              "      <td>1.214450</td>\n",
              "      <td>0.0</td>\n",
              "      <td>2</td>\n",
              "    </tr>\n",
              "    <tr>\n",
              "      <th>499</th>\n",
              "      <td>520</td>\n",
              "      <td>2021-05-13</td>\n",
              "      <td>1.207686</td>\n",
              "      <td>1.210654</td>\n",
              "      <td>1.205313</td>\n",
              "      <td>1.207851</td>\n",
              "      <td>1.207851</td>\n",
              "      <td>0.0</td>\n",
              "      <td>3</td>\n",
              "    </tr>\n",
              "    <tr>\n",
              "      <th>500</th>\n",
              "      <td>521</td>\n",
              "      <td>2021-05-14</td>\n",
              "      <td>1.208021</td>\n",
              "      <td>1.214772</td>\n",
              "      <td>1.207146</td>\n",
              "      <td>1.207729</td>\n",
              "      <td>1.207729</td>\n",
              "      <td>0.0</td>\n",
              "      <td>4</td>\n",
              "    </tr>\n",
              "  </tbody>\n",
              "</table>\n",
              "</div>"
            ],
            "text/plain": [
              "     index       Date      Open  ...  Adj Close  Volume  DayOfWeek\n",
              "494    515 2021-05-06  1.200913  ...   1.200797     0.0          3\n",
              "495    516 2021-05-07  1.206593  ...   1.206855     0.0          4\n",
              "496    517 2021-05-10  1.216752  ...   1.217108     0.0          0\n",
              "497    518 2021-05-11  1.214211  ...   1.214093     0.0          1\n",
              "498    519 2021-05-12  1.214550  ...   1.214450     0.0          2\n",
              "499    520 2021-05-13  1.207686  ...   1.207851     0.0          3\n",
              "500    521 2021-05-14  1.208021  ...   1.207729     0.0          4\n",
              "\n",
              "[7 rows x 9 columns]"
            ]
          },
          "metadata": {
            "tags": []
          },
          "execution_count": 286
        }
      ]
    },
    {
      "cell_type": "code",
      "metadata": {
        "id": "isV-KVPm_mxb"
      },
      "source": [
        "df2 = df1.drop(['High','Low', 'Adj Close', 'Volume'], axis=1)"
      ],
      "execution_count": 287,
      "outputs": []
    },
    {
      "cell_type": "code",
      "metadata": {
        "colab": {
          "base_uri": "https://localhost:8080/",
          "height": 266
        },
        "id": "BoXK3TqGAW19",
        "outputId": "3524ed2c-4610-4fec-faa2-f94e72ccd24a"
      },
      "source": [
        "df2.tail(7)"
      ],
      "execution_count": 288,
      "outputs": [
        {
          "output_type": "execute_result",
          "data": {
            "text/html": [
              "<div>\n",
              "<style scoped>\n",
              "    .dataframe tbody tr th:only-of-type {\n",
              "        vertical-align: middle;\n",
              "    }\n",
              "\n",
              "    .dataframe tbody tr th {\n",
              "        vertical-align: top;\n",
              "    }\n",
              "\n",
              "    .dataframe thead th {\n",
              "        text-align: right;\n",
              "    }\n",
              "</style>\n",
              "<table border=\"1\" class=\"dataframe\">\n",
              "  <thead>\n",
              "    <tr style=\"text-align: right;\">\n",
              "      <th></th>\n",
              "      <th>index</th>\n",
              "      <th>Date</th>\n",
              "      <th>Open</th>\n",
              "      <th>Close</th>\n",
              "      <th>DayOfWeek</th>\n",
              "    </tr>\n",
              "  </thead>\n",
              "  <tbody>\n",
              "    <tr>\n",
              "      <th>494</th>\n",
              "      <td>515</td>\n",
              "      <td>2021-05-06</td>\n",
              "      <td>1.200913</td>\n",
              "      <td>1.200797</td>\n",
              "      <td>3</td>\n",
              "    </tr>\n",
              "    <tr>\n",
              "      <th>495</th>\n",
              "      <td>516</td>\n",
              "      <td>2021-05-07</td>\n",
              "      <td>1.206593</td>\n",
              "      <td>1.206855</td>\n",
              "      <td>4</td>\n",
              "    </tr>\n",
              "    <tr>\n",
              "      <th>496</th>\n",
              "      <td>517</td>\n",
              "      <td>2021-05-10</td>\n",
              "      <td>1.216752</td>\n",
              "      <td>1.217108</td>\n",
              "      <td>0</td>\n",
              "    </tr>\n",
              "    <tr>\n",
              "      <th>497</th>\n",
              "      <td>518</td>\n",
              "      <td>2021-05-11</td>\n",
              "      <td>1.214211</td>\n",
              "      <td>1.214093</td>\n",
              "      <td>1</td>\n",
              "    </tr>\n",
              "    <tr>\n",
              "      <th>498</th>\n",
              "      <td>519</td>\n",
              "      <td>2021-05-12</td>\n",
              "      <td>1.214550</td>\n",
              "      <td>1.214450</td>\n",
              "      <td>2</td>\n",
              "    </tr>\n",
              "    <tr>\n",
              "      <th>499</th>\n",
              "      <td>520</td>\n",
              "      <td>2021-05-13</td>\n",
              "      <td>1.207686</td>\n",
              "      <td>1.207851</td>\n",
              "      <td>3</td>\n",
              "    </tr>\n",
              "    <tr>\n",
              "      <th>500</th>\n",
              "      <td>521</td>\n",
              "      <td>2021-05-14</td>\n",
              "      <td>1.208021</td>\n",
              "      <td>1.207729</td>\n",
              "      <td>4</td>\n",
              "    </tr>\n",
              "  </tbody>\n",
              "</table>\n",
              "</div>"
            ],
            "text/plain": [
              "     index       Date      Open     Close  DayOfWeek\n",
              "494    515 2021-05-06  1.200913  1.200797          3\n",
              "495    516 2021-05-07  1.206593  1.206855          4\n",
              "496    517 2021-05-10  1.216752  1.217108          0\n",
              "497    518 2021-05-11  1.214211  1.214093          1\n",
              "498    519 2021-05-12  1.214550  1.214450          2\n",
              "499    520 2021-05-13  1.207686  1.207851          3\n",
              "500    521 2021-05-14  1.208021  1.207729          4"
            ]
          },
          "metadata": {
            "tags": []
          },
          "execution_count": 288
        }
      ]
    },
    {
      "cell_type": "code",
      "metadata": {
        "id": "0mzQvzqDDFzP"
      },
      "source": [
        "df2['Close-1'] = df2['Close'].shift(1)\n",
        "df2['Open-1'] = df2['Open'].shift(1)"
      ],
      "execution_count": 289,
      "outputs": []
    },
    {
      "cell_type": "code",
      "metadata": {
        "colab": {
          "base_uri": "https://localhost:8080/",
          "height": 266
        },
        "id": "3xG50mLQDq3e",
        "outputId": "ac8eaa50-7b44-4106-fd52-a68a7cbb38d3"
      },
      "source": [
        "df2.tail(7)"
      ],
      "execution_count": 290,
      "outputs": [
        {
          "output_type": "execute_result",
          "data": {
            "text/html": [
              "<div>\n",
              "<style scoped>\n",
              "    .dataframe tbody tr th:only-of-type {\n",
              "        vertical-align: middle;\n",
              "    }\n",
              "\n",
              "    .dataframe tbody tr th {\n",
              "        vertical-align: top;\n",
              "    }\n",
              "\n",
              "    .dataframe thead th {\n",
              "        text-align: right;\n",
              "    }\n",
              "</style>\n",
              "<table border=\"1\" class=\"dataframe\">\n",
              "  <thead>\n",
              "    <tr style=\"text-align: right;\">\n",
              "      <th></th>\n",
              "      <th>index</th>\n",
              "      <th>Date</th>\n",
              "      <th>Open</th>\n",
              "      <th>Close</th>\n",
              "      <th>DayOfWeek</th>\n",
              "      <th>Close-1</th>\n",
              "      <th>Open-1</th>\n",
              "    </tr>\n",
              "  </thead>\n",
              "  <tbody>\n",
              "    <tr>\n",
              "      <th>494</th>\n",
              "      <td>515</td>\n",
              "      <td>2021-05-06</td>\n",
              "      <td>1.200913</td>\n",
              "      <td>1.200797</td>\n",
              "      <td>3</td>\n",
              "      <td>1.201504</td>\n",
              "      <td>1.201634</td>\n",
              "    </tr>\n",
              "    <tr>\n",
              "      <th>495</th>\n",
              "      <td>516</td>\n",
              "      <td>2021-05-07</td>\n",
              "      <td>1.206593</td>\n",
              "      <td>1.206855</td>\n",
              "      <td>4</td>\n",
              "      <td>1.200797</td>\n",
              "      <td>1.200913</td>\n",
              "    </tr>\n",
              "    <tr>\n",
              "      <th>496</th>\n",
              "      <td>517</td>\n",
              "      <td>2021-05-10</td>\n",
              "      <td>1.216752</td>\n",
              "      <td>1.217108</td>\n",
              "      <td>0</td>\n",
              "      <td>1.206855</td>\n",
              "      <td>1.206593</td>\n",
              "    </tr>\n",
              "    <tr>\n",
              "      <th>497</th>\n",
              "      <td>518</td>\n",
              "      <td>2021-05-11</td>\n",
              "      <td>1.214211</td>\n",
              "      <td>1.214093</td>\n",
              "      <td>1</td>\n",
              "      <td>1.217108</td>\n",
              "      <td>1.216752</td>\n",
              "    </tr>\n",
              "    <tr>\n",
              "      <th>498</th>\n",
              "      <td>519</td>\n",
              "      <td>2021-05-12</td>\n",
              "      <td>1.214550</td>\n",
              "      <td>1.214450</td>\n",
              "      <td>2</td>\n",
              "      <td>1.214093</td>\n",
              "      <td>1.214211</td>\n",
              "    </tr>\n",
              "    <tr>\n",
              "      <th>499</th>\n",
              "      <td>520</td>\n",
              "      <td>2021-05-13</td>\n",
              "      <td>1.207686</td>\n",
              "      <td>1.207851</td>\n",
              "      <td>3</td>\n",
              "      <td>1.214450</td>\n",
              "      <td>1.214550</td>\n",
              "    </tr>\n",
              "    <tr>\n",
              "      <th>500</th>\n",
              "      <td>521</td>\n",
              "      <td>2021-05-14</td>\n",
              "      <td>1.208021</td>\n",
              "      <td>1.207729</td>\n",
              "      <td>4</td>\n",
              "      <td>1.207851</td>\n",
              "      <td>1.207686</td>\n",
              "    </tr>\n",
              "  </tbody>\n",
              "</table>\n",
              "</div>"
            ],
            "text/plain": [
              "     index       Date      Open     Close  DayOfWeek   Close-1    Open-1\n",
              "494    515 2021-05-06  1.200913  1.200797          3  1.201504  1.201634\n",
              "495    516 2021-05-07  1.206593  1.206855          4  1.200797  1.200913\n",
              "496    517 2021-05-10  1.216752  1.217108          0  1.206855  1.206593\n",
              "497    518 2021-05-11  1.214211  1.214093          1  1.217108  1.216752\n",
              "498    519 2021-05-12  1.214550  1.214450          2  1.214093  1.214211\n",
              "499    520 2021-05-13  1.207686  1.207851          3  1.214450  1.214550\n",
              "500    521 2021-05-14  1.208021  1.207729          4  1.207851  1.207686"
            ]
          },
          "metadata": {
            "tags": []
          },
          "execution_count": 290
        }
      ]
    },
    {
      "cell_type": "code",
      "metadata": {
        "id": "tigVCqC3EBM4"
      },
      "source": [
        "df2['%Close'] = (df2['Close'] - df2['Close-1']) / df2['Close-1'] * 100\n",
        "df2['%Open'] = (df2['Open'] - df2['Open-1']) / df2['Open-1'] * 100"
      ],
      "execution_count": 291,
      "outputs": []
    },
    {
      "cell_type": "code",
      "metadata": {
        "id": "fH6iq8Kh1jmv"
      },
      "source": [
        "df2 = df2.drop(['Close','Close-1', '%Close'], axis=1)"
      ],
      "execution_count": 292,
      "outputs": []
    },
    {
      "cell_type": "code",
      "metadata": {
        "colab": {
          "base_uri": "https://localhost:8080/",
          "height": 266
        },
        "id": "dMsFfMIREP8Z",
        "outputId": "0333c8da-1ab9-45db-9394-3499fc41dddc"
      },
      "source": [
        "df2.head(7)"
      ],
      "execution_count": 293,
      "outputs": [
        {
          "output_type": "execute_result",
          "data": {
            "text/html": [
              "<div>\n",
              "<style scoped>\n",
              "    .dataframe tbody tr th:only-of-type {\n",
              "        vertical-align: middle;\n",
              "    }\n",
              "\n",
              "    .dataframe tbody tr th {\n",
              "        vertical-align: top;\n",
              "    }\n",
              "\n",
              "    .dataframe thead th {\n",
              "        text-align: right;\n",
              "    }\n",
              "</style>\n",
              "<table border=\"1\" class=\"dataframe\">\n",
              "  <thead>\n",
              "    <tr style=\"text-align: right;\">\n",
              "      <th></th>\n",
              "      <th>index</th>\n",
              "      <th>Date</th>\n",
              "      <th>Open</th>\n",
              "      <th>DayOfWeek</th>\n",
              "      <th>Open-1</th>\n",
              "      <th>%Open</th>\n",
              "    </tr>\n",
              "  </thead>\n",
              "  <tbody>\n",
              "    <tr>\n",
              "      <th>0</th>\n",
              "      <td>0</td>\n",
              "      <td>2019-05-16</td>\n",
              "      <td>1.120951</td>\n",
              "      <td>3</td>\n",
              "      <td>NaN</td>\n",
              "      <td>NaN</td>\n",
              "    </tr>\n",
              "    <tr>\n",
              "      <th>1</th>\n",
              "      <td>1</td>\n",
              "      <td>2019-05-17</td>\n",
              "      <td>1.117481</td>\n",
              "      <td>4</td>\n",
              "      <td>1.120951</td>\n",
              "      <td>-0.309559</td>\n",
              "    </tr>\n",
              "    <tr>\n",
              "      <th>2</th>\n",
              "      <td>2</td>\n",
              "      <td>2019-05-20</td>\n",
              "      <td>1.116532</td>\n",
              "      <td>0</td>\n",
              "      <td>1.117481</td>\n",
              "      <td>-0.084923</td>\n",
              "    </tr>\n",
              "    <tr>\n",
              "      <th>3</th>\n",
              "      <td>3</td>\n",
              "      <td>2019-05-21</td>\n",
              "      <td>1.116944</td>\n",
              "      <td>1</td>\n",
              "      <td>1.116532</td>\n",
              "      <td>0.036900</td>\n",
              "    </tr>\n",
              "    <tr>\n",
              "      <th>4</th>\n",
              "      <td>5</td>\n",
              "      <td>2019-05-23</td>\n",
              "      <td>1.115511</td>\n",
              "      <td>3</td>\n",
              "      <td>1.116944</td>\n",
              "      <td>-0.128296</td>\n",
              "    </tr>\n",
              "    <tr>\n",
              "      <th>5</th>\n",
              "      <td>6</td>\n",
              "      <td>2019-05-24</td>\n",
              "      <td>1.118381</td>\n",
              "      <td>4</td>\n",
              "      <td>1.115511</td>\n",
              "      <td>0.257281</td>\n",
              "    </tr>\n",
              "    <tr>\n",
              "      <th>6</th>\n",
              "      <td>7</td>\n",
              "      <td>2019-05-27</td>\n",
              "      <td>1.120636</td>\n",
              "      <td>0</td>\n",
              "      <td>1.118381</td>\n",
              "      <td>0.201631</td>\n",
              "    </tr>\n",
              "  </tbody>\n",
              "</table>\n",
              "</div>"
            ],
            "text/plain": [
              "   index       Date      Open  DayOfWeek    Open-1     %Open\n",
              "0      0 2019-05-16  1.120951          3       NaN       NaN\n",
              "1      1 2019-05-17  1.117481          4  1.120951 -0.309559\n",
              "2      2 2019-05-20  1.116532          0  1.117481 -0.084923\n",
              "3      3 2019-05-21  1.116944          1  1.116532  0.036900\n",
              "4      5 2019-05-23  1.115511          3  1.116944 -0.128296\n",
              "5      6 2019-05-24  1.118381          4  1.115511  0.257281\n",
              "6      7 2019-05-27  1.120636          0  1.118381  0.201631"
            ]
          },
          "metadata": {
            "tags": []
          },
          "execution_count": 293
        }
      ]
    },
    {
      "cell_type": "code",
      "metadata": {
        "id": "5zeRvw_76_rE"
      },
      "source": [
        "# take decision to buy or sell - if price = 1.167072 then buy = -1.167072 or sell = 1.167072\n",
        "def take_decision(index):\n",
        "  row = df2.loc[index]\n",
        "  return random.choice([-row['Open'], +row['Open']])"
      ],
      "execution_count": 294,
      "outputs": []
    },
    {
      "cell_type": "code",
      "metadata": {
        "id": "CfKkh7Ox_8hM"
      },
      "source": [
        "def is_guessed(index):\n",
        "  if (index < 1):\n",
        "    return True\n",
        "  return (math.copysign(1, df2.loc[index]['%Open']) != math.copysign(1, df2.loc[index - 1]['decision']))"
      ],
      "execution_count": 295,
      "outputs": []
    },
    {
      "cell_type": "code",
      "metadata": {
        "id": "XyB39IOuMNqs"
      },
      "source": [
        "def make_deal(index):\n",
        "  k = df2.loc[index, 'k'] \n",
        "  decision = df2.loc[index, 'decision'] \n",
        "  return decision * (2 ** k)"
      ],
      "execution_count": 296,
      "outputs": []
    },
    {
      "cell_type": "code",
      "metadata": {
        "id": "jsDYBIWCSCnk"
      },
      "source": [
        "def discover_trend(index):\n",
        "  if (index < 1):\n",
        "    df2.loc[index, 'trend'] = 0\n",
        "    return\n",
        "  open_curr = df2.loc[index, '%Open']\n",
        "  open_prev = df2.loc[index-1, '%Open']\n",
        "  if (math.copysign(1, open_prev) == math.copysign(1, open_curr)):\n",
        "    df2.loc[index, 'trend'] = df2.loc[index-1, 'trend'] + 1\n",
        "  else:\n",
        "    df2.loc[index, 'trend'] = 0"
      ],
      "execution_count": 297,
      "outputs": []
    },
    {
      "cell_type": "code",
      "metadata": {
        "id": "RGTHIeDi30lw"
      },
      "source": [
        "# this is a main algorithm for trading\n",
        "def trade():\n",
        "  for index, row in df2.iterrows():\n",
        "    # close previous deal\n",
        "    if index < 1:\n",
        "      df2.loc[index, 'result after close'] = 0\n",
        "    else:\n",
        "      # TODO incorrect algorithm\n",
        "      df2.loc[index, 'result after close'] = df2.loc[index - 1, 'result after close'] + \\\n",
        "        df2.loc[index - 1, 'deal'] + \\\n",
        "        (2 ** df2.loc[index - 1, 'k']) * df2.loc[index, 'Open'] * math.copysign(1, df2.loc[index - 1]['deal'])\n",
        "\n",
        "    # coefficient of deal depends on result of previous deal\n",
        "    if (is_guessed(index)):\n",
        "      k = 0\n",
        "    else:\n",
        "      k += 1\n",
        "    df2.loc[index, 'k'] = k\n",
        "\n",
        "    # take decision\n",
        "    df2.loc[index, 'decision'] = take_decision(index)\n",
        "\n",
        "    # make deal\n",
        "    df2.loc[index, 'deal'] = make_deal(index)\n",
        "\n",
        "    # open new deal\n",
        "    if (index < 1):\n",
        "      df2.loc[index, 'result'] = 0\n",
        "    else:\n",
        "      df2.loc[index, 'result'] = df2.loc[index, 'result after close'] + df2.loc[index, 'deal']\n",
        "    \n",
        "    # определяем тренд\n",
        "    discover_trend(index)"
      ],
      "execution_count": 298,
      "outputs": []
    },
    {
      "cell_type": "code",
      "metadata": {
        "id": "pkh0VmLw5ExM"
      },
      "source": [
        "trade()"
      ],
      "execution_count": 299,
      "outputs": []
    },
    {
      "cell_type": "code",
      "metadata": {
        "colab": {
          "base_uri": "https://localhost:8080/",
          "height": 979
        },
        "id": "ZpGJwchDebU4",
        "outputId": "b6d3c99d-a680-4f51-8dc9-2fb6654d2438"
      },
      "source": [
        "df2.tail(30)"
      ],
      "execution_count": 300,
      "outputs": [
        {
          "output_type": "execute_result",
          "data": {
            "text/html": [
              "<div>\n",
              "<style scoped>\n",
              "    .dataframe tbody tr th:only-of-type {\n",
              "        vertical-align: middle;\n",
              "    }\n",
              "\n",
              "    .dataframe tbody tr th {\n",
              "        vertical-align: top;\n",
              "    }\n",
              "\n",
              "    .dataframe thead th {\n",
              "        text-align: right;\n",
              "    }\n",
              "</style>\n",
              "<table border=\"1\" class=\"dataframe\">\n",
              "  <thead>\n",
              "    <tr style=\"text-align: right;\">\n",
              "      <th></th>\n",
              "      <th>index</th>\n",
              "      <th>Date</th>\n",
              "      <th>Open</th>\n",
              "      <th>DayOfWeek</th>\n",
              "      <th>Open-1</th>\n",
              "      <th>%Open</th>\n",
              "      <th>result after close</th>\n",
              "      <th>k</th>\n",
              "      <th>decision</th>\n",
              "      <th>deal</th>\n",
              "      <th>result</th>\n",
              "      <th>trend</th>\n",
              "    </tr>\n",
              "  </thead>\n",
              "  <tbody>\n",
              "    <tr>\n",
              "      <th>471</th>\n",
              "      <td>492</td>\n",
              "      <td>2021-04-05</td>\n",
              "      <td>1.176637</td>\n",
              "      <td>0</td>\n",
              "      <td>1.177773</td>\n",
              "      <td>-0.096453</td>\n",
              "      <td>-874.306495</td>\n",
              "      <td>2.0</td>\n",
              "      <td>1.176637</td>\n",
              "      <td>4.706548</td>\n",
              "      <td>-869.599947</td>\n",
              "      <td>0.0</td>\n",
              "    </tr>\n",
              "    <tr>\n",
              "      <th>472</th>\n",
              "      <td>493</td>\n",
              "      <td>2021-04-06</td>\n",
              "      <td>1.181907</td>\n",
              "      <td>1</td>\n",
              "      <td>1.176637</td>\n",
              "      <td>0.447887</td>\n",
              "      <td>-864.872319</td>\n",
              "      <td>3.0</td>\n",
              "      <td>1.181907</td>\n",
              "      <td>9.455256</td>\n",
              "      <td>-855.417063</td>\n",
              "      <td>0.0</td>\n",
              "    </tr>\n",
              "    <tr>\n",
              "      <th>473</th>\n",
              "      <td>494</td>\n",
              "      <td>2021-04-07</td>\n",
              "      <td>1.187550</td>\n",
              "      <td>2</td>\n",
              "      <td>1.181907</td>\n",
              "      <td>0.477449</td>\n",
              "      <td>-845.916663</td>\n",
              "      <td>4.0</td>\n",
              "      <td>-1.187550</td>\n",
              "      <td>-19.000800</td>\n",
              "      <td>-864.917463</td>\n",
              "      <td>1.0</td>\n",
              "    </tr>\n",
              "    <tr>\n",
              "      <th>474</th>\n",
              "      <td>495</td>\n",
              "      <td>2021-04-08</td>\n",
              "      <td>1.187197</td>\n",
              "      <td>3</td>\n",
              "      <td>1.187550</td>\n",
              "      <td>-0.029725</td>\n",
              "      <td>-883.912615</td>\n",
              "      <td>5.0</td>\n",
              "      <td>-1.187197</td>\n",
              "      <td>-37.990304</td>\n",
              "      <td>-921.902919</td>\n",
              "      <td>0.0</td>\n",
              "    </tr>\n",
              "    <tr>\n",
              "      <th>475</th>\n",
              "      <td>496</td>\n",
              "      <td>2021-04-09</td>\n",
              "      <td>1.191568</td>\n",
              "      <td>4</td>\n",
              "      <td>1.187197</td>\n",
              "      <td>0.368178</td>\n",
              "      <td>-960.033095</td>\n",
              "      <td>0.0</td>\n",
              "      <td>1.191568</td>\n",
              "      <td>1.191568</td>\n",
              "      <td>-958.841527</td>\n",
              "      <td>0.0</td>\n",
              "    </tr>\n",
              "    <tr>\n",
              "      <th>476</th>\n",
              "      <td>497</td>\n",
              "      <td>2021-04-12</td>\n",
              "      <td>1.189641</td>\n",
              "      <td>0</td>\n",
              "      <td>1.191568</td>\n",
              "      <td>-0.161720</td>\n",
              "      <td>-957.651886</td>\n",
              "      <td>0.0</td>\n",
              "      <td>-1.189641</td>\n",
              "      <td>-1.189641</td>\n",
              "      <td>-958.841527</td>\n",
              "      <td>0.0</td>\n",
              "    </tr>\n",
              "    <tr>\n",
              "      <th>477</th>\n",
              "      <td>498</td>\n",
              "      <td>2021-04-13</td>\n",
              "      <td>1.191214</td>\n",
              "      <td>1</td>\n",
              "      <td>1.189641</td>\n",
              "      <td>0.132225</td>\n",
              "      <td>-960.032741</td>\n",
              "      <td>0.0</td>\n",
              "      <td>-1.191214</td>\n",
              "      <td>-1.191214</td>\n",
              "      <td>-961.223955</td>\n",
              "      <td>0.0</td>\n",
              "    </tr>\n",
              "    <tr>\n",
              "      <th>478</th>\n",
              "      <td>499</td>\n",
              "      <td>2021-04-14</td>\n",
              "      <td>1.195743</td>\n",
              "      <td>2</td>\n",
              "      <td>1.191214</td>\n",
              "      <td>0.380200</td>\n",
              "      <td>-962.419698</td>\n",
              "      <td>0.0</td>\n",
              "      <td>-1.195743</td>\n",
              "      <td>-1.195743</td>\n",
              "      <td>-963.615441</td>\n",
              "      <td>1.0</td>\n",
              "    </tr>\n",
              "    <tr>\n",
              "      <th>479</th>\n",
              "      <td>500</td>\n",
              "      <td>2021-04-15</td>\n",
              "      <td>1.198236</td>\n",
              "      <td>3</td>\n",
              "      <td>1.195743</td>\n",
              "      <td>0.208490</td>\n",
              "      <td>-964.813677</td>\n",
              "      <td>0.0</td>\n",
              "      <td>1.198236</td>\n",
              "      <td>1.198236</td>\n",
              "      <td>-963.615441</td>\n",
              "      <td>2.0</td>\n",
              "    </tr>\n",
              "    <tr>\n",
              "      <th>480</th>\n",
              "      <td>501</td>\n",
              "      <td>2021-04-16</td>\n",
              "      <td>1.197074</td>\n",
              "      <td>4</td>\n",
              "      <td>1.198236</td>\n",
              "      <td>-0.096976</td>\n",
              "      <td>-962.418367</td>\n",
              "      <td>0.0</td>\n",
              "      <td>-1.197074</td>\n",
              "      <td>-1.197074</td>\n",
              "      <td>-963.615441</td>\n",
              "      <td>0.0</td>\n",
              "    </tr>\n",
              "    <tr>\n",
              "      <th>481</th>\n",
              "      <td>502</td>\n",
              "      <td>2021-04-19</td>\n",
              "      <td>1.196831</td>\n",
              "      <td>0</td>\n",
              "      <td>1.197074</td>\n",
              "      <td>-0.020299</td>\n",
              "      <td>-964.812272</td>\n",
              "      <td>1.0</td>\n",
              "      <td>1.196831</td>\n",
              "      <td>2.393662</td>\n",
              "      <td>-962.418610</td>\n",
              "      <td>1.0</td>\n",
              "    </tr>\n",
              "    <tr>\n",
              "      <th>482</th>\n",
              "      <td>503</td>\n",
              "      <td>2021-04-20</td>\n",
              "      <td>1.204384</td>\n",
              "      <td>1</td>\n",
              "      <td>1.196831</td>\n",
              "      <td>0.631083</td>\n",
              "      <td>-960.009842</td>\n",
              "      <td>2.0</td>\n",
              "      <td>1.204384</td>\n",
              "      <td>4.817536</td>\n",
              "      <td>-955.192306</td>\n",
              "      <td>0.0</td>\n",
              "    </tr>\n",
              "    <tr>\n",
              "      <th>483</th>\n",
              "      <td>504</td>\n",
              "      <td>2021-04-21</td>\n",
              "      <td>1.203254</td>\n",
              "      <td>2</td>\n",
              "      <td>1.204384</td>\n",
              "      <td>-0.093824</td>\n",
              "      <td>-950.379290</td>\n",
              "      <td>0.0</td>\n",
              "      <td>-1.203254</td>\n",
              "      <td>-1.203254</td>\n",
              "      <td>-951.582544</td>\n",
              "      <td>0.0</td>\n",
              "    </tr>\n",
              "    <tr>\n",
              "      <th>484</th>\n",
              "      <td>505</td>\n",
              "      <td>2021-04-22</td>\n",
              "      <td>1.203818</td>\n",
              "      <td>3</td>\n",
              "      <td>1.203254</td>\n",
              "      <td>0.046873</td>\n",
              "      <td>-952.786362</td>\n",
              "      <td>0.0</td>\n",
              "      <td>1.203818</td>\n",
              "      <td>1.203818</td>\n",
              "      <td>-951.582544</td>\n",
              "      <td>0.0</td>\n",
              "    </tr>\n",
              "    <tr>\n",
              "      <th>485</th>\n",
              "      <td>506</td>\n",
              "      <td>2021-04-23</td>\n",
              "      <td>1.201793</td>\n",
              "      <td>4</td>\n",
              "      <td>1.203818</td>\n",
              "      <td>-0.168215</td>\n",
              "      <td>-950.380751</td>\n",
              "      <td>0.0</td>\n",
              "      <td>1.201793</td>\n",
              "      <td>1.201793</td>\n",
              "      <td>-949.178958</td>\n",
              "      <td>0.0</td>\n",
              "    </tr>\n",
              "    <tr>\n",
              "      <th>486</th>\n",
              "      <td>507</td>\n",
              "      <td>2021-04-26</td>\n",
              "      <td>1.208956</td>\n",
              "      <td>0</td>\n",
              "      <td>1.201793</td>\n",
              "      <td>0.596026</td>\n",
              "      <td>-947.970002</td>\n",
              "      <td>1.0</td>\n",
              "      <td>-1.208956</td>\n",
              "      <td>-2.417912</td>\n",
              "      <td>-950.387914</td>\n",
              "      <td>0.0</td>\n",
              "    </tr>\n",
              "    <tr>\n",
              "      <th>487</th>\n",
              "      <td>508</td>\n",
              "      <td>2021-04-27</td>\n",
              "      <td>1.207921</td>\n",
              "      <td>1</td>\n",
              "      <td>1.208956</td>\n",
              "      <td>-0.085611</td>\n",
              "      <td>-952.803756</td>\n",
              "      <td>2.0</td>\n",
              "      <td>-1.207921</td>\n",
              "      <td>-4.831684</td>\n",
              "      <td>-957.635440</td>\n",
              "      <td>0.0</td>\n",
              "    </tr>\n",
              "    <tr>\n",
              "      <th>488</th>\n",
              "      <td>509</td>\n",
              "      <td>2021-04-28</td>\n",
              "      <td>1.208854</td>\n",
              "      <td>2</td>\n",
              "      <td>1.207921</td>\n",
              "      <td>0.077240</td>\n",
              "      <td>-962.470856</td>\n",
              "      <td>0.0</td>\n",
              "      <td>-1.208854</td>\n",
              "      <td>-1.208854</td>\n",
              "      <td>-963.679710</td>\n",
              "      <td>0.0</td>\n",
              "    </tr>\n",
              "    <tr>\n",
              "      <th>489</th>\n",
              "      <td>510</td>\n",
              "      <td>2021-04-29</td>\n",
              "      <td>1.213578</td>\n",
              "      <td>3</td>\n",
              "      <td>1.208854</td>\n",
              "      <td>0.390783</td>\n",
              "      <td>-964.893288</td>\n",
              "      <td>0.0</td>\n",
              "      <td>1.213578</td>\n",
              "      <td>1.213578</td>\n",
              "      <td>-963.679710</td>\n",
              "      <td>1.0</td>\n",
              "    </tr>\n",
              "    <tr>\n",
              "      <th>490</th>\n",
              "      <td>511</td>\n",
              "      <td>2021-04-30</td>\n",
              "      <td>1.212489</td>\n",
              "      <td>4</td>\n",
              "      <td>1.213578</td>\n",
              "      <td>-0.089735</td>\n",
              "      <td>-962.467221</td>\n",
              "      <td>0.0</td>\n",
              "      <td>-1.212489</td>\n",
              "      <td>-1.212489</td>\n",
              "      <td>-963.679710</td>\n",
              "      <td>0.0</td>\n",
              "    </tr>\n",
              "    <tr>\n",
              "      <th>491</th>\n",
              "      <td>512</td>\n",
              "      <td>2021-05-03</td>\n",
              "      <td>1.202646</td>\n",
              "      <td>0</td>\n",
              "      <td>1.212489</td>\n",
              "      <td>-0.811801</td>\n",
              "      <td>-964.882356</td>\n",
              "      <td>1.0</td>\n",
              "      <td>1.202646</td>\n",
              "      <td>2.405292</td>\n",
              "      <td>-962.477064</td>\n",
              "      <td>1.0</td>\n",
              "    </tr>\n",
              "    <tr>\n",
              "      <th>492</th>\n",
              "      <td>513</td>\n",
              "      <td>2021-05-04</td>\n",
              "      <td>1.205982</td>\n",
              "      <td>1</td>\n",
              "      <td>1.202646</td>\n",
              "      <td>0.277388</td>\n",
              "      <td>-960.065100</td>\n",
              "      <td>2.0</td>\n",
              "      <td>1.205982</td>\n",
              "      <td>4.823928</td>\n",
              "      <td>-955.241172</td>\n",
              "      <td>0.0</td>\n",
              "    </tr>\n",
              "    <tr>\n",
              "      <th>493</th>\n",
              "      <td>514</td>\n",
              "      <td>2021-05-05</td>\n",
              "      <td>1.201634</td>\n",
              "      <td>2</td>\n",
              "      <td>1.205982</td>\n",
              "      <td>-0.360536</td>\n",
              "      <td>-950.434636</td>\n",
              "      <td>0.0</td>\n",
              "      <td>1.201634</td>\n",
              "      <td>1.201634</td>\n",
              "      <td>-949.233002</td>\n",
              "      <td>0.0</td>\n",
              "    </tr>\n",
              "    <tr>\n",
              "      <th>494</th>\n",
              "      <td>515</td>\n",
              "      <td>2021-05-06</td>\n",
              "      <td>1.200913</td>\n",
              "      <td>3</td>\n",
              "      <td>1.201634</td>\n",
              "      <td>-0.060002</td>\n",
              "      <td>-948.032089</td>\n",
              "      <td>0.0</td>\n",
              "      <td>-1.200913</td>\n",
              "      <td>-1.200913</td>\n",
              "      <td>-949.233002</td>\n",
              "      <td>1.0</td>\n",
              "    </tr>\n",
              "    <tr>\n",
              "      <th>495</th>\n",
              "      <td>516</td>\n",
              "      <td>2021-05-07</td>\n",
              "      <td>1.206593</td>\n",
              "      <td>4</td>\n",
              "      <td>1.200913</td>\n",
              "      <td>0.472973</td>\n",
              "      <td>-950.439595</td>\n",
              "      <td>0.0</td>\n",
              "      <td>1.206593</td>\n",
              "      <td>1.206593</td>\n",
              "      <td>-949.233002</td>\n",
              "      <td>0.0</td>\n",
              "    </tr>\n",
              "    <tr>\n",
              "      <th>496</th>\n",
              "      <td>517</td>\n",
              "      <td>2021-05-10</td>\n",
              "      <td>1.216752</td>\n",
              "      <td>0</td>\n",
              "      <td>1.206593</td>\n",
              "      <td>0.841957</td>\n",
              "      <td>-948.016250</td>\n",
              "      <td>1.0</td>\n",
              "      <td>1.216752</td>\n",
              "      <td>2.433504</td>\n",
              "      <td>-945.582746</td>\n",
              "      <td>1.0</td>\n",
              "    </tr>\n",
              "    <tr>\n",
              "      <th>497</th>\n",
              "      <td>518</td>\n",
              "      <td>2021-05-11</td>\n",
              "      <td>1.214211</td>\n",
              "      <td>1</td>\n",
              "      <td>1.216752</td>\n",
              "      <td>-0.208835</td>\n",
              "      <td>-943.154324</td>\n",
              "      <td>0.0</td>\n",
              "      <td>-1.214211</td>\n",
              "      <td>-1.214211</td>\n",
              "      <td>-944.368535</td>\n",
              "      <td>0.0</td>\n",
              "    </tr>\n",
              "    <tr>\n",
              "      <th>498</th>\n",
              "      <td>519</td>\n",
              "      <td>2021-05-12</td>\n",
              "      <td>1.214550</td>\n",
              "      <td>2</td>\n",
              "      <td>1.214211</td>\n",
              "      <td>0.027919</td>\n",
              "      <td>-945.583085</td>\n",
              "      <td>0.0</td>\n",
              "      <td>-1.214550</td>\n",
              "      <td>-1.214550</td>\n",
              "      <td>-946.797635</td>\n",
              "      <td>0.0</td>\n",
              "    </tr>\n",
              "    <tr>\n",
              "      <th>499</th>\n",
              "      <td>520</td>\n",
              "      <td>2021-05-13</td>\n",
              "      <td>1.207686</td>\n",
              "      <td>3</td>\n",
              "      <td>1.214550</td>\n",
              "      <td>-0.565148</td>\n",
              "      <td>-948.005321</td>\n",
              "      <td>1.0</td>\n",
              "      <td>-1.207686</td>\n",
              "      <td>-2.415372</td>\n",
              "      <td>-950.420693</td>\n",
              "      <td>0.0</td>\n",
              "    </tr>\n",
              "    <tr>\n",
              "      <th>500</th>\n",
              "      <td>521</td>\n",
              "      <td>2021-05-14</td>\n",
              "      <td>1.208021</td>\n",
              "      <td>4</td>\n",
              "      <td>1.207686</td>\n",
              "      <td>0.027739</td>\n",
              "      <td>-952.836735</td>\n",
              "      <td>0.0</td>\n",
              "      <td>1.208021</td>\n",
              "      <td>1.208021</td>\n",
              "      <td>-951.628714</td>\n",
              "      <td>0.0</td>\n",
              "    </tr>\n",
              "  </tbody>\n",
              "</table>\n",
              "</div>"
            ],
            "text/plain": [
              "     index       Date      Open  ...       deal      result  trend\n",
              "471    492 2021-04-05  1.176637  ...   4.706548 -869.599947    0.0\n",
              "472    493 2021-04-06  1.181907  ...   9.455256 -855.417063    0.0\n",
              "473    494 2021-04-07  1.187550  ... -19.000800 -864.917463    1.0\n",
              "474    495 2021-04-08  1.187197  ... -37.990304 -921.902919    0.0\n",
              "475    496 2021-04-09  1.191568  ...   1.191568 -958.841527    0.0\n",
              "476    497 2021-04-12  1.189641  ...  -1.189641 -958.841527    0.0\n",
              "477    498 2021-04-13  1.191214  ...  -1.191214 -961.223955    0.0\n",
              "478    499 2021-04-14  1.195743  ...  -1.195743 -963.615441    1.0\n",
              "479    500 2021-04-15  1.198236  ...   1.198236 -963.615441    2.0\n",
              "480    501 2021-04-16  1.197074  ...  -1.197074 -963.615441    0.0\n",
              "481    502 2021-04-19  1.196831  ...   2.393662 -962.418610    1.0\n",
              "482    503 2021-04-20  1.204384  ...   4.817536 -955.192306    0.0\n",
              "483    504 2021-04-21  1.203254  ...  -1.203254 -951.582544    0.0\n",
              "484    505 2021-04-22  1.203818  ...   1.203818 -951.582544    0.0\n",
              "485    506 2021-04-23  1.201793  ...   1.201793 -949.178958    0.0\n",
              "486    507 2021-04-26  1.208956  ...  -2.417912 -950.387914    0.0\n",
              "487    508 2021-04-27  1.207921  ...  -4.831684 -957.635440    0.0\n",
              "488    509 2021-04-28  1.208854  ...  -1.208854 -963.679710    0.0\n",
              "489    510 2021-04-29  1.213578  ...   1.213578 -963.679710    1.0\n",
              "490    511 2021-04-30  1.212489  ...  -1.212489 -963.679710    0.0\n",
              "491    512 2021-05-03  1.202646  ...   2.405292 -962.477064    1.0\n",
              "492    513 2021-05-04  1.205982  ...   4.823928 -955.241172    0.0\n",
              "493    514 2021-05-05  1.201634  ...   1.201634 -949.233002    0.0\n",
              "494    515 2021-05-06  1.200913  ...  -1.200913 -949.233002    1.0\n",
              "495    516 2021-05-07  1.206593  ...   1.206593 -949.233002    0.0\n",
              "496    517 2021-05-10  1.216752  ...   2.433504 -945.582746    1.0\n",
              "497    518 2021-05-11  1.214211  ...  -1.214211 -944.368535    0.0\n",
              "498    519 2021-05-12  1.214550  ...  -1.214550 -946.797635    0.0\n",
              "499    520 2021-05-13  1.207686  ...  -2.415372 -950.420693    0.0\n",
              "500    521 2021-05-14  1.208021  ...   1.208021 -951.628714    0.0\n",
              "\n",
              "[30 rows x 12 columns]"
            ]
          },
          "metadata": {
            "tags": []
          },
          "execution_count": 300
        }
      ]
    },
    {
      "cell_type": "code",
      "metadata": {
        "colab": {
          "base_uri": "https://localhost:8080/",
          "height": 297
        },
        "id": "CbNlYfbMQL5H",
        "outputId": "88610798-7d28-4b61-e5a8-b89650333d8f"
      },
      "source": [
        "df2.describe()"
      ],
      "execution_count": 301,
      "outputs": [
        {
          "output_type": "execute_result",
          "data": {
            "text/html": [
              "<div>\n",
              "<style scoped>\n",
              "    .dataframe tbody tr th:only-of-type {\n",
              "        vertical-align: middle;\n",
              "    }\n",
              "\n",
              "    .dataframe tbody tr th {\n",
              "        vertical-align: top;\n",
              "    }\n",
              "\n",
              "    .dataframe thead th {\n",
              "        text-align: right;\n",
              "    }\n",
              "</style>\n",
              "<table border=\"1\" class=\"dataframe\">\n",
              "  <thead>\n",
              "    <tr style=\"text-align: right;\">\n",
              "      <th></th>\n",
              "      <th>index</th>\n",
              "      <th>Open</th>\n",
              "      <th>DayOfWeek</th>\n",
              "      <th>Open-1</th>\n",
              "      <th>%Open</th>\n",
              "      <th>result after close</th>\n",
              "      <th>k</th>\n",
              "      <th>decision</th>\n",
              "      <th>deal</th>\n",
              "      <th>result</th>\n",
              "      <th>trend</th>\n",
              "    </tr>\n",
              "  </thead>\n",
              "  <tbody>\n",
              "    <tr>\n",
              "      <th>count</th>\n",
              "      <td>501.000000</td>\n",
              "      <td>501.000000</td>\n",
              "      <td>501.000000</td>\n",
              "      <td>500.000000</td>\n",
              "      <td>500.000000</td>\n",
              "      <td>501.000000</td>\n",
              "      <td>501.000000</td>\n",
              "      <td>501.000000</td>\n",
              "      <td>501.000000</td>\n",
              "      <td>501.000000</td>\n",
              "      <td>501.000000</td>\n",
              "    </tr>\n",
              "    <tr>\n",
              "      <th>mean</th>\n",
              "      <td>267.676647</td>\n",
              "      <td>1.145884</td>\n",
              "      <td>2.003992</td>\n",
              "      <td>1.145760</td>\n",
              "      <td>0.015799</td>\n",
              "      <td>-330.618547</td>\n",
              "      <td>1.221557</td>\n",
              "      <td>0.020684</td>\n",
              "      <td>-0.956228</td>\n",
              "      <td>-331.572537</td>\n",
              "      <td>1.057884</td>\n",
              "    </tr>\n",
              "    <tr>\n",
              "      <th>std</th>\n",
              "      <td>149.688233</td>\n",
              "      <td>0.044914</td>\n",
              "      <td>1.418444</td>\n",
              "      <td>0.044873</td>\n",
              "      <td>0.409308</td>\n",
              "      <td>713.965825</td>\n",
              "      <td>1.709039</td>\n",
              "      <td>1.147721</td>\n",
              "      <td>91.086693</td>\n",
              "      <td>708.328957</td>\n",
              "      <td>1.385151</td>\n",
              "    </tr>\n",
              "    <tr>\n",
              "      <th>min</th>\n",
              "      <td>0.000000</td>\n",
              "      <td>1.065848</td>\n",
              "      <td>0.000000</td>\n",
              "      <td>1.065848</td>\n",
              "      <td>-2.603845</td>\n",
              "      <td>-1623.025943</td>\n",
              "      <td>0.000000</td>\n",
              "      <td>-1.226873</td>\n",
              "      <td>-1241.227264</td>\n",
              "      <td>-1033.986625</td>\n",
              "      <td>0.000000</td>\n",
              "    </tr>\n",
              "    <tr>\n",
              "      <th>25%</th>\n",
              "      <td>146.000000</td>\n",
              "      <td>1.108906</td>\n",
              "      <td>1.000000</td>\n",
              "      <td>1.108826</td>\n",
              "      <td>-0.239276</td>\n",
              "      <td>-957.340436</td>\n",
              "      <td>0.000000</td>\n",
              "      <td>-1.126126</td>\n",
              "      <td>-2.211068</td>\n",
              "      <td>-955.798151</td>\n",
              "      <td>0.000000</td>\n",
              "    </tr>\n",
              "    <tr>\n",
              "      <th>50%</th>\n",
              "      <td>271.000000</td>\n",
              "      <td>1.127714</td>\n",
              "      <td>2.000000</td>\n",
              "      <td>1.127631</td>\n",
              "      <td>0.017797</td>\n",
              "      <td>-811.446094</td>\n",
              "      <td>1.000000</td>\n",
              "      <td>1.078772</td>\n",
              "      <td>1.080684</td>\n",
              "      <td>-812.623326</td>\n",
              "      <td>1.000000</td>\n",
              "    </tr>\n",
              "    <tr>\n",
              "      <th>75%</th>\n",
              "      <td>396.000000</td>\n",
              "      <td>1.186437</td>\n",
              "      <td>3.000000</td>\n",
              "      <td>1.186088</td>\n",
              "      <td>0.265484</td>\n",
              "      <td>75.463596</td>\n",
              "      <td>2.000000</td>\n",
              "      <td>1.130876</td>\n",
              "      <td>2.203372</td>\n",
              "      <td>76.482282</td>\n",
              "      <td>2.000000</td>\n",
              "    </tr>\n",
              "    <tr>\n",
              "      <th>max</th>\n",
              "      <td>521.000000</td>\n",
              "      <td>1.233776</td>\n",
              "      <td>4.000000</td>\n",
              "      <td>1.233776</td>\n",
              "      <td>1.456985</td>\n",
              "      <td>1683.230777</td>\n",
              "      <td>10.000000</td>\n",
              "      <td>1.233776</td>\n",
              "      <td>1208.230912</td>\n",
              "      <td>1062.617145</td>\n",
              "      <td>7.000000</td>\n",
              "    </tr>\n",
              "  </tbody>\n",
              "</table>\n",
              "</div>"
            ],
            "text/plain": [
              "            index        Open   DayOfWeek  ...         deal       result       trend\n",
              "count  501.000000  501.000000  501.000000  ...   501.000000   501.000000  501.000000\n",
              "mean   267.676647    1.145884    2.003992  ...    -0.956228  -331.572537    1.057884\n",
              "std    149.688233    0.044914    1.418444  ...    91.086693   708.328957    1.385151\n",
              "min      0.000000    1.065848    0.000000  ... -1241.227264 -1033.986625    0.000000\n",
              "25%    146.000000    1.108906    1.000000  ...    -2.211068  -955.798151    0.000000\n",
              "50%    271.000000    1.127714    2.000000  ...     1.080684  -812.623326    1.000000\n",
              "75%    396.000000    1.186437    3.000000  ...     2.203372    76.482282    2.000000\n",
              "max    521.000000    1.233776    4.000000  ...  1208.230912  1062.617145    7.000000\n",
              "\n",
              "[8 rows x 11 columns]"
            ]
          },
          "metadata": {
            "tags": []
          },
          "execution_count": 301
        }
      ]
    },
    {
      "cell_type": "code",
      "metadata": {
        "colab": {
          "base_uri": "https://localhost:8080/",
          "height": 294
        },
        "id": "mSwauWOFqE1f",
        "outputId": "c003fcbc-266a-4a04-9c49-b5b880e1df19"
      },
      "source": [
        "df2.plot('Date', 'result')"
      ],
      "execution_count": 302,
      "outputs": [
        {
          "output_type": "execute_result",
          "data": {
            "text/plain": [
              "<matplotlib.axes._subplots.AxesSubplot at 0x7f7cc8eddb50>"
            ]
          },
          "metadata": {
            "tags": []
          },
          "execution_count": 302
        },
        {
          "output_type": "display_data",
          "data": {
            "image/png": "[encoded data removed]",
            "text/plain": [
              "<Figure size 432x288 with 1 Axes>"
            ]
          },
          "metadata": {
            "tags": [],
            "needs_background": "light"
          }
        }
      ]
    },
    {
      "cell_type": "code",
      "metadata": {
        "colab": {
          "base_uri": "https://localhost:8080/",
          "height": 337
        },
        "id": "vg3bekGdfaCw",
        "outputId": "3f1c9d6a-7345-40dd-d4e8-94323f522287"
      },
      "source": [
        "plt.figure(figsize=(20,5))\n",
        "plt.plot(df2['Date'], df2['result'])"
      ],
      "execution_count": 303,
      "outputs": [
        {
          "output_type": "execute_result",
          "data": {
            "text/plain": [
              "[<matplotlib.lines.Line2D at 0x7f7cc8ccaa90>]"
            ]
          },
          "metadata": {
            "tags": []
          },
          "execution_count": 303
        },
        {
          "output_type": "display_data",
          "data": {
            "image/png": "[encoded data removed]",
            "text/plain": [
              "<Figure size 1440x360 with 1 Axes>"
            ]
          },
          "metadata": {
            "tags": [],
            "needs_background": "light"
          }
        }
      ]
    },
    {
      "cell_type": "code",
      "metadata": {
        "colab": {
          "base_uri": "https://localhost:8080/",
          "height": 337
        },
        "id": "npHoHVlniPlh",
        "outputId": "1d604e7a-1c14-46a1-a6f0-00b5635544c3"
      },
      "source": [
        "plt.figure(figsize=(20,5))\n",
        "plt.plot(df2['Date'], df2['k'])"
      ],
      "execution_count": 304,
      "outputs": [
        {
          "output_type": "execute_result",
          "data": {
            "text/plain": [
              "[<matplotlib.lines.Line2D at 0x7f7cc8cab950>]"
            ]
          },
          "metadata": {
            "tags": []
          },
          "execution_count": 304
        },
        {
          "output_type": "display_data",
          "data": {
            "image/png": "[encoded data removed]",
            "text/plain": [
              "<Figure size 1440x360 with 1 Axes>"
            ]
          },
          "metadata": {
            "tags": [],
            "needs_background": "light"
          }
        }
      ]
    }
  ]
}