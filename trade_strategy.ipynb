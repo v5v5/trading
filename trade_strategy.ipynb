{
  "nbformat": 4,
  "nbformat_minor": 0,
  "metadata": {
    "colab": {
      "name": "trade-strategy.ipynb",
      "provenance": [],
      "collapsed_sections": [],
      "authorship_tag": "ABX9TyPe23XBNoyfwdpOgrkmNpoJ",
      "include_colab_link": true
    },
    "kernelspec": {
      "name": "python3",
      "display_name": "Python 3"
    },
    "language_info": {
      "name": "python"
    }
  },
  "cells": [
    {
      "cell_type": "markdown",
      "metadata": {
        "id": "view-in-github",
        "colab_type": "text"
      },
      "source": [
        "<a href=\"https://colab.research.google.com/github/v5v5/trading/blob/main/trade_strategy.ipynb\" target=\"_parent\"><img src=\"https://colab.research.google.com/assets/colab-badge.svg\" alt=\"Open In Colab\"/></a>"
      ]
    },
    {
      "cell_type": "markdown",
      "metadata": {
        "id": "HowU-l69T-Yb"
      },
      "source": [
        "URL to download quotes EURUSD\n",
        "\n",
        "http://export.finam.ru/EURUSD_210101_210425.csv?market=1&em=175924&code=EURUSD&apply=0&df=1&mf=1&yf=2021&from=01.01.2021&dt=25&mt=4&yt=2021&to=25.04.2021&p=8&f=EURUSD_210101_210425&e=.csv&cn=EURUSD&dtf=1&tmf=1&MSOR=0&mstime=on&mstimever=1&sep=3&sep2=1&datf=1&at=1"
      ]
    },
    {
      "cell_type": "code",
      "metadata": {
        "id": "pkKl4XBGVNGL"
      },
      "source": [
        "import pandas as pd\n",
        "import urllib.request\n",
        "from io import StringIO"
      ],
      "execution_count": 15,
      "outputs": []
    },
    {
      "cell_type": "code",
      "metadata": {
        "id": "5uSN1fAdT9pQ"
      },
      "source": [
        "url = 'http://export.finam.ru/EURUSD_210101_210425.csv?market=1&em=175924&code=EURUSD&apply=0&df=1&mf=1&yf=2021&from=01.01.2021&dt=25&mt=4&yt=2021&to=25.04.2021&p=8&f=EURUSD_210101_210425&e=.csv&cn=EURUSD&dtf=1&tmf=1&MSOR=0&mstime=on&mstimever=1&sep=3&sep2=1&datf=1&at=1'\n"
      ],
      "execution_count": 16,
      "outputs": []
    },
    {
      "cell_type": "code",
      "metadata": {
        "id": "5KvntWHZg8CO"
      },
      "source": [
        "page = urllib.request.urlopen(url)\n",
        "content = page.read()"
      ],
      "execution_count": 17,
      "outputs": []
    },
    {
      "cell_type": "code",
      "metadata": {
        "id": "MrUfRSxZp4Y9"
      },
      "source": [
        "text = content.decode('UTF-8')"
      ],
      "execution_count": 18,
      "outputs": []
    },
    {
      "cell_type": "code",
      "metadata": {
        "colab": {
          "base_uri": "https://localhost:8080/"
        },
        "id": "HIutb2KOhWlP",
        "outputId": "cff79420-62bd-4a83-9e1b-ebcc356d0a96"
      },
      "source": [
        "print(text[:500])"
      ],
      "execution_count": 19,
      "outputs": [
        {
          "output_type": "stream",
          "text": [
            "<TICKER>;<PER>;<DATE>;<TIME>;<OPEN>;<HIGH>;<LOW>;<CLOSE>;<VOL>\r\n",
            "EURUSD;D;20210201;000000;1690.5000000;1778.0000000;1671.8000000;1746.5000000;5472389\r\n",
            "EURUSD;D;20210202;000000;1739.9000000;1739.9000000;1693.2000000;1712.0000000;2314296\r\n",
            "EURUSD;D;20210203;000000;1713.2000000;1739.0000000;1695.0000000;1707.0000000;1214799\r\n",
            "EURUSD;D;20210204;000000;1694.9000000;1702.3000000;1640.1000000;1670.8000000;2473501\r\n",
            "EURUSD;D;20210205;000000;1667.4000000;1681.2000000;1653.4000000;1675.0000000;1504035\r\n",
            "EURUSD\n"
          ],
          "name": "stdout"
        }
      ]
    },
    {
      "cell_type": "code",
      "metadata": {
        "id": "nyxhqBhKpBel"
      },
      "source": [
        "data = StringIO(text)"
      ],
      "execution_count": 20,
      "outputs": []
    },
    {
      "cell_type": "code",
      "metadata": {
        "id": "tso_dYdOVny7"
      },
      "source": [
        "df1 = pd.read_csv(data, sep=';', header='infer')"
      ],
      "execution_count": 21,
      "outputs": []
    },
    {
      "cell_type": "code",
      "metadata": {
        "colab": {
          "base_uri": "https://localhost:8080/",
          "height": 204
        },
        "id": "HSfrec0tWuMc",
        "outputId": "25677558-d2ea-4f49-b8bc-13210de2392b"
      },
      "source": [
        "df1.head()"
      ],
      "execution_count": 22,
      "outputs": [
        {
          "output_type": "execute_result",
          "data": {
            "text/html": [
              "<div>\n",
              "<style scoped>\n",
              "    .dataframe tbody tr th:only-of-type {\n",
              "        vertical-align: middle;\n",
              "    }\n",
              "\n",
              "    .dataframe tbody tr th {\n",
              "        vertical-align: top;\n",
              "    }\n",
              "\n",
              "    .dataframe thead th {\n",
              "        text-align: right;\n",
              "    }\n",
              "</style>\n",
              "<table border=\"1\" class=\"dataframe\">\n",
              "  <thead>\n",
              "    <tr style=\"text-align: right;\">\n",
              "      <th></th>\n",
              "      <th>&lt;TICKER&gt;</th>\n",
              "      <th>&lt;PER&gt;</th>\n",
              "      <th>&lt;DATE&gt;</th>\n",
              "      <th>&lt;TIME&gt;</th>\n",
              "      <th>&lt;OPEN&gt;</th>\n",
              "      <th>&lt;HIGH&gt;</th>\n",
              "      <th>&lt;LOW&gt;</th>\n",
              "      <th>&lt;CLOSE&gt;</th>\n",
              "      <th>&lt;VOL&gt;</th>\n",
              "    </tr>\n",
              "  </thead>\n",
              "  <tbody>\n",
              "    <tr>\n",
              "      <th>0</th>\n",
              "      <td>EURUSD</td>\n",
              "      <td>D</td>\n",
              "      <td>20210201</td>\n",
              "      <td>0</td>\n",
              "      <td>1690.5</td>\n",
              "      <td>1778.0</td>\n",
              "      <td>1671.8</td>\n",
              "      <td>1746.5</td>\n",
              "      <td>5472389</td>\n",
              "    </tr>\n",
              "    <tr>\n",
              "      <th>1</th>\n",
              "      <td>EURUSD</td>\n",
              "      <td>D</td>\n",
              "      <td>20210202</td>\n",
              "      <td>0</td>\n",
              "      <td>1739.9</td>\n",
              "      <td>1739.9</td>\n",
              "      <td>1693.2</td>\n",
              "      <td>1712.0</td>\n",
              "      <td>2314296</td>\n",
              "    </tr>\n",
              "    <tr>\n",
              "      <th>2</th>\n",
              "      <td>EURUSD</td>\n",
              "      <td>D</td>\n",
              "      <td>20210203</td>\n",
              "      <td>0</td>\n",
              "      <td>1713.2</td>\n",
              "      <td>1739.0</td>\n",
              "      <td>1695.0</td>\n",
              "      <td>1707.0</td>\n",
              "      <td>1214799</td>\n",
              "    </tr>\n",
              "    <tr>\n",
              "      <th>3</th>\n",
              "      <td>EURUSD</td>\n",
              "      <td>D</td>\n",
              "      <td>20210204</td>\n",
              "      <td>0</td>\n",
              "      <td>1694.9</td>\n",
              "      <td>1702.3</td>\n",
              "      <td>1640.1</td>\n",
              "      <td>1670.8</td>\n",
              "      <td>2473501</td>\n",
              "    </tr>\n",
              "    <tr>\n",
              "      <th>4</th>\n",
              "      <td>EURUSD</td>\n",
              "      <td>D</td>\n",
              "      <td>20210205</td>\n",
              "      <td>0</td>\n",
              "      <td>1667.4</td>\n",
              "      <td>1681.2</td>\n",
              "      <td>1653.4</td>\n",
              "      <td>1675.0</td>\n",
              "      <td>1504035</td>\n",
              "    </tr>\n",
              "  </tbody>\n",
              "</table>\n",
              "</div>"
            ],
            "text/plain": [
              "  <TICKER> <PER>    <DATE>  <TIME>  <OPEN>  <HIGH>   <LOW>  <CLOSE>    <VOL>\n",
              "0   EURUSD     D  20210201       0  1690.5  1778.0  1671.8   1746.5  5472389\n",
              "1   EURUSD     D  20210202       0  1739.9  1739.9  1693.2   1712.0  2314296\n",
              "2   EURUSD     D  20210203       0  1713.2  1739.0  1695.0   1707.0  1214799\n",
              "3   EURUSD     D  20210204       0  1694.9  1702.3  1640.1   1670.8  2473501\n",
              "4   EURUSD     D  20210205       0  1667.4  1681.2  1653.4   1675.0  1504035"
            ]
          },
          "metadata": {
            "tags": []
          },
          "execution_count": 22
        }
      ]
    }
  ]
}