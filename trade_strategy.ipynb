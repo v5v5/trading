{
  "nbformat": 4,
  "nbformat_minor": 0,
  "metadata": {
    "colab": {
      "name": "trade-strategy.ipynb",
      "provenance": [],
      "collapsed_sections": [],
      "authorship_tag": "ABX9TyNxI9im7KKVVOOB2wTK/jEK",
      "include_colab_link": true
    },
    "kernelspec": {
      "name": "python3",
      "display_name": "Python 3"
    },
    "language_info": {
      "name": "python"
    }
  },
  "cells": [
    {
      "cell_type": "markdown",
      "metadata": {
        "id": "view-in-github",
        "colab_type": "text"
      },
      "source": [
        "<a href=\"https://colab.research.google.com/github/v5v5/trading/blob/main/trade_strategy.ipynb\" target=\"_parent\"><img src=\"https://colab.research.google.com/assets/colab-badge.svg\" alt=\"Open In Colab\"/></a>"
      ]
    },
    {
      "cell_type": "markdown",
      "metadata": {
        "id": "HowU-l69T-Yb"
      },
      "source": [
        "URL to download quotes EURUSD\n",
        "\n",
        "https://query1.finance.yahoo.com/v7/finance/download/EURUSD=X?period1=1262304000&period2=1619654400&interval=1d&events=history&includeAdjustedClose=true"
      ]
    },
    {
      "cell_type": "code",
      "metadata": {
        "id": "pkKl4XBGVNGL"
      },
      "source": [
        "import pandas as pd\n",
        "from urllib.request import Request, urlopen\n",
        "from io import StringIO\n",
        "import datetime\n",
        "from dateutil.relativedelta import relativedelta\n",
        "import time\n",
        "import random\n",
        "import math\n",
        "import matplotlib.pyplot as plt"
      ],
      "execution_count": 1107,
      "outputs": []
    },
    {
      "cell_type": "code",
      "metadata": {
        "colab": {
          "base_uri": "https://localhost:8080/",
          "height": 35
        },
        "id": "oAMusJ7Vfxou",
        "outputId": "8da565b7-cc36-4459-c853-ae268838f6fe"
      },
      "source": [
        "# dt_from = datetime.date(2000,1,1)\n",
        "# dt_from = datetime.date(2019,1,1)\n",
        "dt_from = datetime.date.today() + relativedelta(years=-1)\n",
        "ut_from = str(int(time.mktime(dt_from.timetuple())))\n",
        "ut_from"
      ],
      "execution_count": 1108,
      "outputs": [
        {
          "output_type": "execute_result",
          "data": {
            "application/vnd.google.colaboratory.intrinsic+json": {
              "type": "string"
            },
            "text/plain": [
              "'1588464000'"
            ]
          },
          "metadata": {
            "tags": []
          },
          "execution_count": 1108
        }
      ]
    },
    {
      "cell_type": "code",
      "metadata": {
        "colab": {
          "base_uri": "https://localhost:8080/",
          "height": 35
        },
        "id": "3iBED0CihYSB",
        "outputId": "8daf344a-a09c-49fe-a341-15fa62a98543"
      },
      "source": [
        "dt_to = datetime.date.today()\n",
        "ut_to = str(int(time.mktime(dt_to.timetuple())))\n",
        "ut_to"
      ],
      "execution_count": 1109,
      "outputs": [
        {
          "output_type": "execute_result",
          "data": {
            "application/vnd.google.colaboratory.intrinsic+json": {
              "type": "string"
            },
            "text/plain": [
              "'1620000000'"
            ]
          },
          "metadata": {
            "tags": []
          },
          "execution_count": 1109
        }
      ]
    },
    {
      "cell_type": "code",
      "metadata": {
        "id": "ZWbh4rFCYsiA"
      },
      "source": [
        "# url='https://query1.finance.yahoo.com/v7/finance/download/EURUSD=X?period1=1262304000&period2=1619654400&interval=1d&events=history&includeAdjustedClose=true'\n",
        "url='https://query1.finance.yahoo.com/v7/finance/download/EURUSD=X?period1=' + ut_from + '&period2=' + ut_to + '&interval=1d&events=history&includeAdjustedClose=true'"
      ],
      "execution_count": 1110,
      "outputs": []
    },
    {
      "cell_type": "code",
      "metadata": {
        "id": "ictpemgHTnaU"
      },
      "source": [
        "headers={'User-Agent': 'Mozilla/5.0'}"
      ],
      "execution_count": 1111,
      "outputs": []
    },
    {
      "cell_type": "code",
      "metadata": {
        "id": "5KvntWHZg8CO"
      },
      "source": [
        "req = Request(url, headers=headers)"
      ],
      "execution_count": 1112,
      "outputs": []
    },
    {
      "cell_type": "code",
      "metadata": {
        "id": "d2anZTnFSg6y"
      },
      "source": [
        "page = urlopen(req)\n",
        "# page = urlopen(url)"
      ],
      "execution_count": 1113,
      "outputs": []
    },
    {
      "cell_type": "code",
      "metadata": {
        "id": "tOtCSrjqY2b6"
      },
      "source": [
        "page = urlopen(url)"
      ],
      "execution_count": 1114,
      "outputs": []
    },
    {
      "cell_type": "code",
      "metadata": {
        "id": "W7BmUlFOSjXh"
      },
      "source": [
        "content = page.read()"
      ],
      "execution_count": 1115,
      "outputs": []
    },
    {
      "cell_type": "code",
      "metadata": {
        "id": "MrUfRSxZp4Y9"
      },
      "source": [
        "text = content.decode('UTF-8')"
      ],
      "execution_count": 1116,
      "outputs": []
    },
    {
      "cell_type": "code",
      "metadata": {
        "colab": {
          "base_uri": "https://localhost:8080/"
        },
        "id": "HIutb2KOhWlP",
        "outputId": "627211a5-4664-42a7-80e6-44c1f76a3e92"
      },
      "source": [
        "print(text[:300])"
      ],
      "execution_count": 1117,
      "outputs": [
        {
          "output_type": "stream",
          "text": [
            "Date,Open,High,Low,Close,Adj Close,Volume\n",
            "2020-05-04,1.095746,1.095782,1.090132,1.095963,1.095963,0\n",
            "2020-05-05,1.090453,1.092132,1.082696,1.090429,1.090429,0\n",
            "2020-05-06,1.084011,1.084481,1.078423,1.083858,1.083858,0\n",
            "2020-05-07,1.080054,1.081572,1.076751,1.079855,1.079855,0\n",
            "2020-05-08,1.083694,1.0873\n"
          ],
          "name": "stdout"
        }
      ]
    },
    {
      "cell_type": "code",
      "metadata": {
        "id": "nyxhqBhKpBel"
      },
      "source": [
        "data = StringIO(text)"
      ],
      "execution_count": 1118,
      "outputs": []
    },
    {
      "cell_type": "code",
      "metadata": {
        "id": "tso_dYdOVny7"
      },
      "source": [
        "df1 = pd.read_csv(data, sep=',', header='infer')"
      ],
      "execution_count": 1119,
      "outputs": []
    },
    {
      "cell_type": "code",
      "metadata": {
        "colab": {
          "base_uri": "https://localhost:8080/",
          "height": 266
        },
        "id": "CAWUH4jfl0-Y",
        "outputId": "00157fb2-d6cf-410b-8e4c-ded498c646ea"
      },
      "source": [
        "df1.tail(7)"
      ],
      "execution_count": 1120,
      "outputs": [
        {
          "output_type": "execute_result",
          "data": {
            "text/html": [
              "<div>\n",
              "<style scoped>\n",
              "    .dataframe tbody tr th:only-of-type {\n",
              "        vertical-align: middle;\n",
              "    }\n",
              "\n",
              "    .dataframe tbody tr th {\n",
              "        vertical-align: top;\n",
              "    }\n",
              "\n",
              "    .dataframe thead th {\n",
              "        text-align: right;\n",
              "    }\n",
              "</style>\n",
              "<table border=\"1\" class=\"dataframe\">\n",
              "  <thead>\n",
              "    <tr style=\"text-align: right;\">\n",
              "      <th></th>\n",
              "      <th>Date</th>\n",
              "      <th>Open</th>\n",
              "      <th>High</th>\n",
              "      <th>Low</th>\n",
              "      <th>Close</th>\n",
              "      <th>Adj Close</th>\n",
              "      <th>Volume</th>\n",
              "    </tr>\n",
              "  </thead>\n",
              "  <tbody>\n",
              "    <tr>\n",
              "      <th>254</th>\n",
              "      <td>2021-04-23</td>\n",
              "      <td>1.201793</td>\n",
              "      <td>1.207799</td>\n",
              "      <td>1.201389</td>\n",
              "      <td>1.201475</td>\n",
              "      <td>1.201475</td>\n",
              "      <td>0</td>\n",
              "    </tr>\n",
              "    <tr>\n",
              "      <th>255</th>\n",
              "      <td>2021-04-26</td>\n",
              "      <td>1.208956</td>\n",
              "      <td>1.211827</td>\n",
              "      <td>1.206374</td>\n",
              "      <td>1.208985</td>\n",
              "      <td>1.208985</td>\n",
              "      <td>0</td>\n",
              "    </tr>\n",
              "    <tr>\n",
              "      <th>256</th>\n",
              "      <td>2021-04-27</td>\n",
              "      <td>1.207921</td>\n",
              "      <td>1.209190</td>\n",
              "      <td>1.205793</td>\n",
              "      <td>1.208167</td>\n",
              "      <td>1.208167</td>\n",
              "      <td>0</td>\n",
              "    </tr>\n",
              "    <tr>\n",
              "      <th>257</th>\n",
              "      <td>2021-04-28</td>\n",
              "      <td>1.208854</td>\n",
              "      <td>1.210214</td>\n",
              "      <td>1.205764</td>\n",
              "      <td>1.209031</td>\n",
              "      <td>1.209031</td>\n",
              "      <td>0</td>\n",
              "    </tr>\n",
              "    <tr>\n",
              "      <th>258</th>\n",
              "      <td>2021-04-29</td>\n",
              "      <td>1.213578</td>\n",
              "      <td>1.215214</td>\n",
              "      <td>1.210419</td>\n",
              "      <td>1.213592</td>\n",
              "      <td>1.213592</td>\n",
              "      <td>0</td>\n",
              "    </tr>\n",
              "    <tr>\n",
              "      <th>259</th>\n",
              "      <td>2021-04-30</td>\n",
              "      <td>1.212489</td>\n",
              "      <td>1.212856</td>\n",
              "      <td>1.202472</td>\n",
              "      <td>1.212709</td>\n",
              "      <td>1.212709</td>\n",
              "      <td>0</td>\n",
              "    </tr>\n",
              "    <tr>\n",
              "      <th>260</th>\n",
              "      <td>2021-05-03</td>\n",
              "      <td>1.202501</td>\n",
              "      <td>1.204094</td>\n",
              "      <td>1.201779</td>\n",
              "      <td>1.202501</td>\n",
              "      <td>1.202501</td>\n",
              "      <td>0</td>\n",
              "    </tr>\n",
              "  </tbody>\n",
              "</table>\n",
              "</div>"
            ],
            "text/plain": [
              "           Date      Open      High       Low     Close  Adj Close  Volume\n",
              "254  2021-04-23  1.201793  1.207799  1.201389  1.201475   1.201475       0\n",
              "255  2021-04-26  1.208956  1.211827  1.206374  1.208985   1.208985       0\n",
              "256  2021-04-27  1.207921  1.209190  1.205793  1.208167   1.208167       0\n",
              "257  2021-04-28  1.208854  1.210214  1.205764  1.209031   1.209031       0\n",
              "258  2021-04-29  1.213578  1.215214  1.210419  1.213592   1.213592       0\n",
              "259  2021-04-30  1.212489  1.212856  1.202472  1.212709   1.212709       0\n",
              "260  2021-05-03  1.202501  1.204094  1.201779  1.202501   1.202501       0"
            ]
          },
          "metadata": {
            "tags": []
          },
          "execution_count": 1120
        }
      ]
    },
    {
      "cell_type": "code",
      "metadata": {
        "id": "iDDbrBeGci0d"
      },
      "source": [
        "df1['Date'] = pd.to_datetime(df1['Date'], errors='coerce')"
      ],
      "execution_count": 1121,
      "outputs": []
    },
    {
      "cell_type": "code",
      "metadata": {
        "id": "eRwjQgzGmCBm"
      },
      "source": [
        "df1['DayOfWeek'] = df1['Date'].dt.dayofweek"
      ],
      "execution_count": 1122,
      "outputs": []
    },
    {
      "cell_type": "code",
      "metadata": {
        "colab": {
          "base_uri": "https://localhost:8080/",
          "height": 266
        },
        "id": "NLF_R44LnKkY",
        "outputId": "868acbf9-3e1b-4891-f83c-a5e13ca72831"
      },
      "source": [
        "df1.tail(7)"
      ],
      "execution_count": 1123,
      "outputs": [
        {
          "output_type": "execute_result",
          "data": {
            "text/html": [
              "<div>\n",
              "<style scoped>\n",
              "    .dataframe tbody tr th:only-of-type {\n",
              "        vertical-align: middle;\n",
              "    }\n",
              "\n",
              "    .dataframe tbody tr th {\n",
              "        vertical-align: top;\n",
              "    }\n",
              "\n",
              "    .dataframe thead th {\n",
              "        text-align: right;\n",
              "    }\n",
              "</style>\n",
              "<table border=\"1\" class=\"dataframe\">\n",
              "  <thead>\n",
              "    <tr style=\"text-align: right;\">\n",
              "      <th></th>\n",
              "      <th>Date</th>\n",
              "      <th>Open</th>\n",
              "      <th>High</th>\n",
              "      <th>Low</th>\n",
              "      <th>Close</th>\n",
              "      <th>Adj Close</th>\n",
              "      <th>Volume</th>\n",
              "      <th>DayOfWeek</th>\n",
              "    </tr>\n",
              "  </thead>\n",
              "  <tbody>\n",
              "    <tr>\n",
              "      <th>254</th>\n",
              "      <td>2021-04-23</td>\n",
              "      <td>1.201793</td>\n",
              "      <td>1.207799</td>\n",
              "      <td>1.201389</td>\n",
              "      <td>1.201475</td>\n",
              "      <td>1.201475</td>\n",
              "      <td>0</td>\n",
              "      <td>4</td>\n",
              "    </tr>\n",
              "    <tr>\n",
              "      <th>255</th>\n",
              "      <td>2021-04-26</td>\n",
              "      <td>1.208956</td>\n",
              "      <td>1.211827</td>\n",
              "      <td>1.206374</td>\n",
              "      <td>1.208985</td>\n",
              "      <td>1.208985</td>\n",
              "      <td>0</td>\n",
              "      <td>0</td>\n",
              "    </tr>\n",
              "    <tr>\n",
              "      <th>256</th>\n",
              "      <td>2021-04-27</td>\n",
              "      <td>1.207921</td>\n",
              "      <td>1.209190</td>\n",
              "      <td>1.205793</td>\n",
              "      <td>1.208167</td>\n",
              "      <td>1.208167</td>\n",
              "      <td>0</td>\n",
              "      <td>1</td>\n",
              "    </tr>\n",
              "    <tr>\n",
              "      <th>257</th>\n",
              "      <td>2021-04-28</td>\n",
              "      <td>1.208854</td>\n",
              "      <td>1.210214</td>\n",
              "      <td>1.205764</td>\n",
              "      <td>1.209031</td>\n",
              "      <td>1.209031</td>\n",
              "      <td>0</td>\n",
              "      <td>2</td>\n",
              "    </tr>\n",
              "    <tr>\n",
              "      <th>258</th>\n",
              "      <td>2021-04-29</td>\n",
              "      <td>1.213578</td>\n",
              "      <td>1.215214</td>\n",
              "      <td>1.210419</td>\n",
              "      <td>1.213592</td>\n",
              "      <td>1.213592</td>\n",
              "      <td>0</td>\n",
              "      <td>3</td>\n",
              "    </tr>\n",
              "    <tr>\n",
              "      <th>259</th>\n",
              "      <td>2021-04-30</td>\n",
              "      <td>1.212489</td>\n",
              "      <td>1.212856</td>\n",
              "      <td>1.202472</td>\n",
              "      <td>1.212709</td>\n",
              "      <td>1.212709</td>\n",
              "      <td>0</td>\n",
              "      <td>4</td>\n",
              "    </tr>\n",
              "    <tr>\n",
              "      <th>260</th>\n",
              "      <td>2021-05-03</td>\n",
              "      <td>1.202501</td>\n",
              "      <td>1.204094</td>\n",
              "      <td>1.201779</td>\n",
              "      <td>1.202501</td>\n",
              "      <td>1.202501</td>\n",
              "      <td>0</td>\n",
              "      <td>0</td>\n",
              "    </tr>\n",
              "  </tbody>\n",
              "</table>\n",
              "</div>"
            ],
            "text/plain": [
              "          Date      Open      High  ...  Adj Close  Volume  DayOfWeek\n",
              "254 2021-04-23  1.201793  1.207799  ...   1.201475       0          4\n",
              "255 2021-04-26  1.208956  1.211827  ...   1.208985       0          0\n",
              "256 2021-04-27  1.207921  1.209190  ...   1.208167       0          1\n",
              "257 2021-04-28  1.208854  1.210214  ...   1.209031       0          2\n",
              "258 2021-04-29  1.213578  1.215214  ...   1.213592       0          3\n",
              "259 2021-04-30  1.212489  1.212856  ...   1.212709       0          4\n",
              "260 2021-05-03  1.202501  1.204094  ...   1.202501       0          0\n",
              "\n",
              "[7 rows x 8 columns]"
            ]
          },
          "metadata": {
            "tags": []
          },
          "execution_count": 1123
        }
      ]
    },
    {
      "cell_type": "code",
      "metadata": {
        "id": "isV-KVPm_mxb"
      },
      "source": [
        "df2 = df1.drop(['High','Low', 'Adj Close', 'Volume'], axis=1)"
      ],
      "execution_count": 1124,
      "outputs": []
    },
    {
      "cell_type": "code",
      "metadata": {
        "colab": {
          "base_uri": "https://localhost:8080/",
          "height": 266
        },
        "id": "BoXK3TqGAW19",
        "outputId": "bfa48a6c-e937-496d-85dd-ea89262c2a6d"
      },
      "source": [
        "df2.tail(7)"
      ],
      "execution_count": 1125,
      "outputs": [
        {
          "output_type": "execute_result",
          "data": {
            "text/html": [
              "<div>\n",
              "<style scoped>\n",
              "    .dataframe tbody tr th:only-of-type {\n",
              "        vertical-align: middle;\n",
              "    }\n",
              "\n",
              "    .dataframe tbody tr th {\n",
              "        vertical-align: top;\n",
              "    }\n",
              "\n",
              "    .dataframe thead th {\n",
              "        text-align: right;\n",
              "    }\n",
              "</style>\n",
              "<table border=\"1\" class=\"dataframe\">\n",
              "  <thead>\n",
              "    <tr style=\"text-align: right;\">\n",
              "      <th></th>\n",
              "      <th>Date</th>\n",
              "      <th>Open</th>\n",
              "      <th>Close</th>\n",
              "      <th>DayOfWeek</th>\n",
              "    </tr>\n",
              "  </thead>\n",
              "  <tbody>\n",
              "    <tr>\n",
              "      <th>254</th>\n",
              "      <td>2021-04-23</td>\n",
              "      <td>1.201793</td>\n",
              "      <td>1.201475</td>\n",
              "      <td>4</td>\n",
              "    </tr>\n",
              "    <tr>\n",
              "      <th>255</th>\n",
              "      <td>2021-04-26</td>\n",
              "      <td>1.208956</td>\n",
              "      <td>1.208985</td>\n",
              "      <td>0</td>\n",
              "    </tr>\n",
              "    <tr>\n",
              "      <th>256</th>\n",
              "      <td>2021-04-27</td>\n",
              "      <td>1.207921</td>\n",
              "      <td>1.208167</td>\n",
              "      <td>1</td>\n",
              "    </tr>\n",
              "    <tr>\n",
              "      <th>257</th>\n",
              "      <td>2021-04-28</td>\n",
              "      <td>1.208854</td>\n",
              "      <td>1.209031</td>\n",
              "      <td>2</td>\n",
              "    </tr>\n",
              "    <tr>\n",
              "      <th>258</th>\n",
              "      <td>2021-04-29</td>\n",
              "      <td>1.213578</td>\n",
              "      <td>1.213592</td>\n",
              "      <td>3</td>\n",
              "    </tr>\n",
              "    <tr>\n",
              "      <th>259</th>\n",
              "      <td>2021-04-30</td>\n",
              "      <td>1.212489</td>\n",
              "      <td>1.212709</td>\n",
              "      <td>4</td>\n",
              "    </tr>\n",
              "    <tr>\n",
              "      <th>260</th>\n",
              "      <td>2021-05-03</td>\n",
              "      <td>1.202501</td>\n",
              "      <td>1.202501</td>\n",
              "      <td>0</td>\n",
              "    </tr>\n",
              "  </tbody>\n",
              "</table>\n",
              "</div>"
            ],
            "text/plain": [
              "          Date      Open     Close  DayOfWeek\n",
              "254 2021-04-23  1.201793  1.201475          4\n",
              "255 2021-04-26  1.208956  1.208985          0\n",
              "256 2021-04-27  1.207921  1.208167          1\n",
              "257 2021-04-28  1.208854  1.209031          2\n",
              "258 2021-04-29  1.213578  1.213592          3\n",
              "259 2021-04-30  1.212489  1.212709          4\n",
              "260 2021-05-03  1.202501  1.202501          0"
            ]
          },
          "metadata": {
            "tags": []
          },
          "execution_count": 1125
        }
      ]
    },
    {
      "cell_type": "code",
      "metadata": {
        "id": "0mzQvzqDDFzP"
      },
      "source": [
        "df2['Close-1'] = df2['Close'].shift(1)\n",
        "df2['Open-1'] = df2['Open'].shift(1)"
      ],
      "execution_count": 1126,
      "outputs": []
    },
    {
      "cell_type": "code",
      "metadata": {
        "colab": {
          "base_uri": "https://localhost:8080/",
          "height": 266
        },
        "id": "3xG50mLQDq3e",
        "outputId": "cbe6cc3c-9fc3-4b98-a168-d72042f8a55c"
      },
      "source": [
        "df2.tail(7)"
      ],
      "execution_count": 1127,
      "outputs": [
        {
          "output_type": "execute_result",
          "data": {
            "text/html": [
              "<div>\n",
              "<style scoped>\n",
              "    .dataframe tbody tr th:only-of-type {\n",
              "        vertical-align: middle;\n",
              "    }\n",
              "\n",
              "    .dataframe tbody tr th {\n",
              "        vertical-align: top;\n",
              "    }\n",
              "\n",
              "    .dataframe thead th {\n",
              "        text-align: right;\n",
              "    }\n",
              "</style>\n",
              "<table border=\"1\" class=\"dataframe\">\n",
              "  <thead>\n",
              "    <tr style=\"text-align: right;\">\n",
              "      <th></th>\n",
              "      <th>Date</th>\n",
              "      <th>Open</th>\n",
              "      <th>Close</th>\n",
              "      <th>DayOfWeek</th>\n",
              "      <th>Close-1</th>\n",
              "      <th>Open-1</th>\n",
              "    </tr>\n",
              "  </thead>\n",
              "  <tbody>\n",
              "    <tr>\n",
              "      <th>254</th>\n",
              "      <td>2021-04-23</td>\n",
              "      <td>1.201793</td>\n",
              "      <td>1.201475</td>\n",
              "      <td>4</td>\n",
              "      <td>1.203775</td>\n",
              "      <td>1.203818</td>\n",
              "    </tr>\n",
              "    <tr>\n",
              "      <th>255</th>\n",
              "      <td>2021-04-26</td>\n",
              "      <td>1.208956</td>\n",
              "      <td>1.208985</td>\n",
              "      <td>0</td>\n",
              "      <td>1.201475</td>\n",
              "      <td>1.201793</td>\n",
              "    </tr>\n",
              "    <tr>\n",
              "      <th>256</th>\n",
              "      <td>2021-04-27</td>\n",
              "      <td>1.207921</td>\n",
              "      <td>1.208167</td>\n",
              "      <td>1</td>\n",
              "      <td>1.208985</td>\n",
              "      <td>1.208956</td>\n",
              "    </tr>\n",
              "    <tr>\n",
              "      <th>257</th>\n",
              "      <td>2021-04-28</td>\n",
              "      <td>1.208854</td>\n",
              "      <td>1.209031</td>\n",
              "      <td>2</td>\n",
              "      <td>1.208167</td>\n",
              "      <td>1.207921</td>\n",
              "    </tr>\n",
              "    <tr>\n",
              "      <th>258</th>\n",
              "      <td>2021-04-29</td>\n",
              "      <td>1.213578</td>\n",
              "      <td>1.213592</td>\n",
              "      <td>3</td>\n",
              "      <td>1.209031</td>\n",
              "      <td>1.208854</td>\n",
              "    </tr>\n",
              "    <tr>\n",
              "      <th>259</th>\n",
              "      <td>2021-04-30</td>\n",
              "      <td>1.212489</td>\n",
              "      <td>1.212709</td>\n",
              "      <td>4</td>\n",
              "      <td>1.213592</td>\n",
              "      <td>1.213578</td>\n",
              "    </tr>\n",
              "    <tr>\n",
              "      <th>260</th>\n",
              "      <td>2021-05-03</td>\n",
              "      <td>1.202501</td>\n",
              "      <td>1.202501</td>\n",
              "      <td>0</td>\n",
              "      <td>1.212709</td>\n",
              "      <td>1.212489</td>\n",
              "    </tr>\n",
              "  </tbody>\n",
              "</table>\n",
              "</div>"
            ],
            "text/plain": [
              "          Date      Open     Close  DayOfWeek   Close-1    Open-1\n",
              "254 2021-04-23  1.201793  1.201475          4  1.203775  1.203818\n",
              "255 2021-04-26  1.208956  1.208985          0  1.201475  1.201793\n",
              "256 2021-04-27  1.207921  1.208167          1  1.208985  1.208956\n",
              "257 2021-04-28  1.208854  1.209031          2  1.208167  1.207921\n",
              "258 2021-04-29  1.213578  1.213592          3  1.209031  1.208854\n",
              "259 2021-04-30  1.212489  1.212709          4  1.213592  1.213578\n",
              "260 2021-05-03  1.202501  1.202501          0  1.212709  1.212489"
            ]
          },
          "metadata": {
            "tags": []
          },
          "execution_count": 1127
        }
      ]
    },
    {
      "cell_type": "code",
      "metadata": {
        "id": "tigVCqC3EBM4"
      },
      "source": [
        "df2['%Close'] = (df2['Close'] - df2['Close-1']) / df2['Close-1'] * 100\n",
        "df2['%Open'] = (df2['Open'] - df2['Open-1']) / df2['Open-1'] * 100"
      ],
      "execution_count": 1128,
      "outputs": []
    },
    {
      "cell_type": "code",
      "metadata": {
        "id": "fH6iq8Kh1jmv"
      },
      "source": [
        "df2 = df2.drop(['Close','Close-1', '%Close'], axis=1)"
      ],
      "execution_count": 1129,
      "outputs": []
    },
    {
      "cell_type": "code",
      "metadata": {
        "colab": {
          "base_uri": "https://localhost:8080/",
          "height": 266
        },
        "id": "dMsFfMIREP8Z",
        "outputId": "4cd80314-4b32-4584-c371-556ef1225e2d"
      },
      "source": [
        "df2.head(7)"
      ],
      "execution_count": 1130,
      "outputs": [
        {
          "output_type": "execute_result",
          "data": {
            "text/html": [
              "<div>\n",
              "<style scoped>\n",
              "    .dataframe tbody tr th:only-of-type {\n",
              "        vertical-align: middle;\n",
              "    }\n",
              "\n",
              "    .dataframe tbody tr th {\n",
              "        vertical-align: top;\n",
              "    }\n",
              "\n",
              "    .dataframe thead th {\n",
              "        text-align: right;\n",
              "    }\n",
              "</style>\n",
              "<table border=\"1\" class=\"dataframe\">\n",
              "  <thead>\n",
              "    <tr style=\"text-align: right;\">\n",
              "      <th></th>\n",
              "      <th>Date</th>\n",
              "      <th>Open</th>\n",
              "      <th>DayOfWeek</th>\n",
              "      <th>Open-1</th>\n",
              "      <th>%Open</th>\n",
              "    </tr>\n",
              "  </thead>\n",
              "  <tbody>\n",
              "    <tr>\n",
              "      <th>0</th>\n",
              "      <td>2020-05-04</td>\n",
              "      <td>1.095746</td>\n",
              "      <td>0</td>\n",
              "      <td>NaN</td>\n",
              "      <td>NaN</td>\n",
              "    </tr>\n",
              "    <tr>\n",
              "      <th>1</th>\n",
              "      <td>2020-05-05</td>\n",
              "      <td>1.090453</td>\n",
              "      <td>1</td>\n",
              "      <td>1.095746</td>\n",
              "      <td>-0.483050</td>\n",
              "    </tr>\n",
              "    <tr>\n",
              "      <th>2</th>\n",
              "      <td>2020-05-06</td>\n",
              "      <td>1.084011</td>\n",
              "      <td>2</td>\n",
              "      <td>1.090453</td>\n",
              "      <td>-0.590764</td>\n",
              "    </tr>\n",
              "    <tr>\n",
              "      <th>3</th>\n",
              "      <td>2020-05-07</td>\n",
              "      <td>1.080054</td>\n",
              "      <td>3</td>\n",
              "      <td>1.084011</td>\n",
              "      <td>-0.365033</td>\n",
              "    </tr>\n",
              "    <tr>\n",
              "      <th>4</th>\n",
              "      <td>2020-05-08</td>\n",
              "      <td>1.083694</td>\n",
              "      <td>4</td>\n",
              "      <td>1.080054</td>\n",
              "      <td>0.337020</td>\n",
              "    </tr>\n",
              "    <tr>\n",
              "      <th>5</th>\n",
              "      <td>2020-05-11</td>\n",
              "      <td>1.084011</td>\n",
              "      <td>0</td>\n",
              "      <td>1.083694</td>\n",
              "      <td>0.029252</td>\n",
              "    </tr>\n",
              "    <tr>\n",
              "      <th>6</th>\n",
              "      <td>2020-05-12</td>\n",
              "      <td>1.080917</td>\n",
              "      <td>1</td>\n",
              "      <td>1.084011</td>\n",
              "      <td>-0.285421</td>\n",
              "    </tr>\n",
              "  </tbody>\n",
              "</table>\n",
              "</div>"
            ],
            "text/plain": [
              "        Date      Open  DayOfWeek    Open-1     %Open\n",
              "0 2020-05-04  1.095746          0       NaN       NaN\n",
              "1 2020-05-05  1.090453          1  1.095746 -0.483050\n",
              "2 2020-05-06  1.084011          2  1.090453 -0.590764\n",
              "3 2020-05-07  1.080054          3  1.084011 -0.365033\n",
              "4 2020-05-08  1.083694          4  1.080054  0.337020\n",
              "5 2020-05-11  1.084011          0  1.083694  0.029252\n",
              "6 2020-05-12  1.080917          1  1.084011 -0.285421"
            ]
          },
          "metadata": {
            "tags": []
          },
          "execution_count": 1130
        }
      ]
    },
    {
      "cell_type": "code",
      "metadata": {
        "id": "5zeRvw_76_rE"
      },
      "source": [
        "# take decision to buy or sell if price = 1.167072 then buy = -1.167072 or sell = 1.167072\n",
        "def take_decision(index):\n",
        "  row = df2.loc[index]\n",
        "  return random.choice([-row['Open'], +row['Open']])"
      ],
      "execution_count": 1131,
      "outputs": []
    },
    {
      "cell_type": "code",
      "metadata": {
        "id": "CfKkh7Ox_8hM"
      },
      "source": [
        "def is_guessed(index):\n",
        "  if (index < 1):\n",
        "    return True\n",
        "  return (math.copysign(1, df2.loc[index]['%Open']) != math.copysign(1, df2.loc[index - 1]['decision']))"
      ],
      "execution_count": 1132,
      "outputs": []
    },
    {
      "cell_type": "code",
      "metadata": {
        "id": "XyB39IOuMNqs"
      },
      "source": [
        "def make_deal(index):\n",
        "  k = df2.loc[index, 'k'] \n",
        "  decision = df2.loc[index, 'decision'] \n",
        "  return decision * (2 ** k)"
      ],
      "execution_count": 1133,
      "outputs": []
    },
    {
      "cell_type": "code",
      "metadata": {
        "id": "jsDYBIWCSCnk"
      },
      "source": [
        "def discover_trend(index):\n",
        "  if (index < 1):\n",
        "    df2.loc[index, 'trend'] = 0\n",
        "    return\n",
        "  open_curr = df2.loc[index, '%Open']\n",
        "  open_prev = df2.loc[index-1, '%Open']\n",
        "  if (math.copysign(1, open_prev) == math.copysign(1, open_curr)):\n",
        "    df2.loc[index, 'trend'] = df2.loc[index-1, 'trend'] + 1\n",
        "  else:\n",
        "    df2.loc[index, 'trend'] = 0"
      ],
      "execution_count": 1134,
      "outputs": []
    },
    {
      "cell_type": "code",
      "metadata": {
        "id": "RGTHIeDi30lw"
      },
      "source": [
        "# this is a main algorithm for trading\n",
        "def trade():\n",
        "  for index, row in df2.iterrows():\n",
        "    # take decision\n",
        "    df2.loc[index, 'decision'] = take_decision(index)\n",
        "    if (is_guessed(index)):\n",
        "      k = 0\n",
        "    else:\n",
        "      k += 1\n",
        "    df2.loc[index, 'k'] = k\n",
        "    # make deal\n",
        "    deal = make_deal(index)\n",
        "    df2.loc[index, 'deal'] = deal\n",
        "    if (index == 0):\n",
        "      df2.loc[index, 'result after close'] = 0      \n",
        "      df2.loc[index, 'result'] = 0\n",
        "    else:\n",
        "      # close prvious deal\n",
        "      df2.loc[index, 'result after close'] = df2.loc[index - 1, 'result after close'] + df2.loc[index - 1, 'deal'] - \\\n",
        "        (2 ** df2.loc[index - 1, 'k']) * df2.loc[index, 'Open']\n",
        "      # open new deal\n",
        "      df2.loc[index, 'result'] = df2.loc[index, 'result after close'] + deal\n",
        "    # определяем тренд\n",
        "    discover_trend(index)"
      ],
      "execution_count": 1135,
      "outputs": []
    },
    {
      "cell_type": "code",
      "metadata": {
        "colab": {
          "base_uri": "https://localhost:8080/",
          "height": 514
        },
        "id": "pkh0VmLw5ExM",
        "outputId": "af9bce3f-47fe-4e2d-d980-0e2fdb18026a"
      },
      "source": [
        "trade()\n",
        "df2.head(15)"
      ],
      "execution_count": 1136,
      "outputs": [
        {
          "output_type": "execute_result",
          "data": {
            "text/html": [
              "<div>\n",
              "<style scoped>\n",
              "    .dataframe tbody tr th:only-of-type {\n",
              "        vertical-align: middle;\n",
              "    }\n",
              "\n",
              "    .dataframe tbody tr th {\n",
              "        vertical-align: top;\n",
              "    }\n",
              "\n",
              "    .dataframe thead th {\n",
              "        text-align: right;\n",
              "    }\n",
              "</style>\n",
              "<table border=\"1\" class=\"dataframe\">\n",
              "  <thead>\n",
              "    <tr style=\"text-align: right;\">\n",
              "      <th></th>\n",
              "      <th>Date</th>\n",
              "      <th>Open</th>\n",
              "      <th>DayOfWeek</th>\n",
              "      <th>Open-1</th>\n",
              "      <th>%Open</th>\n",
              "      <th>decision</th>\n",
              "      <th>k</th>\n",
              "      <th>deal</th>\n",
              "      <th>result after close</th>\n",
              "      <th>result</th>\n",
              "      <th>trend</th>\n",
              "    </tr>\n",
              "  </thead>\n",
              "  <tbody>\n",
              "    <tr>\n",
              "      <th>0</th>\n",
              "      <td>2020-05-04</td>\n",
              "      <td>1.095746</td>\n",
              "      <td>0</td>\n",
              "      <td>NaN</td>\n",
              "      <td>NaN</td>\n",
              "      <td>-1.095746</td>\n",
              "      <td>0.0</td>\n",
              "      <td>-1.095746</td>\n",
              "      <td>0.000000</td>\n",
              "      <td>0.000000</td>\n",
              "      <td>0.0</td>\n",
              "    </tr>\n",
              "    <tr>\n",
              "      <th>1</th>\n",
              "      <td>2020-05-05</td>\n",
              "      <td>1.090453</td>\n",
              "      <td>1</td>\n",
              "      <td>1.095746</td>\n",
              "      <td>-0.483050</td>\n",
              "      <td>-1.090453</td>\n",
              "      <td>1.0</td>\n",
              "      <td>-2.180906</td>\n",
              "      <td>-2.186199</td>\n",
              "      <td>-4.367105</td>\n",
              "      <td>0.0</td>\n",
              "    </tr>\n",
              "    <tr>\n",
              "      <th>2</th>\n",
              "      <td>2020-05-06</td>\n",
              "      <td>1.084011</td>\n",
              "      <td>2</td>\n",
              "      <td>1.090453</td>\n",
              "      <td>-0.590764</td>\n",
              "      <td>1.084011</td>\n",
              "      <td>2.0</td>\n",
              "      <td>4.336044</td>\n",
              "      <td>-6.535127</td>\n",
              "      <td>-2.199083</td>\n",
              "      <td>1.0</td>\n",
              "    </tr>\n",
              "    <tr>\n",
              "      <th>3</th>\n",
              "      <td>2020-05-07</td>\n",
              "      <td>1.080054</td>\n",
              "      <td>3</td>\n",
              "      <td>1.084011</td>\n",
              "      <td>-0.365033</td>\n",
              "      <td>-1.080054</td>\n",
              "      <td>0.0</td>\n",
              "      <td>-1.080054</td>\n",
              "      <td>-6.519299</td>\n",
              "      <td>-7.599353</td>\n",
              "      <td>2.0</td>\n",
              "    </tr>\n",
              "    <tr>\n",
              "      <th>4</th>\n",
              "      <td>2020-05-08</td>\n",
              "      <td>1.083694</td>\n",
              "      <td>4</td>\n",
              "      <td>1.080054</td>\n",
              "      <td>0.337020</td>\n",
              "      <td>1.083694</td>\n",
              "      <td>0.0</td>\n",
              "      <td>1.083694</td>\n",
              "      <td>-8.683047</td>\n",
              "      <td>-7.599353</td>\n",
              "      <td>0.0</td>\n",
              "    </tr>\n",
              "    <tr>\n",
              "      <th>5</th>\n",
              "      <td>2020-05-11</td>\n",
              "      <td>1.084011</td>\n",
              "      <td>0</td>\n",
              "      <td>1.083694</td>\n",
              "      <td>0.029252</td>\n",
              "      <td>1.084011</td>\n",
              "      <td>1.0</td>\n",
              "      <td>2.168022</td>\n",
              "      <td>-8.683364</td>\n",
              "      <td>-6.515342</td>\n",
              "      <td>1.0</td>\n",
              "    </tr>\n",
              "    <tr>\n",
              "      <th>6</th>\n",
              "      <td>2020-05-12</td>\n",
              "      <td>1.080917</td>\n",
              "      <td>1</td>\n",
              "      <td>1.084011</td>\n",
              "      <td>-0.285421</td>\n",
              "      <td>1.080917</td>\n",
              "      <td>0.0</td>\n",
              "      <td>1.080917</td>\n",
              "      <td>-8.677176</td>\n",
              "      <td>-7.596259</td>\n",
              "      <td>0.0</td>\n",
              "    </tr>\n",
              "    <tr>\n",
              "      <th>7</th>\n",
              "      <td>2020-05-13</td>\n",
              "      <td>1.084634</td>\n",
              "      <td>2</td>\n",
              "      <td>1.080917</td>\n",
              "      <td>0.343875</td>\n",
              "      <td>1.084634</td>\n",
              "      <td>1.0</td>\n",
              "      <td>2.169268</td>\n",
              "      <td>-8.680893</td>\n",
              "      <td>-6.511625</td>\n",
              "      <td>0.0</td>\n",
              "    </tr>\n",
              "    <tr>\n",
              "      <th>8</th>\n",
              "      <td>2020-05-14</td>\n",
              "      <td>1.082193</td>\n",
              "      <td>3</td>\n",
              "      <td>1.084634</td>\n",
              "      <td>-0.225053</td>\n",
              "      <td>1.082193</td>\n",
              "      <td>0.0</td>\n",
              "      <td>1.082193</td>\n",
              "      <td>-8.676011</td>\n",
              "      <td>-7.593818</td>\n",
              "      <td>0.0</td>\n",
              "    </tr>\n",
              "    <tr>\n",
              "      <th>9</th>\n",
              "      <td>2020-05-15</td>\n",
              "      <td>1.080625</td>\n",
              "      <td>4</td>\n",
              "      <td>1.082193</td>\n",
              "      <td>-0.144891</td>\n",
              "      <td>1.080625</td>\n",
              "      <td>0.0</td>\n",
              "      <td>1.080625</td>\n",
              "      <td>-8.674443</td>\n",
              "      <td>-7.593818</td>\n",
              "      <td>1.0</td>\n",
              "    </tr>\n",
              "    <tr>\n",
              "      <th>10</th>\n",
              "      <td>2020-05-18</td>\n",
              "      <td>1.081947</td>\n",
              "      <td>0</td>\n",
              "      <td>1.080625</td>\n",
              "      <td>0.122337</td>\n",
              "      <td>-1.081947</td>\n",
              "      <td>1.0</td>\n",
              "      <td>-2.163894</td>\n",
              "      <td>-8.675765</td>\n",
              "      <td>-10.839659</td>\n",
              "      <td>0.0</td>\n",
              "    </tr>\n",
              "    <tr>\n",
              "      <th>11</th>\n",
              "      <td>2020-05-19</td>\n",
              "      <td>1.091584</td>\n",
              "      <td>1</td>\n",
              "      <td>1.081947</td>\n",
              "      <td>0.890709</td>\n",
              "      <td>-1.091584</td>\n",
              "      <td>0.0</td>\n",
              "      <td>-1.091584</td>\n",
              "      <td>-13.022827</td>\n",
              "      <td>-14.114411</td>\n",
              "      <td>1.0</td>\n",
              "    </tr>\n",
              "    <tr>\n",
              "      <th>12</th>\n",
              "      <td>2020-05-20</td>\n",
              "      <td>1.093016</td>\n",
              "      <td>2</td>\n",
              "      <td>1.091584</td>\n",
              "      <td>0.131186</td>\n",
              "      <td>1.093016</td>\n",
              "      <td>0.0</td>\n",
              "      <td>1.093016</td>\n",
              "      <td>-15.207427</td>\n",
              "      <td>-14.114411</td>\n",
              "      <td>2.0</td>\n",
              "    </tr>\n",
              "    <tr>\n",
              "      <th>13</th>\n",
              "      <td>2020-05-21</td>\n",
              "      <td>1.097936</td>\n",
              "      <td>3</td>\n",
              "      <td>1.093016</td>\n",
              "      <td>0.450131</td>\n",
              "      <td>1.097936</td>\n",
              "      <td>1.0</td>\n",
              "      <td>2.195872</td>\n",
              "      <td>-15.212347</td>\n",
              "      <td>-13.016475</td>\n",
              "      <td>3.0</td>\n",
              "    </tr>\n",
              "    <tr>\n",
              "      <th>14</th>\n",
              "      <td>2020-05-22</td>\n",
              "      <td>1.095242</td>\n",
              "      <td>4</td>\n",
              "      <td>1.097936</td>\n",
              "      <td>-0.245369</td>\n",
              "      <td>-1.095242</td>\n",
              "      <td>0.0</td>\n",
              "      <td>-1.095242</td>\n",
              "      <td>-15.206959</td>\n",
              "      <td>-16.302201</td>\n",
              "      <td>0.0</td>\n",
              "    </tr>\n",
              "  </tbody>\n",
              "</table>\n",
              "</div>"
            ],
            "text/plain": [
              "         Date      Open  DayOfWeek  ...  result after close     result  trend\n",
              "0  2020-05-04  1.095746          0  ...            0.000000   0.000000    0.0\n",
              "1  2020-05-05  1.090453          1  ...           -2.186199  -4.367105    0.0\n",
              "2  2020-05-06  1.084011          2  ...           -6.535127  -2.199083    1.0\n",
              "3  2020-05-07  1.080054          3  ...           -6.519299  -7.599353    2.0\n",
              "4  2020-05-08  1.083694          4  ...           -8.683047  -7.599353    0.0\n",
              "5  2020-05-11  1.084011          0  ...           -8.683364  -6.515342    1.0\n",
              "6  2020-05-12  1.080917          1  ...           -8.677176  -7.596259    0.0\n",
              "7  2020-05-13  1.084634          2  ...           -8.680893  -6.511625    0.0\n",
              "8  2020-05-14  1.082193          3  ...           -8.676011  -7.593818    0.0\n",
              "9  2020-05-15  1.080625          4  ...           -8.674443  -7.593818    1.0\n",
              "10 2020-05-18  1.081947          0  ...           -8.675765 -10.839659    0.0\n",
              "11 2020-05-19  1.091584          1  ...          -13.022827 -14.114411    1.0\n",
              "12 2020-05-20  1.093016          2  ...          -15.207427 -14.114411    2.0\n",
              "13 2020-05-21  1.097936          3  ...          -15.212347 -13.016475    3.0\n",
              "14 2020-05-22  1.095242          4  ...          -15.206959 -16.302201    0.0\n",
              "\n",
              "[15 rows x 11 columns]"
            ]
          },
          "metadata": {
            "tags": []
          },
          "execution_count": 1136
        }
      ]
    },
    {
      "cell_type": "code",
      "metadata": {
        "colab": {
          "base_uri": "https://localhost:8080/",
          "height": 297
        },
        "id": "CbNlYfbMQL5H",
        "outputId": "f7370cbd-a1c6-4a2e-b7d2-0c79fa529c39"
      },
      "source": [
        "df2.describe()"
      ],
      "execution_count": 1137,
      "outputs": [
        {
          "output_type": "execute_result",
          "data": {
            "text/html": [
              "<div>\n",
              "<style scoped>\n",
              "    .dataframe tbody tr th:only-of-type {\n",
              "        vertical-align: middle;\n",
              "    }\n",
              "\n",
              "    .dataframe tbody tr th {\n",
              "        vertical-align: top;\n",
              "    }\n",
              "\n",
              "    .dataframe thead th {\n",
              "        text-align: right;\n",
              "    }\n",
              "</style>\n",
              "<table border=\"1\" class=\"dataframe\">\n",
              "  <thead>\n",
              "    <tr style=\"text-align: right;\">\n",
              "      <th></th>\n",
              "      <th>Open</th>\n",
              "      <th>DayOfWeek</th>\n",
              "      <th>Open-1</th>\n",
              "      <th>%Open</th>\n",
              "      <th>decision</th>\n",
              "      <th>k</th>\n",
              "      <th>deal</th>\n",
              "      <th>result after close</th>\n",
              "      <th>result</th>\n",
              "      <th>trend</th>\n",
              "    </tr>\n",
              "  </thead>\n",
              "  <tbody>\n",
              "    <tr>\n",
              "      <th>count</th>\n",
              "      <td>261.000000</td>\n",
              "      <td>261.000000</td>\n",
              "      <td>260.000000</td>\n",
              "      <td>260.000000</td>\n",
              "      <td>261.000000</td>\n",
              "      <td>261.000000</td>\n",
              "      <td>261.000000</td>\n",
              "      <td>261.000000</td>\n",
              "      <td>261.000000</td>\n",
              "      <td>261.000000</td>\n",
              "    </tr>\n",
              "    <tr>\n",
              "      <th>mean</th>\n",
              "      <td>1.176550</td>\n",
              "      <td>1.992337</td>\n",
              "      <td>1.176450</td>\n",
              "      <td>0.036557</td>\n",
              "      <td>0.119674</td>\n",
              "      <td>0.973180</td>\n",
              "      <td>0.036823</td>\n",
              "      <td>-831.446759</td>\n",
              "      <td>-831.405738</td>\n",
              "      <td>0.934866</td>\n",
              "    </tr>\n",
              "    <tr>\n",
              "      <th>std</th>\n",
              "      <td>0.037332</td>\n",
              "      <td>1.419622</td>\n",
              "      <td>0.037369</td>\n",
              "      <td>0.399199</td>\n",
              "      <td>1.173290</td>\n",
              "      <td>1.390645</td>\n",
              "      <td>22.540160</td>\n",
              "      <td>438.627374</td>\n",
              "      <td>439.496465</td>\n",
              "      <td>1.300729</td>\n",
              "    </tr>\n",
              "    <tr>\n",
              "      <th>min</th>\n",
              "      <td>1.080054</td>\n",
              "      <td>0.000000</td>\n",
              "      <td>1.080054</td>\n",
              "      <td>-1.026176</td>\n",
              "      <td>-1.229906</td>\n",
              "      <td>0.000000</td>\n",
              "      <td>-296.107776</td>\n",
              "      <td>-1498.603285</td>\n",
              "      <td>-1496.198283</td>\n",
              "      <td>0.000000</td>\n",
              "    </tr>\n",
              "    <tr>\n",
              "      <th>25%</th>\n",
              "      <td>1.167365</td>\n",
              "      <td>1.000000</td>\n",
              "      <td>1.167072</td>\n",
              "      <td>-0.246063</td>\n",
              "      <td>-1.184273</td>\n",
              "      <td>0.000000</td>\n",
              "      <td>-1.213578</td>\n",
              "      <td>-1121.262711</td>\n",
              "      <td>-1121.268226</td>\n",
              "      <td>0.000000</td>\n",
              "    </tr>\n",
              "    <tr>\n",
              "      <th>50%</th>\n",
              "      <td>1.184180</td>\n",
              "      <td>2.000000</td>\n",
              "      <td>1.184178</td>\n",
              "      <td>0.029910</td>\n",
              "      <td>1.118568</td>\n",
              "      <td>0.000000</td>\n",
              "      <td>1.167365</td>\n",
              "      <td>-960.149904</td>\n",
              "      <td>-958.975126</td>\n",
              "      <td>0.000000</td>\n",
              "    </tr>\n",
              "    <tr>\n",
              "      <th>75%</th>\n",
              "      <td>1.204935</td>\n",
              "      <td>3.000000</td>\n",
              "      <td>1.205015</td>\n",
              "      <td>0.329382</td>\n",
              "      <td>1.183656</td>\n",
              "      <td>1.000000</td>\n",
              "      <td>2.328560</td>\n",
              "      <td>-799.387898</td>\n",
              "      <td>-798.211843</td>\n",
              "      <td>1.000000</td>\n",
              "    </tr>\n",
              "    <tr>\n",
              "      <th>max</th>\n",
              "      <td>1.233776</td>\n",
              "      <td>4.000000</td>\n",
              "      <td>1.233776</td>\n",
              "      <td>1.106827</td>\n",
              "      <td>1.233776</td>\n",
              "      <td>8.000000</td>\n",
              "      <td>147.649152</td>\n",
              "      <td>0.000000</td>\n",
              "      <td>0.000000</td>\n",
              "      <td>7.000000</td>\n",
              "    </tr>\n",
              "  </tbody>\n",
              "</table>\n",
              "</div>"
            ],
            "text/plain": [
              "             Open   DayOfWeek  ...       result       trend\n",
              "count  261.000000  261.000000  ...   261.000000  261.000000\n",
              "mean     1.176550    1.992337  ...  -831.405738    0.934866\n",
              "std      0.037332    1.419622  ...   439.496465    1.300729\n",
              "min      1.080054    0.000000  ... -1496.198283    0.000000\n",
              "25%      1.167365    1.000000  ... -1121.268226    0.000000\n",
              "50%      1.184180    2.000000  ...  -958.975126    0.000000\n",
              "75%      1.204935    3.000000  ...  -798.211843    1.000000\n",
              "max      1.233776    4.000000  ...     0.000000    7.000000\n",
              "\n",
              "[8 rows x 10 columns]"
            ]
          },
          "metadata": {
            "tags": []
          },
          "execution_count": 1137
        }
      ]
    },
    {
      "cell_type": "code",
      "metadata": {
        "colab": {
          "base_uri": "https://localhost:8080/",
          "height": 308
        },
        "id": "mSwauWOFqE1f",
        "outputId": "9b5049ba-a59d-4d73-eed3-d0e38c35a172"
      },
      "source": [
        "df2.plot('Date', 'result')"
      ],
      "execution_count": 1138,
      "outputs": [
        {
          "output_type": "execute_result",
          "data": {
            "text/plain": [
              "<matplotlib.axes._subplots.AxesSubplot at 0x7f434d3663d0>"
            ]
          },
          "metadata": {
            "tags": []
          },
          "execution_count": 1138
        },
        {
          "output_type": "display_data",
          "data": {
            "image/png": "[encoded data removed]",
            "text/plain": [
              "<Figure size 432x288 with 1 Axes>"
            ]
          },
          "metadata": {
            "tags": [],
            "needs_background": "light"
          }
        }
      ]
    }
  ]
}